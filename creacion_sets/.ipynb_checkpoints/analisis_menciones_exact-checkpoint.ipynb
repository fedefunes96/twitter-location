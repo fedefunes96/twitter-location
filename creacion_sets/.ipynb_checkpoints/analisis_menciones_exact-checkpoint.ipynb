{
 "cells": [
  {
   "cell_type": "code",
   "execution_count": 1,
   "id": "conventional-establishment",
   "metadata": {},
   "outputs": [],
   "source": [
    "import pandas as pd\n",
    "import psycopg2\n",
    "import pandas.io.sql as psql\n",
    "import geopandas as gpd\n",
    "import numpy as np\n",
    "import matplotlib.pyplot as plt\n",
    "from shapely.geometry import Point\n",
    "from sklearn.feature_extraction.text import CountVectorizer\n",
    "from sklearn.tree import DecisionTreeClassifier\n",
    "from sklearn.ensemble import RandomForestClassifier\n",
    "from sklearn.model_selection import GridSearchCV, cross_val_score, StratifiedKFold, cross_val_predict, cross_validate\n",
    "from sklearn.model_selection import train_test_split\n",
    "from statsmodels.distributions.empirical_distribution import ECDF\n",
    "from sklearn.metrics import classification_report, make_scorer\n",
    "from sklearn.metrics import accuracy_score\n",
    "from sklearn.multioutput import MultiOutputClassifier\n",
    "from sklearn.metrics import balanced_accuracy_score, accuracy_score, roc_auc_score\n",
    "from sklearn.metrics import plot_confusion_matrix, confusion_matrix\n",
    "from collections import OrderedDict\n",
    "from sklearn.manifold import TSNE\n",
    "from sklearn.svm import SVC\n",
    "from sklearn.preprocessing import scale\n",
    "from sklearn.decomposition import TruncatedSVD\n",
    "import matplotlib.cm as cm\n",
    "import time\n",
    "import scipy.sparse\n",
    "import seaborn as sns\n",
    "import lightgbm as lgb\n",
    "import networkx as nx\n",
    "from collections import Counter\n",
    "from matplotlib import ticker\n",
    "from scipy.sparse import hstack \n",
    "from scipy.sparse import identity\n",
    "import re\n",
    "\n",
    "unTPath = \"../../../../../unT/ffunes/\"\n",
    "figuresPath = unTPath + \"figures/\"\n",
    "\n",
    "%matplotlib inline\n",
    "\n",
    "sns.set_theme()"
   ]
  },
  {
   "cell_type": "code",
   "execution_count": 2,
   "id": "prompt-omega",
   "metadata": {},
   "outputs": [
    {
     "name": "stdout",
     "output_type": "stream",
     "text": [
      "No se pudo conectar a la base de datos\n"
     ]
    }
   ],
   "source": [
    "try:\n",
    "    conn = psycopg2.connect(user = \"ffunes\",\n",
    "                            password = \"location8\",\n",
    "                            host = \"127.0.0.1\",\n",
    "                            port = \"5432\",\n",
    "                            database = \"elecciones_twitter\")\n",
    "except:\n",
    "    print(\"No se pudo conectar a la base de datos\")"
   ]
  },
  {
   "cell_type": "code",
   "execution_count": 4,
   "id": "alert-lebanon",
   "metadata": {},
   "outputs": [],
   "source": [
    "def retrieve_mentions(row):\n",
    "    mentions = [x[1:] for x in re.findall(r'@\\w+', str(row[\"full_text\"]))]\n",
    "    \n",
    "    return [x for x in mentions]"
   ]
  },
  {
   "cell_type": "code",
   "execution_count": 4,
   "id": "hungry-arbor",
   "metadata": {},
   "outputs": [
    {
     "data": {
      "text/html": [
       "<div>\n",
       "<style scoped>\n",
       "    .dataframe tbody tr th:only-of-type {\n",
       "        vertical-align: middle;\n",
       "    }\n",
       "\n",
       "    .dataframe tbody tr th {\n",
       "        vertical-align: top;\n",
       "    }\n",
       "\n",
       "    .dataframe thead th {\n",
       "        text-align: right;\n",
       "    }\n",
       "</style>\n",
       "<table border=\"1\" class=\"dataframe\">\n",
       "  <thead>\n",
       "    <tr style=\"text-align: right;\">\n",
       "      <th></th>\n",
       "      <th>count</th>\n",
       "    </tr>\n",
       "  </thead>\n",
       "  <tbody>\n",
       "    <tr>\n",
       "      <th>0</th>\n",
       "      <td>16907357</td>\n",
       "    </tr>\n",
       "  </tbody>\n",
       "</table>\n",
       "</div>"
      ],
      "text/plain": [
       "      count\n",
       "0  16907357"
      ]
     },
     "execution_count": 4,
     "metadata": {},
     "output_type": "execute_result"
    }
   ],
   "source": [
    "c = pd.read_sql_query(\n",
    "    \"SELECT COUNT(*) FROM tweets WHERE user_id IN (SELECT id from users_location_exact) AND full_text IS NOT NULL\"\n",
    "    , con=conn)\n",
    "c"
   ]
  },
  {
   "cell_type": "code",
   "execution_count": 5,
   "id": "generous-mentor",
   "metadata": {
    "scrolled": true
   },
   "outputs": [
    {
     "name": "stdout",
     "output_type": "stream",
     "text": [
      "SELECT id, user_id, full_text FROM tweets WHERE user_id IN (SELECT id FROM users_location_exact)    AND full_text IS NOT NULL LIMIT 5000000 OFFSET 0 (5000000, 3)\n",
      "SELECT id, user_id, full_text FROM tweets WHERE user_id IN (SELECT id FROM users_location_exact)    AND full_text IS NOT NULL LIMIT 5000000 OFFSET 5000000 (5000000, 3)\n",
      "SELECT id, user_id, full_text FROM tweets WHERE user_id IN (SELECT id FROM users_location_exact)    AND full_text IS NOT NULL LIMIT 5000000 OFFSET 10000000 (4898434, 3)\n",
      "SELECT id, user_id, full_text FROM tweets WHERE user_id IN (SELECT id FROM users_location_exact)    AND full_text IS NOT NULL LIMIT 5000000 OFFSET 15000000 (0, 3)\n"
     ]
    }
   ],
   "source": [
    "chunksize = 5000000\n",
    "offset = 0\n",
    "\n",
    "df = pd.DataFrame(columns=[\"id\", \"user_id\", \"mentions\"])\n",
    "\n",
    "while True:\n",
    "    query = 'SELECT id, user_id, full_text FROM tweets WHERE user_id IN (SELECT id FROM users_location_exact)\\\n",
    "    AND full_text IS NOT NULL LIMIT %d OFFSET %d' % (chunksize, offset)\n",
    "\n",
    "    tweets = pd.read_sql_query(query, con=conn)\n",
    "    \n",
    "    print(query, tweets.shape)\n",
    "        \n",
    "    if tweets.shape[0] == 0:\n",
    "        break\n",
    "        \n",
    "    tweets[\"mentions\"] = tweets.apply(retrieve_mentions, axis=1)\n",
    "    tweets = tweets.explode(\"mentions\").loc[:, [\"id\", \"user_id\", \"mentions\"]]\n",
    "    df = df.append(tweets)\n",
    "    df = df.dropna()\n",
    "        \n",
    "    offset += chunksize\n",
    "    \n",
    "df = df.groupby(\n",
    "    [\"user_id\"]\n",
    ")['mentions'].apply(list).reset_index(name='users_mentioned')"
   ]
  },
  {
   "cell_type": "code",
   "execution_count": 24,
   "id": "expected-substitute",
   "metadata": {},
   "outputs": [
    {
     "data": {
      "text/plain": [
       "15"
      ]
     },
     "execution_count": 24,
     "metadata": {},
     "output_type": "execute_result"
    }
   ],
   "source": [
    "len(df[\"users_mentioned\"].to_numpy()[40])"
   ]
  },
  {
   "cell_type": "code",
   "execution_count": 25,
   "id": "collected-tucson",
   "metadata": {},
   "outputs": [
    {
     "data": {
      "text/plain": [
       "60"
      ]
     },
     "execution_count": 25,
     "metadata": {},
     "output_type": "execute_result"
    }
   ],
   "source": [
    "len(users_with_mentions.loc[:, [\"id\", \"users_mentioned\"]].sort_values(\"id\")[\"users_mentioned\"].to_numpy()[40])"
   ]
  },
  {
   "cell_type": "code",
   "execution_count": 10,
   "id": "velvet-chase",
   "metadata": {},
   "outputs": [],
   "source": [
    "def degree_histogram_directed(G, in_degree=False, out_degree=False):\n",
    "    nodes = G.nodes()\n",
    "    \n",
    "    if in_degree:\n",
    "        in_degree = dict(G.in_degree())\n",
    "        degseq=[in_degree.get(k,0) for k in nodes]\n",
    "    elif out_degree:\n",
    "        out_degree = dict(G.out_degree())\n",
    "        degseq=[out_degree.get(k,0) for k in nodes]\n",
    "    else:\n",
    "        degseq=[v for k, v in G.degree()]\n",
    "        \n",
    "    dmax=max(degseq)+1\n",
    "    freq= [ 0 for d in range(dmax) ]\n",
    "    \n",
    "    for d in degseq:\n",
    "        freq[d] += 1\n",
    "        \n",
    "    return freq"
   ]
  },
  {
   "cell_type": "code",
   "execution_count": 3,
   "id": "deadly-marker",
   "metadata": {},
   "outputs": [
    {
     "data": {
      "text/html": [
       "<div>\n",
       "<style scoped>\n",
       "    .dataframe tbody tr th:only-of-type {\n",
       "        vertical-align: middle;\n",
       "    }\n",
       "\n",
       "    .dataframe tbody tr th {\n",
       "        vertical-align: top;\n",
       "    }\n",
       "\n",
       "    .dataframe thead th {\n",
       "        text-align: right;\n",
       "    }\n",
       "</style>\n",
       "<table border=\"1\" class=\"dataframe\">\n",
       "  <thead>\n",
       "    <tr style=\"text-align: right;\">\n",
       "      <th></th>\n",
       "      <th>count</th>\n",
       "    </tr>\n",
       "  </thead>\n",
       "  <tbody>\n",
       "    <tr>\n",
       "      <th>0</th>\n",
       "      <td>1047955841</td>\n",
       "    </tr>\n",
       "  </tbody>\n",
       "</table>\n",
       "</div>"
      ],
      "text/plain": [
       "        count\n",
       "0  1047955841"
      ]
     },
     "execution_count": 3,
     "metadata": {},
     "output_type": "execute_result"
    }
   ],
   "source": [
    "pd.read_sql_query('SELECT COUNT(*) FROM mentions',con=conn)"
   ]
  },
  {
   "cell_type": "code",
   "execution_count": 4,
   "id": "military-quality",
   "metadata": {},
   "outputs": [
    {
     "data": {
      "text/html": [
       "<div>\n",
       "<style scoped>\n",
       "    .dataframe tbody tr th:only-of-type {\n",
       "        vertical-align: middle;\n",
       "    }\n",
       "\n",
       "    .dataframe tbody tr th {\n",
       "        vertical-align: top;\n",
       "    }\n",
       "\n",
       "    .dataframe thead th {\n",
       "        text-align: right;\n",
       "    }\n",
       "</style>\n",
       "<table border=\"1\" class=\"dataframe\">\n",
       "  <thead>\n",
       "    <tr style=\"text-align: right;\">\n",
       "      <th></th>\n",
       "      <th>count</th>\n",
       "    </tr>\n",
       "  </thead>\n",
       "  <tbody>\n",
       "    <tr>\n",
       "      <th>0</th>\n",
       "      <td>187046</td>\n",
       "    </tr>\n",
       "  </tbody>\n",
       "</table>\n",
       "</div>"
      ],
      "text/plain": [
       "    count\n",
       "0  187046"
      ]
     },
     "execution_count": 4,
     "metadata": {},
     "output_type": "execute_result"
    }
   ],
   "source": [
    "pd.read_sql_query(\n",
    "    'SELECT COUNT(*)\\\n",
    "    FROM mentions\\\n",
    "    WHERE id_tweet IN\\\n",
    "        (SELECT id FROM tweets WHERE coordinates IS NOT NULL)'\n",
    "    ,con=conn\n",
    ")"
   ]
  },
  {
   "cell_type": "code",
   "execution_count": null,
   "id": "cooperative-orientation",
   "metadata": {},
   "outputs": [],
   "source": [
    "pd.read_sql_query(\n",
    "    'SELECT COUNT(*)\\\n",
    "    FROM mentions\\\n",
    "    WHERE id_tweet IN\\\n",
    "        (SELECT id FROM tweets WHERE user_id IN (SELECT user_id FROM users_location_exact))'\n",
    "    ,con=conn\n",
    ")"
   ]
  },
  {
   "cell_type": "code",
   "execution_count": 5,
   "id": "confident-melissa",
   "metadata": {},
   "outputs": [],
   "source": [
    "mentions = pd.read_sql_query(\n",
    "    'SELECT *\\\n",
    "    FROM mentions AS m\\\n",
    "    INNER JOIN (SELECT id, user_id as owner\\\n",
    "    FROM tweets WHERE user_id IN (SELECT id FROM users_location_exact)) AS t\\\n",
    "    ON m.id_tweet=t.id'\n",
    "    ,con=conn\n",
    ")"
   ]
  },
  {
   "cell_type": "code",
   "execution_count": 6,
   "id": "square-transcript",
   "metadata": {},
   "outputs": [
    {
     "data": {
      "text/plain": [
       "(26316262, 4)"
      ]
     },
     "execution_count": 6,
     "metadata": {},
     "output_type": "execute_result"
    }
   ],
   "source": [
    "mentions.shape"
   ]
  },
  {
   "cell_type": "code",
   "execution_count": 7,
   "id": "ecological-friendly",
   "metadata": {},
   "outputs": [],
   "source": [
    "del mentions[\"id\"]\n",
    "mentions.rename(columns={'user_id':'user_mentioned'}, inplace=True)"
   ]
  },
  {
   "cell_type": "code",
   "execution_count": 10,
   "id": "resident-commander",
   "metadata": {},
   "outputs": [
    {
     "data": {
      "text/html": [
       "<div>\n",
       "<style scoped>\n",
       "    .dataframe tbody tr th:only-of-type {\n",
       "        vertical-align: middle;\n",
       "    }\n",
       "\n",
       "    .dataframe tbody tr th {\n",
       "        vertical-align: top;\n",
       "    }\n",
       "\n",
       "    .dataframe thead th {\n",
       "        text-align: right;\n",
       "    }\n",
       "</style>\n",
       "<table border=\"1\" class=\"dataframe\">\n",
       "  <thead>\n",
       "    <tr style=\"text-align: right;\">\n",
       "      <th></th>\n",
       "      <th>id_tweet</th>\n",
       "      <th>user_mentioned</th>\n",
       "      <th>owner</th>\n",
       "    </tr>\n",
       "  </thead>\n",
       "  <tbody>\n",
       "    <tr>\n",
       "      <th>0</th>\n",
       "      <td>1079935235914117125</td>\n",
       "      <td>487481388</td>\n",
       "      <td>1549284727</td>\n",
       "    </tr>\n",
       "    <tr>\n",
       "      <th>1</th>\n",
       "      <td>1079935242637578240</td>\n",
       "      <td>766576933</td>\n",
       "      <td>886041232480378880</td>\n",
       "    </tr>\n",
       "    <tr>\n",
       "      <th>2</th>\n",
       "      <td>1079935265680977920</td>\n",
       "      <td>41976943</td>\n",
       "      <td>139934598</td>\n",
       "    </tr>\n",
       "    <tr>\n",
       "      <th>3</th>\n",
       "      <td>1079935282760372224</td>\n",
       "      <td>185770854</td>\n",
       "      <td>2871303729</td>\n",
       "    </tr>\n",
       "    <tr>\n",
       "      <th>4</th>\n",
       "      <td>1079935286572810241</td>\n",
       "      <td>247844816</td>\n",
       "      <td>239191890</td>\n",
       "    </tr>\n",
       "  </tbody>\n",
       "</table>\n",
       "</div>"
      ],
      "text/plain": [
       "              id_tweet  user_mentioned               owner\n",
       "0  1079935235914117125       487481388          1549284727\n",
       "1  1079935242637578240       766576933  886041232480378880\n",
       "2  1079935265680977920        41976943           139934598\n",
       "3  1079935282760372224       185770854          2871303729\n",
       "4  1079935286572810241       247844816           239191890"
      ]
     },
     "execution_count": 10,
     "metadata": {},
     "output_type": "execute_result"
    }
   ],
   "source": [
    "mentions.head()"
   ]
  },
  {
   "cell_type": "code",
   "execution_count": 9,
   "id": "binding-korea",
   "metadata": {},
   "outputs": [],
   "source": [
    "mentions.to_csv(unTPath + 'exact/mentions_exact.csv')"
   ]
  },
  {
   "cell_type": "markdown",
   "id": "european-transformation",
   "metadata": {},
   "source": [
    "# Analisis básico"
   ]
  },
  {
   "cell_type": "code",
   "execution_count": 2,
   "id": "raising-trader",
   "metadata": {},
   "outputs": [
    {
     "data": {
      "text/plain": [
       "(29864603, 3)"
      ]
     },
     "execution_count": 2,
     "metadata": {},
     "output_type": "execute_result"
    }
   ],
   "source": [
    "usecols = [\n",
    "    \"id_tweet\",\n",
    "    \"owner\",\n",
    "    \"user_mentioned\"\n",
    "]\n",
    "\n",
    "mentions = pd.read_csv(unTPath + 'exact/mentions_exact.csv', usecols=usecols)\n",
    "mentions.shape"
   ]
  },
  {
   "cell_type": "code",
   "execution_count": 58,
   "id": "diverse-contemporary",
   "metadata": {},
   "outputs": [],
   "source": [
    "unique_mentions = mentions.drop_duplicates(subset=[\"user_mentioned\", \"owner\"]).groupby('user_mentioned').count()"
   ]
  },
  {
   "cell_type": "code",
   "execution_count": 7,
   "id": "resistant-medium",
   "metadata": {},
   "outputs": [
    {
     "data": {
      "image/png": "[encoded data removed]",
      "text/plain": [
       "<Figure size 1440x720 with 1 Axes>"
      ]
     },
     "metadata": {
      "needs_background": "light"
     },
     "output_type": "display_data"
    }
   ],
   "source": [
    "ecdf = ECDF(unique_mentions[\"owner\"])\n",
    "\n",
    "plt.figure(figsize=(20,10)) \n",
    "plt.grid(b=True, which='major')\n",
    "plt.xlabel(\"Cantidad de menciones\", fontsize=16)\n",
    "plt.ylabel(\"% de usuarios\", fontsize=16)\n",
    "plt.title(\"Frecuencia acumulada de usuarios mencionados\", fontsize=18)\n",
    "plt.plot(ecdf.x,ecdf.y)\n",
    "plt.yticks(np.arange(0,1.1,0.05))\n",
    "#plt.xticks(np.arange(0,70,1))\n",
    "plt.xscale('log')\n",
    "#plt.xlim(0, 70)\n",
    "#plt.hlines(accuracy_score(y_test[:, 0], y_predicted_city), -200, 1000, colors='r', linestyles='dashed')\n",
    "#plt.legend([\"Frec. acumulada\", \"Ubicación exacta\"])\n",
    "plt.show()"
   ]
  },
  {
   "cell_type": "markdown",
   "id": "blessed-headset",
   "metadata": {},
   "source": [
    "## Junta con usuarios"
   ]
  },
  {
   "cell_type": "code",
   "execution_count": 2,
   "id": "incident-object",
   "metadata": {},
   "outputs": [],
   "source": [
    "def filter_users_with_mentions(min_mentions=None, max_mentions=None):\n",
    "    '''\n",
    "        min_mentions: Filtrar usuarios que no fueron mencionados al menos N veces.\n",
    "        max_mentions: Filtrar usuarios que fueron mencionados más de M veces.\n",
    "        \n",
    "        Nota: Se devuelven todos los usuarios posibles, aun aquellos que luego del filtro quedan\n",
    "        sin aristas hacia otros nodos, simplemente tendrán una lista de menciones vacia\n",
    "        (Esto puede aprovecharse para distribuir clases de forma equitativa)\n",
    "    '''\n",
    "    usecols = [\n",
    "        \"owner\",\n",
    "        \"user_mentioned\"\n",
    "    ]\n",
    "\n",
    "    mentions = pd.read_csv(unTPath + 'exact/mentions_exact.csv', usecols=usecols)\n",
    "\n",
    "    users = pd.read_pickle(unTPath + 'exact/users_exact_coords.pkl')\n",
    "    \n",
    "    unique_mentions = mentions.drop_duplicates(subset=[\"user_mentioned\", \"owner\"]).groupby('user_mentioned').count().reset_index()\n",
    "    \n",
    "    # Filtramos usuarios mencionados según los parámetros dados\n",
    "    min_mentions = 1 if min_mentions == None else min_mentions\n",
    "        \n",
    "    if max_mentions != None:\n",
    "        lim_mentioned_users = unique_mentions.loc[\n",
    "            ((unique_mentions[\"owner\"] >= min_mentions) & (unique_mentions[\"owner\"] <= max_mentions)),\n",
    "            [\"user_mentioned\"]\n",
    "        ]\n",
    "    else:\n",
    "        lim_mentioned_users = unique_mentions.loc[\n",
    "            (unique_mentions[\"owner\"] >= min_mentions),\n",
    "            [\"user_mentioned\"]\n",
    "        ]\n",
    "    \n",
    "    limited_mentions = pd.merge(\n",
    "        left=mentions,\n",
    "        right=lim_mentioned_users,\n",
    "        how='inner',\n",
    "        left_on=[\"user_mentioned\"],\n",
    "        right_on=[\"user_mentioned\"],\n",
    "        validate=\"m:1\"         \n",
    "    )\n",
    "    \n",
    "    users_mentioned = set(limited_mentions[\"user_mentioned\"].to_numpy())\n",
    "    \n",
    "    limited_mentions = limited_mentions.groupby(\n",
    "        [\"owner\"]\n",
    "    )['user_mentioned'].apply(list).reset_index(name='users_mentioned')\n",
    "    \n",
    "    users_with_mentions = pd.merge(\n",
    "        left=users,\n",
    "        right=limited_mentions,\n",
    "        how='left',\n",
    "        left_on=[\"id\"],\n",
    "        right_on=[\"owner\"],\n",
    "        validate=\"1:1\" \n",
    "    )\n",
    "    \n",
    "    del users_with_mentions[\"owner\"]\n",
    "    \n",
    "    print(\n",
    "        \"Total users:\", users.shape[0],\n",
    "        \"\\nUsers with mentions:\", limited_mentions.shape[0],\n",
    "        \"\\nUsers in @mention graph:\", len(\n",
    "            set(users[\"id\"].to_numpy()).intersection(users_mentioned) | \n",
    "            set(limited_mentions[\"owner\"].unique())\n",
    "        ),\n",
    "        \"\\nUsers mentioned:\", len(users_mentioned)\n",
    "    )\n",
    "    \n",
    "    return users_with_mentions    "
   ]
  },
  {
   "cell_type": "code",
   "execution_count": 3,
   "id": "social-sitting",
   "metadata": {},
   "outputs": [
    {
     "name": "stdout",
     "output_type": "stream",
     "text": [
      "Total users: 37146 \n",
      "Users with mentions: 35981 \n",
      "Users in @mention graph: 36016 \n",
      "Users mentioned: 1655082\n"
     ]
    },
    {
     "data": {
      "text/plain": [
       "(35981, 22)"
      ]
     },
     "execution_count": 3,
     "metadata": {},
     "output_type": "execute_result"
    }
   ],
   "source": [
    "users_with_mentions = filter_users_with_mentions(None, None)\n",
    "users_with_mentions.dropna(subset=[\"users_mentioned\"]).shape"
   ]
  },
  {
   "cell_type": "code",
   "execution_count": 4,
   "id": "bulgarian-homeless",
   "metadata": {},
   "outputs": [],
   "source": [
    "users_with_mentions.loc[users_with_mentions['users_mentioned'].isnull(), ['users_mentioned']] = users_with_mentions.loc[users_with_mentions['users_mentioned'].isnull(),'users_mentioned'].apply(lambda x: [])"
   ]
  },
  {
   "cell_type": "code",
   "execution_count": 5,
   "id": "sorted-description",
   "metadata": {},
   "outputs": [],
   "source": [
    "graph_mentions = nx.DiGraph()"
   ]
  },
  {
   "cell_type": "code",
   "execution_count": 6,
   "id": "prime-detective",
   "metadata": {},
   "outputs": [],
   "source": [
    "graph_mentions.add_nodes_from(users_with_mentions[\"id\"].to_numpy())"
   ]
  },
  {
   "cell_type": "code",
   "execution_count": 7,
   "id": "democratic-major",
   "metadata": {},
   "outputs": [],
   "source": [
    "for user_id, users_mentioned in zip(users_with_mentions[\"id\"].to_numpy(), users_with_mentions[\"users_mentioned\"].to_numpy()):\n",
    "    ocurrences = list(Counter(users_mentioned).items())\n",
    "            \n",
    "    graph_mentions.add_weighted_edges_from(list(map(lambda x: (user_id, x[0], x[1]), ocurrences)))\n",
    "                    \n",
    "graph_mentions.remove_edges_from(nx.selfloop_edges(graph_mentions))"
   ]
  },
  {
   "cell_type": "code",
   "execution_count": 8,
   "id": "prescription-fight",
   "metadata": {},
   "outputs": [
    {
     "name": "stdout",
     "output_type": "stream",
     "text": [
      "Nodos:  1670106 Aristas:  9107669\n"
     ]
    }
   ],
   "source": [
    "print(\"Nodos: \", len(graph_mentions.nodes), \"Aristas: \", len(graph_mentions.edges))"
   ]
  },
  {
   "cell_type": "code",
   "execution_count": 11,
   "id": "nearby-minnesota",
   "metadata": {},
   "outputs": [
    {
     "data": {
      "image/png": "[encoded data removed]",
      "text/plain": [
       "<Figure size 1440x720 with 1 Axes>"
      ]
     },
     "metadata": {
      "needs_background": "light"
     },
     "output_type": "display_data"
    }
   ],
   "source": [
    "in_degree_freq = degree_histogram_directed(graph_mentions, in_degree=True)\n",
    "degrees = range(len(in_degree_freq))\n",
    "f, ax = plt.subplots(figsize=(20, 10))\n",
    "\n",
    "plt.loglog(range(len(in_degree_freq)), in_degree_freq, 'go-', label='in-degree') \n",
    "\n",
    "ax.set_title(\"Distribución de grados\", fontweight='bold', fontsize=22, pad=20)\n",
    "ax.set_xlabel('Grados', fontsize=22, labelpad=20)\n",
    "ax.set_ylabel('Frecuencia', fontsize=22, labelpad=20)\n",
    "ax.xaxis.set_tick_params(labelsize=16)\n",
    "ax.yaxis.set_tick_params(labelsize=16)\n",
    "ax.xaxis.set_major_formatter(ticker.FormatStrFormatter(\"%d\"))\n",
    "ax.yaxis.set_major_formatter(ticker.FormatStrFormatter(\"%d\"))\n",
    "\n",
    "#f.savefig(figuresPath + 'mentions/distribucion_grados_entrantes.pdf', bbox_inches = 'tight')\n",
    "\n",
    "plt.show()"
   ]
  },
  {
   "cell_type": "code",
   "execution_count": null,
   "id": "patient-michael",
   "metadata": {},
   "outputs": [],
   "source": [
    "users_with_mentions[\"unified_place\"].unique()"
   ]
  },
  {
   "cell_type": "code",
   "execution_count": null,
   "id": "compound-sport",
   "metadata": {},
   "outputs": [],
   "source": [
    "fig, ax = plt.subplots(figsize=(10, 10))\n",
    "pos = nx.spring_layout(G)\n",
    "colors = [f\"C{i}\" for i in group]\n",
    "nx.draw_networkx_nodes(G, pos, ax=ax, node_color=colors, node_size=40)\n",
    "nx.draw_networkx_edges(G, pos, ax=ax, edge_color=\"black\")\n",
    "\n",
    "# legend\n",
    "custom_lines = [Line2D([0], [0], markerfacecolor=f'C{i}',\n",
    "                       marker='o', linestyle='None', markersize=10)\n",
    "                for i in range(num_clusters)]\n",
    "custom_labels = [f\"Group {i}\" for i in range(num_clusters)]\n",
    "\n",
    "ax.legend(custom_lines, custom_labels,\n",
    "          loc='upper left', bbox_to_anchor=(1, 1))\n",
    "\n",
    "ax.set_title(\"Synthetic Example\\nSpring Layout\", fontsize=18)\n",
    "ax.axis(\"off\")\n",
    "\n",
    "plt.show()"
   ]
  },
  {
   "cell_type": "markdown",
   "id": "thirty-plaza",
   "metadata": {},
   "source": [
    "Matrices de adyacencias"
   ]
  },
  {
   "cell_type": "code",
   "execution_count": 12,
   "id": "sweet-donor",
   "metadata": {},
   "outputs": [
    {
     "data": {
      "text/plain": [
       "1670106"
      ]
     },
     "execution_count": 12,
     "metadata": {},
     "output_type": "execute_result"
    }
   ],
   "source": [
    "users_ids = users_with_mentions[\"id\"].to_numpy()\n",
    "\n",
    "set_users = set(users_ids)\n",
    "\n",
    "for x in users_with_mentions[\"users_mentioned\"].to_numpy():\n",
    "    set_users |= set(x)\n",
    "\n",
    "mentioned_users = list(set_users.difference(set(users_ids)))\n",
    "\n",
    "total_users_mentions = list(users_ids) + mentioned_users\n",
    "len(total_users_mentions)"
   ]
  },
  {
   "cell_type": "code",
   "execution_count": 13,
   "id": "intimate-hungary",
   "metadata": {},
   "outputs": [
    {
     "data": {
      "text/plain": [
       "<1670106x1670106 sparse matrix of type '<class 'numpy.uint8'>'\n",
       "\twith 9107669 stored elements in Compressed Sparse Row format>"
      ]
     },
     "execution_count": 13,
     "metadata": {},
     "output_type": "execute_result"
    }
   ],
   "source": [
    "vector_of_mentions = nx.adjacency_matrix(graph_mentions, nodelist=total_users_mentions).astype(np.uint8)\n",
    "vector_of_mentions"
   ]
  },
  {
   "cell_type": "code",
   "execution_count": 14,
   "id": "leading-closing",
   "metadata": {},
   "outputs": [
    {
     "data": {
      "text/plain": [
       "<37146x37146 sparse matrix of type '<class 'numpy.uint8'>'\n",
       "\twith 206608 stored elements in Compressed Sparse Row format>"
      ]
     },
     "execution_count": 14,
     "metadata": {},
     "output_type": "execute_result"
    }
   ],
   "source": [
    "vector_of_mentions_compl = vector_of_mentions[0:len(users_ids), 0:len(users_ids)]\n",
    "vector_of_mentions_compl"
   ]
  },
  {
   "cell_type": "code",
   "execution_count": 70,
   "id": "social-english",
   "metadata": {},
   "outputs": [
    {
     "name": "stdout",
     "output_type": "stream",
     "text": [
      "Nodos:  285852 Aristas:  8153342\n"
     ]
    }
   ],
   "source": [
    "graph_5kore = nx.k_core(graph_mentions, k=5)\n",
    "print(\"Nodos: \", len(graph_5kore.nodes), \"Aristas: \", len(graph_5kore.edges))"
   ]
  },
  {
   "cell_type": "code",
   "execution_count": null,
   "id": "legislative-victor",
   "metadata": {},
   "outputs": [],
   "source": [
    "nx.draw(graph_mentions_collapsed)  # networkx draw()\n",
    "plt.draw()"
   ]
  },
  {
   "cell_type": "code",
   "execution_count": 19,
   "id": "effective-chemical",
   "metadata": {},
   "outputs": [
    {
     "name": "stdout",
     "output_type": "stream",
     "text": [
      "Total users: 37146 \n",
      "Users with mentions: 34842 \n",
      "Users in @mention graph: 34919 \n",
      "Users mentioned: 1595718\n"
     ]
    },
    {
     "data": {
      "text/plain": [
       "(34842, 19)"
      ]
     },
     "execution_count": 19,
     "metadata": {},
     "output_type": "execute_result"
    }
   ],
   "source": [
    "users_with_mentions = filter_users_with_mentions(None, 20)\n",
    "users_with_mentions.dropna(subset=[\"users_mentioned\"]).shape"
   ]
  },
  {
   "cell_type": "code",
   "execution_count": 20,
   "id": "defined-cannon",
   "metadata": {},
   "outputs": [],
   "source": [
    "#users_with_mentions.to_pickle(unTPath + 'exact/users_exact_mentions.pkl')"
   ]
  },
  {
   "cell_type": "code",
   "execution_count": null,
   "id": "fundamental-seventh",
   "metadata": {},
   "outputs": [],
   "source": [
    "users_with_mentions.loc[users_with_mentions['users_mentioned'].isnull(), ['users_mentioned']] = users_with_mentions.loc[users_with_mentions['users_mentioned'].isnull(),'users_mentioned'].apply(lambda x: [])"
   ]
  },
  {
   "cell_type": "code",
   "execution_count": 86,
   "id": "contemporary-classic",
   "metadata": {},
   "outputs": [
    {
     "data": {
      "text/plain": [
       "1763982"
      ]
     },
     "execution_count": 86,
     "metadata": {},
     "output_type": "execute_result"
    }
   ],
   "source": [
    "users_ids = users_with_mentions[\"id\"].to_numpy()\n",
    "\n",
    "set_users = set(users_ids)\n",
    "\n",
    "for x in users_with_mentions[\"users_mentioned\"].to_numpy():\n",
    "    set_users |= set(x)\n",
    "\n",
    "mentioned_users = list(set_users.difference(set(users_ids)))\n",
    "\n",
    "total_users_mentions = list(users_ids) + mentioned_users\n",
    "len(total_users_mentions)"
   ]
  },
  {
   "cell_type": "code",
   "execution_count": 128,
   "id": "backed-click",
   "metadata": {},
   "outputs": [],
   "source": [
    "graph_mentions_collapsed = nx.Graph()\n",
    "\n",
    "graph_mentions_collapsed.add_nodes_from(users_ids)\n",
    "\n",
    "for user_id, users_mentioned in zip(users_ids, users_with_mentions[\"users_mentioned\"].to_numpy()):\n",
    "    ocurrences = list(Counter(users_mentioned).items())\n",
    "            \n",
    "    graph_mentions_collapsed.add_weighted_edges_from(list(map(lambda x: (user_id, x[0], x[1]), ocurrences)))\n",
    "                    \n",
    "graph_mentions_collapsed.remove_edges_from(nx.selfloop_edges(graph_mentions_collapsed))"
   ]
  },
  {
   "cell_type": "code",
   "execution_count": 148,
   "id": "light-range",
   "metadata": {},
   "outputs": [
    {
     "data": {
      "text/plain": [
       "<1763982x1763982 sparse matrix of type '<class 'numpy.uint8'>'\n",
       "\twith 7842172 stored elements in Compressed Sparse Row format>"
      ]
     },
     "execution_count": 148,
     "metadata": {},
     "output_type": "execute_result"
    }
   ],
   "source": [
    "vector_of_mentions = nx.adjacency_matrix(graph_mentions_collapsed, nodelist=total_users_mentions).astype(np.uint8)\n",
    "vector_of_mentions = vector_of_mentions.astype(np.bool).astype(np.uint8)\n",
    "#vector_of_mentions.setdiag(1, k=0)\n",
    "vector_of_mentions.eliminate_zeros()\n",
    "vector_of_mentions"
   ]
  },
  {
   "cell_type": "code",
   "execution_count": 149,
   "id": "russian-interview",
   "metadata": {},
   "outputs": [
    {
     "data": {
      "text/plain": [
       "<43567x1763982 sparse matrix of type '<class 'numpy.uint8'>'\n",
       "\twith 3974273 stored elements in Compressed Sparse Row format>"
      ]
     },
     "execution_count": 149,
     "metadata": {},
     "output_type": "execute_result"
    }
   ],
   "source": [
    "vector_of_ac_mentions = vector_of_mentions[0:len(users_ids), :]\n",
    "vector_of_ac_mentions"
   ]
  },
  {
   "cell_type": "code",
   "execution_count": 151,
   "id": "filled-majority",
   "metadata": {},
   "outputs": [
    {
     "data": {
      "text/plain": [
       "<43567x43567 sparse matrix of type '<class 'numpy.uint8'>'\n",
       "\twith 106374 stored elements in Compressed Sparse Row format>"
      ]
     },
     "execution_count": 151,
     "metadata": {},
     "output_type": "execute_result"
    }
   ],
   "source": [
    "vector_of_mentions_local = vector_of_mentions[0:len(users_ids), 0:len(users_ids)]\n",
    "vector_of_mentions_local"
   ]
  },
  {
   "cell_type": "code",
   "execution_count": 152,
   "id": "artificial-humor",
   "metadata": {},
   "outputs": [
    {
     "data": {
      "text/plain": [
       "<43567x1763982 sparse matrix of type '<class 'numpy.uint8'>'\n",
       "\twith 3867899 stored elements in Compressed Sparse Row format>"
      ]
     },
     "execution_count": 152,
     "metadata": {},
     "output_type": "execute_result"
    }
   ],
   "source": [
    "m_vector_of_mentions = vector_of_mentions_local.copy()\n",
    "m_vector_of_mentions[m_vector_of_mentions > 0] = 0\n",
    "m_vector_of_mentions.eliminate_zeros()\n",
    "m_vector_of_mentions = hstack([m_vector_of_mentions, vector_of_ac_mentions[:, len(users_ids):]])\n",
    "# Convertimos a bool para que los pesos de las aristas pasen a ser todos 1\n",
    "m_vector_of_mentions = m_vector_of_mentions.astype(bool).astype(np.uint8).tocsr()\n",
    "m_vector_of_mentions"
   ]
  },
  {
   "cell_type": "code",
   "execution_count": 153,
   "id": "determined-agency",
   "metadata": {},
   "outputs": [
    {
     "data": {
      "text/plain": [
       "<43567x43567 sparse matrix of type '<class 'numpy.uint8'>'\n",
       "\twith 10229456 stored elements in Compressed Sparse Row format>"
      ]
     },
     "execution_count": 153,
     "metadata": {},
     "output_type": "execute_result"
    }
   ],
   "source": [
    "m_vector_of_co_mentions = m_vector_of_mentions.dot(m_vector_of_mentions.T)\n",
    "m_vector_of_co_mentions.setdiag(0, k=0)\n",
    "m_vector_of_co_mentions.eliminate_zeros()\n",
    "m_vector_of_co_mentions"
   ]
  },
  {
   "cell_type": "code",
   "execution_count": 154,
   "id": "transsexual-following",
   "metadata": {},
   "outputs": [
    {
     "data": {
      "text/plain": [
       "<43567x43567 sparse matrix of type '<class 'numpy.uint8'>'\n",
       "\twith 106374 stored elements in Compressed Sparse Row format>"
      ]
     },
     "execution_count": 154,
     "metadata": {},
     "output_type": "execute_result"
    }
   ],
   "source": [
    "vector_of_mentions_local.setdiag(0, k=0)\n",
    "vector_of_mentions_local.eliminate_zeros()\n",
    "vector_of_mentions_local"
   ]
  },
  {
   "cell_type": "code",
   "execution_count": 155,
   "id": "vanilla-configuration",
   "metadata": {},
   "outputs": [
    {
     "data": {
      "text/plain": [
       "<43567x43567 sparse matrix of type '<class 'numpy.uint8'>'\n",
       "\twith 10266006 stored elements in Compressed Sparse Row format>"
      ]
     },
     "execution_count": 155,
     "metadata": {},
     "output_type": "execute_result"
    }
   ],
   "source": [
    "vector_of_col_mentions = vector_of_mentions_local + m_vector_of_co_mentions\n",
    "#vector_of_col_mentions.setdiag(0, k=0)\n",
    "vector_of_col_mentions.eliminate_zeros()\n",
    "vector_of_col_mentions"
   ]
  },
  {
   "cell_type": "code",
   "execution_count": 116,
   "id": "victorian-geneva",
   "metadata": {},
   "outputs": [],
   "source": [
    "graph_comentions_ = nx.DiGraph()\n",
    "\n",
    "graph_comentions_.add_nodes_from(users_ids)\n",
    "\n",
    "for user_id, users_mentioned in zip(users_ids, users_with_mentions[\"users_mentioned\"].to_numpy()):\n",
    "    ocurrences = list(Counter(users_mentioned).items())\n",
    "            \n",
    "    graph_comentions_.add_weighted_edges_from(list(map(lambda x: (user_id, x[0], x[1]), ocurrences)))\n",
    "                    \n",
    "graph_comentions_.remove_edges_from(nx.selfloop_edges(graph_comentions_))"
   ]
  },
  {
   "cell_type": "code",
   "execution_count": 119,
   "id": "thermal-turkish",
   "metadata": {},
   "outputs": [
    {
     "data": {
      "text/plain": [
       "<43567x1763982 sparse matrix of type '<class 'numpy.uint8'>'\n",
       "\twith 3971512 stored elements in Compressed Sparse Row format>"
      ]
     },
     "execution_count": 119,
     "metadata": {},
     "output_type": "execute_result"
    }
   ],
   "source": [
    "vector_of_mentions = nx.adjacency_matrix(graph_comentions_, nodelist=total_users_mentions).astype(np.uint8)\n",
    "vector_of_mentions = vector_of_mentions.astype(np.bool).astype(np.uint8)[0:len(users_ids), :]\n",
    "vector_of_mentions.setdiag(1, k=0)\n",
    "vector_of_mentions"
   ]
  },
  {
   "cell_type": "code",
   "execution_count": 124,
   "id": "departmental-stupid",
   "metadata": {},
   "outputs": [
    {
     "data": {
      "text/plain": [
       "<43567x1763982 sparse matrix of type '<class 'numpy.uint8'>'\n",
       "\twith 3971504 stored elements in Compressed Sparse Row format>"
      ]
     },
     "execution_count": 124,
     "metadata": {},
     "output_type": "execute_result"
    }
   ],
   "source": [
    "vector_of_mentions.eliminate_zeros()\n",
    "vector_of_mentions"
   ]
  },
  {
   "cell_type": "code",
   "execution_count": 123,
   "id": "fifty-india",
   "metadata": {},
   "outputs": [
    {
     "data": {
      "text/plain": [
       "<43567x43567 sparse matrix of type '<class 'numpy.uint8'>'\n",
       "\twith 10450504 stored elements in Compressed Sparse Row format>"
      ]
     },
     "execution_count": 123,
     "metadata": {},
     "output_type": "execute_result"
    }
   ],
   "source": [
    "vector_of_co_mentions = vector_of_mentions.dot(vector_of_mentions.T)\n",
    "vector_of_co_mentions.setdiag(0, k=0)\n",
    "vector_of_co_mentions.eliminate_zeros()\n",
    "vector_of_co_mentions"
   ]
  }
 ],
 "metadata": {
  "kernelspec": {
   "display_name": "ffunes-3.8",
   "language": "python",
   "name": "ffunes-3.8"
  },
  "language_info": {
   "codemirror_mode": {
    "name": "ipython",
    "version": 3
   },
   "file_extension": ".py",
   "mimetype": "text/x-python",
   "name": "python",
   "nbconvert_exporter": "python",
   "pygments_lexer": "ipython3",
   "version": "3.8.9"
  }
 },
 "nbformat": 4,
 "nbformat_minor": 5
}
