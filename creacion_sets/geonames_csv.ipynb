{
 "cells": [
  {
   "cell_type": "code",
   "execution_count": 1,
   "metadata": {},
   "outputs": [],
   "source": [
    "import pandas as pd\n",
    "import numpy as np"
   ]
  },
  {
   "cell_type": "code",
   "execution_count": 2,
   "metadata": {},
   "outputs": [],
   "source": [
    "colnames = [\n",
    "    \"geonameid\",\n",
    "    \"name\",\n",
    "    \"asciiname\",\n",
    "    \"alternatenames\",\n",
    "    \"latitude\",\n",
    "    \"longitude\",\n",
    "    \"feature class\",\n",
    "    \"feature code\",\n",
    "    \"country code\",\n",
    "    \"cc2\",\n",
    "    \"admin1 code\",\n",
    "    \"admin2 code\",\n",
    "    \"admin3 code\",\n",
    "    \"admin4 code\",\n",
    "    \"population\",\n",
    "    \"elevation\",\n",
    "    \"dem\",\n",
    "    \"timezone\",\n",
    "    \"modification date\"\n",
    "]"
   ]
  },
  {
   "cell_type": "code",
   "execution_count": 3,
   "metadata": {},
   "outputs": [],
   "source": [
    "dtypes = {\n",
    "    \"geonameid\": np.int32,\n",
    "    \"name\": str,\n",
    "    \"asciiname\": str,\n",
    "    \"alternatenames\": str,\n",
    "    \"latitude\": np.float32,\n",
    "    \"longitude\": np.float32,\n",
    "    \"feature class\": str,\n",
    "    \"feature code\": str,\n",
    "    \"country code\": str,\n",
    "    \"cc2\": str,\n",
    "    \"admin1 code\": str,\n",
    "    \"admin2 code\": str,\n",
    "    \"admin3 code\": str,\n",
    "    \"admin4 code\": str,\n",
    "    \"population\": np.uint64,\n",
    "    \"elevation\": np.float32,\n",
    "    \"dem\": str,\n",
    "    \"timezone\": str,\n",
    "    \"modification date\": str    \n",
    "}"
   ]
  },
  {
   "cell_type": "code",
   "execution_count": 18,
   "metadata": {},
   "outputs": [],
   "source": [
    "geonames = pd.read_csv(\n",
    "    \"../../geonames/2021/cities500.txt\",\n",
    "    sep=\"\\t\",\n",
    "    names=colnames,\n",
    "    dtype=dtypes\n",
    ")"
   ]
  },
  {
   "cell_type": "code",
   "execution_count": 19,
   "metadata": {},
   "outputs": [
    {
     "data": {
      "text/plain": [
       "(196707, 19)"
      ]
     },
     "execution_count": 19,
     "metadata": {},
     "output_type": "execute_result"
    }
   ],
   "source": [
    "geonames.shape"
   ]
  },
  {
   "cell_type": "code",
   "execution_count": 20,
   "metadata": {},
   "outputs": [
    {
     "data": {
      "text/html": [
       "<div>\n",
       "<style scoped>\n",
       "    .dataframe tbody tr th:only-of-type {\n",
       "        vertical-align: middle;\n",
       "    }\n",
       "\n",
       "    .dataframe tbody tr th {\n",
       "        vertical-align: top;\n",
       "    }\n",
       "\n",
       "    .dataframe thead th {\n",
       "        text-align: right;\n",
       "    }\n",
       "</style>\n",
       "<table border=\"1\" class=\"dataframe\">\n",
       "  <thead>\n",
       "    <tr style=\"text-align: right;\">\n",
       "      <th></th>\n",
       "      <th>geonameid</th>\n",
       "      <th>name</th>\n",
       "      <th>asciiname</th>\n",
       "      <th>alternatenames</th>\n",
       "      <th>latitude</th>\n",
       "      <th>longitude</th>\n",
       "      <th>feature class</th>\n",
       "      <th>feature code</th>\n",
       "      <th>country code</th>\n",
       "      <th>cc2</th>\n",
       "      <th>admin1 code</th>\n",
       "      <th>admin2 code</th>\n",
       "      <th>admin3 code</th>\n",
       "      <th>admin4 code</th>\n",
       "      <th>population</th>\n",
       "      <th>elevation</th>\n",
       "      <th>dem</th>\n",
       "      <th>timezone</th>\n",
       "      <th>modification date</th>\n",
       "    </tr>\n",
       "  </thead>\n",
       "  <tbody>\n",
       "    <tr>\n",
       "      <th>0</th>\n",
       "      <td>3038999</td>\n",
       "      <td>Soldeu</td>\n",
       "      <td>Soldeu</td>\n",
       "      <td>NaN</td>\n",
       "      <td>42.576881</td>\n",
       "      <td>1.66769</td>\n",
       "      <td>P</td>\n",
       "      <td>PPL</td>\n",
       "      <td>AD</td>\n",
       "      <td>NaN</td>\n",
       "      <td>02</td>\n",
       "      <td>NaN</td>\n",
       "      <td>NaN</td>\n",
       "      <td>NaN</td>\n",
       "      <td>602</td>\n",
       "      <td>NaN</td>\n",
       "      <td>1832</td>\n",
       "      <td>Europe/Andorra</td>\n",
       "      <td>2017-11-06</td>\n",
       "    </tr>\n",
       "    <tr>\n",
       "      <th>1</th>\n",
       "      <td>3039154</td>\n",
       "      <td>El Tarter</td>\n",
       "      <td>El Tarter</td>\n",
       "      <td>Ehl Tarter,Эл Тартер</td>\n",
       "      <td>42.579521</td>\n",
       "      <td>1.65362</td>\n",
       "      <td>P</td>\n",
       "      <td>PPL</td>\n",
       "      <td>AD</td>\n",
       "      <td>NaN</td>\n",
       "      <td>02</td>\n",
       "      <td>NaN</td>\n",
       "      <td>NaN</td>\n",
       "      <td>NaN</td>\n",
       "      <td>1052</td>\n",
       "      <td>NaN</td>\n",
       "      <td>1721</td>\n",
       "      <td>Europe/Andorra</td>\n",
       "      <td>2012-11-03</td>\n",
       "    </tr>\n",
       "    <tr>\n",
       "      <th>2</th>\n",
       "      <td>3039163</td>\n",
       "      <td>Sant Julià de Lòria</td>\n",
       "      <td>Sant Julia de Loria</td>\n",
       "      <td>San Julia,San Julià,Sant Julia de Loria,Sant J...</td>\n",
       "      <td>42.463718</td>\n",
       "      <td>1.49129</td>\n",
       "      <td>P</td>\n",
       "      <td>PPLA</td>\n",
       "      <td>AD</td>\n",
       "      <td>NaN</td>\n",
       "      <td>06</td>\n",
       "      <td>NaN</td>\n",
       "      <td>NaN</td>\n",
       "      <td>NaN</td>\n",
       "      <td>8022</td>\n",
       "      <td>NaN</td>\n",
       "      <td>921</td>\n",
       "      <td>Europe/Andorra</td>\n",
       "      <td>2013-11-23</td>\n",
       "    </tr>\n",
       "    <tr>\n",
       "      <th>3</th>\n",
       "      <td>3039604</td>\n",
       "      <td>Pas de la Casa</td>\n",
       "      <td>Pas de la Casa</td>\n",
       "      <td>Pas de la Kasa,Пас де ла Каса</td>\n",
       "      <td>42.542770</td>\n",
       "      <td>1.73361</td>\n",
       "      <td>P</td>\n",
       "      <td>PPL</td>\n",
       "      <td>AD</td>\n",
       "      <td>NaN</td>\n",
       "      <td>03</td>\n",
       "      <td>NaN</td>\n",
       "      <td>NaN</td>\n",
       "      <td>NaN</td>\n",
       "      <td>2363</td>\n",
       "      <td>2050.0</td>\n",
       "      <td>2106</td>\n",
       "      <td>Europe/Andorra</td>\n",
       "      <td>2008-06-09</td>\n",
       "    </tr>\n",
       "    <tr>\n",
       "      <th>4</th>\n",
       "      <td>3039678</td>\n",
       "      <td>Ordino</td>\n",
       "      <td>Ordino</td>\n",
       "      <td>Ordino,ao er di nuo,orudino jiao qu,Ордино,オルデ...</td>\n",
       "      <td>42.556229</td>\n",
       "      <td>1.53319</td>\n",
       "      <td>P</td>\n",
       "      <td>PPLA</td>\n",
       "      <td>AD</td>\n",
       "      <td>NaN</td>\n",
       "      <td>05</td>\n",
       "      <td>NaN</td>\n",
       "      <td>NaN</td>\n",
       "      <td>NaN</td>\n",
       "      <td>3066</td>\n",
       "      <td>NaN</td>\n",
       "      <td>1296</td>\n",
       "      <td>Europe/Andorra</td>\n",
       "      <td>2018-10-26</td>\n",
       "    </tr>\n",
       "  </tbody>\n",
       "</table>\n",
       "</div>"
      ],
      "text/plain": [
       "   geonameid                 name            asciiname  \\\n",
       "0    3038999               Soldeu               Soldeu   \n",
       "1    3039154            El Tarter            El Tarter   \n",
       "2    3039163  Sant Julià de Lòria  Sant Julia de Loria   \n",
       "3    3039604       Pas de la Casa       Pas de la Casa   \n",
       "4    3039678               Ordino               Ordino   \n",
       "\n",
       "                                      alternatenames   latitude  longitude  \\\n",
       "0                                                NaN  42.576881    1.66769   \n",
       "1                               Ehl Tarter,Эл Тартер  42.579521    1.65362   \n",
       "2  San Julia,San Julià,Sant Julia de Loria,Sant J...  42.463718    1.49129   \n",
       "3                      Pas de la Kasa,Пас де ла Каса  42.542770    1.73361   \n",
       "4  Ordino,ao er di nuo,orudino jiao qu,Ордино,オルデ...  42.556229    1.53319   \n",
       "\n",
       "  feature class feature code country code  cc2 admin1 code admin2 code  \\\n",
       "0             P          PPL           AD  NaN          02         NaN   \n",
       "1             P          PPL           AD  NaN          02         NaN   \n",
       "2             P         PPLA           AD  NaN          06         NaN   \n",
       "3             P          PPL           AD  NaN          03         NaN   \n",
       "4             P         PPLA           AD  NaN          05         NaN   \n",
       "\n",
       "  admin3 code admin4 code  population  elevation   dem        timezone  \\\n",
       "0         NaN         NaN         602        NaN  1832  Europe/Andorra   \n",
       "1         NaN         NaN        1052        NaN  1721  Europe/Andorra   \n",
       "2         NaN         NaN        8022        NaN   921  Europe/Andorra   \n",
       "3         NaN         NaN        2363     2050.0  2106  Europe/Andorra   \n",
       "4         NaN         NaN        3066        NaN  1296  Europe/Andorra   \n",
       "\n",
       "  modification date  \n",
       "0        2017-11-06  \n",
       "1        2012-11-03  \n",
       "2        2013-11-23  \n",
       "3        2008-06-09  \n",
       "4        2018-10-26  "
      ]
     },
     "execution_count": 20,
     "metadata": {},
     "output_type": "execute_result"
    }
   ],
   "source": [
    "geonames.head()"
   ]
  },
  {
   "cell_type": "code",
   "execution_count": 21,
   "metadata": {},
   "outputs": [],
   "source": [
    "def to_lower(row, column):\n",
    "    if not type(row[column]) == str:\n",
    "        return row[column]\n",
    "    \n",
    "    return row[column].lower()"
   ]
  },
  {
   "cell_type": "code",
   "execution_count": 22,
   "metadata": {},
   "outputs": [],
   "source": [
    "geonames[\"timezone\"] = geonames.apply(to_lower, axis=1, column=\"timezone\")\n",
    "geonames[\"name\"] = geonames.apply(to_lower, axis=1, column=\"name\")\n",
    "geonames[\"asciiname\"] = geonames.apply(to_lower, axis=1, column=\"asciiname\")\n",
    "geonames[\"alternatenames\"] = geonames.apply(to_lower, axis=1, column=\"alternatenames\")"
   ]
  },
  {
   "cell_type": "code",
   "execution_count": 23,
   "metadata": {},
   "outputs": [
    {
     "data": {
      "text/plain": [
       "(196707, 19)"
      ]
     },
     "execution_count": 23,
     "metadata": {},
     "output_type": "execute_result"
    }
   ],
   "source": [
    "geonames.shape"
   ]
  },
  {
   "cell_type": "code",
   "execution_count": 24,
   "metadata": {},
   "outputs": [],
   "source": [
    "countries_sp = pd.read_csv('../../countries_csv/lista_paises_espanol.csv',\n",
    "                           sep=\"\\t\",\n",
    "                           names=[\"Code\", \"Name\", \"-\"]\n",
    "                          )\n",
    "del countries_sp[\"-\"]"
   ]
  },
  {
   "cell_type": "code",
   "execution_count": 25,
   "metadata": {},
   "outputs": [],
   "source": [
    "countries_en = pd.read_csv('../../countries_csv/lista_paises_ingles.csv',\n",
    "                           sep=\"\\t\",\n",
    "                           names=[\"Code\", \"Name\", \"-\"]\n",
    "                          )\n",
    "del countries_en[\"-\"]"
   ]
  },
  {
   "cell_type": "code",
   "execution_count": 26,
   "metadata": {},
   "outputs": [],
   "source": [
    "countries = pd.concat([countries_sp, countries_en])"
   ]
  },
  {
   "cell_type": "code",
   "execution_count": 27,
   "metadata": {},
   "outputs": [],
   "source": [
    "countries[\"Name\"] = countries.apply(to_lower, axis=1, column=\"Name\")"
   ]
  },
  {
   "cell_type": "code",
   "execution_count": 28,
   "metadata": {},
   "outputs": [],
   "source": [
    "countries.drop_duplicates(inplace=True)"
   ]
  },
  {
   "cell_type": "code",
   "execution_count": 29,
   "metadata": {},
   "outputs": [
    {
     "data": {
      "text/html": [
       "<div>\n",
       "<style scoped>\n",
       "    .dataframe tbody tr th:only-of-type {\n",
       "        vertical-align: middle;\n",
       "    }\n",
       "\n",
       "    .dataframe tbody tr th {\n",
       "        vertical-align: top;\n",
       "    }\n",
       "\n",
       "    .dataframe thead th {\n",
       "        text-align: right;\n",
       "    }\n",
       "</style>\n",
       "<table border=\"1\" class=\"dataframe\">\n",
       "  <thead>\n",
       "    <tr style=\"text-align: right;\">\n",
       "      <th></th>\n",
       "      <th>Code</th>\n",
       "      <th>Name</th>\n",
       "    </tr>\n",
       "  </thead>\n",
       "  <tbody>\n",
       "    <tr>\n",
       "      <th>0</th>\n",
       "      <td>AF</td>\n",
       "      <td>afganistán</td>\n",
       "    </tr>\n",
       "    <tr>\n",
       "      <th>1</th>\n",
       "      <td>AL</td>\n",
       "      <td>albania</td>\n",
       "    </tr>\n",
       "  </tbody>\n",
       "</table>\n",
       "</div>"
      ],
      "text/plain": [
       "  Code        Name\n",
       "0   AF  afganistán\n",
       "1   AL     albania"
      ]
     },
     "execution_count": 29,
     "metadata": {},
     "output_type": "execute_result"
    }
   ],
   "source": [
    "countries.head(2)"
   ]
  },
  {
   "cell_type": "code",
   "execution_count": 37,
   "metadata": {},
   "outputs": [],
   "source": [
    "countries = countries.drop_duplicates(subset=\"Code\")"
   ]
  },
  {
   "cell_type": "code",
   "execution_count": 38,
   "metadata": {},
   "outputs": [
    {
     "data": {
      "text/plain": [
       "237"
      ]
     },
     "execution_count": 38,
     "metadata": {},
     "output_type": "execute_result"
    }
   ],
   "source": [
    "countries[\"Code\"].nunique()"
   ]
  },
  {
   "cell_type": "code",
   "execution_count": 39,
   "metadata": {},
   "outputs": [],
   "source": [
    "geonames = pd.merge(\n",
    "    left=geonames,\n",
    "    right=countries,\n",
    "    how='inner',\n",
    "    left_on='country code',\n",
    "    right_on='Code'\n",
    ")"
   ]
  },
  {
   "cell_type": "code",
   "execution_count": 40,
   "metadata": {},
   "outputs": [
    {
     "data": {
      "text/html": [
       "<div>\n",
       "<style scoped>\n",
       "    .dataframe tbody tr th:only-of-type {\n",
       "        vertical-align: middle;\n",
       "    }\n",
       "\n",
       "    .dataframe tbody tr th {\n",
       "        vertical-align: top;\n",
       "    }\n",
       "\n",
       "    .dataframe thead th {\n",
       "        text-align: right;\n",
       "    }\n",
       "</style>\n",
       "<table border=\"1\" class=\"dataframe\">\n",
       "  <thead>\n",
       "    <tr style=\"text-align: right;\">\n",
       "      <th></th>\n",
       "      <th>geonameid</th>\n",
       "      <th>name</th>\n",
       "      <th>asciiname</th>\n",
       "      <th>alternatenames</th>\n",
       "      <th>latitude</th>\n",
       "      <th>longitude</th>\n",
       "      <th>feature class</th>\n",
       "      <th>feature code</th>\n",
       "      <th>country code</th>\n",
       "      <th>cc2</th>\n",
       "      <th>...</th>\n",
       "      <th>admin2 code</th>\n",
       "      <th>admin3 code</th>\n",
       "      <th>admin4 code</th>\n",
       "      <th>population</th>\n",
       "      <th>elevation</th>\n",
       "      <th>dem</th>\n",
       "      <th>timezone</th>\n",
       "      <th>modification date</th>\n",
       "      <th>Code</th>\n",
       "      <th>Name</th>\n",
       "    </tr>\n",
       "  </thead>\n",
       "  <tbody>\n",
       "    <tr>\n",
       "      <th>0</th>\n",
       "      <td>3038999</td>\n",
       "      <td>soldeu</td>\n",
       "      <td>soldeu</td>\n",
       "      <td>NaN</td>\n",
       "      <td>42.576881</td>\n",
       "      <td>1.66769</td>\n",
       "      <td>P</td>\n",
       "      <td>PPL</td>\n",
       "      <td>AD</td>\n",
       "      <td>NaN</td>\n",
       "      <td>...</td>\n",
       "      <td>NaN</td>\n",
       "      <td>NaN</td>\n",
       "      <td>NaN</td>\n",
       "      <td>602</td>\n",
       "      <td>NaN</td>\n",
       "      <td>1832</td>\n",
       "      <td>europe/andorra</td>\n",
       "      <td>2017-11-06</td>\n",
       "      <td>AD</td>\n",
       "      <td>andorra</td>\n",
       "    </tr>\n",
       "    <tr>\n",
       "      <th>1</th>\n",
       "      <td>3039154</td>\n",
       "      <td>el tarter</td>\n",
       "      <td>el tarter</td>\n",
       "      <td>ehl tarter,эл тартер</td>\n",
       "      <td>42.579521</td>\n",
       "      <td>1.65362</td>\n",
       "      <td>P</td>\n",
       "      <td>PPL</td>\n",
       "      <td>AD</td>\n",
       "      <td>NaN</td>\n",
       "      <td>...</td>\n",
       "      <td>NaN</td>\n",
       "      <td>NaN</td>\n",
       "      <td>NaN</td>\n",
       "      <td>1052</td>\n",
       "      <td>NaN</td>\n",
       "      <td>1721</td>\n",
       "      <td>europe/andorra</td>\n",
       "      <td>2012-11-03</td>\n",
       "      <td>AD</td>\n",
       "      <td>andorra</td>\n",
       "    </tr>\n",
       "  </tbody>\n",
       "</table>\n",
       "<p>2 rows × 21 columns</p>\n",
       "</div>"
      ],
      "text/plain": [
       "   geonameid       name  asciiname        alternatenames   latitude  \\\n",
       "0    3038999     soldeu     soldeu                   NaN  42.576881   \n",
       "1    3039154  el tarter  el tarter  ehl tarter,эл тартер  42.579521   \n",
       "\n",
       "   longitude feature class feature code country code  cc2  ... admin2 code  \\\n",
       "0    1.66769             P          PPL           AD  NaN  ...         NaN   \n",
       "1    1.65362             P          PPL           AD  NaN  ...         NaN   \n",
       "\n",
       "  admin3 code admin4 code population  elevation   dem        timezone  \\\n",
       "0         NaN         NaN        602        NaN  1832  europe/andorra   \n",
       "1         NaN         NaN       1052        NaN  1721  europe/andorra   \n",
       "\n",
       "  modification date Code     Name  \n",
       "0        2017-11-06   AD  andorra  \n",
       "1        2012-11-03   AD  andorra  \n",
       "\n",
       "[2 rows x 21 columns]"
      ]
     },
     "execution_count": 40,
     "metadata": {},
     "output_type": "execute_result"
    }
   ],
   "source": [
    "geonames.head(2)"
   ]
  },
  {
   "cell_type": "code",
   "execution_count": 41,
   "metadata": {},
   "outputs": [
    {
     "data": {
      "text/plain": [
       "(195610, 21)"
      ]
     },
     "execution_count": 41,
     "metadata": {},
     "output_type": "execute_result"
    }
   ],
   "source": [
    "geonames.shape"
   ]
  },
  {
   "cell_type": "code",
   "execution_count": 42,
   "metadata": {},
   "outputs": [],
   "source": [
    "geonames_splitted_names = (\n",
    "    geonames.set_index(geonames.columns.drop('alternatenames',1).tolist())\n",
    "    .alternatenames.str.split(',', expand=True)\n",
    "    .stack()\n",
    "    .reset_index()\n",
    "    .rename(columns={0:'alternatenames'})\n",
    "    .loc[:, [\"alternatenames\", \"latitude\", \"longitude\", \"country code\", \"population\", \"Name\"]]\n",
    ")"
   ]
  },
  {
   "cell_type": "code",
   "execution_count": 43,
   "metadata": {},
   "outputs": [],
   "source": [
    "geonames_splitted_names = pd.merge(\n",
    "    left=geonames_splitted_names,\n",
    "    right=geonames.loc[:, [\"asciiname\", \"latitude\", \"longitude\", \"country code\", \"population\", \"Name\"]].rename(columns={\"asciiname\": \"alternatenames\"}),\n",
    "    how='outer'\n",
    ")\n",
    "\n",
    "geonames_splitted_names = pd.merge(\n",
    "    left=geonames_splitted_names,\n",
    "    right=geonames.loc[:, [\"name\", \"latitude\", \"longitude\", \"country code\", \"population\", \"Name\"]].rename(columns={\"name\": \"alternatenames\"}),\n",
    "    how='outer'\n",
    ")"
   ]
  },
  {
   "cell_type": "code",
   "execution_count": 44,
   "metadata": {},
   "outputs": [],
   "source": [
    "geonames_splitted_names[\"alternatenames\"] = geonames_splitted_names.apply(to_lower, axis=1, column=\"alternatenames\")"
   ]
  },
  {
   "cell_type": "code",
   "execution_count": 45,
   "metadata": {},
   "outputs": [
    {
     "data": {
      "text/html": [
       "<div>\n",
       "<style scoped>\n",
       "    .dataframe tbody tr th:only-of-type {\n",
       "        vertical-align: middle;\n",
       "    }\n",
       "\n",
       "    .dataframe tbody tr th {\n",
       "        vertical-align: top;\n",
       "    }\n",
       "\n",
       "    .dataframe thead th {\n",
       "        text-align: right;\n",
       "    }\n",
       "</style>\n",
       "<table border=\"1\" class=\"dataframe\">\n",
       "  <thead>\n",
       "    <tr style=\"text-align: right;\">\n",
       "      <th></th>\n",
       "      <th>alternatenames</th>\n",
       "      <th>latitude</th>\n",
       "      <th>longitude</th>\n",
       "      <th>country code</th>\n",
       "      <th>population</th>\n",
       "      <th>Name</th>\n",
       "    </tr>\n",
       "  </thead>\n",
       "  <tbody>\n",
       "    <tr>\n",
       "      <th>0</th>\n",
       "      <td>ehl tarter</td>\n",
       "      <td>42.579521</td>\n",
       "      <td>1.65362</td>\n",
       "      <td>AD</td>\n",
       "      <td>1052</td>\n",
       "      <td>andorra</td>\n",
       "    </tr>\n",
       "    <tr>\n",
       "      <th>1</th>\n",
       "      <td>эл тартер</td>\n",
       "      <td>42.579521</td>\n",
       "      <td>1.65362</td>\n",
       "      <td>AD</td>\n",
       "      <td>1052</td>\n",
       "      <td>andorra</td>\n",
       "    </tr>\n",
       "    <tr>\n",
       "      <th>2</th>\n",
       "      <td>san julia</td>\n",
       "      <td>42.463718</td>\n",
       "      <td>1.49129</td>\n",
       "      <td>AD</td>\n",
       "      <td>8022</td>\n",
       "      <td>andorra</td>\n",
       "    </tr>\n",
       "    <tr>\n",
       "      <th>3</th>\n",
       "      <td>san julià</td>\n",
       "      <td>42.463718</td>\n",
       "      <td>1.49129</td>\n",
       "      <td>AD</td>\n",
       "      <td>8022</td>\n",
       "      <td>andorra</td>\n",
       "    </tr>\n",
       "    <tr>\n",
       "      <th>4</th>\n",
       "      <td>sant julia de loria</td>\n",
       "      <td>42.463718</td>\n",
       "      <td>1.49129</td>\n",
       "      <td>AD</td>\n",
       "      <td>8022</td>\n",
       "      <td>andorra</td>\n",
       "    </tr>\n",
       "  </tbody>\n",
       "</table>\n",
       "</div>"
      ],
      "text/plain": [
       "        alternatenames   latitude  longitude country code  population     Name\n",
       "0           ehl tarter  42.579521    1.65362           AD        1052  andorra\n",
       "1            эл тартер  42.579521    1.65362           AD        1052  andorra\n",
       "2            san julia  42.463718    1.49129           AD        8022  andorra\n",
       "3            san julià  42.463718    1.49129           AD        8022  andorra\n",
       "4  sant julia de loria  42.463718    1.49129           AD        8022  andorra"
      ]
     },
     "execution_count": 45,
     "metadata": {},
     "output_type": "execute_result"
    }
   ],
   "source": [
    "geonames_splitted_names.head()"
   ]
  },
  {
   "cell_type": "code",
   "execution_count": 46,
   "metadata": {},
   "outputs": [
    {
     "data": {
      "text/plain": [
       "(801420, 6)"
      ]
     },
     "execution_count": 46,
     "metadata": {},
     "output_type": "execute_result"
    }
   ],
   "source": [
    "geonames_splitted_names.dropna(subset=[\"country code\"], inplace=True)\n",
    "\n",
    "geonames_splitted_names.drop_duplicates(\n",
    "    subset=[\"alternatenames\", \"Name\"],\n",
    "    inplace=True\n",
    ")\n",
    "\n",
    "geonames_splitted_names.shape"
   ]
  },
  {
   "cell_type": "code",
   "execution_count": 47,
   "metadata": {},
   "outputs": [
    {
     "data": {
      "text/html": [
       "<div>\n",
       "<style scoped>\n",
       "    .dataframe tbody tr th:only-of-type {\n",
       "        vertical-align: middle;\n",
       "    }\n",
       "\n",
       "    .dataframe tbody tr th {\n",
       "        vertical-align: top;\n",
       "    }\n",
       "\n",
       "    .dataframe thead th {\n",
       "        text-align: right;\n",
       "    }\n",
       "</style>\n",
       "<table border=\"1\" class=\"dataframe\">\n",
       "  <thead>\n",
       "    <tr style=\"text-align: right;\">\n",
       "      <th></th>\n",
       "      <th>alternatenames</th>\n",
       "      <th>latitude</th>\n",
       "      <th>longitude</th>\n",
       "      <th>country code</th>\n",
       "      <th>population</th>\n",
       "      <th>Name</th>\n",
       "    </tr>\n",
       "  </thead>\n",
       "  <tbody>\n",
       "    <tr>\n",
       "      <th>0</th>\n",
       "      <td>ehl tarter</td>\n",
       "      <td>42.579521</td>\n",
       "      <td>1.65362</td>\n",
       "      <td>AD</td>\n",
       "      <td>1052</td>\n",
       "      <td>andorra</td>\n",
       "    </tr>\n",
       "    <tr>\n",
       "      <th>1</th>\n",
       "      <td>эл тартер</td>\n",
       "      <td>42.579521</td>\n",
       "      <td>1.65362</td>\n",
       "      <td>AD</td>\n",
       "      <td>1052</td>\n",
       "      <td>andorra</td>\n",
       "    </tr>\n",
       "  </tbody>\n",
       "</table>\n",
       "</div>"
      ],
      "text/plain": [
       "  alternatenames   latitude  longitude country code  population     Name\n",
       "0     ehl tarter  42.579521    1.65362           AD        1052  andorra\n",
       "1      эл тартер  42.579521    1.65362           AD        1052  andorra"
      ]
     },
     "execution_count": 47,
     "metadata": {},
     "output_type": "execute_result"
    }
   ],
   "source": [
    "geonames_splitted_names.head(2)"
   ]
  },
  {
   "cell_type": "code",
   "execution_count": 48,
   "metadata": {},
   "outputs": [],
   "source": [
    "geonames_splitted_names.rename(columns={'Name': 'country', 'alternatenames': 'city_name'}, inplace=True)"
   ]
  },
  {
   "cell_type": "code",
   "execution_count": 49,
   "metadata": {},
   "outputs": [
    {
     "data": {
      "text/html": [
       "<div>\n",
       "<style scoped>\n",
       "    .dataframe tbody tr th:only-of-type {\n",
       "        vertical-align: middle;\n",
       "    }\n",
       "\n",
       "    .dataframe tbody tr th {\n",
       "        vertical-align: top;\n",
       "    }\n",
       "\n",
       "    .dataframe thead th {\n",
       "        text-align: right;\n",
       "    }\n",
       "</style>\n",
       "<table border=\"1\" class=\"dataframe\">\n",
       "  <thead>\n",
       "    <tr style=\"text-align: right;\">\n",
       "      <th></th>\n",
       "      <th>city_name</th>\n",
       "      <th>latitude</th>\n",
       "      <th>longitude</th>\n",
       "      <th>country code</th>\n",
       "      <th>population</th>\n",
       "      <th>country</th>\n",
       "    </tr>\n",
       "  </thead>\n",
       "  <tbody>\n",
       "    <tr>\n",
       "      <th>0</th>\n",
       "      <td>ehl tarter</td>\n",
       "      <td>42.579521</td>\n",
       "      <td>1.65362</td>\n",
       "      <td>AD</td>\n",
       "      <td>1052</td>\n",
       "      <td>andorra</td>\n",
       "    </tr>\n",
       "    <tr>\n",
       "      <th>1</th>\n",
       "      <td>эл тартер</td>\n",
       "      <td>42.579521</td>\n",
       "      <td>1.65362</td>\n",
       "      <td>AD</td>\n",
       "      <td>1052</td>\n",
       "      <td>andorra</td>\n",
       "    </tr>\n",
       "  </tbody>\n",
       "</table>\n",
       "</div>"
      ],
      "text/plain": [
       "    city_name   latitude  longitude country code  population  country\n",
       "0  ehl tarter  42.579521    1.65362           AD        1052  andorra\n",
       "1   эл тартер  42.579521    1.65362           AD        1052  andorra"
      ]
     },
     "execution_count": 49,
     "metadata": {},
     "output_type": "execute_result"
    }
   ],
   "source": [
    "geonames_splitted_names.head(2)"
   ]
  },
  {
   "cell_type": "code",
   "execution_count": 50,
   "metadata": {},
   "outputs": [
    {
     "data": {
      "text/plain": [
       "(801420, 6)"
      ]
     },
     "execution_count": 50,
     "metadata": {},
     "output_type": "execute_result"
    }
   ],
   "source": [
    "geonames_splitted_names.shape"
   ]
  },
  {
   "cell_type": "code",
   "execution_count": 53,
   "metadata": {},
   "outputs": [],
   "source": [
    "geonames.to_csv(\"../../../../../unT/ffunes/geonames.csv\")\n",
    "geonames_splitted_names.to_csv('../../../../../unT/ffunes/geonames_parsed.csv')"
   ]
  }
 ],
 "metadata": {
  "kernelspec": {
   "display_name": "ffunes",
   "language": "python",
   "name": "ffunes"
  },
  "language_info": {
   "codemirror_mode": {
    "name": "ipython",
    "version": 3
   },
   "file_extension": ".py",
   "mimetype": "text/x-python",
   "name": "python",
   "nbconvert_exporter": "python",
   "pygments_lexer": "ipython3",
   "version": "3.5.2"
  }
 },
 "nbformat": 4,
 "nbformat_minor": 2
}
