{
 "cells": [
  {
   "cell_type": "code",
   "execution_count": 1,
   "id": "explicit-allah",
   "metadata": {},
   "outputs": [],
   "source": [
    "import pandas as pd\n",
    "import psycopg2\n",
    "import pandas.io.sql as psql\n",
    "import geopandas as gpd\n",
    "import numpy as np\n",
    "import matplotlib.pyplot as plt\n",
    "from shapely.geometry import Point\n",
    "from statsmodels.distributions.empirical_distribution import ECDF\n",
    "from sklearn.feature_extraction.text import CountVectorizer\n",
    "from nltk.stem.snowball import SnowballStemmer\n",
    "from langdetect import detect\n",
    "import re\n",
    "import emoji\n",
    "from sklearn.tree import DecisionTreeClassifier\n",
    "from sklearn.ensemble import RandomForestClassifier\n",
    "from sklearn.model_selection import GridSearchCV\n",
    "from sklearn.model_selection import train_test_split\n",
    "from sklearn.metrics import classification_report\n",
    "from sklearn.metrics import accuracy_score\n",
    "from sklearn.multioutput import MultiOutputClassifier\n",
    "from sklearn.metrics import balanced_accuracy_score\n",
    "from sklearn.metrics import plot_confusion_matrix\n",
    "import seaborn as sns\n",
    "from sklearn.feature_selection import mutual_info_classif, chi2, SelectKBest\n",
    "from collections import Counter\n",
    "from scipy.stats import entropy\n",
    "import math\n",
    "from scipy.sparse import find\n",
    "import networkx as nx\n",
    "\n",
    "unTPath = \"../../../../../unT/ffunes/\"\n",
    "\n",
    "%matplotlib inline\n",
    "\n",
    "sns.set_theme()"
   ]
  },
  {
   "cell_type": "code",
   "execution_count": 45,
   "id": "divided-symphony",
   "metadata": {},
   "outputs": [],
   "source": [
    "pd.set_option('display.max_colwidth', None)"
   ]
  },
  {
   "cell_type": "code",
   "execution_count": 2,
   "id": "inclusive-scratch",
   "metadata": {},
   "outputs": [],
   "source": [
    "try:\n",
    "    conn = psycopg2.connect(user = \"ffunes\",\n",
    "                            password = \"location8\",\n",
    "                            host = \"127.0.0.1\",\n",
    "                            port = \"5432\",\n",
    "                            database = \"elecciones_twitter\")\n",
    "except:\n",
    "    print(\"No se pudo conectar a la base de datos\")"
   ]
  },
  {
   "cell_type": "code",
   "execution_count": null,
   "id": "passive-edgar",
   "metadata": {},
   "outputs": [],
   "source": [
    "tweets_content = pd.read_sql_query(\n",
    "    \"SELECT id, user_id, full_text FROM tweets WHERE coordinates IS NOT NULL\"\n",
    "    , con=conn \n",
    ")"
   ]
  },
  {
   "cell_type": "code",
   "execution_count": null,
   "id": "studied-detective",
   "metadata": {},
   "outputs": [],
   "source": [
    "tweets_content.head()"
   ]
  },
  {
   "cell_type": "markdown",
   "id": "devoted-county",
   "metadata": {},
   "source": [
    "Cargamos los tweets geolocalizados y los guardamos en un csv"
   ]
  },
  {
   "cell_type": "code",
   "execution_count": 30,
   "id": "applied-award",
   "metadata": {},
   "outputs": [],
   "source": [
    "tweets_content.to_csv(unTPath + 'exact/content_exact.csv')"
   ]
  },
  {
   "cell_type": "code",
   "execution_count": 2,
   "id": "mighty-respect",
   "metadata": {},
   "outputs": [],
   "source": [
    "colnames = [\n",
    "    \"user_id\",\n",
    "    \"full_text\"\n",
    "]\n",
    "\n",
    "dtype = {\n",
    "    \"user_id\": pd.Int64Dtype(),\n",
    "    \"full_text\": str\n",
    "}\n",
    "\n",
    "tweets_content = pd.read_csv(unTPath + 'exact/content_exact.csv', engine = 'python', usecols=colnames, dtype=dtype, index_col=False )"
   ]
  },
  {
   "cell_type": "code",
   "execution_count": 4,
   "id": "thorough-detective",
   "metadata": {},
   "outputs": [
    {
     "data": {
      "text/html": [
       "<div>\n",
       "<style scoped>\n",
       "    .dataframe tbody tr th:only-of-type {\n",
       "        vertical-align: middle;\n",
       "    }\n",
       "\n",
       "    .dataframe tbody tr th {\n",
       "        vertical-align: top;\n",
       "    }\n",
       "\n",
       "    .dataframe thead th {\n",
       "        text-align: right;\n",
       "    }\n",
       "</style>\n",
       "<table border=\"1\" class=\"dataframe\">\n",
       "  <thead>\n",
       "    <tr style=\"text-align: right;\">\n",
       "      <th></th>\n",
       "      <th>user_id</th>\n",
       "      <th>full_text</th>\n",
       "    </tr>\n",
       "  </thead>\n",
       "  <tbody>\n",
       "    <tr>\n",
       "      <th>0</th>\n",
       "      <td>4709290155</td>\n",
       "      <td>#Puff #Shirley #capitone #design #diseño\\n#Shi...</td>\n",
       "    </tr>\n",
       "    <tr>\n",
       "      <th>1</th>\n",
       "      <td>4709290155</td>\n",
       "      <td>#Puff #Shirley #capitone #design #diseño\\n#Shi...</td>\n",
       "    </tr>\n",
       "    <tr>\n",
       "      <th>2</th>\n",
       "      <td>4709290155</td>\n",
       "      <td>#Sofa #sillones #Fundas #tusor #gervasoni #gra...</td>\n",
       "    </tr>\n",
       "    <tr>\n",
       "      <th>3</th>\n",
       "      <td>4709290155</td>\n",
       "      <td>#Sofa #sillones #Fundas #tusor #gervasoni #gra...</td>\n",
       "    </tr>\n",
       "    <tr>\n",
       "      <th>4</th>\n",
       "      <td>4709290155</td>\n",
       "      <td>#Sofa #sillones #Fundas #tusor #gervasoni #gra...</td>\n",
       "    </tr>\n",
       "    <tr>\n",
       "      <th>...</th>\n",
       "      <td>...</td>\n",
       "      <td>...</td>\n",
       "    </tr>\n",
       "    <tr>\n",
       "      <th>1022065</th>\n",
       "      <td>154678849</td>\n",
       "      <td>#ludo con el más pequeño... en Paraná, Entre R...</td>\n",
       "    </tr>\n",
       "    <tr>\n",
       "      <th>1022066</th>\n",
       "      <td>586838781</td>\n",
       "      <td>Arranco el #Todoscontraelhambre https://t.co/I...</td>\n",
       "    </tr>\n",
       "    <tr>\n",
       "      <th>1022067</th>\n",
       "      <td>598017419</td>\n",
       "      <td>Festejando el cumple de mi abuela!! #Buenos #A...</td>\n",
       "    </tr>\n",
       "    <tr>\n",
       "      <th>1022068</th>\n",
       "      <td>335696274</td>\n",
       "      <td>No empezó el superclásico copero y en casa ya ...</td>\n",
       "    </tr>\n",
       "    <tr>\n",
       "      <th>1022069</th>\n",
       "      <td>156846591</td>\n",
       "      <td>Hoy se pica. Y van a volar las piñas. en Fight...</td>\n",
       "    </tr>\n",
       "  </tbody>\n",
       "</table>\n",
       "<p>1022070 rows × 2 columns</p>\n",
       "</div>"
      ],
      "text/plain": [
       "            user_id                                          full_text\n",
       "0        4709290155  #Puff #Shirley #capitone #design #diseño\\n#Shi...\n",
       "1        4709290155  #Puff #Shirley #capitone #design #diseño\\n#Shi...\n",
       "2        4709290155  #Sofa #sillones #Fundas #tusor #gervasoni #gra...\n",
       "3        4709290155  #Sofa #sillones #Fundas #tusor #gervasoni #gra...\n",
       "4        4709290155  #Sofa #sillones #Fundas #tusor #gervasoni #gra...\n",
       "...             ...                                                ...\n",
       "1022065   154678849  #ludo con el más pequeño... en Paraná, Entre R...\n",
       "1022066   586838781  Arranco el #Todoscontraelhambre https://t.co/I...\n",
       "1022067   598017419  Festejando el cumple de mi abuela!! #Buenos #A...\n",
       "1022068   335696274  No empezó el superclásico copero y en casa ya ...\n",
       "1022069   156846591  Hoy se pica. Y van a volar las piñas. en Fight...\n",
       "\n",
       "[1022070 rows x 2 columns]"
      ]
     },
     "execution_count": 4,
     "metadata": {},
     "output_type": "execute_result"
    }
   ],
   "source": [
    "tweets_content"
   ]
  },
  {
   "cell_type": "markdown",
   "id": "acceptable-guarantee",
   "metadata": {},
   "source": [
    "Agrupamos los tweets por usuario"
   ]
  },
  {
   "cell_type": "code",
   "execution_count": 4,
   "id": "nuclear-hotel",
   "metadata": {},
   "outputs": [],
   "source": [
    "#del tweets_content[\"id\"]\n",
    "\n",
    "tweets_content_gr = tweets_content.groupby(\n",
    "    [\"user_id\"]\n",
    ")['full_text'].apply(lambda x: ' ||| '.join(x)).reset_index(name='all_tweets')"
   ]
  },
  {
   "cell_type": "code",
   "execution_count": 5,
   "id": "blind-daughter",
   "metadata": {},
   "outputs": [],
   "source": [
    "users = pd.read_pickle(unTPath + 'exact/users_exact_coords.pkl')"
   ]
  },
  {
   "cell_type": "code",
   "execution_count": 6,
   "id": "alive-shepherd",
   "metadata": {},
   "outputs": [],
   "source": [
    "users_with_content = pd.merge(\n",
    "    left=users,\n",
    "    right=tweets_content_gr,\n",
    "    how='left',\n",
    "    left_on=[\"id\"],\n",
    "    right_on=[\"user_id\"],\n",
    "    validate=\"1:1\" \n",
    ")\n",
    "\n",
    "del users_with_content[\"user_id\"]"
   ]
  },
  {
   "cell_type": "markdown",
   "id": "overhead-oxford",
   "metadata": {},
   "source": [
    "Extraemos todos los hashtags del contenido"
   ]
  },
  {
   "cell_type": "code",
   "execution_count": 7,
   "id": "desirable-litigation",
   "metadata": {},
   "outputs": [],
   "source": [
    "def retrieve_hashtags(row):\n",
    "    if row[\"all_tweets\"] is None:\n",
    "        return None\n",
    "    \n",
    "    all_hashtags = [x[1:] for x in re.findall(r'#\\w+', str(row[\"all_tweets\"]))]\n",
    "    \n",
    "    return [x for x in all_hashtags]\n",
    "\n",
    "users_with_content[\"hashtags\"] = users_with_content.apply(retrieve_hashtags, axis=1)"
   ]
  },
  {
   "cell_type": "markdown",
   "id": "molecular-basics",
   "metadata": {},
   "source": [
    "Aplicamos un filtro a los tweets eliminando urls, menciones, hashtags, simbolos especiales y emojis"
   ]
  },
  {
   "cell_type": "code",
   "execution_count": 8,
   "id": "computational-ethics",
   "metadata": {
    "scrolled": true
   },
   "outputs": [],
   "source": [
    "replacements = [\n",
    "    r'(https?:\\/\\/(?:www\\.|(?!www))[a-zA-Z0-9][a-zA-Z0-9-]+[a-zA-Z0-9]\\.[^\\s]{2,}|www\\.[a-zA-Z0-9][a-zA-Z0-9-]+[a-zA-Z0-9]\\.[^\\s]{2,}|https?:\\/\\/(?:www\\.|(?!www))[a-zA-Z0-9]+\\.[^\\s]{2,}|www\\.[a-zA-Z0-9]+\\.[^\\s]{2,})',\n",
    "    r'@\\w+',\n",
    "    r'#\\w+',\n",
    "    r'[!\"$%&()*+,-./:;<=>?[\\]^_`{}~#@]',\n",
    "    r'(?<=[a-z])\\'(?=[a-z])'\n",
    "]\n",
    "\n",
    "def parse_tweets(tweets):\n",
    "    try:\n",
    "        tweets = tweets.lower()\n",
    "\n",
    "        for replacement in replacements:\n",
    "            tweets = re.sub(replacement, '', tweets) \n",
    "        tweets = re.sub(emoji.get_emoji_regexp(), '', tweets)\n",
    "        tweets = re.sub(r'\\r\\n?|\\n', ' ', tweets)\n",
    "        tweets = tweets.replace('\\'', '')\n",
    "        tweets = ' '.join(tweets.split())\n",
    "        \n",
    "        return tweets\n",
    "    except:\n",
    "        #print(\"Exception\")\n",
    "        return tweets\n",
    "    \n",
    "def simple_parse(row):\n",
    "    tweets = row[\"all_tweets\"]\n",
    "    \n",
    "    return parse_tweets(tweets)\n",
    "\n",
    "users_with_content[\"all_tweets\"] = users_with_content.apply(simple_parse, axis=1)"
   ]
  },
  {
   "cell_type": "code",
   "execution_count": 10,
   "id": "rural-studio",
   "metadata": {},
   "outputs": [
    {
     "data": {
      "text/plain": [
       "(37146, 20)"
      ]
     },
     "execution_count": 10,
     "metadata": {},
     "output_type": "execute_result"
    }
   ],
   "source": [
    "users_with_content.shape"
   ]
  },
  {
   "cell_type": "markdown",
   "id": "fifteen-disney",
   "metadata": {},
   "source": [
    "Guardamos el como users_exact_content"
   ]
  },
  {
   "cell_type": "code",
   "execution_count": 11,
   "id": "southwest-sustainability",
   "metadata": {},
   "outputs": [],
   "source": [
    "users_with_content.to_pickle(unTPath + 'exact/users_exact_content.pkl')"
   ]
  }
 ],
 "metadata": {
  "kernelspec": {
   "display_name": "ffunes-3.8",
   "language": "python",
   "name": "ffunes-3.8"
  },
  "language_info": {
   "codemirror_mode": {
    "name": "ipython",
    "version": 3
   },
   "file_extension": ".py",
   "mimetype": "text/x-python",
   "name": "python",
   "nbconvert_exporter": "python",
   "pygments_lexer": "ipython3",
   "version": "3.8.9"
  }
 },
 "nbformat": 4,
 "nbformat_minor": 5
}
