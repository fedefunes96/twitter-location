{
 "cells": [
  {
   "cell_type": "code",
   "execution_count": 198,
   "id": "sharing-quebec",
   "metadata": {},
   "outputs": [],
   "source": [
    "import pandas as pd\n",
    "import psycopg2\n",
    "import pandas.io.sql as psql\n",
    "import geopandas as gpd\n",
    "import numpy as np\n",
    "import matplotlib.pyplot as plt\n",
    "from shapely.geometry import Point\n",
    "from statsmodels.distributions.empirical_distribution import ECDF\n",
    "import seaborn as sns\n",
    "from matplotlib import ticker\n",
    "from shapely.geometry import Polygon, box\n",
    "from sqlalchemy import create_engine\n",
    "\n",
    "dosTPath = \"../../../../../dosT/ffunes/\"\n",
    "unTPath = \"../../../../../unT/ffunes/\"\n",
    "figuresPath = unTPath + \"figures/\"\n",
    "\n",
    "%matplotlib inline\n",
    "sns.set_theme()"
   ]
  },
  {
   "cell_type": "markdown",
   "id": "annoying-summary",
   "metadata": {},
   "source": [
    "Bar util"
   ]
  },
  {
   "cell_type": "code",
   "execution_count": 199,
   "id": "productive-links",
   "metadata": {},
   "outputs": [],
   "source": [
    "from IPython.display import clear_output\n",
    "\n",
    "def update_progress(progress):\n",
    "    bar_length = 20\n",
    "    if isinstance(progress, int):\n",
    "        progress = float(progress)\n",
    "    if not isinstance(progress, float):\n",
    "        progress = 0\n",
    "    if progress < 0:\n",
    "        progress = 0\n",
    "    if progress >= 1:\n",
    "        progress = 1\n",
    "\n",
    "    block = int(round(bar_length * progress))\n",
    "\n",
    "    clear_output(wait = True)\n",
    "    text = \"Progress: [{0}] {1:.1f}%\".format( \"#\" * block + \"-\" * (bar_length - block), progress * 100)\n",
    "    print(text)"
   ]
  },
  {
   "cell_type": "code",
   "execution_count": 200,
   "id": "determined-chinese",
   "metadata": {},
   "outputs": [],
   "source": [
    "users = pd.read_pickle('../../../../../unT/ffunes/exact/users_exact_coords.pkl')"
   ]
  },
  {
   "cell_type": "code",
   "execution_count": 201,
   "id": "broken-cowboy",
   "metadata": {},
   "outputs": [
    {
     "data": {
      "text/plain": [
       "Index(['unified_place', 'id', 'is_private', 'favourites_count',\n",
       "       'followers_count', 'friends_count', 'listed_count', 'statuses_count',\n",
       "       'location', 'support', 'screen_name', 'name', 'loc_in_argentina',\n",
       "       'important', 'place_name', 'place_country', 'latitude', 'longitude'],\n",
       "      dtype='object')"
      ]
     },
     "execution_count": 201,
     "metadata": {},
     "output_type": "execute_result"
    }
   ],
   "source": [
    "users.columns"
   ]
  },
  {
   "cell_type": "code",
   "execution_count": 202,
   "id": "mighty-baking",
   "metadata": {},
   "outputs": [],
   "source": [
    "def to_lower(row, column):\n",
    "    if not type(row[column] == str):\n",
    "        return row[column]\n",
    "    \n",
    "    return str(row[column]).lower()"
   ]
  },
  {
   "cell_type": "code",
   "execution_count": 203,
   "id": "reverse-training",
   "metadata": {},
   "outputs": [],
   "source": [
    "users[\"location\"] = users.apply(to_lower, axis=1, column=\"location\")"
   ]
  },
  {
   "cell_type": "code",
   "execution_count": 204,
   "id": "eligible-prerequisite",
   "metadata": {},
   "outputs": [
    {
     "data": {
      "text/plain": [
       "(37146, 18)"
      ]
     },
     "execution_count": 204,
     "metadata": {},
     "output_type": "execute_result"
    }
   ],
   "source": [
    "users.shape"
   ]
  },
  {
   "cell_type": "code",
   "execution_count": 205,
   "id": "interesting-banana",
   "metadata": {},
   "outputs": [
    {
     "data": {
      "text/plain": [
       "(29700, 18)"
      ]
     },
     "execution_count": 205,
     "metadata": {},
     "output_type": "execute_result"
    }
   ],
   "source": [
    "users_with_profile = users.dropna(subset=[\"location\"])\n",
    "users_with_profile = users_with_profile[users_with_profile[\"location\"] != \"none\"]\n",
    "users_with_profile.shape"
   ]
  },
  {
   "cell_type": "code",
   "execution_count": 206,
   "id": "private-association",
   "metadata": {},
   "outputs": [],
   "source": [
    "colnames = [\n",
    "    \"city_name\",\n",
    "    \"latitude\",\n",
    "    \"longitude\",\n",
    "    \"country\",\n",
    "    \"population\"\n",
    "]\n",
    "\n",
    "geonames = pd.read_csv(\"../../../../../unT/ffunes/geonames/geonames_parsed.csv\", usecols=colnames)"
   ]
  },
  {
   "cell_type": "code",
   "execution_count": 207,
   "id": "casual-coordination",
   "metadata": {},
   "outputs": [
    {
     "data": {
      "text/html": [
       "<div>\n",
       "<style scoped>\n",
       "    .dataframe tbody tr th:only-of-type {\n",
       "        vertical-align: middle;\n",
       "    }\n",
       "\n",
       "    .dataframe tbody tr th {\n",
       "        vertical-align: top;\n",
       "    }\n",
       "\n",
       "    .dataframe thead th {\n",
       "        text-align: right;\n",
       "    }\n",
       "</style>\n",
       "<table border=\"1\" class=\"dataframe\">\n",
       "  <thead>\n",
       "    <tr style=\"text-align: right;\">\n",
       "      <th></th>\n",
       "      <th>city_name</th>\n",
       "      <th>latitude</th>\n",
       "      <th>longitude</th>\n",
       "      <th>population</th>\n",
       "      <th>country</th>\n",
       "    </tr>\n",
       "  </thead>\n",
       "  <tbody>\n",
       "    <tr>\n",
       "      <th>0</th>\n",
       "      <td>ehl tarter</td>\n",
       "      <td>42.579521</td>\n",
       "      <td>1.65362</td>\n",
       "      <td>1052</td>\n",
       "      <td>andorra</td>\n",
       "    </tr>\n",
       "    <tr>\n",
       "      <th>1</th>\n",
       "      <td>эл тартер</td>\n",
       "      <td>42.579521</td>\n",
       "      <td>1.65362</td>\n",
       "      <td>1052</td>\n",
       "      <td>andorra</td>\n",
       "    </tr>\n",
       "    <tr>\n",
       "      <th>2</th>\n",
       "      <td>san julia</td>\n",
       "      <td>42.463718</td>\n",
       "      <td>1.49129</td>\n",
       "      <td>8022</td>\n",
       "      <td>andorra</td>\n",
       "    </tr>\n",
       "    <tr>\n",
       "      <th>3</th>\n",
       "      <td>san julià</td>\n",
       "      <td>42.463718</td>\n",
       "      <td>1.49129</td>\n",
       "      <td>8022</td>\n",
       "      <td>andorra</td>\n",
       "    </tr>\n",
       "    <tr>\n",
       "      <th>4</th>\n",
       "      <td>sant julia de loria</td>\n",
       "      <td>42.463718</td>\n",
       "      <td>1.49129</td>\n",
       "      <td>8022</td>\n",
       "      <td>andorra</td>\n",
       "    </tr>\n",
       "  </tbody>\n",
       "</table>\n",
       "</div>"
      ],
      "text/plain": [
       "             city_name   latitude  longitude  population  country\n",
       "0           ehl tarter  42.579521    1.65362        1052  andorra\n",
       "1            эл тартер  42.579521    1.65362        1052  andorra\n",
       "2            san julia  42.463718    1.49129        8022  andorra\n",
       "3            san julià  42.463718    1.49129        8022  andorra\n",
       "4  sant julia de loria  42.463718    1.49129        8022  andorra"
      ]
     },
     "execution_count": 207,
     "metadata": {},
     "output_type": "execute_result"
    }
   ],
   "source": [
    "geonames.head()"
   ]
  },
  {
   "cell_type": "code",
   "execution_count": 208,
   "id": "offensive-contract",
   "metadata": {},
   "outputs": [],
   "source": [
    "position = 0\n",
    "total = users_with_profile.shape[0]\n",
    "cities = geonames[\"city_name\"].to_numpy()\n",
    "countries = geonames[\"country\"].unique()\n",
    "\n",
    "def check_all_places(places, country):\n",
    "    total_not_detected = 0\n",
    "    total_exact = 0\n",
    "    \n",
    "    for place in places:\n",
    "        ocurrences = np.where(cities == place)[0]\n",
    "        \n",
    "        if len(ocurrences) == 0:\n",
    "            total_not_detected += 1\n",
    "            continue\n",
    "        \n",
    "        for index in ocurrences:\n",
    "            country_name = geonames[\"country\"][index]\n",
    "            \n",
    "            if country_name == country:\n",
    "                total_exact += 1\n",
    "                break\n",
    "    \n",
    "    if total_exact == 1:\n",
    "        return 'Ubicacion exacta'\n",
    "    elif (total_not_detected == len(places)) | (total_exact == 0):\n",
    "        return 'Ubicacion es un pais'\n",
    "    return 'Ubicacion ambigua'\n",
    "\n",
    "def es_univoco(value):\n",
    "    global position;\n",
    "    global total;\n",
    "    global cities;\n",
    "    \n",
    "    location = value.replace(\"-\", \",\")\n",
    "    location = location.replace(\"/\", \",\")\n",
    "    all_words = location.split(',')\n",
    "    all_words = [word.strip() for word in all_words]\n",
    "    \n",
    "    update_progress(position / total)\n",
    "    position += 1\n",
    "    \n",
    "    if len(all_words) == 1:\n",
    "        place = all_words[0]\n",
    "        if place in countries:\n",
    "            return 'Ubicacion es un pais'  \n",
    "        \n",
    "        ocurrences = np.where(cities == place)[0]\n",
    "        \n",
    "        if len(ocurrences) == 0:\n",
    "            return 'No existe ubicacion'\n",
    "        elif len(ocurrences) == 1:\n",
    "            return 'Ubicacion exacta'\n",
    "    \n",
    "        return 'Ubicacion ambigua'\n",
    "    \n",
    "    #Veamos si alguna palabra es un País    \n",
    "    for word in all_words:    \n",
    "        if word in countries:\n",
    "            all_words.remove(word)\n",
    "            return check_all_places(all_words, word)\n",
    "    \n",
    "    counter = 0\n",
    "        \n",
    "    for word in all_words:    \n",
    "        ocurrences = np.where(cities == word)[0]\n",
    "\n",
    "        if len(ocurrences) == 0:\n",
    "            counter += 1\n",
    "        \n",
    "    if counter == len(all_words):\n",
    "        return 'No existe ubicacion'\n",
    "        \n",
    "    return 'Ubicacion ambigua'"
   ]
  },
  {
   "cell_type": "code",
   "execution_count": 209,
   "id": "hydraulic-homeless",
   "metadata": {},
   "outputs": [
    {
     "name": "stdout",
     "output_type": "stream",
     "text": [
      "Progress: [####################] 100.0%\n"
     ]
    }
   ],
   "source": [
    "users_with_profile[\"detected_location\"] = users_with_profile['location'].apply(es_univoco)"
   ]
  },
  {
   "cell_type": "code",
   "execution_count": 210,
   "id": "cardiovascular-apple",
   "metadata": {},
   "outputs": [
    {
     "data": {
      "text/plain": [
       "Ubicacion exacta        12370\n",
       "No existe ubicacion      6358\n",
       "Ubicacion ambigua        6315\n",
       "Ubicacion es un pais     4657\n",
       "Name: detected_location, dtype: int64"
      ]
     },
     "execution_count": 210,
     "metadata": {},
     "output_type": "execute_result"
    }
   ],
   "source": [
    "users_with_profile[\"detected_location\"].value_counts()"
   ]
  },
  {
   "cell_type": "code",
   "execution_count": 211,
   "id": "hispanic-zimbabwe",
   "metadata": {},
   "outputs": [],
   "source": [
    "position = 0\n",
    "total = users_with_profile.shape[0]\n",
    "cities = geonames[\"city_name\"].to_numpy()\n",
    "countries = geonames[\"country\"].unique()\n",
    "\n",
    "def check_all_places_determine(places, country):\n",
    "    total_not_detected = 0\n",
    "    total_exact = 0\n",
    "    index_exact = 0\n",
    "    places_determined = []\n",
    "    \n",
    "    for place in places:\n",
    "        ocurrences = np.where(cities == place)[0]\n",
    "        \n",
    "        if len(ocurrences) == 0:\n",
    "            total_not_detected += 1\n",
    "            continue\n",
    "        \n",
    "        for index in ocurrences:\n",
    "            country_name = geonames[\"country\"][index]\n",
    "            \n",
    "            if country == country_name:\n",
    "                total_exact += 1\n",
    "                places_determined.append({\n",
    "                    \"place\": place,\n",
    "                    \"population\":  geonames[\"population\"][index],\n",
    "                    \"latitude\":  geonames[\"latitude\"][index],\n",
    "                    \"longitude\":  geonames[\"longitude\"][index]                        \n",
    "                })\n",
    "                break               \n",
    "    \n",
    "    if total_exact == 1:\n",
    "        return [places_determined, country]\n",
    "    elif (total_not_detected == len(places)) | (total_exact == 0):\n",
    "        return [None, country]\n",
    "    \n",
    "    return [places_determined, country]\n",
    "\n",
    "def determine_place(value):\n",
    "    global position;\n",
    "    global total;\n",
    "    global cities;\n",
    "    \n",
    "    location = value.replace(\"-\", \",\")\n",
    "    location = location.replace(\"/\", \",\")\n",
    "    all_words = location.split(',')\n",
    "    all_words = [word.strip() for word in all_words]\n",
    "        \n",
    "    update_progress(position / total)\n",
    "    position += 1\n",
    "    \n",
    "    if len(all_words) == 1:\n",
    "        place = all_words[0]        \n",
    "        if place in countries:\n",
    "            return [None, place]\n",
    "        \n",
    "        ocurrences = np.where(cities == place)[0]\n",
    "                \n",
    "        if len(ocurrences) == 0:\n",
    "            return [None, None]\n",
    "        elif len(ocurrences) == 1:\n",
    "            return [[{\n",
    "                \"place\": place,\n",
    "                \"population\":  geonames[\"population\"][ocurrences[0]],\n",
    "                \"latitude\":  geonames[\"latitude\"][ocurrences[0]],\n",
    "                \"longitude\":  geonames[\"longitude\"][ocurrences[0]]\n",
    "            }], None]\n",
    "        \n",
    "        places_determined = []\n",
    "        \n",
    "        for index in ocurrences:\n",
    "            places_determined.append({\n",
    "                \"place\": place,\n",
    "                \"population\":  geonames[\"population\"][index],\n",
    "                \"latitude\":  geonames[\"latitude\"][index],\n",
    "                \"longitude\":  geonames[\"longitude\"][index]                        \n",
    "            })\n",
    "    \n",
    "        return [places_determined, None]#'Ubicacion ambigua'\n",
    "    \n",
    "    #Veamos si alguna palabra es un País    \n",
    "    for word in all_words:    \n",
    "        if word in countries:\n",
    "            all_words.remove(word)\n",
    "            return check_all_places_determine(all_words, word)\n",
    "\n",
    "    counter = 0\n",
    "    places_determined = []\n",
    "        \n",
    "    for word in all_words:    \n",
    "        ocurrences = np.where(cities == word)[0]\n",
    "\n",
    "        if len(ocurrences) == 0:\n",
    "            counter += 1\n",
    "        else:\n",
    "            for index in ocurrences:\n",
    "                places_determined.append({\n",
    "                    \"place\": word,\n",
    "                    \"population\":  geonames[\"population\"][index],\n",
    "                    \"latitude\":  geonames[\"latitude\"][index],\n",
    "                    \"longitude\":  geonames[\"longitude\"][index]                        \n",
    "                })\n",
    "        \n",
    "    if counter == len(all_words):\n",
    "        return [None, None]#'No existe ubicacion'\n",
    "        \n",
    "    return [places_determined, None]#'Ubicacion ambigua'"
   ]
  },
  {
   "cell_type": "code",
   "execution_count": 212,
   "id": "looking-stretch",
   "metadata": {},
   "outputs": [
    {
     "name": "stdout",
     "output_type": "stream",
     "text": [
      "Progress: [####################] 100.0%\n"
     ]
    },
    {
     "name": "stderr",
     "output_type": "stream",
     "text": [
      "/var/home/ffunes/.local/share/virtualenvs/python_env--wEOliWe/lib/python3.8/site-packages/numpy/core/_asarray.py:83: VisibleDeprecationWarning: Creating an ndarray from ragged nested sequences (which is a list-or-tuple of lists-or-tuples-or ndarrays with different lengths or shapes) is deprecated. If you meant to do this, you must specify 'dtype=object' when creating the ndarray\n",
      "  return array(a, dtype, copy=False, order=order)\n"
     ]
    }
   ],
   "source": [
    "users_with_profile[\"profile_city\"], users_with_profile[\"profile_country\"] = zip(*users_with_profile['location'].apply(determine_place))"
   ]
  },
  {
   "cell_type": "code",
   "execution_count": 213,
   "id": "governmental-welding",
   "metadata": {},
   "outputs": [
    {
     "data": {
      "text/plain": [
       "(37146, 21)"
      ]
     },
     "execution_count": 213,
     "metadata": {},
     "output_type": "execute_result"
    }
   ],
   "source": [
    "users = pd.merge(\n",
    "    left=users,\n",
    "    right=users_with_profile.loc[:, [\"id\", \"detected_location\", \"profile_city\", \"profile_country\"]],\n",
    "    how='left',\n",
    "    left_on='id',\n",
    "    right_on='id',\n",
    "    validate='1:1'\n",
    ")\n",
    "\n",
    "users.shape"
   ]
  },
  {
   "cell_type": "code",
   "execution_count": 214,
   "id": "prospective-oriental",
   "metadata": {},
   "outputs": [],
   "source": [
    "users.to_pickle('../../../../../unT/ffunes/exact/users_exact_coords.pkl')"
   ]
  },
  {
   "cell_type": "markdown",
   "id": "expected-extreme",
   "metadata": {},
   "source": [
    "Analisis"
   ]
  },
  {
   "cell_type": "code",
   "execution_count": 215,
   "id": "valuable-block",
   "metadata": {},
   "outputs": [],
   "source": [
    "users = pd.read_pickle('../../../../../unT/ffunes/exact/users_exact_coords.pkl')"
   ]
  },
  {
   "cell_type": "code",
   "execution_count": 216,
   "id": "incident-culture",
   "metadata": {},
   "outputs": [
    {
     "data": {
      "text/plain": [
       "(32592, 26)"
      ]
     },
     "execution_count": 216,
     "metadata": {},
     "output_type": "execute_result"
    }
   ],
   "source": [
    "users = pd.merge(\n",
    "    left=users,\n",
    "    right=geonames.rename(columns={\"latitude\": \"lat_geo\", \"longitude\": \"lon_geo\"}),\n",
    "    how='inner',\n",
    "    left_on=['place_name', 'place_country'],\n",
    "    right_on=['city_name', 'country']\n",
    ")\n",
    "\n",
    "users.shape"
   ]
  },
  {
   "cell_type": "code",
   "execution_count": 217,
   "id": "continuing-microwave",
   "metadata": {},
   "outputs": [
    {
     "data": {
      "text/plain": [
       "(26055, 26)"
      ]
     },
     "execution_count": 217,
     "metadata": {},
     "output_type": "execute_result"
    }
   ],
   "source": [
    "users_with_profile = users.dropna(subset=[\"location\"])\n",
    "users_with_profile = users_with_profile[users_with_profile[\"location\"] != \"none\"]\n",
    "users_with_profile.shape"
   ]
  },
  {
   "cell_type": "code",
   "execution_count": 218,
   "id": "noticed-sailing",
   "metadata": {},
   "outputs": [],
   "source": [
    "dist_profs = users_with_profile.groupby(\"detected_location\").count().sort_values(\"id\", ascending=False).reset_index()"
   ]
  },
  {
   "cell_type": "code",
   "execution_count": 219,
   "id": "engaging-indonesia",
   "metadata": {},
   "outputs": [
    {
     "data": {
      "image/png": "[encoded data removed]",
      "text/plain": [
       "<Figure size 1440x720 with 1 Axes>"
      ]
     },
     "metadata": {},
     "output_type": "display_data"
    }
   ],
   "source": [
    "fig, ax = plt.subplots(figsize=(20, 10))\n",
    "rects = sns.barplot(x=\"id\", y=\"detected_location\", data=dist_profs, ax=ax)\n",
    "ax.set_title(\"Distribución de ubicaciónes en perfiles\", fontsize=34, pad=20)\n",
    "ax.set_xlabel(\"#Usuarios\",fontsize=26, labelpad=28)\n",
    "ax.set_ylabel(\"\",fontsize=26)\n",
    "ax.tick_params(axis='y', which='both', labelsize=24)\n",
    "ax.tick_params(axis='x', which='both', labelsize=24)\n",
    "\n",
    "plt.xticks(np.arange(0, np.max(dist_profs[\"id\"]) + 5000, 5000.0))\n",
    "\n",
    "for p in rects.patches:\n",
    "    width = p.get_width()\n",
    "    height = p.get_height()\n",
    "    x, y = p.get_xy() \n",
    "    ax.annotate(\n",
    "        '{0:.1%}'.format(width/users_with_profile.shape[0]),\n",
    "        (x + width / 2.0, y + height / 1.8),\n",
    "        ha='center',\n",
    "        fontsize=28,\n",
    "        color=\"white\",\n",
    "        weight='bold'\n",
    "    )\n",
    "    \n",
    "plt.savefig(figuresPath + 'profile/profiles_loc_dist.pdf', bbox_inches = 'tight')\n",
    "plt.show()"
   ]
  },
  {
   "cell_type": "markdown",
   "id": "eligible-universe",
   "metadata": {},
   "source": [
    "De los usuarios que se pudo obtener el pais, coincide un 91.7% con la mayoria de sus tweets!"
   ]
  },
  {
   "cell_type": "code",
   "execution_count": 220,
   "id": "another-bread",
   "metadata": {},
   "outputs": [
    {
     "data": {
      "text/plain": [
       "0.9079945114465228"
      ]
     },
     "execution_count": 220,
     "metadata": {},
     "output_type": "execute_result"
    }
   ],
   "source": [
    "total = users_with_profile.dropna(subset=[\"profile_country\"]).shape[0]\n",
    "\n",
    "a = users_with_profile.dropna(subset=[\"profile_country\"])\n",
    "subtotal = a.loc[a[\"profile_country\"] == a[\"place_country\"], :].shape[0]\n",
    "\n",
    "subtotal / total"
   ]
  },
  {
   "cell_type": "markdown",
   "id": "composite-measure",
   "metadata": {},
   "source": [
    "De los usuarios con ubicacion exacta, coincide un 93% con la mayoria de sus tweets!"
   ]
  },
  {
   "cell_type": "code",
   "execution_count": 221,
   "id": "systematic-place",
   "metadata": {},
   "outputs": [
    {
     "data": {
      "text/plain": [
       "0.9194322475237414"
      ]
     },
     "execution_count": 221,
     "metadata": {},
     "output_type": "execute_result"
    }
   ],
   "source": [
    "u = users_with_profile.loc[users[\"detected_location\"] == \"Ubicacion exacta\", :]\n",
    "total = u.dropna(subset=[\"profile_country\"]).shape[0]\n",
    "\n",
    "a = u.dropna(subset=[\"profile_country\"])\n",
    "subtotal = a.loc[a[\"profile_country\"] == a[\"place_country\"], :].shape[0]\n",
    "\n",
    "subtotal / total"
   ]
  },
  {
   "cell_type": "code",
   "execution_count": 222,
   "id": "included-tackle",
   "metadata": {},
   "outputs": [
    {
     "name": "stderr",
     "output_type": "stream",
     "text": [
      "<ipython-input-222-32d1a9db15ee>:10: SettingWithCopyWarning: \n",
      "A value is trying to be set on a copy of a slice from a DataFrame.\n",
      "Try using .loc[row_indexer,col_indexer] = value instead\n",
      "\n",
      "See the caveats in the documentation: https://pandas.pydata.org/pandas-docs/stable/user_guide/indexing.html#returning-a-view-versus-a-copy\n",
      "  u[\"veracity\"] = u.apply(veracity, axis=1)\n"
     ]
    },
    {
     "data": {
      "text/plain": [
       "0.5051657533015902"
      ]
     },
     "execution_count": 222,
     "metadata": {},
     "output_type": "execute_result"
    }
   ],
   "source": [
    "def veracity(row):\n",
    "    if row['profile_city'][0]['place'] == row['place_name']:\n",
    "        return True\n",
    "    \n",
    "    return False\n",
    "\n",
    "u = users_with_profile.loc[users_with_profile[\"detected_location\"] == \"Ubicacion exacta\", :]\n",
    "total = u.shape[0]\n",
    "\n",
    "u[\"veracity\"] = u.apply(veracity, axis=1)\n",
    "subtotal = u.loc[u[\"veracity\"] == True, :].shape[0]\n",
    "subtotal / total"
   ]
  },
  {
   "cell_type": "markdown",
   "id": "remarkable-absorption",
   "metadata": {},
   "source": [
    "Veamos distancias para ubicacion exacta"
   ]
  },
  {
   "cell_type": "code",
   "execution_count": 223,
   "id": "controversial-phrase",
   "metadata": {},
   "outputs": [
    {
     "data": {
      "text/plain": [
       "(11131, 26)"
      ]
     },
     "execution_count": 223,
     "metadata": {},
     "output_type": "execute_result"
    }
   ],
   "source": [
    "users_with_exact_location = users_with_profile.loc[users_with_profile[\"detected_location\"] == \"Ubicacion exacta\", :]\n",
    "users_with_exact_location.shape"
   ]
  },
  {
   "cell_type": "code",
   "execution_count": 224,
   "id": "instant-hearts",
   "metadata": {},
   "outputs": [],
   "source": [
    "from math import radians, sin, cos, atan2, sqrt\n",
    "\n",
    "def haversine_distance(lat1, lon1, lat2, lon2):\n",
    "    radius = 6371 # km\n",
    "\n",
    "    dlat = radians(lat2-lat1)\n",
    "    dlon = radians(lon2-lon1)\n",
    "    a = sin(dlat/2) * sin(dlat/2) + cos(radians(lat1)) \\\n",
    "        * cos(radians(lat2)) * sin(dlon/2) * sin(dlon/2)\n",
    "    c = 2 * atan2(sqrt(a), sqrt(1-a))\n",
    "    d = radius * c\n",
    "\n",
    "    return d"
   ]
  },
  {
   "cell_type": "code",
   "execution_count": 225,
   "id": "dramatic-english",
   "metadata": {},
   "outputs": [],
   "source": [
    "def determine_distance(row):\n",
    "    profile_lat = row['profile_city'][0]['latitude']\n",
    "    profile_lon = row['profile_city'][0]['longitude']\n",
    "    tweet_lat = row['lat_geo']\n",
    "    tweet_long = row['lon_geo']\n",
    "    \n",
    "    return haversine_distance(profile_lat, profile_lon, tweet_lat, tweet_long)"
   ]
  },
  {
   "cell_type": "code",
   "execution_count": 226,
   "id": "adopted-bridal",
   "metadata": {},
   "outputs": [
    {
     "name": "stderr",
     "output_type": "stream",
     "text": [
      "<ipython-input-226-1b4175f9dafe>:1: SettingWithCopyWarning: \n",
      "A value is trying to be set on a copy of a slice from a DataFrame.\n",
      "Try using .loc[row_indexer,col_indexer] = value instead\n",
      "\n",
      "See the caveats in the documentation: https://pandas.pydata.org/pandas-docs/stable/user_guide/indexing.html#returning-a-view-versus-a-copy\n",
      "  users_with_exact_location[\"distance_dif_in_km\"] = users_with_exact_location.apply(determine_distance, axis=1)\n"
     ]
    }
   ],
   "source": [
    "users_with_exact_location[\"distance_dif_in_km\"] = users_with_exact_location.apply(determine_distance, axis=1)"
   ]
  },
  {
   "cell_type": "code",
   "execution_count": 227,
   "id": "accomplished-sauce",
   "metadata": {},
   "outputs": [
    {
     "data": {
      "text/plain": [
       "(11131, 27)"
      ]
     },
     "execution_count": 227,
     "metadata": {},
     "output_type": "execute_result"
    }
   ],
   "source": [
    "users_with_exact_location.shape"
   ]
  },
  {
   "cell_type": "code",
   "execution_count": 228,
   "id": "backed-anxiety",
   "metadata": {},
   "outputs": [
    {
     "data": {
      "text/plain": [
       "(7723, 27)"
      ]
     },
     "execution_count": 228,
     "metadata": {},
     "output_type": "execute_result"
    }
   ],
   "source": [
    "users_with_exact_location.loc[users_with_exact_location[\"distance_dif_in_km\"] == 0, :].shape"
   ]
  },
  {
   "cell_type": "code",
   "execution_count": 229,
   "id": "coordinate-chicago",
   "metadata": {},
   "outputs": [
    {
     "data": {
      "text/plain": [
       "(3408, 27)"
      ]
     },
     "execution_count": 229,
     "metadata": {},
     "output_type": "execute_result"
    }
   ],
   "source": [
    "users_with_exact_location.loc[users_with_exact_location[\"distance_dif_in_km\"] > 0].shape"
   ]
  },
  {
   "cell_type": "code",
   "execution_count": 230,
   "id": "qualified-milton",
   "metadata": {},
   "outputs": [
    {
     "data": {
      "image/png": "[encoded data removed]",
      "text/plain": [
       "<Figure size 1440x720 with 1 Axes>"
      ]
     },
     "metadata": {},
     "output_type": "display_data"
    }
   ],
   "source": [
    "from math import log\n",
    "f, ax = plt.subplots(figsize=(20, 10))\n",
    "\n",
    "sns.ecdfplot(\n",
    "    data=users_with_exact_location[\"distance_dif_in_km\"],\n",
    "    stat=\"proportion\",\n",
    "    #log_scale=True,\n",
    "    #complementary=True,\n",
    "    ax=ax,\n",
    "    linewidth=4\n",
    ")\n",
    "\n",
    "mark_at = 10.0\n",
    "\n",
    "perc = users_with_exact_location[users_with_exact_location[\"distance_dif_in_km\"] < mark_at].shape[0] / users_with_exact_location.shape[0]\n",
    "\n",
    "ax.set_ylim(0, 1.05)\n",
    "ax.set_xlim(0, 15000)\n",
    "ax.set_xscale('symlog')\n",
    "ax.set_title(\"Distancia entre la ciudad de la mayoría de los Tweets y la del Perfil\", fontsize=20, fontweight='bold', pad=20)\n",
    "ax.set_xlabel(\"Distancia (km)\", fontsize=22, labelpad=20)\n",
    "ax.set_ylabel(\"Proporción de usuarios\", fontsize=22, labelpad=20)\n",
    "ax.set_yticks(np.arange(0,1.1,0.1))\n",
    "ax.xaxis.set_tick_params(labelsize=16)\n",
    "ax.yaxis.set_tick_params(labelsize=16)\n",
    "ax.xaxis.set_major_formatter(ticker.FormatStrFormatter(\"%d\"))\n",
    "\n",
    "ax.plot([0, mark_at], [perc, perc], color='green', linestyle='dashed', linewidth=2)\n",
    "ax.plot([mark_at, mark_at], [0, perc], color='green', linestyle='dashed', linewidth=2)\n",
    "ax.plot([mark_at], [perc], color='green', marker='o', markersize=12)\n",
    "\n",
    "ax.annotate(\n",
    "    '({}, {:.2f})'.format(mark_at, perc),\n",
    "    (mark_at, perc + 0.07),\n",
    "    ha='center',\n",
    "    fontsize=18,\n",
    "    color=\"green\",\n",
    "    weight='bold'\n",
    ")\n",
    "\n",
    "plt.gca().spines['bottom'].set_color('#888888')\n",
    "plt.gca().spines['top'].set_color('#888888') \n",
    "plt.gca().spines['right'].set_color('#888888')\n",
    "plt.gca().spines['left'].set_color('#888888')\n",
    "\n",
    "plt.gca().set_xlim(left=1)\n",
    "plt.gca().set_ylim(top=1)\n",
    "\n",
    "plt.setp(ax.get_xticklabels(), fontsize=16)\n",
    "plt.setp(ax.get_yticklabels(), fontsize=16)\n",
    "#plt.grid()\n",
    "plt.show()\n",
    "\n",
    "#ax.axvline(x=mark_at, ymax=perc-0.03, color='green')\n",
    "#ax.axhline(y=perc-0.03, xmax=log(40.0)/log(10380), color='green')\n",
    "f.savefig(figuresPath + 'profile/ecdf_distance_prof_maj_tweet2.pdf', bbox_inches = 'tight')\n",
    "\n",
    "#f.savefig(\"../../results/plots/creacion_set_validacion/dif_distance_city_majority_tweets_and_profile.pdf\", bbox_inches='tight')"
   ]
  },
  {
   "cell_type": "markdown",
   "id": "mounted-links",
   "metadata": {},
   "source": [
    "VEamos casos de ubicación ambigua"
   ]
  },
  {
   "cell_type": "code",
   "execution_count": 231,
   "id": "democratic-delhi",
   "metadata": {},
   "outputs": [],
   "source": [
    "def get_closest_place_to_tweet(row):\n",
    "    minor_dist = -1\n",
    "\n",
    "    for place in row[\"profile_city\"]:\n",
    "        profile_lat = place['latitude']\n",
    "        profile_lon = place['longitude']\n",
    "        tweet_lat = row['latitude']\n",
    "        tweet_long = row['longitude']\n",
    "\n",
    "        new_dist = haversine_distance(profile_lat, profile_lon, tweet_lat, tweet_long)\n",
    "\n",
    "        if (new_dist < minor_dist) | (minor_dist == -1):\n",
    "            minor_dist = new_dist\n",
    "    \n",
    "    return minor_dist"
   ]
  },
  {
   "cell_type": "code",
   "execution_count": 232,
   "id": "opening-double",
   "metadata": {},
   "outputs": [
    {
     "data": {
      "text/plain": [
       "(5598, 26)"
      ]
     },
     "execution_count": 232,
     "metadata": {},
     "output_type": "execute_result"
    }
   ],
   "source": [
    "users_with_ambiguous_location = users_with_profile.loc[users_with_profile[\"detected_location\"] == \"Ubicacion ambigua\", :]\n",
    "users_with_ambiguous_location.shape"
   ]
  },
  {
   "cell_type": "code",
   "execution_count": 233,
   "id": "included-protection",
   "metadata": {},
   "outputs": [
    {
     "name": "stderr",
     "output_type": "stream",
     "text": [
      "<ipython-input-233-945c613f4369>:1: SettingWithCopyWarning: \n",
      "A value is trying to be set on a copy of a slice from a DataFrame.\n",
      "Try using .loc[row_indexer,col_indexer] = value instead\n",
      "\n",
      "See the caveats in the documentation: https://pandas.pydata.org/pandas-docs/stable/user_guide/indexing.html#returning-a-view-versus-a-copy\n",
      "  users_with_ambiguous_location[\"distance_dif_in_km\"] = users_with_ambiguous_location.apply(determine_distance, axis=1)\n"
     ]
    }
   ],
   "source": [
    "users_with_ambiguous_location[\"distance_dif_in_km\"] = users_with_ambiguous_location.apply(determine_distance, axis=1)"
   ]
  },
  {
   "cell_type": "code",
   "execution_count": 234,
   "id": "removable-packet",
   "metadata": {},
   "outputs": [
    {
     "data": {
      "text/plain": [
       "0.4901750625223294"
      ]
     },
     "execution_count": 234,
     "metadata": {},
     "output_type": "execute_result"
    }
   ],
   "source": [
    "users_with_ambiguous_location[users_with_ambiguous_location[\"distance_dif_in_km\"] < 10].shape[0] / users_with_ambiguous_location.shape[0]"
   ]
  },
  {
   "cell_type": "code",
   "execution_count": null,
   "id": "streaming-stretch",
   "metadata": {},
   "outputs": [],
   "source": []
  }
 ],
 "metadata": {
  "kernelspec": {
   "display_name": "ffunes-3.8",
   "language": "python",
   "name": "ffunes-3.8"
  },
  "language_info": {
   "codemirror_mode": {
    "name": "ipython",
    "version": 3
   },
   "file_extension": ".py",
   "mimetype": "text/x-python",
   "name": "python",
   "nbconvert_exporter": "python",
   "pygments_lexer": "ipython3",
   "version": "3.8.9"
  }
 },
 "nbformat": 4,
 "nbformat_minor": 5
}
