{
 "cells": [
  {
   "cell_type": "code",
   "execution_count": 1,
   "metadata": {},
   "outputs": [],
   "source": [
    "import pandas as pd\n",
    "import psycopg2\n",
    "import pandas.io.sql as psql\n",
    "import geopandas as gpd\n",
    "import numpy as np\n",
    "import matplotlib as plt\n",
    "from shapely.geometry import Point\n",
    "from sklearn.neighbors import BallTree\n",
    "%matplotlib inline"
   ]
  },
  {
   "cell_type": "markdown",
   "metadata": {},
   "source": [
    "Conectamos con la base de datos de Twitter"
   ]
  },
  {
   "cell_type": "code",
   "execution_count": 2,
   "metadata": {},
   "outputs": [],
   "source": [
    "try:\n",
    "    conn = psycopg2.connect(user = \"ffunes\",\n",
    "                            password = \"location8\",\n",
    "                            host = \"127.0.0.1\",\n",
    "                            port = \"5432\",\n",
    "                            database = \"elecciones_twitter\")\n",
    "except:\n",
    "    print(\"No se pudo conectar a la base de datos\")"
   ]
  },
  {
   "cell_type": "code",
   "execution_count": 3,
   "metadata": {},
   "outputs": [],
   "source": [
    "cur = conn.cursor()"
   ]
  },
  {
   "cell_type": "markdown",
   "metadata": {},
   "source": [
    "¿Cuantos Tweets tenemos?"
   ]
  },
  {
   "cell_type": "code",
   "execution_count": 173,
   "metadata": {},
   "outputs": [
    {
     "data": {
      "text/html": [
       "<div>\n",
       "<style scoped>\n",
       "    .dataframe tbody tr th:only-of-type {\n",
       "        vertical-align: middle;\n",
       "    }\n",
       "\n",
       "    .dataframe tbody tr th {\n",
       "        vertical-align: top;\n",
       "    }\n",
       "\n",
       "    .dataframe thead th {\n",
       "        text-align: right;\n",
       "    }\n",
       "</style>\n",
       "<table border=\"1\" class=\"dataframe\">\n",
       "  <thead>\n",
       "    <tr style=\"text-align: right;\">\n",
       "      <th></th>\n",
       "      <th>count</th>\n",
       "    </tr>\n",
       "  </thead>\n",
       "  <tbody>\n",
       "    <tr>\n",
       "      <th>0</th>\n",
       "      <td>897531026</td>\n",
       "    </tr>\n",
       "  </tbody>\n",
       "</table>\n",
       "</div>"
      ],
      "text/plain": [
       "       count\n",
       "0  897531026"
      ]
     },
     "execution_count": 173,
     "metadata": {},
     "output_type": "execute_result"
    }
   ],
   "source": [
    "pd.read_sql_query('SELECT COUNT(*) FROM tweets',con=conn)"
   ]
  },
  {
   "cell_type": "markdown",
   "metadata": {},
   "source": [
    "¿Cuantos Tweets tenemos que incluyan bounding box?"
   ]
  },
  {
   "cell_type": "code",
   "execution_count": 170,
   "metadata": {},
   "outputs": [
    {
     "data": {
      "text/html": [
       "<div>\n",
       "<style scoped>\n",
       "    .dataframe tbody tr th:only-of-type {\n",
       "        vertical-align: middle;\n",
       "    }\n",
       "\n",
       "    .dataframe tbody tr th {\n",
       "        vertical-align: top;\n",
       "    }\n",
       "\n",
       "    .dataframe thead th {\n",
       "        text-align: right;\n",
       "    }\n",
       "</style>\n",
       "<table border=\"1\" class=\"dataframe\">\n",
       "  <thead>\n",
       "    <tr style=\"text-align: right;\">\n",
       "      <th></th>\n",
       "      <th>count</th>\n",
       "    </tr>\n",
       "  </thead>\n",
       "  <tbody>\n",
       "    <tr>\n",
       "      <th>0</th>\n",
       "      <td>17523907</td>\n",
       "    </tr>\n",
       "  </tbody>\n",
       "</table>\n",
       "</div>"
      ],
      "text/plain": [
       "      count\n",
       "0  17523907"
      ]
     },
     "execution_count": 170,
     "metadata": {},
     "output_type": "execute_result"
    }
   ],
   "source": [
    "pd.read_sql_query('SELECT COUNT(*) FROM tweets WHERE place_bounding_box IS NOT NULL',con=conn)"
   ]
  },
  {
   "cell_type": "markdown",
   "metadata": {},
   "source": [
    "¿Cuantos Tweets tenemos que incluyan coordenadas exactas?"
   ]
  },
  {
   "cell_type": "code",
   "execution_count": 172,
   "metadata": {},
   "outputs": [
    {
     "data": {
      "text/html": [
       "<div>\n",
       "<style scoped>\n",
       "    .dataframe tbody tr th:only-of-type {\n",
       "        vertical-align: middle;\n",
       "    }\n",
       "\n",
       "    .dataframe tbody tr th {\n",
       "        vertical-align: top;\n",
       "    }\n",
       "\n",
       "    .dataframe thead th {\n",
       "        text-align: right;\n",
       "    }\n",
       "</style>\n",
       "<table border=\"1\" class=\"dataframe\">\n",
       "  <thead>\n",
       "    <tr style=\"text-align: right;\">\n",
       "      <th></th>\n",
       "      <th>count</th>\n",
       "    </tr>\n",
       "  </thead>\n",
       "  <tbody>\n",
       "    <tr>\n",
       "      <th>0</th>\n",
       "      <td>1022033</td>\n",
       "    </tr>\n",
       "  </tbody>\n",
       "</table>\n",
       "</div>"
      ],
      "text/plain": [
       "     count\n",
       "0  1022033"
      ]
     },
     "execution_count": 172,
     "metadata": {},
     "output_type": "execute_result"
    }
   ],
   "source": [
    "pd.read_sql_query('SELECT COUNT(*) FROM tweets WHERE coordinates IS NOT NULL',con=conn)"
   ]
  },
  {
   "cell_type": "markdown",
   "metadata": {},
   "source": [
    "¿Cuantos Tweets tenemos que incluyen un lugar de tipo ciudad?"
   ]
  },
  {
   "cell_type": "code",
   "execution_count": 4,
   "metadata": {},
   "outputs": [
    {
     "data": {
      "text/html": [
       "<div>\n",
       "<style scoped>\n",
       "    .dataframe tbody tr th:only-of-type {\n",
       "        vertical-align: middle;\n",
       "    }\n",
       "\n",
       "    .dataframe tbody tr th {\n",
       "        vertical-align: top;\n",
       "    }\n",
       "\n",
       "    .dataframe thead th {\n",
       "        text-align: right;\n",
       "    }\n",
       "</style>\n",
       "<table border=\"1\" class=\"dataframe\">\n",
       "  <thead>\n",
       "    <tr style=\"text-align: right;\">\n",
       "      <th></th>\n",
       "      <th>count</th>\n",
       "    </tr>\n",
       "  </thead>\n",
       "  <tbody>\n",
       "    <tr>\n",
       "      <th>0</th>\n",
       "      <td>14333550</td>\n",
       "    </tr>\n",
       "  </tbody>\n",
       "</table>\n",
       "</div>"
      ],
      "text/plain": [
       "      count\n",
       "0  14333550"
      ]
     },
     "execution_count": 4,
     "metadata": {},
     "output_type": "execute_result"
    }
   ],
   "source": [
    "pd.read_sql_query(\"SELECT COUNT(*) FROM tweets WHERE place_type='city'\",con=conn)"
   ]
  },
  {
   "cell_type": "markdown",
   "metadata": {},
   "source": [
    "Cargamos los Tweets geolocalizados (Que incluyen un \"Bounding Box\") -> tweets_with_geo.\n",
    "Hay que analizar el campo \"coordinates\" que es una coordenada precisa siempre y cuando haya tweets que contengan \"coordinates\" pero no \"Bounding Box\""
   ]
  },
  {
   "cell_type": "code",
   "execution_count": 4,
   "metadata": {},
   "outputs": [],
   "source": [
    "tweets_with_geo = gpd.GeoDataFrame.from_postgis(\n",
    "    'SELECT * FROM tweets WHERE place_bounding_box IS NOT NULL LIMIT 1000000'\n",
    "    , con=conn \n",
    "    , geom_col='place_bounding_box'\n",
    ")"
   ]
  },
  {
   "cell_type": "code",
   "execution_count": 6,
   "metadata": {
    "scrolled": false
   },
   "outputs": [
    {
     "data": {
      "text/html": [
       "<div>\n",
       "<style scoped>\n",
       "    .dataframe tbody tr th:only-of-type {\n",
       "        vertical-align: middle;\n",
       "    }\n",
       "\n",
       "    .dataframe tbody tr th {\n",
       "        vertical-align: top;\n",
       "    }\n",
       "\n",
       "    .dataframe thead th {\n",
       "        text-align: right;\n",
       "    }\n",
       "</style>\n",
       "<table border=\"1\" class=\"dataframe\">\n",
       "  <thead>\n",
       "    <tr style=\"text-align: right;\">\n",
       "      <th></th>\n",
       "      <th>id</th>\n",
       "      <th>user_id</th>\n",
       "      <th>date</th>\n",
       "      <th>full_text</th>\n",
       "      <th>is_reply</th>\n",
       "      <th>replied_tweet_id</th>\n",
       "      <th>is_retweet</th>\n",
       "      <th>retweeted_tweet_id</th>\n",
       "      <th>place_type</th>\n",
       "      <th>place_name</th>\n",
       "      <th>place_country</th>\n",
       "      <th>place_bounding_box</th>\n",
       "      <th>coordinates</th>\n",
       "      <th>is_quote</th>\n",
       "      <th>quoted_tweet_id</th>\n",
       "    </tr>\n",
       "  </thead>\n",
       "  <tbody>\n",
       "    <tr>\n",
       "      <th>0</th>\n",
       "      <td>1184075915350794240</td>\n",
       "      <td>91810225</td>\n",
       "      <td>2019-10-15 11:57:51</td>\n",
       "      <td>Mañana de martes. en McDonald's https://t.co/r...</td>\n",
       "      <td>False</td>\n",
       "      <td>NaN</td>\n",
       "      <td>False</td>\n",
       "      <td>None</td>\n",
       "      <td>city</td>\n",
       "      <td>Merlo</td>\n",
       "      <td>Argentina</td>\n",
       "      <td>POLYGON ((-58.85583 -34.77089, -58.64110 -34.7...</td>\n",
       "      <td>0101000020E610000025CE699A205D4DC0B0E0E1EA3E55...</td>\n",
       "      <td>None</td>\n",
       "      <td>NaN</td>\n",
       "    </tr>\n",
       "    <tr>\n",
       "      <th>1</th>\n",
       "      <td>1184479206362750976</td>\n",
       "      <td>335217139</td>\n",
       "      <td>2019-10-16 14:40:24</td>\n",
       "      <td>@Florenciarietto Que me vas hablar del campo c...</td>\n",
       "      <td>True</td>\n",
       "      <td>1.184179e+18</td>\n",
       "      <td>False</td>\n",
       "      <td>None</td>\n",
       "      <td>admin</td>\n",
       "      <td>Entre Ríos</td>\n",
       "      <td>Argentina</td>\n",
       "      <td>POLYGON ((-60.75677 -34.03795, -57.79753 -34.0...</td>\n",
       "      <td>None</td>\n",
       "      <td>None</td>\n",
       "      <td>NaN</td>\n",
       "    </tr>\n",
       "  </tbody>\n",
       "</table>\n",
       "</div>"
      ],
      "text/plain": [
       "                    id    user_id                date  \\\n",
       "0  1184075915350794240   91810225 2019-10-15 11:57:51   \n",
       "1  1184479206362750976  335217139 2019-10-16 14:40:24   \n",
       "\n",
       "                                           full_text  is_reply  \\\n",
       "0  Mañana de martes. en McDonald's https://t.co/r...     False   \n",
       "1  @Florenciarietto Que me vas hablar del campo c...      True   \n",
       "\n",
       "   replied_tweet_id  is_retweet retweeted_tweet_id place_type  place_name  \\\n",
       "0               NaN       False               None       city       Merlo   \n",
       "1      1.184179e+18       False               None      admin  Entre Ríos   \n",
       "\n",
       "  place_country                                 place_bounding_box  \\\n",
       "0     Argentina  POLYGON ((-58.85583 -34.77089, -58.64110 -34.7...   \n",
       "1     Argentina  POLYGON ((-60.75677 -34.03795, -57.79753 -34.0...   \n",
       "\n",
       "                                         coordinates is_quote  quoted_tweet_id  \n",
       "0  0101000020E610000025CE699A205D4DC0B0E0E1EA3E55...     None              NaN  \n",
       "1                                               None     None              NaN  "
      ]
     },
     "execution_count": 6,
     "metadata": {},
     "output_type": "execute_result"
    }
   ],
   "source": [
    "tweets_with_geo.head(2)"
   ]
  },
  {
   "cell_type": "code",
   "execution_count": 73,
   "metadata": {},
   "outputs": [
    {
     "data": {
      "text/plain": [
       "city            810628\n",
       "admin           162654\n",
       "country          16761\n",
       "poi               9643\n",
       "neighborhood       314\n",
       "Name: place_type, dtype: int64"
      ]
     },
     "execution_count": 73,
     "metadata": {},
     "output_type": "execute_result"
    }
   ],
   "source": [
    "tweets_with_geo.place_type.value_counts()"
   ]
  },
  {
   "cell_type": "markdown",
   "metadata": {},
   "source": [
    "Por ahora, solo nos importan las ciudades"
   ]
  },
  {
   "cell_type": "code",
   "execution_count": 82,
   "metadata": {},
   "outputs": [],
   "source": [
    "tweets_with_geo = tweets_with_geo.loc[tweets_with_geo[\"place_type\"] == \"city\", :]"
   ]
  },
  {
   "cell_type": "code",
   "execution_count": 83,
   "metadata": {},
   "outputs": [
    {
     "data": {
      "text/plain": [
       "(810628, 20)"
      ]
     },
     "execution_count": 83,
     "metadata": {},
     "output_type": "execute_result"
    }
   ],
   "source": [
    "tweets_with_geo.shape"
   ]
  },
  {
   "cell_type": "markdown",
   "metadata": {},
   "source": [
    "Vemos que si hay campos que incluyen coordenada especifica que no Bounding Box, son muy pocos realmente"
   ]
  },
  {
   "cell_type": "code",
   "execution_count": 131,
   "metadata": {},
   "outputs": [],
   "source": [
    "coordinates_and_not_bounding = gpd.GeoDataFrame.from_postgis(\n",
    "    'SELECT * FROM tweets WHERE place_bounding_box IS NULL AND coordinates IS NOT NULL LIMIT 100000'\n",
    "    , con=conn \n",
    "    , geom_col='place_bounding_box'\n",
    ")"
   ]
  },
  {
   "cell_type": "code",
   "execution_count": 132,
   "metadata": {},
   "outputs": [
    {
     "data": {
      "text/plain": [
       "(2656, 15)"
      ]
     },
     "execution_count": 132,
     "metadata": {},
     "output_type": "execute_result"
    }
   ],
   "source": [
    "coordinates_and_not_bounding.shape"
   ]
  },
  {
   "cell_type": "markdown",
   "metadata": {},
   "source": [
    "Pasamos a minúsculas los campos de texto que nos importan para verificar si hay correctitud entre Ciudad/Pais con las coordenadas/bounding box. Update: Intentamos sacar los acentos también"
   ]
  },
  {
   "cell_type": "code",
   "execution_count": 124,
   "metadata": {},
   "outputs": [],
   "source": [
    "import unidecode\n",
    "\n",
    "def to_lower(row, column):\n",
    "    if not type(row[column] == str):\n",
    "        return row[column]\n",
    "        \n",
    "    return unidecode.unidecode(str(row[column]).lower())"
   ]
  },
  {
   "cell_type": "code",
   "execution_count": 8,
   "metadata": {},
   "outputs": [],
   "source": [
    "tweets_with_geo[\"place_name\"] = tweets_with_geo.apply(to_lower, axis=1, column=\"place_name\")\n",
    "tweets_with_geo[\"place_country\"] = tweets_with_geo.apply(to_lower, axis=1, column=\"place_country\")"
   ]
  },
  {
   "cell_type": "code",
   "execution_count": 181,
   "metadata": {},
   "outputs": [
    {
     "data": {
      "text/html": [
       "<div>\n",
       "<style scoped>\n",
       "    .dataframe tbody tr th:only-of-type {\n",
       "        vertical-align: middle;\n",
       "    }\n",
       "\n",
       "    .dataframe tbody tr th {\n",
       "        vertical-align: top;\n",
       "    }\n",
       "\n",
       "    .dataframe thead th {\n",
       "        text-align: right;\n",
       "    }\n",
       "</style>\n",
       "<table border=\"1\" class=\"dataframe\">\n",
       "  <thead>\n",
       "    <tr style=\"text-align: right;\">\n",
       "      <th></th>\n",
       "      <th>id</th>\n",
       "      <th>user_id</th>\n",
       "      <th>date</th>\n",
       "      <th>full_text</th>\n",
       "      <th>is_reply</th>\n",
       "      <th>replied_tweet_id</th>\n",
       "      <th>is_retweet</th>\n",
       "      <th>retweeted_tweet_id</th>\n",
       "      <th>place_type</th>\n",
       "      <th>place_name</th>\n",
       "      <th>place_country</th>\n",
       "      <th>place_bounding_box</th>\n",
       "      <th>coordinates</th>\n",
       "      <th>is_quote</th>\n",
       "      <th>quoted_tweet_id</th>\n",
       "      <th>longitude_centroid</th>\n",
       "      <th>latitude_centroid</th>\n",
       "      <th>id_nearest</th>\n",
       "      <th>nearest</th>\n",
       "      <th>nearest_timezone</th>\n",
       "    </tr>\n",
       "  </thead>\n",
       "  <tbody>\n",
       "    <tr>\n",
       "      <th>0</th>\n",
       "      <td>1184075915350794240</td>\n",
       "      <td>91810225</td>\n",
       "      <td>2019-10-15 11:57:51</td>\n",
       "      <td>Mañana de martes. en McDonald's https://t.co/r...</td>\n",
       "      <td>False</td>\n",
       "      <td>NaN</td>\n",
       "      <td>False</td>\n",
       "      <td>None</td>\n",
       "      <td>city</td>\n",
       "      <td>merlo</td>\n",
       "      <td>argentina</td>\n",
       "      <td>POLYGON ((-58.85583 -34.77089, -58.64110 -34.7...</td>\n",
       "      <td>0101000020E610000025CE699A205D4DC0B0E0E1EA3E55...</td>\n",
       "      <td>None</td>\n",
       "      <td>NaN</td>\n",
       "      <td>-58.748464</td>\n",
       "      <td>-34.702805</td>\n",
       "      <td>1211</td>\n",
       "      <td>merlo</td>\n",
       "      <td>america/argentina/buenos_aires</td>\n",
       "    </tr>\n",
       "    <tr>\n",
       "      <th>4</th>\n",
       "      <td>1184422350630113281</td>\n",
       "      <td>167449597</td>\n",
       "      <td>2019-10-16 10:54:28</td>\n",
       "      <td>Quiero que llegue diciembre y poder decir: Ter...</td>\n",
       "      <td>False</td>\n",
       "      <td>NaN</td>\n",
       "      <td>False</td>\n",
       "      <td>None</td>\n",
       "      <td>city</td>\n",
       "      <td>tandil</td>\n",
       "      <td>argentina</td>\n",
       "      <td>POLYGON ((-59.18293 -37.34801, -59.08280 -37.3...</td>\n",
       "      <td>None</td>\n",
       "      <td>None</td>\n",
       "      <td>NaN</td>\n",
       "      <td>-59.132867</td>\n",
       "      <td>-37.318615</td>\n",
       "      <td>1109</td>\n",
       "      <td>tandil</td>\n",
       "      <td>america/argentina/buenos_aires</td>\n",
       "    </tr>\n",
       "  </tbody>\n",
       "</table>\n",
       "</div>"
      ],
      "text/plain": [
       "                    id    user_id                date  \\\n",
       "0  1184075915350794240   91810225 2019-10-15 11:57:51   \n",
       "4  1184422350630113281  167449597 2019-10-16 10:54:28   \n",
       "\n",
       "                                           full_text  is_reply  \\\n",
       "0  Mañana de martes. en McDonald's https://t.co/r...     False   \n",
       "4  Quiero que llegue diciembre y poder decir: Ter...     False   \n",
       "\n",
       "   replied_tweet_id  is_retweet retweeted_tweet_id place_type place_name  \\\n",
       "0               NaN       False               None       city      merlo   \n",
       "4               NaN       False               None       city     tandil   \n",
       "\n",
       "  place_country                                 place_bounding_box  \\\n",
       "0     argentina  POLYGON ((-58.85583 -34.77089, -58.64110 -34.7...   \n",
       "4     argentina  POLYGON ((-59.18293 -37.34801, -59.08280 -37.3...   \n",
       "\n",
       "                                         coordinates is_quote  \\\n",
       "0  0101000020E610000025CE699A205D4DC0B0E0E1EA3E55...     None   \n",
       "4                                               None     None   \n",
       "\n",
       "   quoted_tweet_id  longitude_centroid  latitude_centroid  id_nearest nearest  \\\n",
       "0              NaN          -58.748464         -34.702805        1211   merlo   \n",
       "4              NaN          -59.132867         -37.318615        1109  tandil   \n",
       "\n",
       "                 nearest_timezone  \n",
       "0  america/argentina/buenos_aires  \n",
       "4  america/argentina/buenos_aires  "
      ]
     },
     "execution_count": 181,
     "metadata": {},
     "output_type": "execute_result"
    }
   ],
   "source": [
    "tweets_with_geo.head(2)"
   ]
  },
  {
   "cell_type": "markdown",
   "metadata": {},
   "source": [
    "Cargamos geonames para filtrar nombres de ciudades validos"
   ]
  },
  {
   "cell_type": "code",
   "execution_count": 9,
   "metadata": {},
   "outputs": [],
   "source": [
    "usecols = [\n",
    "    \"geonameid\",\n",
    "    \"name\",\n",
    "    \"asciiname\",\n",
    "    \"alternatenames\",\n",
    "    \"latitude\",\n",
    "    \"longitude\",\n",
    "    \"population\",\n",
    "    \"timezone\"\n",
    "]\n",
    "\n",
    "dtypes = {\n",
    "    \"geonameid\": np.int32,\n",
    "    \"name\": str,\n",
    "    \"asciiname\": str,\n",
    "    \"alternatenames\": str,\n",
    "    \"latitude\": np.float32,\n",
    "    \"longitude\": np.float32,\n",
    "    \"feature class\": str,\n",
    "    \"feature code\": str,\n",
    "    \"country code\": str,\n",
    "    \"cc2\": str,\n",
    "    \"admin1 code\": str,\n",
    "    \"admin2 code\": str,\n",
    "    \"admin3 code\": str,\n",
    "    \"admin4 code\": str,\n",
    "    \"population\": np.uint64,\n",
    "    \"elevation\": np.float32,\n",
    "    \"dem\": str,\n",
    "    \"timezone\": str,\n",
    "    \"modification date\": str    \n",
    "}"
   ]
  },
  {
   "cell_type": "code",
   "execution_count": 10,
   "metadata": {},
   "outputs": [],
   "source": [
    "geonames = pd.read_csv(\"../geonames/geonames.csv\", dtype=dtypes, usecols=usecols)"
   ]
  },
  {
   "cell_type": "code",
   "execution_count": 11,
   "metadata": {},
   "outputs": [
    {
     "data": {
      "text/html": [
       "<div>\n",
       "<style scoped>\n",
       "    .dataframe tbody tr th:only-of-type {\n",
       "        vertical-align: middle;\n",
       "    }\n",
       "\n",
       "    .dataframe tbody tr th {\n",
       "        vertical-align: top;\n",
       "    }\n",
       "\n",
       "    .dataframe thead th {\n",
       "        text-align: right;\n",
       "    }\n",
       "</style>\n",
       "<table border=\"1\" class=\"dataframe\">\n",
       "  <thead>\n",
       "    <tr style=\"text-align: right;\">\n",
       "      <th></th>\n",
       "      <th>geonameid</th>\n",
       "      <th>name</th>\n",
       "      <th>asciiname</th>\n",
       "      <th>alternatenames</th>\n",
       "      <th>latitude</th>\n",
       "      <th>longitude</th>\n",
       "      <th>population</th>\n",
       "      <th>timezone</th>\n",
       "    </tr>\n",
       "  </thead>\n",
       "  <tbody>\n",
       "    <tr>\n",
       "      <th>0</th>\n",
       "      <td>3038999</td>\n",
       "      <td>soldeu</td>\n",
       "      <td>soldeu</td>\n",
       "      <td>NaN</td>\n",
       "      <td>42.576881</td>\n",
       "      <td>1.66769</td>\n",
       "      <td>602</td>\n",
       "      <td>europe/andorra</td>\n",
       "    </tr>\n",
       "    <tr>\n",
       "      <th>1</th>\n",
       "      <td>3039154</td>\n",
       "      <td>el tarter</td>\n",
       "      <td>el tarter</td>\n",
       "      <td>ehl tarter,эл тартер</td>\n",
       "      <td>42.579521</td>\n",
       "      <td>1.65362</td>\n",
       "      <td>1052</td>\n",
       "      <td>europe/andorra</td>\n",
       "    </tr>\n",
       "    <tr>\n",
       "      <th>2</th>\n",
       "      <td>3039163</td>\n",
       "      <td>sant julià de lòria</td>\n",
       "      <td>sant julia de loria</td>\n",
       "      <td>san julia,san julià,sant julia de loria,sant j...</td>\n",
       "      <td>42.463718</td>\n",
       "      <td>1.49129</td>\n",
       "      <td>8022</td>\n",
       "      <td>europe/andorra</td>\n",
       "    </tr>\n",
       "    <tr>\n",
       "      <th>3</th>\n",
       "      <td>3039604</td>\n",
       "      <td>pas de la casa</td>\n",
       "      <td>pas de la casa</td>\n",
       "      <td>pas de la kasa,пас де ла каса</td>\n",
       "      <td>42.542770</td>\n",
       "      <td>1.73361</td>\n",
       "      <td>2363</td>\n",
       "      <td>europe/andorra</td>\n",
       "    </tr>\n",
       "    <tr>\n",
       "      <th>4</th>\n",
       "      <td>3039678</td>\n",
       "      <td>ordino</td>\n",
       "      <td>ordino</td>\n",
       "      <td>ordino,ao er di nuo,orudino jiao qu,ордино,オルデ...</td>\n",
       "      <td>42.556229</td>\n",
       "      <td>1.53319</td>\n",
       "      <td>3066</td>\n",
       "      <td>europe/andorra</td>\n",
       "    </tr>\n",
       "  </tbody>\n",
       "</table>\n",
       "</div>"
      ],
      "text/plain": [
       "   geonameid                 name            asciiname  \\\n",
       "0    3038999               soldeu               soldeu   \n",
       "1    3039154            el tarter            el tarter   \n",
       "2    3039163  sant julià de lòria  sant julia de loria   \n",
       "3    3039604       pas de la casa       pas de la casa   \n",
       "4    3039678               ordino               ordino   \n",
       "\n",
       "                                      alternatenames   latitude  longitude  \\\n",
       "0                                                NaN  42.576881    1.66769   \n",
       "1                               ehl tarter,эл тартер  42.579521    1.65362   \n",
       "2  san julia,san julià,sant julia de loria,sant j...  42.463718    1.49129   \n",
       "3                      pas de la kasa,пас де ла каса  42.542770    1.73361   \n",
       "4  ordino,ao er di nuo,orudino jiao qu,ордино,オルデ...  42.556229    1.53319   \n",
       "\n",
       "   population        timezone  \n",
       "0         602  europe/andorra  \n",
       "1        1052  europe/andorra  \n",
       "2        8022  europe/andorra  \n",
       "3        2363  europe/andorra  \n",
       "4        3066  europe/andorra  "
      ]
     },
     "execution_count": 11,
     "metadata": {},
     "output_type": "execute_result"
    }
   ],
   "source": [
    "geonames.head()"
   ]
  },
  {
   "cell_type": "markdown",
   "metadata": {},
   "source": [
    "Para cada Tweet, asignamos una ciudad en base al centroide del poligono que provee, esto lo vamos a utilizar para asignar una ciudad a aquellos Tweets que incluyen en place_name un lugar y no una ciudad, primero probamos con los datos para ver si el metodo que usamos es preciso"
   ]
  },
  {
   "cell_type": "code",
   "execution_count": 12,
   "metadata": {},
   "outputs": [],
   "source": [
    "tweets_with_geo[\"longitude_centroid\"] = tweets_with_geo.geometry.centroid.x\n",
    "tweets_with_geo[\"latitude_centroid\"] = tweets_with_geo.geometry.centroid.y"
   ]
  },
  {
   "cell_type": "markdown",
   "metadata": {},
   "source": [
    "Usamos BallTree para obtener los puntos cercanos (KNN con K = 1), puede perder precisión pero es rápido para tantos datos"
   ]
  },
  {
   "cell_type": "code",
   "execution_count": 13,
   "metadata": {},
   "outputs": [],
   "source": [
    "tree = BallTree(geonames[['longitude', 'latitude']].values, leaf_size=2, metric=\"euclidean\")"
   ]
  },
  {
   "cell_type": "code",
   "execution_count": 14,
   "metadata": {},
   "outputs": [],
   "source": [
    "_, tweets_with_geo['id_nearest'] = tree.query(\n",
    "    tweets_with_geo[['longitude_centroid', 'latitude_centroid']].values,\n",
    "    k=1,\n",
    ")"
   ]
  },
  {
   "cell_type": "code",
   "execution_count": 15,
   "metadata": {},
   "outputs": [],
   "source": [
    "asciiname_index = geonames.columns.get_loc('asciiname')\n",
    "timezone_index = geonames.columns.get_loc('timezone')\n",
    "\n",
    "def geonames_by_id(row):\n",
    "    return geonames.iloc[row[\"id_nearest\"], asciiname_index]\n",
    "\n",
    "def geonames_timezone_by_id(row):\n",
    "    return geonames.iloc[row[\"id_nearest\"], timezone_index]"
   ]
  },
  {
   "cell_type": "code",
   "execution_count": 16,
   "metadata": {},
   "outputs": [],
   "source": [
    "tweets_with_geo[\"nearest\"] = tweets_with_geo.apply(geonames_by_id, axis=1)\n",
    "tweets_with_geo[\"nearest_timezone\"] = tweets_with_geo.apply(geonames_timezone_by_id, axis=1)"
   ]
  },
  {
   "cell_type": "markdown",
   "metadata": {},
   "source": [
    "Separamos los distintos nombres de una ciudad y armamos un dataframe con esos nombres"
   ]
  },
  {
   "cell_type": "code",
   "execution_count": 104,
   "metadata": {},
   "outputs": [],
   "source": [
    "geonames_splitted_names = (\n",
    "    geonames.set_index(geonames.columns.drop('alternatenames',1).tolist())\n",
    "    .alternatenames.str.split(',', expand=True)\n",
    "    .stack()\n",
    "    .reset_index()\n",
    "    .rename(columns={0:'alternatenames'})\n",
    "    .loc[:, [\"alternatenames\"]]\n",
    ")"
   ]
  },
  {
   "cell_type": "code",
   "execution_count": 105,
   "metadata": {},
   "outputs": [
    {
     "data": {
      "text/plain": [
       "(816602, 1)"
      ]
     },
     "execution_count": 105,
     "metadata": {},
     "output_type": "execute_result"
    }
   ],
   "source": [
    "geonames_splitted_names.shape"
   ]
  },
  {
   "cell_type": "code",
   "execution_count": 106,
   "metadata": {},
   "outputs": [],
   "source": [
    "geonames_splitted_names = pd.merge(\n",
    "    left=geonames_splitted_names,\n",
    "    right=geonames.loc[:, [\"asciiname\"]].rename(columns={\"asciiname\": \"alternatenames\"}),\n",
    "    how='outer'\n",
    ")\n",
    "geonames_splitted_names = pd.merge(\n",
    "    left=geonames_splitted_names,\n",
    "    right=geonames.loc[:, [\"name\"]].rename(columns={\"name\": \"alternatenames\"}),\n",
    "    how='outer'\n",
    ")"
   ]
  },
  {
   "cell_type": "code",
   "execution_count": 107,
   "metadata": {},
   "outputs": [
    {
     "data": {
      "text/plain": [
       "(6115353, 1)"
      ]
     },
     "execution_count": 107,
     "metadata": {},
     "output_type": "execute_result"
    }
   ],
   "source": [
    "geonames_splitted_names.shape"
   ]
  },
  {
   "cell_type": "code",
   "execution_count": 108,
   "metadata": {},
   "outputs": [],
   "source": [
    "geonames_splitted_names.drop_duplicates(inplace=True)"
   ]
  },
  {
   "cell_type": "code",
   "execution_count": 109,
   "metadata": {},
   "outputs": [
    {
     "data": {
      "text/plain": [
       "(770143, 1)"
      ]
     },
     "execution_count": 109,
     "metadata": {},
     "output_type": "execute_result"
    }
   ],
   "source": [
    "geonames_splitted_names.shape"
   ]
  },
  {
   "cell_type": "code",
   "execution_count": 111,
   "metadata": {},
   "outputs": [
    {
     "data": {
      "text/html": [
       "<div>\n",
       "<style scoped>\n",
       "    .dataframe tbody tr th:only-of-type {\n",
       "        vertical-align: middle;\n",
       "    }\n",
       "\n",
       "    .dataframe tbody tr th {\n",
       "        vertical-align: top;\n",
       "    }\n",
       "\n",
       "    .dataframe thead th {\n",
       "        text-align: right;\n",
       "    }\n",
       "</style>\n",
       "<table border=\"1\" class=\"dataframe\">\n",
       "  <thead>\n",
       "    <tr style=\"text-align: right;\">\n",
       "      <th></th>\n",
       "      <th>alternatenames</th>\n",
       "    </tr>\n",
       "  </thead>\n",
       "  <tbody>\n",
       "    <tr>\n",
       "      <th>0</th>\n",
       "      <td>ehl tarter</td>\n",
       "    </tr>\n",
       "    <tr>\n",
       "      <th>1</th>\n",
       "      <td>эл тартер</td>\n",
       "    </tr>\n",
       "    <tr>\n",
       "      <th>2</th>\n",
       "      <td>san julia</td>\n",
       "    </tr>\n",
       "    <tr>\n",
       "      <th>3</th>\n",
       "      <td>san julià</td>\n",
       "    </tr>\n",
       "    <tr>\n",
       "      <th>4</th>\n",
       "      <td>sant julia de loria</td>\n",
       "    </tr>\n",
       "    <tr>\n",
       "      <th>5</th>\n",
       "      <td>sant julià de lòria</td>\n",
       "    </tr>\n",
       "    <tr>\n",
       "      <th>6</th>\n",
       "      <td>sant-zhulija-de-lorija</td>\n",
       "    </tr>\n",
       "    <tr>\n",
       "      <th>7</th>\n",
       "      <td>sheng hu li ya-de luo li ya</td>\n",
       "    </tr>\n",
       "    <tr>\n",
       "      <th>8</th>\n",
       "      <td>сант-жулия-де-лория</td>\n",
       "    </tr>\n",
       "    <tr>\n",
       "      <th>9</th>\n",
       "      <td>サン・ジュリア・デ・ロリア教区</td>\n",
       "    </tr>\n",
       "  </tbody>\n",
       "</table>\n",
       "</div>"
      ],
      "text/plain": [
       "                alternatenames\n",
       "0                   ehl tarter\n",
       "1                    эл тартер\n",
       "2                    san julia\n",
       "3                    san julià\n",
       "4          sant julia de loria\n",
       "5          sant julià de lòria\n",
       "6       sant-zhulija-de-lorija\n",
       "7  sheng hu li ya-de luo li ya\n",
       "8          сант-жулия-де-лория\n",
       "9              サン・ジュリア・デ・ロリア教区"
      ]
     },
     "execution_count": 111,
     "metadata": {},
     "output_type": "execute_result"
    }
   ],
   "source": [
    "geonames_splitted_names.head(10)"
   ]
  },
  {
   "cell_type": "markdown",
   "metadata": {},
   "source": [
    "Removemos los nombres con acentos y unificamos (de la misma forma que vamos a hacer para los place_name)"
   ]
  },
  {
   "cell_type": "code",
   "execution_count": 125,
   "metadata": {},
   "outputs": [],
   "source": [
    "geonames_splitted_names[\"alternatenames\"] = geonames_splitted_names.apply(to_lower, axis=1, column=\"alternatenames\")"
   ]
  },
  {
   "cell_type": "code",
   "execution_count": 126,
   "metadata": {},
   "outputs": [],
   "source": [
    "geonames_splitted_names.drop_duplicates(inplace=True)"
   ]
  },
  {
   "cell_type": "code",
   "execution_count": 127,
   "metadata": {},
   "outputs": [
    {
     "data": {
      "text/plain": [
       "(616740, 1)"
      ]
     },
     "execution_count": 127,
     "metadata": {},
     "output_type": "execute_result"
    }
   ],
   "source": [
    "geonames_splitted_names.shape"
   ]
  },
  {
   "cell_type": "markdown",
   "metadata": {},
   "source": [
    "Vemos que los Tweets incluyen lugares (ciudades) que no estan contemplados en geonames"
   ]
  },
  {
   "cell_type": "code",
   "execution_count": 128,
   "metadata": {},
   "outputs": [
    {
     "data": {
      "text/plain": [
       "(810628, 20)"
      ]
     },
     "execution_count": 128,
     "metadata": {},
     "output_type": "execute_result"
    }
   ],
   "source": [
    "tweets_with_geo.shape"
   ]
  },
  {
   "cell_type": "code",
   "execution_count": 129,
   "metadata": {},
   "outputs": [
    {
     "data": {
      "text/plain": [
       "(723713, 21)"
      ]
     },
     "execution_count": 129,
     "metadata": {},
     "output_type": "execute_result"
    }
   ],
   "source": [
    "tweets_with_geo_and_city = pd.merge(\n",
    "    left=tweets_with_geo,\n",
    "    right=geonames_splitted_names,\n",
    "    how='inner',\n",
    "    left_on=[\"place_name\"],\n",
    "    right_on=[\"alternatenames\"],\n",
    "    validate=\"m:1\"\n",
    ")\n",
    "\n",
    "tweets_with_geo_and_city.shape"
   ]
  },
  {
   "cell_type": "markdown",
   "metadata": {},
   "source": [
    "Veamos algunos ejemplos de esos lugares (Usamos el más cercano calculado, es un nombre del geonames de igual forma). Place name incluye lugares, como Abasto shopping, no son ciudades necesariamente y en algunos casos estan excluidos los nombres por un tema de acentos (Ver incluso que el Abasto está en Balvanera)"
   ]
  },
  {
   "cell_type": "code",
   "execution_count": 130,
   "metadata": {},
   "outputs": [
    {
     "data": {
      "text/html": [
       "<div>\n",
       "<style scoped>\n",
       "    .dataframe tbody tr th:only-of-type {\n",
       "        vertical-align: middle;\n",
       "    }\n",
       "\n",
       "    .dataframe tbody tr th {\n",
       "        vertical-align: top;\n",
       "    }\n",
       "\n",
       "    .dataframe thead th {\n",
       "        text-align: right;\n",
       "    }\n",
       "</style>\n",
       "<table border=\"1\" class=\"dataframe\">\n",
       "  <thead>\n",
       "    <tr style=\"text-align: right;\">\n",
       "      <th></th>\n",
       "      <th></th>\n",
       "      <th>id</th>\n",
       "    </tr>\n",
       "    <tr>\n",
       "      <th>place_name</th>\n",
       "      <th>nearest</th>\n",
       "      <th></th>\n",
       "    </tr>\n",
       "  </thead>\n",
       "  <tbody>\n",
       "    <tr>\n",
       "      <th>villa soldati</th>\n",
       "      <th>villa lugano</th>\n",
       "      <td>10710</td>\n",
       "    </tr>\n",
       "    <tr>\n",
       "      <th>vicente lopez</th>\n",
       "      <th>olivos</th>\n",
       "      <td>9434</td>\n",
       "    </tr>\n",
       "    <tr>\n",
       "      <th>gonzalez catan</th>\n",
       "      <th>jose maria ezeiza</th>\n",
       "      <td>8612</td>\n",
       "    </tr>\n",
       "    <tr>\n",
       "      <th>lanus oeste</th>\n",
       "      <th>lanus</th>\n",
       "      <td>7735</td>\n",
       "    </tr>\n",
       "    <tr>\n",
       "      <th>almirante brown</th>\n",
       "      <th>florencio varela</th>\n",
       "      <td>6140</td>\n",
       "    </tr>\n",
       "    <tr>\n",
       "      <th>ciudad del libertador general san martin</th>\n",
       "      <th>general san martin</th>\n",
       "      <td>5736</td>\n",
       "    </tr>\n",
       "    <tr>\n",
       "      <th>bogota, d.c.</th>\n",
       "      <th>pasca</th>\n",
       "      <td>5028</td>\n",
       "    </tr>\n",
       "    <tr>\n",
       "      <th>ituzaingo centro</th>\n",
       "      <th>ituzaingo</th>\n",
       "      <td>3115</td>\n",
       "    </tr>\n",
       "    <tr>\n",
       "      <th>embu-guacu</th>\n",
       "      <th>embu guacu</th>\n",
       "      <td>1826</td>\n",
       "    </tr>\n",
       "    <tr>\n",
       "      <th>las condes</th>\n",
       "      <th>villa presidente frei, nunoa, santiago, chile</th>\n",
       "      <td>1556</td>\n",
       "    </tr>\n",
       "    <tr>\n",
       "      <th>general pedernera</th>\n",
       "      <th>villa mercedes</th>\n",
       "      <td>1314</td>\n",
       "    </tr>\n",
       "    <tr>\n",
       "      <th>uruguay</th>\n",
       "      <th>concepcion del uruguay</th>\n",
       "      <td>967</td>\n",
       "    </tr>\n",
       "    <tr>\n",
       "      <th>la costa</th>\n",
       "      <th>mar del tuyu</th>\n",
       "      <td>940</td>\n",
       "    </tr>\n",
       "    <tr>\n",
       "      <th>rio de contas</th>\n",
       "      <th>livramento do brumado</th>\n",
       "      <td>846</td>\n",
       "    </tr>\n",
       "    <tr>\n",
       "      <th>estacion central</th>\n",
       "      <th>lo prado</th>\n",
       "      <td>810</td>\n",
       "    </tr>\n",
       "    <tr>\n",
       "      <th>comandante fernandez</th>\n",
       "      <th>presidencia roque saenz pena</th>\n",
       "      <td>767</td>\n",
       "    </tr>\n",
       "    <tr>\n",
       "      <th>diagonal norte</th>\n",
       "      <th>san miguel de tucuman</th>\n",
       "      <td>736</td>\n",
       "    </tr>\n",
       "    <tr>\n",
       "      <th>dr. manuel belgrano</th>\n",
       "      <th>san salvador de jujuy</th>\n",
       "      <td>728</td>\n",
       "    </tr>\n",
       "    <tr>\n",
       "      <th>mar de ajo</th>\n",
       "      <th>mar del tuyu</th>\n",
       "      <td>721</td>\n",
       "    </tr>\n",
       "    <tr>\n",
       "      <th>el colmenar</th>\n",
       "      <th>san miguel de tucuman</th>\n",
       "      <td>640</td>\n",
       "    </tr>\n",
       "    <tr>\n",
       "      <th>cedro abajo</th>\n",
       "      <th>naranjito</th>\n",
       "      <td>610</td>\n",
       "    </tr>\n",
       "    <tr>\n",
       "      <th>jose carlos paz</th>\n",
       "      <th>jose c. paz</th>\n",
       "      <td>596</td>\n",
       "    </tr>\n",
       "    <tr>\n",
       "      <th>rio paranaiba</th>\n",
       "      <th>carmo do paranaiba</th>\n",
       "      <td>551</td>\n",
       "    </tr>\n",
       "    <tr>\n",
       "      <th>sauce viejo</th>\n",
       "      <th>santo tome</th>\n",
       "      <td>523</td>\n",
       "    </tr>\n",
       "    <tr>\n",
       "      <th>surquillo</th>\n",
       "      <th>santiago de surco</th>\n",
       "      <td>470</td>\n",
       "    </tr>\n",
       "    <tr>\n",
       "      <th>carraizo</th>\n",
       "      <th>trujillo alto</th>\n",
       "      <td>439</td>\n",
       "    </tr>\n",
       "    <tr>\n",
       "      <th>coronel de marina leonardo rosales</th>\n",
       "      <th>punta alta</th>\n",
       "      <td>417</td>\n",
       "    </tr>\n",
       "    <tr>\n",
       "      <th>general obligado</th>\n",
       "      <th>reconquista</th>\n",
       "      <td>416</td>\n",
       "    </tr>\n",
       "    <tr>\n",
       "      <th>confluencia</th>\n",
       "      <th>neuquen</th>\n",
       "      <td>410</td>\n",
       "    </tr>\n",
       "    <tr>\n",
       "      <th>sabara</th>\n",
       "      <th>santa luzia</th>\n",
       "      <td>401</td>\n",
       "    </tr>\n",
       "    <tr>\n",
       "      <th>...</th>\n",
       "      <th>...</th>\n",
       "      <td>...</td>\n",
       "    </tr>\n",
       "    <tr>\n",
       "      <th>noain (valle de elorz)</th>\n",
       "      <th>elorz</th>\n",
       "      <td>1</td>\n",
       "    </tr>\n",
       "    <tr>\n",
       "      <th>mucke</th>\n",
       "      <th>gruenberg</th>\n",
       "      <td>1</td>\n",
       "    </tr>\n",
       "    <tr>\n",
       "      <th>moulay bousselham</th>\n",
       "      <th>lalla mimouna</th>\n",
       "      <td>1</td>\n",
       "    </tr>\n",
       "    <tr>\n",
       "      <th>curaco de velez</th>\n",
       "      <th>dalcahue</th>\n",
       "      <td>1</td>\n",
       "    </tr>\n",
       "    <tr>\n",
       "      <th>curarrehue</th>\n",
       "      <th>pucon</th>\n",
       "      <td>1</td>\n",
       "    </tr>\n",
       "    <tr>\n",
       "      <th>demajagua</th>\n",
       "      <th>luis m. cintron</th>\n",
       "      <td>1</td>\n",
       "    </tr>\n",
       "    <tr>\n",
       "      <th>monay</th>\n",
       "      <th>pampan</th>\n",
       "      <td>1</td>\n",
       "    </tr>\n",
       "    <tr>\n",
       "      <th>devpryaag</th>\n",
       "      <th>devaprayag</th>\n",
       "      <td>1</td>\n",
       "    </tr>\n",
       "    <tr>\n",
       "      <th>coelemu</th>\n",
       "      <th>tome</th>\n",
       "      <td>1</td>\n",
       "    </tr>\n",
       "    <tr>\n",
       "      <th>ohio</th>\n",
       "      <th>emsworth</th>\n",
       "      <td>1</td>\n",
       "    </tr>\n",
       "    <tr>\n",
       "      <th>petorca</th>\n",
       "      <th>salamanca</th>\n",
       "      <td>1</td>\n",
       "    </tr>\n",
       "    <tr>\n",
       "      <th>cochamo</th>\n",
       "      <th>la ensenada</th>\n",
       "      <td>1</td>\n",
       "    </tr>\n",
       "    <tr>\n",
       "      <th>perquin</th>\n",
       "      <th>cacaopera</th>\n",
       "      <td>1</td>\n",
       "    </tr>\n",
       "    <tr>\n",
       "      <th>peralillo</th>\n",
       "      <th>santa cruz</th>\n",
       "      <td>1</td>\n",
       "    </tr>\n",
       "    <tr>\n",
       "      <th>chaangkhlaan</th>\n",
       "      <th>chiang mai</th>\n",
       "      <td>1</td>\n",
       "    </tr>\n",
       "    <tr>\n",
       "      <th>pelarco</th>\n",
       "      <th>san clemente</th>\n",
       "      <td>1</td>\n",
       "    </tr>\n",
       "    <tr>\n",
       "      <th>pedro moncayo</th>\n",
       "      <th>cayambe</th>\n",
       "      <td>1</td>\n",
       "    </tr>\n",
       "    <tr>\n",
       "      <th>chapadao do sul</th>\n",
       "      <th>paraiso das aguas</th>\n",
       "      <td>1</td>\n",
       "    </tr>\n",
       "    <tr>\n",
       "      <th>pariquera-acu</th>\n",
       "      <th>pariquera acu</th>\n",
       "      <td>1</td>\n",
       "    </tr>\n",
       "    <tr>\n",
       "      <th>chillan viejo</th>\n",
       "      <th>bulnes</th>\n",
       "      <td>1</td>\n",
       "    </tr>\n",
       "    <tr>\n",
       "      <th>paraopeba</th>\n",
       "      <th>sete lagoas</th>\n",
       "      <td>1</td>\n",
       "    </tr>\n",
       "    <tr>\n",
       "      <th>chnasngkhraam</th>\n",
       "      <th>phra nakhon</th>\n",
       "      <td>1</td>\n",
       "    </tr>\n",
       "    <tr>\n",
       "      <th>christchurch city</th>\n",
       "      <th>christchurch</th>\n",
       "      <td>1</td>\n",
       "    </tr>\n",
       "    <tr>\n",
       "      <th>paliane</th>\n",
       "      <th>veneraton</th>\n",
       "      <td>1</td>\n",
       "    </tr>\n",
       "    <tr>\n",
       "      <th>cienegueta</th>\n",
       "      <th>morovis</th>\n",
       "      <td>1</td>\n",
       "    </tr>\n",
       "    <tr>\n",
       "      <th>pacoti</th>\n",
       "      <th>baturite</th>\n",
       "      <td>1</td>\n",
       "    </tr>\n",
       "    <tr>\n",
       "      <th>ouled mimoun</th>\n",
       "      <th>ouled mimoun</th>\n",
       "      <td>1</td>\n",
       "    </tr>\n",
       "    <tr>\n",
       "      <th>oulad slama</th>\n",
       "      <th>kenitra</th>\n",
       "      <td>1</td>\n",
       "    </tr>\n",
       "    <tr>\n",
       "      <th>oswiecim gmina</th>\n",
       "      <th>zaborze</th>\n",
       "      <td>1</td>\n",
       "    </tr>\n",
       "    <tr>\n",
       "      <th>24 de mayo</th>\n",
       "      <th>sucre</th>\n",
       "      <td>1</td>\n",
       "    </tr>\n",
       "  </tbody>\n",
       "</table>\n",
       "<p>731 rows × 1 columns</p>\n",
       "</div>"
      ],
      "text/plain": [
       "                                                                                                     id\n",
       "place_name                                         nearest                                             \n",
       "villa soldati                                      villa lugano                                   10710\n",
       "vicente lopez                                      olivos                                          9434\n",
       "gonzalez catan                                     jose maria ezeiza                               8612\n",
       "lanus oeste                                        lanus                                           7735\n",
       "almirante brown                                    florencio varela                                6140\n",
       "ciudad del libertador general san martin           general san martin                              5736\n",
       "bogota, d.c.                                       pasca                                           5028\n",
       "ituzaingo centro                                   ituzaingo                                       3115\n",
       "embu-guacu                                         embu guacu                                      1826\n",
       "las condes                                         villa presidente frei, nunoa, santiago, chile   1556\n",
       "general pedernera                                  villa mercedes                                  1314\n",
       "uruguay                                            concepcion del uruguay                           967\n",
       "la costa                                           mar del tuyu                                     940\n",
       "rio de contas                                      livramento do brumado                            846\n",
       "estacion central                                   lo prado                                         810\n",
       "comandante fernandez                               presidencia roque saenz pena                     767\n",
       "diagonal norte                                     san miguel de tucuman                            736\n",
       "dr. manuel belgrano                                san salvador de jujuy                            728\n",
       "mar de ajo                                         mar del tuyu                                     721\n",
       "el colmenar                                        san miguel de tucuman                            640\n",
       "cedro abajo                                        naranjito                                        610\n",
       "jose carlos paz                                    jose c. paz                                      596\n",
       "rio paranaiba                                      carmo do paranaiba                               551\n",
       "sauce viejo                                        santo tome                                       523\n",
       "surquillo                                          santiago de surco                                470\n",
       "carraizo                                           trujillo alto                                    439\n",
       "coronel de marina leonardo rosales                 punta alta                                       417\n",
       "general obligado                                   reconquista                                      416\n",
       "confluencia                                        neuquen                                          410\n",
       "sabara                                             santa luzia                                      401\n",
       "...                                                                                                 ...\n",
       "noain (valle de elorz)                             elorz                                              1\n",
       "mucke                                              gruenberg                                          1\n",
       "moulay bousselham                                  lalla mimouna                                      1\n",
       "curaco de velez                                    dalcahue                                           1\n",
       "curarrehue                                         pucon                                              1\n",
       "demajagua                                          luis m. cintron                                    1\n",
       "monay                                              pampan                                             1\n",
       "devpryaag                                          devaprayag                                         1\n",
       "coelemu                                            tome                                               1\n",
       "ohio                                               emsworth                                           1\n",
       "petorca                                            salamanca                                          1\n",
       "cochamo                                            la ensenada                                        1\n",
       "perquin                                            cacaopera                                          1\n",
       "peralillo                                          santa cruz                                         1\n",
       "chaangkhlaan                                       chiang mai                                         1\n",
       "pelarco                                            san clemente                                       1\n",
       "pedro moncayo                                      cayambe                                            1\n",
       "chapadao do sul                                    paraiso das aguas                                  1\n",
       "pariquera-acu                                      pariquera acu                                      1\n",
       "chillan viejo                                      bulnes                                             1\n",
       "paraopeba                                          sete lagoas                                        1\n",
       "chnasngkhraam                                      phra nakhon                                        1\n",
       "christchurch city                                  christchurch                                       1\n",
       "paliane                                            veneraton                                          1\n",
       "cienegueta                                         morovis                                            1\n",
       "pacoti                                             baturite                                           1\n",
       "ouled mimoun                                   ... ouled mimoun                                       1\n",
       "oulad slama                                        kenitra                                            1\n",
       "oswiecim gmina                                     zaborze                                            1\n",
       "24 de mayo                                         sucre                                              1\n",
       "\n",
       "[731 rows x 1 columns]"
      ]
     },
     "execution_count": 130,
     "metadata": {},
     "output_type": "execute_result"
    }
   ],
   "source": [
    "(tweets_with_geo\n",
    "    .loc[~(tweets_with_geo.id.isin(tweets_with_geo_and_city.id)), [\"place_name\", \"nearest\", \"id\"]]\n",
    "    .groupby([\"place_name\", \"nearest\"])\n",
    "    .count().sort_values(\"id\", ascending=False))"
   ]
  },
  {
   "cell_type": "markdown",
   "metadata": {},
   "source": [
    "Veamos con que precisión funciona BallTree para asignar ciudades a los que ya poseen un nombre de ciudad. Muy poca, veamos que pasa realmente"
   ]
  },
  {
   "cell_type": "code",
   "execution_count": 131,
   "metadata": {},
   "outputs": [
    {
     "data": {
      "text/plain": [
       "(452592, 21)"
      ]
     },
     "execution_count": 131,
     "metadata": {},
     "output_type": "execute_result"
    }
   ],
   "source": [
    "tweets_with_geo_and_city.loc[tweets_with_geo_and_city.place_name == tweets_with_geo_and_city.nearest, :].shape"
   ]
  },
  {
   "cell_type": "markdown",
   "metadata": {},
   "source": [
    "Puede ser que geonames de lugares con aún mayor precisión que lo que incluye Twitter, hay que revisar, update: además hay un tema de acentos de por medio (Solucionado)"
   ]
  },
  {
   "cell_type": "code",
   "execution_count": 132,
   "metadata": {},
   "outputs": [
    {
     "data": {
      "text/html": [
       "<div>\n",
       "<style scoped>\n",
       "    .dataframe tbody tr th:only-of-type {\n",
       "        vertical-align: middle;\n",
       "    }\n",
       "\n",
       "    .dataframe tbody tr th {\n",
       "        vertical-align: top;\n",
       "    }\n",
       "\n",
       "    .dataframe thead th {\n",
       "        text-align: right;\n",
       "    }\n",
       "</style>\n",
       "<table border=\"1\" class=\"dataframe\">\n",
       "  <thead>\n",
       "    <tr style=\"text-align: right;\">\n",
       "      <th></th>\n",
       "      <th></th>\n",
       "      <th>id</th>\n",
       "    </tr>\n",
       "    <tr>\n",
       "      <th>nearest</th>\n",
       "      <th>place_name</th>\n",
       "      <th></th>\n",
       "    </tr>\n",
       "  </thead>\n",
       "  <tbody>\n",
       "    <tr>\n",
       "      <th>colegiales</th>\n",
       "      <th>ciudad autonoma de buenos aires</th>\n",
       "      <td>126898</td>\n",
       "    </tr>\n",
       "    <tr>\n",
       "      <th>diadema</th>\n",
       "      <th>sao paulo</th>\n",
       "      <td>14237</td>\n",
       "    </tr>\n",
       "    <tr>\n",
       "      <th>nilopolis</th>\n",
       "      <th>rio de janeiro</th>\n",
       "      <td>9433</td>\n",
       "    </tr>\n",
       "    <tr>\n",
       "      <th>general pacheco</th>\n",
       "      <th>tigre</th>\n",
       "      <td>6385</td>\n",
       "    </tr>\n",
       "    <tr>\n",
       "      <th>berazategui</th>\n",
       "      <th>florencio varela</th>\n",
       "      <td>5751</td>\n",
       "    </tr>\n",
       "    <tr>\n",
       "      <th>belo horizonte</th>\n",
       "      <th>bello horizonte</th>\n",
       "      <td>5353</td>\n",
       "    </tr>\n",
       "    <tr>\n",
       "      <th>playas</th>\n",
       "      <th>guayaquil</th>\n",
       "      <td>5044</td>\n",
       "    </tr>\n",
       "    <tr>\n",
       "      <th>tutamandahostel</th>\n",
       "      <th>quito</th>\n",
       "      <td>4765</td>\n",
       "    </tr>\n",
       "    <tr>\n",
       "      <th>porto alegre</th>\n",
       "      <th>puerto alegre</th>\n",
       "      <td>3935</td>\n",
       "    </tr>\n",
       "    <tr>\n",
       "      <th>muniz</th>\n",
       "      <th>san miguel</th>\n",
       "      <td>3724</td>\n",
       "    </tr>\n",
       "  </tbody>\n",
       "</table>\n",
       "</div>"
      ],
      "text/plain": [
       "                                                     id\n",
       "nearest         place_name                             \n",
       "colegiales      ciudad autonoma de buenos aires  126898\n",
       "diadema         sao paulo                         14237\n",
       "nilopolis       rio de janeiro                     9433\n",
       "general pacheco tigre                              6385\n",
       "berazategui     florencio varela                   5751\n",
       "belo horizonte  bello horizonte                    5353\n",
       "playas          guayaquil                          5044\n",
       "tutamandahostel quito                              4765\n",
       "porto alegre    puerto alegre                      3935\n",
       "muniz           san miguel                         3724"
      ]
     },
     "execution_count": 132,
     "metadata": {},
     "output_type": "execute_result"
    }
   ],
   "source": [
    "(tweets_with_geo_and_city\n",
    "    .loc[tweets_with_geo_and_city.place_name != tweets_with_geo_and_city.nearest, [\"nearest\", \"place_name\", \"id\"]]\n",
    "    .groupby([\"nearest\", \"place_name\"])\n",
    "    .count()\n",
    "    .sort_values(\"id\", ascending=False)\n",
    "    .head(10))"
   ]
  },
  {
   "cell_type": "markdown",
   "metadata": {},
   "source": [
    "Revisemos si el algoritmo funciona bien para Tweets con precisión exacta"
   ]
  },
  {
   "cell_type": "code",
   "execution_count": 46,
   "metadata": {},
   "outputs": [],
   "source": [
    "tweets_with_exact_geo = gpd.GeoDataFrame.from_postgis(\n",
    "    'SELECT * FROM tweets WHERE coordinates IS NOT NULL LIMIT 1000000'\n",
    "    , con=conn \n",
    "    , geom_col='coordinates'\n",
    ")"
   ]
  },
  {
   "cell_type": "code",
   "execution_count": 47,
   "metadata": {},
   "outputs": [
    {
     "data": {
      "text/plain": [
       "(1000000, 15)"
      ]
     },
     "execution_count": 47,
     "metadata": {},
     "output_type": "execute_result"
    }
   ],
   "source": [
    "tweets_with_exact_geo.shape"
   ]
  },
  {
   "cell_type": "code",
   "execution_count": 48,
   "metadata": {},
   "outputs": [],
   "source": [
    "tweets_with_exact_geo[\"place_name\"] = tweets_with_exact_geo.apply(to_lower, axis=1, column=\"place_name\")\n",
    "tweets_with_exact_geo[\"place_country\"] = tweets_with_exact_geo.apply(to_lower, axis=1, column=\"place_country\")"
   ]
  },
  {
   "cell_type": "code",
   "execution_count": 49,
   "metadata": {},
   "outputs": [],
   "source": [
    "tweets_with_exact_geo[\"longitude\"] = tweets_with_exact_geo.geometry.centroid.x\n",
    "tweets_with_exact_geo[\"latitude\"] = tweets_with_exact_geo.geometry.centroid.y"
   ]
  },
  {
   "cell_type": "code",
   "execution_count": 50,
   "metadata": {},
   "outputs": [],
   "source": [
    "_, tweets_with_exact_geo['id_nearest'] = tree.query(\n",
    "    tweets_with_exact_geo[['longitude', 'latitude']].values,\n",
    "    k=1,\n",
    ")"
   ]
  },
  {
   "cell_type": "code",
   "execution_count": 51,
   "metadata": {},
   "outputs": [],
   "source": [
    "tweets_with_exact_geo[\"nearest\"] = tweets_with_exact_geo.apply(geonames_by_id, axis=1)"
   ]
  },
  {
   "cell_type": "code",
   "execution_count": 52,
   "metadata": {},
   "outputs": [
    {
     "data": {
      "text/plain": [
       "(854213, 20)"
      ]
     },
     "execution_count": 52,
     "metadata": {},
     "output_type": "execute_result"
    }
   ],
   "source": [
    "tweets_with_exact_geo_and_city = pd.merge(\n",
    "    left=tweets_with_exact_geo,\n",
    "    right=geonames_splitted_names,\n",
    "    how='inner',\n",
    "    left_on=[\"place_name\"],\n",
    "    right_on=[\"alternatenames\"],\n",
    "    validate=\"m:1\"\n",
    ")\n",
    "\n",
    "tweets_with_exact_geo_and_city.shape"
   ]
  },
  {
   "cell_type": "code",
   "execution_count": 53,
   "metadata": {},
   "outputs": [
    {
     "data": {
      "text/plain": [
       "(443179, 20)"
      ]
     },
     "execution_count": 53,
     "metadata": {},
     "output_type": "execute_result"
    }
   ],
   "source": [
    "(tweets_with_exact_geo_and_city\n",
    "    .loc[tweets_with_exact_geo_and_city.place_name == tweets_with_exact_geo_and_city.nearest, :]\n",
    "    .shape)"
   ]
  },
  {
   "cell_type": "markdown",
   "metadata": {},
   "source": [
    "Podemos ver que incluso con coordenadas exactas, el problema es de acentos, idioma (solucionado) y granularidad de la ubicacion provista por Twitter, a veces determina una ciudad, otras veces una provincia e incluso locales, geonames es más riguroso respecto a esto"
   ]
  },
  {
   "cell_type": "code",
   "execution_count": 54,
   "metadata": {
    "scrolled": true
   },
   "outputs": [
    {
     "data": {
      "text/html": [
       "<div>\n",
       "<style scoped>\n",
       "    .dataframe tbody tr th:only-of-type {\n",
       "        vertical-align: middle;\n",
       "    }\n",
       "\n",
       "    .dataframe tbody tr th {\n",
       "        vertical-align: top;\n",
       "    }\n",
       "\n",
       "    .dataframe thead th {\n",
       "        text-align: right;\n",
       "    }\n",
       "</style>\n",
       "<table border=\"1\" class=\"dataframe\">\n",
       "  <thead>\n",
       "    <tr style=\"text-align: right;\">\n",
       "      <th></th>\n",
       "      <th></th>\n",
       "      <th>id</th>\n",
       "    </tr>\n",
       "    <tr>\n",
       "      <th>nearest</th>\n",
       "      <th>place_name</th>\n",
       "      <th></th>\n",
       "    </tr>\n",
       "  </thead>\n",
       "  <tbody>\n",
       "    <tr>\n",
       "      <th>buenos aires</th>\n",
       "      <th>ciudad autonoma de buenos aires</th>\n",
       "      <td>34441</td>\n",
       "    </tr>\n",
       "    <tr>\n",
       "      <th>colegiales</th>\n",
       "      <th>ciudad autonoma de buenos aires</th>\n",
       "      <td>23038</td>\n",
       "    </tr>\n",
       "    <tr>\n",
       "      <th>boedo</th>\n",
       "      <th>ciudad autonoma de buenos aires</th>\n",
       "      <td>21363</td>\n",
       "    </tr>\n",
       "    <tr>\n",
       "      <th>retiro</th>\n",
       "      <th>ciudad autonoma de buenos aires</th>\n",
       "      <td>12659</td>\n",
       "    </tr>\n",
       "    <tr>\n",
       "      <th>balvanera</th>\n",
       "      <th>ciudad autonoma de buenos aires</th>\n",
       "      <td>12131</td>\n",
       "    </tr>\n",
       "    <tr>\n",
       "      <th>belgrano</th>\n",
       "      <th>ciudad autonoma de buenos aires</th>\n",
       "      <td>6647</td>\n",
       "    </tr>\n",
       "    <tr>\n",
       "      <th>villa santa rita</th>\n",
       "      <th>ciudad autonoma de buenos aires</th>\n",
       "      <td>5758</td>\n",
       "    </tr>\n",
       "    <tr>\n",
       "      <th>general levalle</th>\n",
       "      <th>cordoba</th>\n",
       "      <td>3948</td>\n",
       "    </tr>\n",
       "    <tr>\n",
       "      <th>mexico city</th>\n",
       "      <th>cuauhtemoc</th>\n",
       "      <td>3591</td>\n",
       "    </tr>\n",
       "    <tr>\n",
       "      <th>villa ortuzar</th>\n",
       "      <th>ciudad autonoma de buenos aires</th>\n",
       "      <td>2890</td>\n",
       "    </tr>\n",
       "    <tr>\n",
       "      <th>tutamandahostel</th>\n",
       "      <th>quito</th>\n",
       "      <td>2735</td>\n",
       "    </tr>\n",
       "    <tr>\n",
       "      <th>saldan</th>\n",
       "      <th>villa allende</th>\n",
       "      <td>2721</td>\n",
       "    </tr>\n",
       "    <tr>\n",
       "      <th>jardim paulista</th>\n",
       "      <th>sao paulo</th>\n",
       "      <td>2571</td>\n",
       "    </tr>\n",
       "    <tr>\n",
       "      <th>villa canas</th>\n",
       "      <th>santa fe</th>\n",
       "      <td>2508</td>\n",
       "    </tr>\n",
       "    <tr>\n",
       "      <th>curundu</th>\n",
       "      <th>panama</th>\n",
       "      <td>2438</td>\n",
       "    </tr>\n",
       "    <tr>\n",
       "      <th>mapire</th>\n",
       "      <th>anzoategui</th>\n",
       "      <td>2350</td>\n",
       "    </tr>\n",
       "    <tr>\n",
       "      <th>san isidro</th>\n",
       "      <th>miraflores</th>\n",
       "      <td>2127</td>\n",
       "    </tr>\n",
       "    <tr>\n",
       "      <th>pereira</th>\n",
       "      <th>santa rosa de cabal</th>\n",
       "      <td>1952</td>\n",
       "    </tr>\n",
       "    <tr>\n",
       "      <th>barracas</th>\n",
       "      <th>ciudad autonoma de buenos aires</th>\n",
       "      <td>1950</td>\n",
       "    </tr>\n",
       "    <tr>\n",
       "      <th>eloy alfaro</th>\n",
       "      <th>duran</th>\n",
       "      <td>1829</td>\n",
       "    </tr>\n",
       "  </tbody>\n",
       "</table>\n",
       "</div>"
      ],
      "text/plain": [
       "                                                     id\n",
       "nearest          place_name                            \n",
       "buenos aires     ciudad autonoma de buenos aires  34441\n",
       "colegiales       ciudad autonoma de buenos aires  23038\n",
       "boedo            ciudad autonoma de buenos aires  21363\n",
       "retiro           ciudad autonoma de buenos aires  12659\n",
       "balvanera        ciudad autonoma de buenos aires  12131\n",
       "belgrano         ciudad autonoma de buenos aires   6647\n",
       "villa santa rita ciudad autonoma de buenos aires   5758\n",
       "general levalle  cordoba                           3948\n",
       "mexico city      cuauhtemoc                        3591\n",
       "villa ortuzar    ciudad autonoma de buenos aires   2890\n",
       "tutamandahostel  quito                             2735\n",
       "saldan           villa allende                     2721\n",
       "jardim paulista  sao paulo                         2571\n",
       "villa canas      santa fe                          2508\n",
       "curundu          panama                            2438\n",
       "mapire           anzoategui                        2350\n",
       "san isidro       miraflores                        2127\n",
       "pereira          santa rosa de cabal               1952\n",
       "barracas         ciudad autonoma de buenos aires   1950\n",
       "eloy alfaro      duran                             1829"
      ]
     },
     "execution_count": 54,
     "metadata": {},
     "output_type": "execute_result"
    }
   ],
   "source": [
    "(tweets_with_exact_geo_and_city\n",
    "    .loc[tweets_with_exact_geo_and_city.place_name != tweets_with_exact_geo_and_city.nearest, [\"nearest\", \"place_name\", \"id\"]]\n",
    "    .groupby([\"nearest\", \"place_name\"])\n",
    "    .count()\n",
    "    .sort_values(\"id\", ascending=False)\n",
    "    .head(20))"
   ]
  },
  {
   "cell_type": "markdown",
   "metadata": {},
   "source": [
    "Veamos si la ubicacion de los usuarios es un dato confiable"
   ]
  },
  {
   "cell_type": "markdown",
   "metadata": {},
   "source": [
    "Tenemos en total 2 millones de usuarios activos"
   ]
  },
  {
   "cell_type": "code",
   "execution_count": 44,
   "metadata": {},
   "outputs": [
    {
     "data": {
      "text/html": [
       "<div>\n",
       "<style scoped>\n",
       "    .dataframe tbody tr th:only-of-type {\n",
       "        vertical-align: middle;\n",
       "    }\n",
       "\n",
       "    .dataframe tbody tr th {\n",
       "        vertical-align: top;\n",
       "    }\n",
       "\n",
       "    .dataframe thead th {\n",
       "        text-align: right;\n",
       "    }\n",
       "</style>\n",
       "<table border=\"1\" class=\"dataframe\">\n",
       "  <thead>\n",
       "    <tr style=\"text-align: right;\">\n",
       "      <th></th>\n",
       "      <th>count</th>\n",
       "    </tr>\n",
       "  </thead>\n",
       "  <tbody>\n",
       "    <tr>\n",
       "      <th>0</th>\n",
       "      <td>2020784</td>\n",
       "    </tr>\n",
       "  </tbody>\n",
       "</table>\n",
       "</div>"
      ],
      "text/plain": [
       "     count\n",
       "0  2020784"
      ]
     },
     "execution_count": 44,
     "metadata": {},
     "output_type": "execute_result"
    }
   ],
   "source": [
    "pd.read_sql_query('SELECT COUNT(*) FROM users',con=conn)"
   ]
  },
  {
   "cell_type": "code",
   "execution_count": 29,
   "metadata": {},
   "outputs": [],
   "source": [
    "users = pd.read_sql_query('SELECT * FROM users WHERE location IS NOT NULL',con=conn)"
   ]
  },
  {
   "cell_type": "markdown",
   "metadata": {},
   "source": [
    "De los cuales aproximadamente 1 millón proveen su ubicacion en el perfil, veamos si es un dato confiable (Nos quedamos solo con aquellos que coincida con geonames)"
   ]
  },
  {
   "cell_type": "code",
   "execution_count": 133,
   "metadata": {},
   "outputs": [
    {
     "data": {
      "text/plain": [
       "(1063795, 15)"
      ]
     },
     "execution_count": 133,
     "metadata": {},
     "output_type": "execute_result"
    }
   ],
   "source": [
    "users.shape"
   ]
  },
  {
   "cell_type": "code",
   "execution_count": 31,
   "metadata": {},
   "outputs": [
    {
     "data": {
      "text/html": [
       "<div>\n",
       "<style scoped>\n",
       "    .dataframe tbody tr th:only-of-type {\n",
       "        vertical-align: middle;\n",
       "    }\n",
       "\n",
       "    .dataframe tbody tr th {\n",
       "        vertical-align: top;\n",
       "    }\n",
       "\n",
       "    .dataframe thead th {\n",
       "        text-align: right;\n",
       "    }\n",
       "</style>\n",
       "<table border=\"1\" class=\"dataframe\">\n",
       "  <thead>\n",
       "    <tr style=\"text-align: right;\">\n",
       "      <th></th>\n",
       "      <th>id</th>\n",
       "      <th>is_private</th>\n",
       "      <th>favourites_count</th>\n",
       "      <th>followers_count</th>\n",
       "      <th>friends_count</th>\n",
       "      <th>listed_count</th>\n",
       "      <th>statuses_count</th>\n",
       "      <th>location</th>\n",
       "      <th>support</th>\n",
       "      <th>screen_name</th>\n",
       "      <th>name</th>\n",
       "      <th>loc_in_argentina</th>\n",
       "      <th>important</th>\n",
       "    </tr>\n",
       "  </thead>\n",
       "  <tbody>\n",
       "    <tr>\n",
       "      <th>0</th>\n",
       "      <td>1164850459</td>\n",
       "      <td>False</td>\n",
       "      <td>1272</td>\n",
       "      <td>263</td>\n",
       "      <td>1220</td>\n",
       "      <td>1</td>\n",
       "      <td>4622</td>\n",
       "      <td>BRASIL</td>\n",
       "      <td>frentedetodos</td>\n",
       "      <td>tapa11seba</td>\n",
       "      <td>Sebastian Nardone</td>\n",
       "      <td>no_arg</td>\n",
       "      <td>False</td>\n",
       "    </tr>\n",
       "    <tr>\n",
       "      <th>1</th>\n",
       "      <td>565758103</td>\n",
       "      <td>False</td>\n",
       "      <td>9907</td>\n",
       "      <td>101</td>\n",
       "      <td>448</td>\n",
       "      <td>2</td>\n",
       "      <td>2242</td>\n",
       "      <td>Belén de Escobar, Argentina</td>\n",
       "      <td>None</td>\n",
       "      <td>mforesti23</td>\n",
       "      <td>marcelo daniel</td>\n",
       "      <td>arg</td>\n",
       "      <td>True</td>\n",
       "    </tr>\n",
       "    <tr>\n",
       "      <th>2</th>\n",
       "      <td>111936587</td>\n",
       "      <td>False</td>\n",
       "      <td>49</td>\n",
       "      <td>273</td>\n",
       "      <td>2116</td>\n",
       "      <td>3</td>\n",
       "      <td>1011</td>\n",
       "      <td>VENEZUELA</td>\n",
       "      <td>frentedetodos</td>\n",
       "      <td>jonathanperez13</td>\n",
       "      <td>JONATHAN PEREZ</td>\n",
       "      <td>no_arg</td>\n",
       "      <td>False</td>\n",
       "    </tr>\n",
       "    <tr>\n",
       "      <th>3</th>\n",
       "      <td>1729550665</td>\n",
       "      <td>False</td>\n",
       "      <td>12165</td>\n",
       "      <td>1161</td>\n",
       "      <td>4810</td>\n",
       "      <td>11</td>\n",
       "      <td>19443</td>\n",
       "      <td>Gijón, España</td>\n",
       "      <td>None</td>\n",
       "      <td>javier40434691</td>\n",
       "      <td>Javier GIJÓN</td>\n",
       "      <td>no_arg</td>\n",
       "      <td>False</td>\n",
       "    </tr>\n",
       "    <tr>\n",
       "      <th>4</th>\n",
       "      <td>1079263385240420352</td>\n",
       "      <td>False</td>\n",
       "      <td>1600</td>\n",
       "      <td>2</td>\n",
       "      <td>15</td>\n",
       "      <td>0</td>\n",
       "      <td>13</td>\n",
       "      <td>Tandil, Argentina</td>\n",
       "      <td>None</td>\n",
       "      <td>FrancoL07288211</td>\n",
       "      <td>Franco López</td>\n",
       "      <td>arg</td>\n",
       "      <td>True</td>\n",
       "    </tr>\n",
       "  </tbody>\n",
       "</table>\n",
       "</div>"
      ],
      "text/plain": [
       "                    id  is_private  favourites_count  followers_count  \\\n",
       "0           1164850459       False              1272              263   \n",
       "1            565758103       False              9907              101   \n",
       "2            111936587       False                49              273   \n",
       "3           1729550665       False             12165             1161   \n",
       "4  1079263385240420352       False              1600                2   \n",
       "\n",
       "   friends_count  listed_count  statuses_count                     location  \\\n",
       "0           1220             1            4622                       BRASIL   \n",
       "1            448             2            2242  Belén de Escobar, Argentina   \n",
       "2           2116             3            1011                    VENEZUELA   \n",
       "3           4810            11           19443                Gijón, España   \n",
       "4             15             0              13            Tandil, Argentina   \n",
       "\n",
       "         support      screen_name               name loc_in_argentina  \\\n",
       "0  frentedetodos       tapa11seba  Sebastian Nardone           no_arg   \n",
       "1           None       mforesti23     marcelo daniel              arg   \n",
       "2  frentedetodos  jonathanperez13     JONATHAN PEREZ           no_arg   \n",
       "3           None   javier40434691       Javier GIJÓN           no_arg   \n",
       "4           None  FrancoL07288211       Franco López              arg   \n",
       "\n",
       "   important  \n",
       "0      False  \n",
       "1       True  \n",
       "2      False  \n",
       "3      False  \n",
       "4       True  "
      ]
     },
     "execution_count": 31,
     "metadata": {},
     "output_type": "execute_result"
    }
   ],
   "source": [
    "users.head()"
   ]
  },
  {
   "cell_type": "markdown",
   "metadata": {},
   "source": [
    "Unificamos la información para manejar strings"
   ]
  },
  {
   "cell_type": "code",
   "execution_count": 32,
   "metadata": {},
   "outputs": [],
   "source": [
    "users[\"location\"] = users.apply(to_lower, axis=1, column=\"location\")"
   ]
  },
  {
   "cell_type": "code",
   "execution_count": 134,
   "metadata": {},
   "outputs": [],
   "source": [
    "users_matches_geonames = pd.merge(\n",
    "    left=users,\n",
    "    right=geonames_splitted_names,\n",
    "    how='inner',\n",
    "    left_on=[\"location\"],\n",
    "    right_on=[\"alternatenames\"],\n",
    "    validate=\"m:1\"\n",
    ")"
   ]
  },
  {
   "cell_type": "markdown",
   "metadata": {},
   "source": [
    "Aproximadamente 280.000 usuarios incluyen una ubicación \"real\", y con \"real\" nos referimos a que está incluida en geonames de manera exacta"
   ]
  },
  {
   "cell_type": "code",
   "execution_count": 135,
   "metadata": {},
   "outputs": [
    {
     "data": {
      "text/plain": [
       "(288136, 16)"
      ]
     },
     "execution_count": 135,
     "metadata": {},
     "output_type": "execute_result"
    }
   ],
   "source": [
    "users_matches_geonames.shape"
   ]
  },
  {
   "cell_type": "markdown",
   "metadata": {},
   "source": [
    "Veamos ejemplos donde esto no ocurre"
   ]
  },
  {
   "cell_type": "code",
   "execution_count": 136,
   "metadata": {},
   "outputs": [
    {
     "data": {
      "text/html": [
       "<div>\n",
       "<style scoped>\n",
       "    .dataframe tbody tr th:only-of-type {\n",
       "        vertical-align: middle;\n",
       "    }\n",
       "\n",
       "    .dataframe tbody tr th {\n",
       "        vertical-align: top;\n",
       "    }\n",
       "\n",
       "    .dataframe thead th {\n",
       "        text-align: right;\n",
       "    }\n",
       "</style>\n",
       "<table border=\"1\" class=\"dataframe\">\n",
       "  <thead>\n",
       "    <tr style=\"text-align: right;\">\n",
       "      <th></th>\n",
       "      <th>id</th>\n",
       "    </tr>\n",
       "    <tr>\n",
       "      <th>location</th>\n",
       "      <th></th>\n",
       "    </tr>\n",
       "  </thead>\n",
       "  <tbody>\n",
       "    <tr>\n",
       "      <th>buenos aires, argentina</th>\n",
       "      <td>57776</td>\n",
       "    </tr>\n",
       "    <tr>\n",
       "      <th>ciudad autonoma de buenos aire</th>\n",
       "      <td>22692</td>\n",
       "    </tr>\n",
       "    <tr>\n",
       "      <th>cordoba, argentina</th>\n",
       "      <td>21963</td>\n",
       "    </tr>\n",
       "    <tr>\n",
       "      <th>rosario, argentina</th>\n",
       "      <td>11430</td>\n",
       "    </tr>\n",
       "    <tr>\n",
       "      <th>mendoza, argentina</th>\n",
       "      <td>9240</td>\n",
       "    </tr>\n",
       "    <tr>\n",
       "      <th>la plata, argentina</th>\n",
       "      <td>7782</td>\n",
       "    </tr>\n",
       "    <tr>\n",
       "      <th>santa fe, argentina</th>\n",
       "      <td>7345</td>\n",
       "    </tr>\n",
       "    <tr>\n",
       "      <th>ecuador</th>\n",
       "      <td>6597</td>\n",
       "    </tr>\n",
       "    <tr>\n",
       "      <th>salta, argentina</th>\n",
       "      <td>5825</td>\n",
       "    </tr>\n",
       "    <tr>\n",
       "      <th>ciudad autonoma de buenos aires, argentina</th>\n",
       "      <td>5739</td>\n",
       "    </tr>\n",
       "    <tr>\n",
       "      <th>mar del plata, argentina</th>\n",
       "      <td>5249</td>\n",
       "    </tr>\n",
       "    <tr>\n",
       "      <th>montevideo, uruguay</th>\n",
       "      <td>5213</td>\n",
       "    </tr>\n",
       "    <tr>\n",
       "      <th>corrientes, argentina</th>\n",
       "      <td>4927</td>\n",
       "    </tr>\n",
       "    <tr>\n",
       "      <th>caracas, venezuela</th>\n",
       "      <td>4558</td>\n",
       "    </tr>\n",
       "    <tr>\n",
       "      <th>santiago, chile</th>\n",
       "      <td>4347</td>\n",
       "    </tr>\n",
       "    <tr>\n",
       "      <th>tucuman, argentina</th>\n",
       "      <td>4319</td>\n",
       "    </tr>\n",
       "    <tr>\n",
       "      <th>brasil</th>\n",
       "      <td>3690</td>\n",
       "    </tr>\n",
       "    <tr>\n",
       "      <th>uruguay</th>\n",
       "      <td>3652</td>\n",
       "    </tr>\n",
       "    <tr>\n",
       "      <th>lima, peru</th>\n",
       "      <td>3590</td>\n",
       "    </tr>\n",
       "    <tr>\n",
       "      <th>quito, ecuador</th>\n",
       "      <td>3391</td>\n",
       "    </tr>\n",
       "    <tr>\n",
       "      <th>neuquen, argentina</th>\n",
       "      <td>3209</td>\n",
       "    </tr>\n",
       "    <tr>\n",
       "      <th>san juan, argentina</th>\n",
       "      <td>3072</td>\n",
       "    </tr>\n",
       "    <tr>\n",
       "      <th>entre rios, argentina</th>\n",
       "      <td>3044</td>\n",
       "    </tr>\n",
       "    <tr>\n",
       "      <th>misiones, argentina</th>\n",
       "      <td>2983</td>\n",
       "    </tr>\n",
       "    <tr>\n",
       "      <th>bogota, d.c., colombia</th>\n",
       "      <td>2902</td>\n",
       "    </tr>\n",
       "    <tr>\n",
       "      <th>chaco, argentina</th>\n",
       "      <td>2867</td>\n",
       "    </tr>\n",
       "    <tr>\n",
       "      <th>argentina</th>\n",
       "      <td>2797</td>\n",
       "    </tr>\n",
       "    <tr>\n",
       "      <th>quilmes, argentina</th>\n",
       "      <td>2751</td>\n",
       "    </tr>\n",
       "    <tr>\n",
       "      <th>santiago del estero, argentina</th>\n",
       "      <td>2676</td>\n",
       "    </tr>\n",
       "    <tr>\n",
       "      <th>sao paulo, brasil</th>\n",
       "      <td>2526</td>\n",
       "    </tr>\n",
       "    <tr>\n",
       "      <th>...</th>\n",
       "      <td>...</td>\n",
       "    </tr>\n",
       "    <tr>\n",
       "      <th>helvecia,depto garay</th>\n",
       "      <td>1</td>\n",
       "    </tr>\n",
       "    <tr>\n",
       "      <th>helvecia-argentina</th>\n",
       "      <td>1</td>\n",
       "    </tr>\n",
       "    <tr>\n",
       "      <th>helvecia-santa fe (argentina)</th>\n",
       "      <td>1</td>\n",
       "    </tr>\n",
       "    <tr>\n",
       "      <th>helvecia/santa fe se</th>\n",
       "      <td>1</td>\n",
       "    </tr>\n",
       "    <tr>\n",
       "      <th>ariguani el dificil magdalena</th>\n",
       "      <td>1</td>\n",
       "    </tr>\n",
       "    <tr>\n",
       "      <th>hemet ca.</th>\n",
       "      <td>1</td>\n",
       "    </tr>\n",
       "    <tr>\n",
       "      <th>arieta y colombia, san justo</th>\n",
       "      <td>1</td>\n",
       "    </tr>\n",
       "    <tr>\n",
       "      <th>hemisferio occidental</th>\n",
       "      <td>1</td>\n",
       "    </tr>\n",
       "    <tr>\n",
       "      <th>arieta 1845 - san justo</th>\n",
       "      <td>1</td>\n",
       "    </tr>\n",
       "    <tr>\n",
       "      <th>hemorroides del mundo.</th>\n",
       "      <td>1</td>\n",
       "    </tr>\n",
       "    <tr>\n",
       "      <th>hempstead</th>\n",
       "      <td>1</td>\n",
       "    </tr>\n",
       "    <tr>\n",
       "      <th>arif rasheed</th>\n",
       "      <td>1</td>\n",
       "    </tr>\n",
       "    <tr>\n",
       "      <th>helvecia, argentina</th>\n",
       "      <td>1</td>\n",
       "    </tr>\n",
       "    <tr>\n",
       "      <th>help desk</th>\n",
       "      <td>1</td>\n",
       "    </tr>\n",
       "    <tr>\n",
       "      <th>helsinki/finland</th>\n",
       "      <td>1</td>\n",
       "    </tr>\n",
       "    <tr>\n",
       "      <th>helpringham, england</th>\n",
       "      <td>1</td>\n",
       "    </tr>\n",
       "    <tr>\n",
       "      <th>helsingfors, finland</th>\n",
       "      <td>1</td>\n",
       "    </tr>\n",
       "    <tr>\n",
       "      <th>helsinki</th>\n",
       "      <td>1</td>\n",
       "    </tr>\n",
       "    <tr>\n",
       "      <th>aripuana mt</th>\n",
       "      <td>1</td>\n",
       "    </tr>\n",
       "    <tr>\n",
       "      <th>arinsal, andorra</th>\n",
       "      <td>1</td>\n",
       "    </tr>\n",
       "    <tr>\n",
       "      <th>arikpo</th>\n",
       "      <td>1</td>\n",
       "    </tr>\n",
       "    <tr>\n",
       "      <th>helsinquia, finlandia</th>\n",
       "      <td>1</td>\n",
       "    </tr>\n",
       "    <tr>\n",
       "      <th>helvecia u esperanza</th>\n",
       "      <td>1</td>\n",
       "    </tr>\n",
       "    <tr>\n",
       "      <th>helter skelter</th>\n",
       "      <td>1</td>\n",
       "    </tr>\n",
       "    <tr>\n",
       "      <th>helvecia</th>\n",
       "      <td>1</td>\n",
       "    </tr>\n",
       "    <tr>\n",
       "      <th>helvecia (sta fe) argentina</th>\n",
       "      <td>1</td>\n",
       "    </tr>\n",
       "    <tr>\n",
       "      <th>ariguani, colombia</th>\n",
       "      <td>1</td>\n",
       "    </tr>\n",
       "    <tr>\n",
       "      <th>ariguani magdalena colombia</th>\n",
       "      <td>1</td>\n",
       "    </tr>\n",
       "    <tr>\n",
       "      <th>helvecia santa fe argentina</th>\n",
       "      <td>1</td>\n",
       "    </tr>\n",
       "    <tr>\n",
       "      <th>\\t</th>\n",
       "      <td>1</td>\n",
       "    </tr>\n",
       "  </tbody>\n",
       "</table>\n",
       "<p>178898 rows × 1 columns</p>\n",
       "</div>"
      ],
      "text/plain": [
       "                                               id\n",
       "location                                         \n",
       "buenos aires, argentina                     57776\n",
       "ciudad autonoma de buenos aire              22692\n",
       "cordoba, argentina                          21963\n",
       "rosario, argentina                          11430\n",
       "mendoza, argentina                           9240\n",
       "la plata, argentina                          7782\n",
       "santa fe, argentina                          7345\n",
       "ecuador                                      6597\n",
       "salta, argentina                             5825\n",
       "ciudad autonoma de buenos aires, argentina   5739\n",
       "mar del plata, argentina                     5249\n",
       "montevideo, uruguay                          5213\n",
       "corrientes, argentina                        4927\n",
       "caracas, venezuela                           4558\n",
       "santiago, chile                              4347\n",
       "tucuman, argentina                           4319\n",
       "brasil                                       3690\n",
       "uruguay                                      3652\n",
       "lima, peru                                   3590\n",
       "quito, ecuador                               3391\n",
       "neuquen, argentina                           3209\n",
       "san juan, argentina                          3072\n",
       "entre rios, argentina                        3044\n",
       "misiones, argentina                          2983\n",
       "bogota, d.c., colombia                       2902\n",
       "chaco, argentina                             2867\n",
       "argentina                                    2797\n",
       "quilmes, argentina                           2751\n",
       "santiago del estero, argentina               2676\n",
       "sao paulo, brasil                            2526\n",
       "...                                           ...\n",
       "helvecia,depto garay                            1\n",
       "helvecia-argentina                              1\n",
       "helvecia-santa fe (argentina)                   1\n",
       "helvecia/santa fe se                            1\n",
       "ariguani el dificil magdalena                   1\n",
       "hemet ca.                                       1\n",
       "arieta y colombia, san justo                    1\n",
       "hemisferio occidental                           1\n",
       "arieta 1845 - san justo                         1\n",
       "hemorroides del mundo.                          1\n",
       "hempstead                                       1\n",
       "arif rasheed                                    1\n",
       "helvecia, argentina                             1\n",
       "help desk                                       1\n",
       "helsinki/finland                                1\n",
       "helpringham, england                            1\n",
       "helsingfors, finland                            1\n",
       "helsinki                                        1\n",
       "aripuana mt                                     1\n",
       "arinsal, andorra                                1\n",
       "arikpo                                          1\n",
       "helsinquia, finlandia                           1\n",
       "helvecia u esperanza                            1\n",
       "helter skelter                                  1\n",
       "helvecia                                        1\n",
       "helvecia (sta fe) argentina                     1\n",
       "ariguani, colombia                              1\n",
       "ariguani magdalena colombia                     1\n",
       "helvecia santa fe argentina                     1\n",
       "\\t                                              1\n",
       "\n",
       "[178898 rows x 1 columns]"
      ]
     },
     "execution_count": 136,
     "metadata": {},
     "output_type": "execute_result"
    }
   ],
   "source": [
    "(users\n",
    "    .loc[~(users.id.isin(users_matches_geonames.id)), [\"location\", \"id\"]]\n",
    "    .groupby(\"location\")\n",
    "    .count().sort_values(\"id\", ascending=False))"
   ]
  },
  {
   "cell_type": "markdown",
   "metadata": {},
   "source": [
    "Vemos que el problema es una coma que incluye el pais, podemos excluir esto (Incluso un parseo más generico)"
   ]
  },
  {
   "cell_type": "code",
   "execution_count": 36,
   "metadata": {},
   "outputs": [],
   "source": [
    "def retrieve_country_place(row):\n",
    "    location = row['location'].replace(\"-\", \",\")\n",
    "    location = location.replace(\"/\", \",\")\n",
    "    split = location.split(',')\n",
    "        \n",
    "    if len(split) > 1:\n",
    "        return split[0], split[-1].replace(' ', '')\n",
    "        \n",
    "    return None, split[-1]"
   ]
  },
  {
   "cell_type": "code",
   "execution_count": 37,
   "metadata": {},
   "outputs": [],
   "source": [
    "users['place'], users['country'] = zip(*users.apply(retrieve_country_place, axis=1))"
   ]
  },
  {
   "cell_type": "code",
   "execution_count": 137,
   "metadata": {},
   "outputs": [],
   "source": [
    "users_matches_geonames = pd.merge(\n",
    "    left=users,\n",
    "    right=geonames_splitted_names,\n",
    "    how='inner',\n",
    "    left_on=[\"place\"],\n",
    "    right_on=[\"alternatenames\"],\n",
    "    validate=\"m:1\"\n",
    ")"
   ]
  },
  {
   "cell_type": "markdown",
   "metadata": {},
   "source": [
    "Mejoramos bastante"
   ]
  },
  {
   "cell_type": "code",
   "execution_count": 138,
   "metadata": {},
   "outputs": [
    {
     "data": {
      "text/plain": [
       "(444017, 16)"
      ]
     },
     "execution_count": 138,
     "metadata": {},
     "output_type": "execute_result"
    }
   ],
   "source": [
    "users_matches_geonames.shape"
   ]
  },
  {
   "cell_type": "markdown",
   "metadata": {},
   "source": [
    "¿Que dejamos afuera ahora? Se ve que hay locations que son exclusivamente paises"
   ]
  },
  {
   "cell_type": "code",
   "execution_count": 139,
   "metadata": {},
   "outputs": [
    {
     "data": {
      "text/html": [
       "<div>\n",
       "<style scoped>\n",
       "    .dataframe tbody tr th:only-of-type {\n",
       "        vertical-align: middle;\n",
       "    }\n",
       "\n",
       "    .dataframe tbody tr th {\n",
       "        vertical-align: top;\n",
       "    }\n",
       "\n",
       "    .dataframe thead th {\n",
       "        text-align: right;\n",
       "    }\n",
       "</style>\n",
       "<table border=\"1\" class=\"dataframe\">\n",
       "  <thead>\n",
       "    <tr style=\"text-align: right;\">\n",
       "      <th></th>\n",
       "      <th>id</th>\n",
       "    </tr>\n",
       "    <tr>\n",
       "      <th>location</th>\n",
       "      <th></th>\n",
       "    </tr>\n",
       "  </thead>\n",
       "  <tbody>\n",
       "    <tr>\n",
       "      <th>argentina</th>\n",
       "      <td>74936</td>\n",
       "    </tr>\n",
       "    <tr>\n",
       "      <th>ciudad autonoma de buenos aire</th>\n",
       "      <td>22692</td>\n",
       "    </tr>\n",
       "    <tr>\n",
       "      <th>venezuela</th>\n",
       "      <td>22644</td>\n",
       "    </tr>\n",
       "    <tr>\n",
       "      <th>buenos aires</th>\n",
       "      <td>21661</td>\n",
       "    </tr>\n",
       "    <tr>\n",
       "      <th>ecuador</th>\n",
       "      <td>6597</td>\n",
       "    </tr>\n",
       "    <tr>\n",
       "      <th>mexico</th>\n",
       "      <td>5302</td>\n",
       "    </tr>\n",
       "    <tr>\n",
       "      <th>chile</th>\n",
       "      <td>4888</td>\n",
       "    </tr>\n",
       "    <tr>\n",
       "      <th>bolivia</th>\n",
       "      <td>4778</td>\n",
       "    </tr>\n",
       "    <tr>\n",
       "      <th>rosario</th>\n",
       "      <td>4690</td>\n",
       "    </tr>\n",
       "    <tr>\n",
       "      <th>colombia</th>\n",
       "      <td>4660</td>\n",
       "    </tr>\n",
       "    <tr>\n",
       "      <th>caracas</th>\n",
       "      <td>4433</td>\n",
       "    </tr>\n",
       "    <tr>\n",
       "      <th>cordoba</th>\n",
       "      <td>4026</td>\n",
       "    </tr>\n",
       "    <tr>\n",
       "      <th>la plata</th>\n",
       "      <td>3718</td>\n",
       "    </tr>\n",
       "    <tr>\n",
       "      <th>brasil</th>\n",
       "      <td>3690</td>\n",
       "    </tr>\n",
       "    <tr>\n",
       "      <th>uruguay</th>\n",
       "      <td>3652</td>\n",
       "    </tr>\n",
       "    <tr>\n",
       "      <th>mar del plata</th>\n",
       "      <td>3204</td>\n",
       "    </tr>\n",
       "    <tr>\n",
       "      <th>paraguay</th>\n",
       "      <td>3009</td>\n",
       "    </tr>\n",
       "    <tr>\n",
       "      <th>misiones, argentina</th>\n",
       "      <td>2983</td>\n",
       "    </tr>\n",
       "    <tr>\n",
       "      <th>chaco, argentina</th>\n",
       "      <td>2867</td>\n",
       "    </tr>\n",
       "    <tr>\n",
       "      <th>argentina</th>\n",
       "      <td>2797</td>\n",
       "    </tr>\n",
       "    <tr>\n",
       "      <th>cuba</th>\n",
       "      <td>2708</td>\n",
       "    </tr>\n",
       "    <tr>\n",
       "      <th>peru</th>\n",
       "      <td>2480</td>\n",
       "    </tr>\n",
       "    <tr>\n",
       "      <th>buenos aires - argentina</th>\n",
       "      <td>2021</td>\n",
       "    </tr>\n",
       "    <tr>\n",
       "      <th>bogota</th>\n",
       "      <td>2017</td>\n",
       "    </tr>\n",
       "    <tr>\n",
       "      <th>mendoza</th>\n",
       "      <td>1987</td>\n",
       "    </tr>\n",
       "    <tr>\n",
       "      <th>panama</th>\n",
       "      <td>1903</td>\n",
       "    </tr>\n",
       "    <tr>\n",
       "      <th>capital federal</th>\n",
       "      <td>1837</td>\n",
       "    </tr>\n",
       "    <tr>\n",
       "      <th>caba</th>\n",
       "      <td>1791</td>\n",
       "    </tr>\n",
       "    <tr>\n",
       "      <th>san miguel de tucuman</th>\n",
       "      <td>1736</td>\n",
       "    </tr>\n",
       "    <tr>\n",
       "      <th>nicaragua</th>\n",
       "      <td>1662</td>\n",
       "    </tr>\n",
       "    <tr>\n",
       "      <th>...</th>\n",
       "      <td>...</td>\n",
       "    </tr>\n",
       "    <tr>\n",
       "      <th>goyazes</th>\n",
       "      <td>1</td>\n",
       "    </tr>\n",
       "    <tr>\n",
       "      <th>argentina - e.r</th>\n",
       "      <td>1</td>\n",
       "    </tr>\n",
       "    <tr>\n",
       "      <th>gracias cerati</th>\n",
       "      <td>1</td>\n",
       "    </tr>\n",
       "    <tr>\n",
       "      <th>gral alvear (bs.as) argentina</th>\n",
       "      <td>1</td>\n",
       "    </tr>\n",
       "    <tr>\n",
       "      <th>graduated from hogwarts</th>\n",
       "      <td>1</td>\n",
       "    </tr>\n",
       "    <tr>\n",
       "      <th>gral alvear</th>\n",
       "      <td>1</td>\n",
       "    </tr>\n",
       "    <tr>\n",
       "      <th>argentina - dominican republic</th>\n",
       "      <td>1</td>\n",
       "    </tr>\n",
       "    <tr>\n",
       "      <th>gral acha la pampa, argentina</th>\n",
       "      <td>1</td>\n",
       "    </tr>\n",
       "    <tr>\n",
       "      <th>gral  pacheco tigre, argentina</th>\n",
       "      <td>1</td>\n",
       "    </tr>\n",
       "    <tr>\n",
       "      <th>gral  alvear.</th>\n",
       "      <td>1</td>\n",
       "    </tr>\n",
       "    <tr>\n",
       "      <th>grajau maranhao</th>\n",
       "      <td>1</td>\n",
       "    </tr>\n",
       "    <tr>\n",
       "      <th>grajau - rj</th>\n",
       "      <td>1</td>\n",
       "    </tr>\n",
       "    <tr>\n",
       "      <th>grajamaica, rio de janeiro</th>\n",
       "      <td>1</td>\n",
       "    </tr>\n",
       "    <tr>\n",
       "      <th>grahams town, south africa</th>\n",
       "      <td>1</td>\n",
       "    </tr>\n",
       "    <tr>\n",
       "      <th>gragorio de laferrere</th>\n",
       "      <td>1</td>\n",
       "    </tr>\n",
       "    <tr>\n",
       "      <th>grafico</th>\n",
       "      <td>1</td>\n",
       "    </tr>\n",
       "    <tr>\n",
       "      <th>gradiska</th>\n",
       "      <td>1</td>\n",
       "    </tr>\n",
       "    <tr>\n",
       "      <th>gracias cfk.</th>\n",
       "      <td>1</td>\n",
       "    </tr>\n",
       "    <tr>\n",
       "      <th>gradim - sg - rj</th>\n",
       "      <td>1</td>\n",
       "    </tr>\n",
       "    <tr>\n",
       "      <th>graciela letelier ndeg2, maipu</th>\n",
       "      <td>1</td>\n",
       "    </tr>\n",
       "    <tr>\n",
       "      <th>graciasalcielotellevojuntoami.</th>\n",
       "      <td>1</td>\n",
       "    </tr>\n",
       "    <tr>\n",
       "      <th>gracias viejo</th>\n",
       "      <td>1</td>\n",
       "    </tr>\n",
       "    <tr>\n",
       "      <th>gracias por su visita</th>\n",
       "      <td>1</td>\n",
       "    </tr>\n",
       "    <tr>\n",
       "      <th>gracias nestor x la dignidad</th>\n",
       "      <td>1</td>\n",
       "    </tr>\n",
       "    <tr>\n",
       "      <th>gracias lempira, honduras</th>\n",
       "      <td>1</td>\n",
       "    </tr>\n",
       "    <tr>\n",
       "      <th>gracias lempira</th>\n",
       "      <td>1</td>\n",
       "    </tr>\n",
       "    <tr>\n",
       "      <th>gracias dios x tus bendiciones</th>\n",
       "      <td>1</td>\n",
       "    </tr>\n",
       "    <tr>\n",
       "      <th>gracias dios por mi familia</th>\n",
       "      <td>1</td>\n",
       "    </tr>\n",
       "    <tr>\n",
       "      <th>gracias comandante supremo</th>\n",
       "      <td>1</td>\n",
       "    </tr>\n",
       "    <tr>\n",
       "      <th>juana azurduy 201, hurlingham</th>\n",
       "      <td>1</td>\n",
       "    </tr>\n",
       "  </tbody>\n",
       "</table>\n",
       "<p>136669 rows × 1 columns</p>\n",
       "</div>"
      ],
      "text/plain": [
       "                                   id\n",
       "location                             \n",
       "argentina                       74936\n",
       "ciudad autonoma de buenos aire  22692\n",
       "venezuela                       22644\n",
       "buenos aires                    21661\n",
       "ecuador                          6597\n",
       "mexico                           5302\n",
       "chile                            4888\n",
       "bolivia                          4778\n",
       "rosario                          4690\n",
       "colombia                         4660\n",
       "caracas                          4433\n",
       "cordoba                          4026\n",
       "la plata                         3718\n",
       "brasil                           3690\n",
       "uruguay                          3652\n",
       "mar del plata                    3204\n",
       "paraguay                         3009\n",
       "misiones, argentina              2983\n",
       "chaco, argentina                 2867\n",
       "argentina                        2797\n",
       "cuba                             2708\n",
       "peru                             2480\n",
       "buenos aires - argentina         2021\n",
       "bogota                           2017\n",
       "mendoza                          1987\n",
       "panama                           1903\n",
       "capital federal                  1837\n",
       "caba                             1791\n",
       "san miguel de tucuman            1736\n",
       "nicaragua                        1662\n",
       "...                               ...\n",
       "goyazes                             1\n",
       "argentina - e.r                     1\n",
       "gracias cerati                      1\n",
       "gral alvear (bs.as) argentina       1\n",
       "graduated from hogwarts             1\n",
       "gral alvear                         1\n",
       "argentina - dominican republic      1\n",
       "gral acha la pampa, argentina       1\n",
       "gral  pacheco tigre, argentina      1\n",
       "gral  alvear.                       1\n",
       "grajau maranhao                     1\n",
       "grajau - rj                         1\n",
       "grajamaica, rio de janeiro          1\n",
       "grahams town, south africa          1\n",
       "gragorio de laferrere               1\n",
       "grafico                             1\n",
       "gradiska                            1\n",
       "gracias cfk.                        1\n",
       "gradim - sg - rj                    1\n",
       "graciela letelier ndeg2, maipu      1\n",
       "graciasalcielotellevojuntoami.      1\n",
       "gracias viejo                       1\n",
       "gracias por su visita               1\n",
       "gracias nestor x la dignidad        1\n",
       "gracias lempira, honduras           1\n",
       "gracias lempira                     1\n",
       "gracias dios x tus bendiciones      1\n",
       "gracias dios por mi familia         1\n",
       "gracias comandante supremo          1\n",
       "juana azurduy 201, hurlingham       1\n",
       "\n",
       "[136669 rows x 1 columns]"
      ]
     },
     "execution_count": 139,
     "metadata": {},
     "output_type": "execute_result"
    }
   ],
   "source": [
    "(users\n",
    "    .loc[~(users.id.isin(users_matches_geonames.id)), [\"location\", \"id\"]]\n",
    "    .groupby(\"location\")\n",
    "    .count().sort_values(\"id\", ascending=False))"
   ]
  },
  {
   "cell_type": "markdown",
   "metadata": {},
   "source": [
    "Entonces, más usuarios ubicando unicamente el pais"
   ]
  },
  {
   "cell_type": "code",
   "execution_count": 140,
   "metadata": {},
   "outputs": [
    {
     "data": {
      "text/plain": [
       "(702089, 16)"
      ]
     },
     "execution_count": 140,
     "metadata": {},
     "output_type": "execute_result"
    }
   ],
   "source": [
    "pd.merge(\n",
    "    left=users,\n",
    "    right=geonames_splitted_names,\n",
    "    how='inner',\n",
    "    left_on=[\"country\"],\n",
    "    right_on=[\"alternatenames\"],\n",
    "    validate=\"m:1\"\n",
    ").shape"
   ]
  },
  {
   "cell_type": "code",
   "execution_count": 142,
   "metadata": {},
   "outputs": [
    {
     "data": {
      "text/plain": [
       "(328035, 36)"
      ]
     },
     "execution_count": 142,
     "metadata": {},
     "output_type": "execute_result"
    }
   ],
   "source": [
    "users_with_tweets = pd.merge(\n",
    "    left=users_matches_geonames,\n",
    "    right=tweets_with_geo,\n",
    "    how='inner',\n",
    "    left_on=[\"id\"],\n",
    "    right_on=[\"user_id\"],\n",
    "    validate=\"1:m\"\n",
    ")\n",
    "\n",
    "users_with_tweets.shape"
   ]
  },
  {
   "cell_type": "markdown",
   "metadata": {},
   "source": [
    "De aquellos Tweets, solo 11.000 (para los datos usados) pertenecen a usuarios unicos"
   ]
  },
  {
   "cell_type": "markdown",
   "metadata": {},
   "source": [
    "Vemos que coincide más con las ubicaciones propias de los Tweets"
   ]
  },
  {
   "cell_type": "code",
   "execution_count": 163,
   "metadata": {},
   "outputs": [
    {
     "data": {
      "text/plain": [
       "(11302, 17)"
      ]
     },
     "execution_count": 163,
     "metadata": {},
     "output_type": "execute_result"
    }
   ],
   "source": [
    "locations_nearest = (users_with_tweets.groupby([\"user_id\", \"nearest\"])\n",
    "    .count()\n",
    "    .sort_values(\"user_id\", ascending=False)\n",
    "    .reset_index()\n",
    "    .drop_duplicates(\"user_id\", keep='first'))\n",
    "\n",
    "users_median_location = pd.merge(\n",
    "    left=users,\n",
    "    right=locations_nearest.loc[:, [\"user_id\", \"nearest\"]],\n",
    "    how='inner',\n",
    "    left_on=\"id\",\n",
    "    right_on=\"user_id\"\n",
    ")\n",
    "\n",
    "users_median_location.shape"
   ]
  },
  {
   "cell_type": "code",
   "execution_count": 164,
   "metadata": {},
   "outputs": [
    {
     "data": {
      "text/plain": [
       "(5329, 17)"
      ]
     },
     "execution_count": 164,
     "metadata": {},
     "output_type": "execute_result"
    }
   ],
   "source": [
    "users_median_location.loc[users_median_location[\"place\"] == users_median_location[\"nearest\"], :].shape"
   ]
  },
  {
   "cell_type": "code",
   "execution_count": 160,
   "metadata": {},
   "outputs": [
    {
     "data": {
      "text/plain": [
       "(11302, 17)"
      ]
     },
     "execution_count": 160,
     "metadata": {},
     "output_type": "execute_result"
    }
   ],
   "source": [
    "locations_nearest = (users_with_tweets.groupby([\"user_id\", \"place_name\"])\n",
    "    .count()\n",
    "    .sort_values(\"user_id\", ascending=False)\n",
    "    .reset_index()\n",
    "    .drop_duplicates(\"user_id\", keep='first'))\n",
    "\n",
    "users_median_location = pd.merge(\n",
    "    left=users,\n",
    "    right=locations_nearest.loc[:, [\"user_id\", \"place_name\"]],\n",
    "    how='inner',\n",
    "    left_on=\"id\",\n",
    "    right_on=\"user_id\"\n",
    ")\n",
    "\n",
    "users_median_location.shape"
   ]
  },
  {
   "cell_type": "code",
   "execution_count": 162,
   "metadata": {},
   "outputs": [
    {
     "data": {
      "text/plain": [
       "(5686, 17)"
      ]
     },
     "execution_count": 162,
     "metadata": {},
     "output_type": "execute_result"
    }
   ],
   "source": [
    "users_median_location.loc[users_median_location[\"place\"] == users_median_location[\"place_name\"], :].shape"
   ]
  },
  {
   "cell_type": "markdown",
   "metadata": {},
   "source": [
    "Vemos otra vez que difiere, esto es porque Twitter asigna los lugares, hay garantia de precisión? Quizás la predicción de BallTree no es tan mala, incluye, en muchos casos, una ubicación más específica (Puede ser falsa también)"
   ]
  },
  {
   "cell_type": "code",
   "execution_count": 168,
   "metadata": {
    "scrolled": true
   },
   "outputs": [
    {
     "data": {
      "text/html": [
       "<div>\n",
       "<style scoped>\n",
       "    .dataframe tbody tr th:only-of-type {\n",
       "        vertical-align: middle;\n",
       "    }\n",
       "\n",
       "    .dataframe tbody tr th {\n",
       "        vertical-align: top;\n",
       "    }\n",
       "\n",
       "    .dataframe thead th {\n",
       "        text-align: right;\n",
       "    }\n",
       "</style>\n",
       "<table border=\"1\" class=\"dataframe\">\n",
       "  <thead>\n",
       "    <tr style=\"text-align: right;\">\n",
       "      <th></th>\n",
       "      <th></th>\n",
       "      <th>id_x</th>\n",
       "    </tr>\n",
       "    <tr>\n",
       "      <th>nearest</th>\n",
       "      <th>place</th>\n",
       "      <th></th>\n",
       "    </tr>\n",
       "  </thead>\n",
       "  <tbody>\n",
       "    <tr>\n",
       "      <th rowspan=\"2\" valign=\"top\">colegiales</th>\n",
       "      <th>buenos aires</th>\n",
       "      <td>768</td>\n",
       "    </tr>\n",
       "    <tr>\n",
       "      <th>ciudad autonoma de buenos aires</th>\n",
       "      <td>150</td>\n",
       "    </tr>\n",
       "    <tr>\n",
       "      <th>jose maria ezeiza</th>\n",
       "      <th>buenos aires</th>\n",
       "      <td>112</td>\n",
       "    </tr>\n",
       "    <tr>\n",
       "      <th>san miguel de tucuman</th>\n",
       "      <th>tucuman</th>\n",
       "      <td>86</td>\n",
       "    </tr>\n",
       "    <tr>\n",
       "      <th>general pacheco</th>\n",
       "      <th>tigre</th>\n",
       "      <td>57</td>\n",
       "    </tr>\n",
       "    <tr>\n",
       "      <th>godoy cruz</th>\n",
       "      <th>mendoza</th>\n",
       "      <td>51</td>\n",
       "    </tr>\n",
       "    <tr>\n",
       "      <th>villa lugano</th>\n",
       "      <th>buenos aires</th>\n",
       "      <td>51</td>\n",
       "    </tr>\n",
       "    <tr>\n",
       "      <th>olivos</th>\n",
       "      <th>buenos aires</th>\n",
       "      <td>48</td>\n",
       "    </tr>\n",
       "    <tr>\n",
       "      <th>general san martin</th>\n",
       "      <th>buenos aires</th>\n",
       "      <td>46</td>\n",
       "    </tr>\n",
       "    <tr>\n",
       "      <th>villa nueva</th>\n",
       "      <th>mendoza</th>\n",
       "      <td>45</td>\n",
       "    </tr>\n",
       "    <tr>\n",
       "      <th>berazategui</th>\n",
       "      <th>buenos aires</th>\n",
       "      <td>45</td>\n",
       "    </tr>\n",
       "    <tr>\n",
       "      <th>diadema</th>\n",
       "      <th>sao paulo</th>\n",
       "      <td>40</td>\n",
       "    </tr>\n",
       "    <tr>\n",
       "      <th>lanus</th>\n",
       "      <th>buenos aires</th>\n",
       "      <td>38</td>\n",
       "    </tr>\n",
       "    <tr>\n",
       "      <th>avellaneda</th>\n",
       "      <th>buenos aires</th>\n",
       "      <td>36</td>\n",
       "    </tr>\n",
       "    <tr>\n",
       "      <th>moron</th>\n",
       "      <th>buenos aires</th>\n",
       "      <td>36</td>\n",
       "    </tr>\n",
       "    <tr>\n",
       "      <th>quilmes</th>\n",
       "      <th>buenos aires</th>\n",
       "      <td>34</td>\n",
       "    </tr>\n",
       "    <tr>\n",
       "      <th>san isidro</th>\n",
       "      <th>buenos aires</th>\n",
       "      <td>34</td>\n",
       "    </tr>\n",
       "    <tr>\n",
       "      <th>caseros</th>\n",
       "      <th>buenos aires</th>\n",
       "      <td>33</td>\n",
       "    </tr>\n",
       "    <tr>\n",
       "      <th>colegiales</th>\n",
       "      <th>argentina</th>\n",
       "      <td>33</td>\n",
       "    </tr>\n",
       "    <tr>\n",
       "      <th>san salvador de jujuy</th>\n",
       "      <th>jujuy</th>\n",
       "      <td>31</td>\n",
       "    </tr>\n",
       "  </tbody>\n",
       "</table>\n",
       "</div>"
      ],
      "text/plain": [
       "                                                       id_x\n",
       "nearest               place                                \n",
       "colegiales            buenos aires                      768\n",
       "                      ciudad autonoma de buenos aires   150\n",
       "jose maria ezeiza     buenos aires                      112\n",
       "san miguel de tucuman tucuman                            86\n",
       "general pacheco       tigre                              57\n",
       "godoy cruz            mendoza                            51\n",
       "villa lugano          buenos aires                       51\n",
       "olivos                buenos aires                       48\n",
       "general san martin    buenos aires                       46\n",
       "villa nueva           mendoza                            45\n",
       "berazategui           buenos aires                       45\n",
       "diadema               sao paulo                          40\n",
       "lanus                 buenos aires                       38\n",
       "avellaneda            buenos aires                       36\n",
       "moron                 buenos aires                       36\n",
       "quilmes               buenos aires                       34\n",
       "san isidro            buenos aires                       34\n",
       "caseros               buenos aires                       33\n",
       "colegiales            argentina                          33\n",
       "san salvador de jujuy jujuy                              31"
      ]
     },
     "execution_count": 168,
     "metadata": {},
     "output_type": "execute_result"
    }
   ],
   "source": [
    "(users_with_tweets\n",
    "    .drop_duplicates(\"id_x\")\n",
    "    .loc[users_with_tweets.place != users_with_tweets.nearest, [\"nearest\", \"place\", \"id_x\"]]\n",
    "    .groupby([\"nearest\", \"place\"])\n",
    "    .count()\n",
    "    .sort_values(\"id_x\", ascending=False)\n",
    "    .head(20))"
   ]
  },
  {
   "cell_type": "code",
   "execution_count": 169,
   "metadata": {},
   "outputs": [
    {
     "data": {
      "text/html": [
       "<div>\n",
       "<style scoped>\n",
       "    .dataframe tbody tr th:only-of-type {\n",
       "        vertical-align: middle;\n",
       "    }\n",
       "\n",
       "    .dataframe tbody tr th {\n",
       "        vertical-align: top;\n",
       "    }\n",
       "\n",
       "    .dataframe thead th {\n",
       "        text-align: right;\n",
       "    }\n",
       "</style>\n",
       "<table border=\"1\" class=\"dataframe\">\n",
       "  <thead>\n",
       "    <tr style=\"text-align: right;\">\n",
       "      <th></th>\n",
       "      <th>geonameid</th>\n",
       "      <th>name</th>\n",
       "      <th>asciiname</th>\n",
       "      <th>alternatenames</th>\n",
       "      <th>latitude</th>\n",
       "      <th>longitude</th>\n",
       "      <th>population</th>\n",
       "      <th>timezone</th>\n",
       "    </tr>\n",
       "  </thead>\n",
       "  <tbody>\n",
       "    <tr>\n",
       "      <th>49248</th>\n",
       "      <td>10277901</td>\n",
       "      <td>tutamandahostel</td>\n",
       "      <td>tutamandahostel</td>\n",
       "      <td>NaN</td>\n",
       "      <td>-0.19727</td>\n",
       "      <td>-78.497498</td>\n",
       "      <td>140000</td>\n",
       "      <td>america/guayaquil</td>\n",
       "    </tr>\n",
       "  </tbody>\n",
       "</table>\n",
       "</div>"
      ],
      "text/plain": [
       "       geonameid             name        asciiname alternatenames  latitude  \\\n",
       "49248   10277901  tutamandahostel  tutamandahostel            NaN  -0.19727   \n",
       "\n",
       "       longitude  population           timezone  \n",
       "49248 -78.497498      140000  america/guayaquil  "
      ]
     },
     "execution_count": 169,
     "metadata": {},
     "output_type": "execute_result"
    }
   ],
   "source": [
    "geonames.loc[geonames[\"asciiname\"] == \"tutamandahostel\", :]"
   ]
  },
  {
   "cell_type": "code",
   "execution_count": 134,
   "metadata": {},
   "outputs": [
    {
     "name": "stdout",
     "output_type": "stream",
     "text": [
      "Sesion cerrada\n"
     ]
    }
   ],
   "source": [
    "cur.close()\n",
    "conn.close()\n",
    "print(\"Sesion cerrada\")"
   ]
  }
 ],
 "metadata": {
  "kernelspec": {
   "display_name": "ffunes",
   "language": "python",
   "name": "ffunes"
  },
  "language_info": {
   "codemirror_mode": {
    "name": "ipython",
    "version": 3
   },
   "file_extension": ".py",
   "mimetype": "text/x-python",
   "name": "python",
   "nbconvert_exporter": "python",
   "pygments_lexer": "ipython3",
   "version": "3.5.2"
  }
 },
 "nbformat": 4,
 "nbformat_minor": 2
}
