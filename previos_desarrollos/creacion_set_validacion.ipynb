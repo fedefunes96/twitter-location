{
 "cells": [
  {
   "cell_type": "code",
   "execution_count": 107,
   "metadata": {},
   "outputs": [],
   "source": [
    "import pandas as pd\n",
    "#import psycopg2\n",
    "import pandas.io.sql as psql\n",
    "import geopandas as gpd\n",
    "import numpy as np\n",
    "import matplotlib.pyplot as plt\n",
    "from shapely.geometry import Point\n",
    "from statsmodels.distributions.empirical_distribution import ECDF\n",
    "import seaborn as sns\n",
    "from matplotlib import ticker\n",
    "\n",
    "%matplotlib inline"
   ]
  },
  {
   "cell_type": "code",
   "execution_count": 9,
   "metadata": {},
   "outputs": [],
   "source": [
    "try:\n",
    "    conn = psycopg2.connect(user = \"ffunes\",\n",
    "                            password = \"location8\",\n",
    "                            host = \"127.0.0.1\",\n",
    "                            port = \"5432\",\n",
    "                            database = \"elecciones_twitter\")\n",
    "except:\n",
    "    print(\"No se pudo conectar a la base de datos\")"
   ]
  },
  {
   "cell_type": "markdown",
   "metadata": {},
   "source": [
    "¿Cuantos Tweets tenemos?"
   ]
  },
  {
   "cell_type": "code",
   "execution_count": 3,
   "metadata": {},
   "outputs": [
    {
     "data": {
      "text/html": [
       "<div>\n",
       "<style scoped>\n",
       "    .dataframe tbody tr th:only-of-type {\n",
       "        vertical-align: middle;\n",
       "    }\n",
       "\n",
       "    .dataframe tbody tr th {\n",
       "        vertical-align: top;\n",
       "    }\n",
       "\n",
       "    .dataframe thead th {\n",
       "        text-align: right;\n",
       "    }\n",
       "</style>\n",
       "<table border=\"1\" class=\"dataframe\">\n",
       "  <thead>\n",
       "    <tr style=\"text-align: right;\">\n",
       "      <th></th>\n",
       "      <th>count</th>\n",
       "    </tr>\n",
       "  </thead>\n",
       "  <tbody>\n",
       "    <tr>\n",
       "      <th>0</th>\n",
       "      <td>897531026</td>\n",
       "    </tr>\n",
       "  </tbody>\n",
       "</table>\n",
       "</div>"
      ],
      "text/plain": [
       "       count\n",
       "0  897531026"
      ]
     },
     "execution_count": 3,
     "metadata": {},
     "output_type": "execute_result"
    }
   ],
   "source": [
    "pd.read_sql_query('SELECT COUNT(*) FROM tweets',con=conn)"
   ]
  },
  {
   "cell_type": "markdown",
   "metadata": {},
   "source": [
    "¿Cuantos Tweets tenemos que incluyan bounding box?"
   ]
  },
  {
   "cell_type": "code",
   "execution_count": 4,
   "metadata": {},
   "outputs": [
    {
     "data": {
      "text/html": [
       "<div>\n",
       "<style scoped>\n",
       "    .dataframe tbody tr th:only-of-type {\n",
       "        vertical-align: middle;\n",
       "    }\n",
       "\n",
       "    .dataframe tbody tr th {\n",
       "        vertical-align: top;\n",
       "    }\n",
       "\n",
       "    .dataframe thead th {\n",
       "        text-align: right;\n",
       "    }\n",
       "</style>\n",
       "<table border=\"1\" class=\"dataframe\">\n",
       "  <thead>\n",
       "    <tr style=\"text-align: right;\">\n",
       "      <th></th>\n",
       "      <th>count</th>\n",
       "    </tr>\n",
       "  </thead>\n",
       "  <tbody>\n",
       "    <tr>\n",
       "      <th>0</th>\n",
       "      <td>17523907</td>\n",
       "    </tr>\n",
       "  </tbody>\n",
       "</table>\n",
       "</div>"
      ],
      "text/plain": [
       "      count\n",
       "0  17523907"
      ]
     },
     "execution_count": 4,
     "metadata": {},
     "output_type": "execute_result"
    }
   ],
   "source": [
    "pd.read_sql_query('SELECT COUNT(*) FROM tweets WHERE place_bounding_box IS NOT NULL',con=conn)"
   ]
  },
  {
   "cell_type": "markdown",
   "metadata": {},
   "source": [
    "¿Cuantos Tweets tenemos que incluyan coordenadas exactas?"
   ]
  },
  {
   "cell_type": "code",
   "execution_count": 5,
   "metadata": {},
   "outputs": [
    {
     "data": {
      "text/html": [
       "<div>\n",
       "<style scoped>\n",
       "    .dataframe tbody tr th:only-of-type {\n",
       "        vertical-align: middle;\n",
       "    }\n",
       "\n",
       "    .dataframe tbody tr th {\n",
       "        vertical-align: top;\n",
       "    }\n",
       "\n",
       "    .dataframe thead th {\n",
       "        text-align: right;\n",
       "    }\n",
       "</style>\n",
       "<table border=\"1\" class=\"dataframe\">\n",
       "  <thead>\n",
       "    <tr style=\"text-align: right;\">\n",
       "      <th></th>\n",
       "      <th>count</th>\n",
       "    </tr>\n",
       "  </thead>\n",
       "  <tbody>\n",
       "    <tr>\n",
       "      <th>0</th>\n",
       "      <td>1022033</td>\n",
       "    </tr>\n",
       "  </tbody>\n",
       "</table>\n",
       "</div>"
      ],
      "text/plain": [
       "     count\n",
       "0  1022033"
      ]
     },
     "execution_count": 5,
     "metadata": {},
     "output_type": "execute_result"
    }
   ],
   "source": [
    "pd.read_sql_query('SELECT COUNT(*) FROM tweets WHERE coordinates IS NOT NULL',con=conn)"
   ]
  },
  {
   "cell_type": "markdown",
   "metadata": {},
   "source": [
    "¿Cuantos Tweets tenemos que incluyen un lugar de tipo ciudad?"
   ]
  },
  {
   "cell_type": "code",
   "execution_count": 6,
   "metadata": {},
   "outputs": [
    {
     "data": {
      "text/html": [
       "<div>\n",
       "<style scoped>\n",
       "    .dataframe tbody tr th:only-of-type {\n",
       "        vertical-align: middle;\n",
       "    }\n",
       "\n",
       "    .dataframe tbody tr th {\n",
       "        vertical-align: top;\n",
       "    }\n",
       "\n",
       "    .dataframe thead th {\n",
       "        text-align: right;\n",
       "    }\n",
       "</style>\n",
       "<table border=\"1\" class=\"dataframe\">\n",
       "  <thead>\n",
       "    <tr style=\"text-align: right;\">\n",
       "      <th></th>\n",
       "      <th>count</th>\n",
       "    </tr>\n",
       "  </thead>\n",
       "  <tbody>\n",
       "    <tr>\n",
       "      <th>0</th>\n",
       "      <td>14333550</td>\n",
       "    </tr>\n",
       "  </tbody>\n",
       "</table>\n",
       "</div>"
      ],
      "text/plain": [
       "      count\n",
       "0  14333550"
      ]
     },
     "execution_count": 6,
     "metadata": {},
     "output_type": "execute_result"
    }
   ],
   "source": [
    "pd.read_sql_query(\"SELECT COUNT(*) FROM tweets WHERE place_type='city'\",con=conn)"
   ]
  },
  {
   "cell_type": "markdown",
   "metadata": {},
   "source": [
    "Cargamos los Tweets geolocalizados (Que incluyen un \"Bounding Box\") -> tweets_with_geo.\n",
    "Hay que analizar el campo \"coordinates\" que es una coordenada precisa siempre y cuando haya tweets que contengan \"coordinates\" pero no \"Bounding Box\""
   ]
  },
  {
   "cell_type": "code",
   "execution_count": 3,
   "metadata": {},
   "outputs": [],
   "source": [
    "tweets_with_geo = gpd.GeoDataFrame.from_postgis(\n",
    "    'SELECT id, user_id, place_type, place_name, place_country, place_bounding_box, coordinates FROM tweets WHERE place_bounding_box IS NOT NULL'\n",
    "    , con=conn \n",
    "    , geom_col='place_bounding_box'\n",
    ")"
   ]
  },
  {
   "cell_type": "code",
   "execution_count": 5,
   "metadata": {},
   "outputs": [
    {
     "data": {
      "text/html": [
       "<div>\n",
       "<style scoped>\n",
       "    .dataframe tbody tr th:only-of-type {\n",
       "        vertical-align: middle;\n",
       "    }\n",
       "\n",
       "    .dataframe tbody tr th {\n",
       "        vertical-align: top;\n",
       "    }\n",
       "\n",
       "    .dataframe thead th {\n",
       "        text-align: right;\n",
       "    }\n",
       "</style>\n",
       "<table border=\"1\" class=\"dataframe\">\n",
       "  <thead>\n",
       "    <tr style=\"text-align: right;\">\n",
       "      <th></th>\n",
       "      <th>id</th>\n",
       "      <th>user_id</th>\n",
       "      <th>place_type</th>\n",
       "      <th>place_name</th>\n",
       "      <th>place_country</th>\n",
       "      <th>place_bounding_box</th>\n",
       "      <th>coordinates</th>\n",
       "    </tr>\n",
       "  </thead>\n",
       "  <tbody>\n",
       "    <tr>\n",
       "      <th>0</th>\n",
       "      <td>1166149394472812550</td>\n",
       "      <td>1147104849357672453</td>\n",
       "      <td>admin</td>\n",
       "      <td>Tucumán</td>\n",
       "      <td>Argentina</td>\n",
       "      <td>POLYGON ((-66.16235 -28.00336, -64.47826 -28.0...</td>\n",
       "      <td>None</td>\n",
       "    </tr>\n",
       "    <tr>\n",
       "      <th>1</th>\n",
       "      <td>1165793794329075715</td>\n",
       "      <td>1147104849357672453</td>\n",
       "      <td>admin</td>\n",
       "      <td>Tucumán</td>\n",
       "      <td>Argentina</td>\n",
       "      <td>POLYGON ((-66.16235 -28.00336, -64.47826 -28.0...</td>\n",
       "      <td>None</td>\n",
       "    </tr>\n",
       "  </tbody>\n",
       "</table>\n",
       "</div>"
      ],
      "text/plain": [
       "                    id              user_id place_type place_name  \\\n",
       "0  1166149394472812550  1147104849357672453      admin    Tucumán   \n",
       "1  1165793794329075715  1147104849357672453      admin    Tucumán   \n",
       "\n",
       "  place_country                                 place_bounding_box coordinates  \n",
       "0     Argentina  POLYGON ((-66.16235 -28.00336, -64.47826 -28.0...        None  \n",
       "1     Argentina  POLYGON ((-66.16235 -28.00336, -64.47826 -28.0...        None  "
      ]
     },
     "execution_count": 5,
     "metadata": {},
     "output_type": "execute_result"
    }
   ],
   "source": [
    "tweets_with_geo.head(2)"
   ]
  },
  {
   "cell_type": "code",
   "execution_count": 6,
   "metadata": {
    "scrolled": true
   },
   "outputs": [
    {
     "data": {
      "text/plain": [
       "city            14333531\n",
       "admin            2524165\n",
       "country           510316\n",
       "poi               149729\n",
       "neighborhood        6166\n",
       "Name: place_type, dtype: int64"
      ]
     },
     "execution_count": 6,
     "metadata": {},
     "output_type": "execute_result"
    }
   ],
   "source": [
    "tweets_with_geo.place_type.value_counts()"
   ]
  },
  {
   "cell_type": "markdown",
   "metadata": {},
   "source": [
    "Por ahora nos importan solo las ciudades"
   ]
  },
  {
   "cell_type": "code",
   "execution_count": 7,
   "metadata": {},
   "outputs": [],
   "source": [
    "tweets_with_geo = tweets_with_geo.loc[tweets_with_geo[\"place_type\"] == \"city\", :]"
   ]
  },
  {
   "cell_type": "code",
   "execution_count": 8,
   "metadata": {},
   "outputs": [
    {
     "data": {
      "text/plain": [
       "(14333531, 7)"
      ]
     },
     "execution_count": 8,
     "metadata": {},
     "output_type": "execute_result"
    }
   ],
   "source": [
    "tweets_with_geo.shape"
   ]
  },
  {
   "cell_type": "markdown",
   "metadata": {},
   "source": [
    "Vemos que si hay campos que incluyen coordenada especifica que no Bounding Box, son muy pocos realmente"
   ]
  },
  {
   "cell_type": "code",
   "execution_count": null,
   "metadata": {},
   "outputs": [],
   "source": [
    "coordinates_and_not_bounding = gpd.GeoDataFrame.from_postgis(\n",
    "    'SELECT * FROM tweets WHERE place_bounding_box IS NULL AND coordinates IS NOT NULL LIMIT 100000'\n",
    "    , con=conn \n",
    "    , geom_col='place_bounding_box'\n",
    ")"
   ]
  },
  {
   "cell_type": "code",
   "execution_count": null,
   "metadata": {},
   "outputs": [],
   "source": [
    "coordinates_and_not_bounding.shape"
   ]
  },
  {
   "cell_type": "markdown",
   "metadata": {},
   "source": [
    "Pasamos a minúsculas los campos de texto que nos importan Update: Intentamos sacar los acentos también"
   ]
  },
  {
   "cell_type": "code",
   "execution_count": 10,
   "metadata": {},
   "outputs": [],
   "source": [
    "#import unidecode\n",
    "\n",
    "def to_lower(row, column):\n",
    "    if not type(row[column] == str):\n",
    "        return row[column]\n",
    "    \n",
    "    return str(row[column]).lower()\n",
    "    #return unidecode.unidecode(str(row[column]).lower())"
   ]
  },
  {
   "cell_type": "code",
   "execution_count": 10,
   "metadata": {},
   "outputs": [],
   "source": [
    "tweets_with_geo[\"place_name\"] = tweets_with_geo.apply(to_lower, axis=1, column=\"place_name\")\n",
    "tweets_with_geo[\"place_country\"] = tweets_with_geo.apply(to_lower, axis=1, column=\"place_country\")"
   ]
  },
  {
   "cell_type": "code",
   "execution_count": 11,
   "metadata": {},
   "outputs": [
    {
     "data": {
      "text/html": [
       "<div>\n",
       "<style scoped>\n",
       "    .dataframe tbody tr th:only-of-type {\n",
       "        vertical-align: middle;\n",
       "    }\n",
       "\n",
       "    .dataframe tbody tr th {\n",
       "        vertical-align: top;\n",
       "    }\n",
       "\n",
       "    .dataframe thead th {\n",
       "        text-align: right;\n",
       "    }\n",
       "</style>\n",
       "<table border=\"1\" class=\"dataframe\">\n",
       "  <thead>\n",
       "    <tr style=\"text-align: right;\">\n",
       "      <th></th>\n",
       "      <th>id</th>\n",
       "      <th>user_id</th>\n",
       "      <th>place_type</th>\n",
       "      <th>place_name</th>\n",
       "      <th>place_country</th>\n",
       "      <th>place_bounding_box</th>\n",
       "      <th>coordinates</th>\n",
       "    </tr>\n",
       "  </thead>\n",
       "  <tbody>\n",
       "    <tr>\n",
       "      <th>5</th>\n",
       "      <td>1095400388113530880</td>\n",
       "      <td>348136446</td>\n",
       "      <td>city</td>\n",
       "      <td>mercedes</td>\n",
       "      <td>argentina</td>\n",
       "      <td>POLYGON ((-59.46739 -34.69201, -59.39965 -34.6...</td>\n",
       "      <td>0101000020E6100000BBB88D06F0B64DC0A72215C61652...</td>\n",
       "    </tr>\n",
       "    <tr>\n",
       "      <th>6</th>\n",
       "      <td>1088235731548553218</td>\n",
       "      <td>348136446</td>\n",
       "      <td>city</td>\n",
       "      <td>villa gesell</td>\n",
       "      <td>argentina</td>\n",
       "      <td>POLYGON ((-57.22167 -37.54968, -56.91513 -37.5...</td>\n",
       "      <td>0101000020E6100000F702B342917C4CC0CE5147C7D5A0...</td>\n",
       "    </tr>\n",
       "  </tbody>\n",
       "</table>\n",
       "</div>"
      ],
      "text/plain": [
       "                    id    user_id place_type    place_name place_country  \\\n",
       "5  1095400388113530880  348136446       city      mercedes     argentina   \n",
       "6  1088235731548553218  348136446       city  villa gesell     argentina   \n",
       "\n",
       "                                  place_bounding_box  \\\n",
       "5  POLYGON ((-59.46739 -34.69201, -59.39965 -34.6...   \n",
       "6  POLYGON ((-57.22167 -37.54968, -56.91513 -37.5...   \n",
       "\n",
       "                                         coordinates  \n",
       "5  0101000020E6100000BBB88D06F0B64DC0A72215C61652...  \n",
       "6  0101000020E6100000F702B342917C4CC0CE5147C7D5A0...  "
      ]
     },
     "execution_count": 11,
     "metadata": {},
     "output_type": "execute_result"
    }
   ],
   "source": [
    "tweets_with_geo.head(2)"
   ]
  },
  {
   "cell_type": "code",
   "execution_count": 12,
   "metadata": {},
   "outputs": [],
   "source": [
    "tweets_with_geo[\"longitude_centroid\"] = tweets_with_geo.geometry.centroid.x\n",
    "tweets_with_geo[\"latitude_centroid\"] = tweets_with_geo.geometry.centroid.y"
   ]
  },
  {
   "cell_type": "code",
   "execution_count": 13,
   "metadata": {},
   "outputs": [],
   "source": [
    "tweets_with_geo.to_pickle('../../../../dosT/ffunes/tweets_with_geolocalization.pkl')"
   ]
  },
  {
   "cell_type": "markdown",
   "metadata": {},
   "source": [
    "Incluimos geonames"
   ]
  },
  {
   "cell_type": "code",
   "execution_count": 3,
   "metadata": {},
   "outputs": [],
   "source": [
    "usecols = [\n",
    "    \"geonameid\",\n",
    "    \"name\",\n",
    "    \"asciiname\",\n",
    "    \"alternatenames\",\n",
    "    \"latitude\",\n",
    "    \"longitude\",\n",
    "    \"population\",\n",
    "    \"timezone\",\n",
    "    \"country code\"\n",
    "]\n",
    "\n",
    "dtypes = {\n",
    "    \"geonameid\": np.int32,\n",
    "    \"name\": str,\n",
    "    \"asciiname\": str,\n",
    "    \"alternatenames\": str,\n",
    "    \"latitude\": np.float32,\n",
    "    \"longitude\": np.float32,\n",
    "    \"feature class\": str,\n",
    "    \"feature code\": str,\n",
    "    \"country code\": str,\n",
    "    \"cc2\": str,\n",
    "    \"admin1 code\": str,\n",
    "    \"admin2 code\": str,\n",
    "    \"admin3 code\": str,\n",
    "    \"admin4 code\": str,\n",
    "    \"population\": np.uint64,\n",
    "    \"elevation\": np.float32,\n",
    "    \"dem\": str,\n",
    "    \"timezone\": str,\n",
    "    \"modification date\": str    \n",
    "}"
   ]
  },
  {
   "cell_type": "code",
   "execution_count": 4,
   "metadata": {},
   "outputs": [],
   "source": [
    "geonames = pd.read_csv(\"../geonames/geonames.csv\", dtype=dtypes, usecols=usecols)"
   ]
  },
  {
   "cell_type": "code",
   "execution_count": 5,
   "metadata": {},
   "outputs": [],
   "source": [
    "countries_sp = pd.read_csv('../countries_csv/lista_paises_espanol.csv',\n",
    "                           sep=\"\\t\",\n",
    "                           names=[\"Code\", \"Name\", \"-\"]\n",
    "                          )\n",
    "del countries_sp[\"-\"]"
   ]
  },
  {
   "cell_type": "code",
   "execution_count": 6,
   "metadata": {},
   "outputs": [],
   "source": [
    "countries_en = pd.read_csv('../countries_csv/lista_paises_ingles.csv',\n",
    "                           sep=\"\\t\",\n",
    "                           names=[\"Code\", \"Name\", \"-\"]\n",
    "                          )\n",
    "del countries_en[\"-\"]"
   ]
  },
  {
   "cell_type": "code",
   "execution_count": 7,
   "metadata": {},
   "outputs": [],
   "source": [
    "countries = pd.concat([countries_sp, countries_en])"
   ]
  },
  {
   "cell_type": "code",
   "execution_count": 8,
   "metadata": {},
   "outputs": [
    {
     "data": {
      "text/html": [
       "<div>\n",
       "<style scoped>\n",
       "    .dataframe tbody tr th:only-of-type {\n",
       "        vertical-align: middle;\n",
       "    }\n",
       "\n",
       "    .dataframe tbody tr th {\n",
       "        vertical-align: top;\n",
       "    }\n",
       "\n",
       "    .dataframe thead th {\n",
       "        text-align: right;\n",
       "    }\n",
       "</style>\n",
       "<table border=\"1\" class=\"dataframe\">\n",
       "  <thead>\n",
       "    <tr style=\"text-align: right;\">\n",
       "      <th></th>\n",
       "      <th>Code</th>\n",
       "      <th>Name</th>\n",
       "    </tr>\n",
       "  </thead>\n",
       "  <tbody>\n",
       "    <tr>\n",
       "      <th>0</th>\n",
       "      <td>AF</td>\n",
       "      <td>Afganistán</td>\n",
       "    </tr>\n",
       "    <tr>\n",
       "      <th>1</th>\n",
       "      <td>AL</td>\n",
       "      <td>Albania</td>\n",
       "    </tr>\n",
       "  </tbody>\n",
       "</table>\n",
       "</div>"
      ],
      "text/plain": [
       "  Code        Name\n",
       "0   AF  Afganistán\n",
       "1   AL     Albania"
      ]
     },
     "execution_count": 8,
     "metadata": {},
     "output_type": "execute_result"
    }
   ],
   "source": [
    "countries.head(2)"
   ]
  },
  {
   "cell_type": "code",
   "execution_count": 11,
   "metadata": {},
   "outputs": [],
   "source": [
    "countries[\"Name\"] = countries.apply(to_lower, axis=1, column=\"Name\")"
   ]
  },
  {
   "cell_type": "code",
   "execution_count": 12,
   "metadata": {},
   "outputs": [
    {
     "data": {
      "text/html": [
       "<div>\n",
       "<style scoped>\n",
       "    .dataframe tbody tr th:only-of-type {\n",
       "        vertical-align: middle;\n",
       "    }\n",
       "\n",
       "    .dataframe tbody tr th {\n",
       "        vertical-align: top;\n",
       "    }\n",
       "\n",
       "    .dataframe thead th {\n",
       "        text-align: right;\n",
       "    }\n",
       "</style>\n",
       "<table border=\"1\" class=\"dataframe\">\n",
       "  <thead>\n",
       "    <tr style=\"text-align: right;\">\n",
       "      <th></th>\n",
       "      <th>Code</th>\n",
       "      <th>Name</th>\n",
       "    </tr>\n",
       "  </thead>\n",
       "  <tbody>\n",
       "    <tr>\n",
       "      <th>0</th>\n",
       "      <td>AF</td>\n",
       "      <td>afganistán</td>\n",
       "    </tr>\n",
       "    <tr>\n",
       "      <th>1</th>\n",
       "      <td>AL</td>\n",
       "      <td>albania</td>\n",
       "    </tr>\n",
       "  </tbody>\n",
       "</table>\n",
       "</div>"
      ],
      "text/plain": [
       "  Code        Name\n",
       "0   AF  afganistán\n",
       "1   AL     albania"
      ]
     },
     "execution_count": 12,
     "metadata": {},
     "output_type": "execute_result"
    }
   ],
   "source": [
    "countries.head(2)"
   ]
  },
  {
   "cell_type": "code",
   "execution_count": 13,
   "metadata": {},
   "outputs": [],
   "source": [
    "countries.drop_duplicates(inplace=True)"
   ]
  },
  {
   "cell_type": "code",
   "execution_count": 14,
   "metadata": {},
   "outputs": [
    {
     "data": {
      "text/html": [
       "<div>\n",
       "<style scoped>\n",
       "    .dataframe tbody tr th:only-of-type {\n",
       "        vertical-align: middle;\n",
       "    }\n",
       "\n",
       "    .dataframe tbody tr th {\n",
       "        vertical-align: top;\n",
       "    }\n",
       "\n",
       "    .dataframe thead th {\n",
       "        text-align: right;\n",
       "    }\n",
       "</style>\n",
       "<table border=\"1\" class=\"dataframe\">\n",
       "  <thead>\n",
       "    <tr style=\"text-align: right;\">\n",
       "      <th></th>\n",
       "      <th>Code</th>\n",
       "      <th>Name</th>\n",
       "    </tr>\n",
       "  </thead>\n",
       "  <tbody>\n",
       "    <tr>\n",
       "      <th>0</th>\n",
       "      <td>AF</td>\n",
       "      <td>afganistán</td>\n",
       "    </tr>\n",
       "    <tr>\n",
       "      <th>1</th>\n",
       "      <td>AL</td>\n",
       "      <td>albania</td>\n",
       "    </tr>\n",
       "  </tbody>\n",
       "</table>\n",
       "</div>"
      ],
      "text/plain": [
       "  Code        Name\n",
       "0   AF  afganistán\n",
       "1   AL     albania"
      ]
     },
     "execution_count": 14,
     "metadata": {},
     "output_type": "execute_result"
    }
   ],
   "source": [
    "countries.head(2)"
   ]
  },
  {
   "cell_type": "code",
   "execution_count": 15,
   "metadata": {},
   "outputs": [
    {
     "data": {
      "text/plain": [
       "(192540, 9)"
      ]
     },
     "execution_count": 15,
     "metadata": {},
     "output_type": "execute_result"
    }
   ],
   "source": [
    "geonames.shape"
   ]
  },
  {
   "cell_type": "code",
   "execution_count": 16,
   "metadata": {},
   "outputs": [],
   "source": [
    "geonames = pd.merge(\n",
    "    left=geonames,\n",
    "    right=countries,\n",
    "    how='inner',\n",
    "    left_on='country code',\n",
    "    right_on='Code'\n",
    ")"
   ]
  },
  {
   "cell_type": "code",
   "execution_count": 17,
   "metadata": {},
   "outputs": [
    {
     "data": {
      "text/plain": [
       "(339332, 11)"
      ]
     },
     "execution_count": 17,
     "metadata": {},
     "output_type": "execute_result"
    }
   ],
   "source": [
    "geonames.shape"
   ]
  },
  {
   "cell_type": "code",
   "execution_count": 18,
   "metadata": {},
   "outputs": [
    {
     "data": {
      "text/html": [
       "<div>\n",
       "<style scoped>\n",
       "    .dataframe tbody tr th:only-of-type {\n",
       "        vertical-align: middle;\n",
       "    }\n",
       "\n",
       "    .dataframe tbody tr th {\n",
       "        vertical-align: top;\n",
       "    }\n",
       "\n",
       "    .dataframe thead th {\n",
       "        text-align: right;\n",
       "    }\n",
       "</style>\n",
       "<table border=\"1\" class=\"dataframe\">\n",
       "  <thead>\n",
       "    <tr style=\"text-align: right;\">\n",
       "      <th></th>\n",
       "      <th>geonameid</th>\n",
       "      <th>name</th>\n",
       "      <th>asciiname</th>\n",
       "      <th>alternatenames</th>\n",
       "      <th>latitude</th>\n",
       "      <th>longitude</th>\n",
       "      <th>country code</th>\n",
       "      <th>population</th>\n",
       "      <th>timezone</th>\n",
       "      <th>Code</th>\n",
       "      <th>Name</th>\n",
       "    </tr>\n",
       "  </thead>\n",
       "  <tbody>\n",
       "    <tr>\n",
       "      <th>0</th>\n",
       "      <td>3038999</td>\n",
       "      <td>soldeu</td>\n",
       "      <td>soldeu</td>\n",
       "      <td>NaN</td>\n",
       "      <td>42.576881</td>\n",
       "      <td>1.66769</td>\n",
       "      <td>AD</td>\n",
       "      <td>602</td>\n",
       "      <td>europe/andorra</td>\n",
       "      <td>AD</td>\n",
       "      <td>andorra</td>\n",
       "    </tr>\n",
       "    <tr>\n",
       "      <th>1</th>\n",
       "      <td>3039154</td>\n",
       "      <td>el tarter</td>\n",
       "      <td>el tarter</td>\n",
       "      <td>ehl tarter,эл тартер</td>\n",
       "      <td>42.579521</td>\n",
       "      <td>1.65362</td>\n",
       "      <td>AD</td>\n",
       "      <td>1052</td>\n",
       "      <td>europe/andorra</td>\n",
       "      <td>AD</td>\n",
       "      <td>andorra</td>\n",
       "    </tr>\n",
       "    <tr>\n",
       "      <th>2</th>\n",
       "      <td>3039163</td>\n",
       "      <td>sant julià de lòria</td>\n",
       "      <td>sant julia de loria</td>\n",
       "      <td>san julia,san julià,sant julia de loria,sant j...</td>\n",
       "      <td>42.463718</td>\n",
       "      <td>1.49129</td>\n",
       "      <td>AD</td>\n",
       "      <td>8022</td>\n",
       "      <td>europe/andorra</td>\n",
       "      <td>AD</td>\n",
       "      <td>andorra</td>\n",
       "    </tr>\n",
       "    <tr>\n",
       "      <th>3</th>\n",
       "      <td>3039604</td>\n",
       "      <td>pas de la casa</td>\n",
       "      <td>pas de la casa</td>\n",
       "      <td>pas de la kasa,пас де ла каса</td>\n",
       "      <td>42.542770</td>\n",
       "      <td>1.73361</td>\n",
       "      <td>AD</td>\n",
       "      <td>2363</td>\n",
       "      <td>europe/andorra</td>\n",
       "      <td>AD</td>\n",
       "      <td>andorra</td>\n",
       "    </tr>\n",
       "    <tr>\n",
       "      <th>4</th>\n",
       "      <td>3039678</td>\n",
       "      <td>ordino</td>\n",
       "      <td>ordino</td>\n",
       "      <td>ordino,ao er di nuo,orudino jiao qu,ордино,オルデ...</td>\n",
       "      <td>42.556229</td>\n",
       "      <td>1.53319</td>\n",
       "      <td>AD</td>\n",
       "      <td>3066</td>\n",
       "      <td>europe/andorra</td>\n",
       "      <td>AD</td>\n",
       "      <td>andorra</td>\n",
       "    </tr>\n",
       "  </tbody>\n",
       "</table>\n",
       "</div>"
      ],
      "text/plain": [
       "   geonameid                 name            asciiname  \\\n",
       "0    3038999               soldeu               soldeu   \n",
       "1    3039154            el tarter            el tarter   \n",
       "2    3039163  sant julià de lòria  sant julia de loria   \n",
       "3    3039604       pas de la casa       pas de la casa   \n",
       "4    3039678               ordino               ordino   \n",
       "\n",
       "                                      alternatenames   latitude  longitude  \\\n",
       "0                                                NaN  42.576881    1.66769   \n",
       "1                               ehl tarter,эл тартер  42.579521    1.65362   \n",
       "2  san julia,san julià,sant julia de loria,sant j...  42.463718    1.49129   \n",
       "3                      pas de la kasa,пас де ла каса  42.542770    1.73361   \n",
       "4  ordino,ao er di nuo,orudino jiao qu,ордино,オルデ...  42.556229    1.53319   \n",
       "\n",
       "  country code  population        timezone Code     Name  \n",
       "0           AD         602  europe/andorra   AD  andorra  \n",
       "1           AD        1052  europe/andorra   AD  andorra  \n",
       "2           AD        8022  europe/andorra   AD  andorra  \n",
       "3           AD        2363  europe/andorra   AD  andorra  \n",
       "4           AD        3066  europe/andorra   AD  andorra  "
      ]
     },
     "execution_count": 18,
     "metadata": {},
     "output_type": "execute_result"
    }
   ],
   "source": [
    "geonames.head()"
   ]
  },
  {
   "cell_type": "markdown",
   "metadata": {},
   "source": [
    "Separamos los distintos nombres de una ciudad y armamos un dataframe con esos nombres"
   ]
  },
  {
   "cell_type": "code",
   "execution_count": 19,
   "metadata": {},
   "outputs": [
    {
     "ename": "KeyboardInterrupt",
     "evalue": "",
     "output_type": "error",
     "traceback": [
      "\u001b[0;31m---------------------------------------------------------------------------\u001b[0m",
      "\u001b[0;31mKeyboardInterrupt\u001b[0m                         Traceback (most recent call last)",
      "\u001b[0;32m<ipython-input-19-6edfc789cbfe>\u001b[0m in \u001b[0;36m<module>\u001b[0;34m\u001b[0m\n\u001b[1;32m      1\u001b[0m geonames_splitted_names = (\n\u001b[1;32m      2\u001b[0m     \u001b[0mgeonames\u001b[0m\u001b[0;34m.\u001b[0m\u001b[0mset_index\u001b[0m\u001b[0;34m(\u001b[0m\u001b[0mgeonames\u001b[0m\u001b[0;34m.\u001b[0m\u001b[0mcolumns\u001b[0m\u001b[0;34m.\u001b[0m\u001b[0mdrop\u001b[0m\u001b[0;34m(\u001b[0m\u001b[0;34m'alternatenames'\u001b[0m\u001b[0;34m,\u001b[0m\u001b[0;36m1\u001b[0m\u001b[0;34m)\u001b[0m\u001b[0;34m.\u001b[0m\u001b[0mtolist\u001b[0m\u001b[0;34m(\u001b[0m\u001b[0;34m)\u001b[0m\u001b[0;34m)\u001b[0m\u001b[0;34m\u001b[0m\u001b[0m\n\u001b[0;32m----> 3\u001b[0;31m     \u001b[0;34m.\u001b[0m\u001b[0malternatenames\u001b[0m\u001b[0;34m.\u001b[0m\u001b[0mstr\u001b[0m\u001b[0;34m.\u001b[0m\u001b[0msplit\u001b[0m\u001b[0;34m(\u001b[0m\u001b[0;34m','\u001b[0m\u001b[0;34m,\u001b[0m \u001b[0mexpand\u001b[0m\u001b[0;34m=\u001b[0m\u001b[0;32mTrue\u001b[0m\u001b[0;34m)\u001b[0m\u001b[0;34m\u001b[0m\u001b[0m\n\u001b[0m\u001b[1;32m      4\u001b[0m     \u001b[0;34m.\u001b[0m\u001b[0mstack\u001b[0m\u001b[0;34m(\u001b[0m\u001b[0;34m)\u001b[0m\u001b[0;34m\u001b[0m\u001b[0m\n\u001b[1;32m      5\u001b[0m     \u001b[0;34m.\u001b[0m\u001b[0mreset_index\u001b[0m\u001b[0;34m(\u001b[0m\u001b[0;34m)\u001b[0m\u001b[0;34m\u001b[0m\u001b[0m\n",
      "\u001b[0;32m/var/home/ffunes/venv/lib/python3.5/site-packages/pandas/core/frame.py\u001b[0m in \u001b[0;36mstack\u001b[0;34m(self, level, dropna)\u001b[0m\n\u001b[1;32m   5927\u001b[0m             \u001b[0;32mreturn\u001b[0m \u001b[0mstack_multiple\u001b[0m\u001b[0;34m(\u001b[0m\u001b[0mself\u001b[0m\u001b[0;34m,\u001b[0m \u001b[0mlevel\u001b[0m\u001b[0;34m,\u001b[0m \u001b[0mdropna\u001b[0m\u001b[0;34m=\u001b[0m\u001b[0mdropna\u001b[0m\u001b[0;34m)\u001b[0m\u001b[0;34m\u001b[0m\u001b[0m\n\u001b[1;32m   5928\u001b[0m         \u001b[0;32melse\u001b[0m\u001b[0;34m:\u001b[0m\u001b[0;34m\u001b[0m\u001b[0m\n\u001b[0;32m-> 5929\u001b[0;31m             \u001b[0;32mreturn\u001b[0m \u001b[0mstack\u001b[0m\u001b[0;34m(\u001b[0m\u001b[0mself\u001b[0m\u001b[0;34m,\u001b[0m \u001b[0mlevel\u001b[0m\u001b[0;34m,\u001b[0m \u001b[0mdropna\u001b[0m\u001b[0;34m=\u001b[0m\u001b[0mdropna\u001b[0m\u001b[0;34m)\u001b[0m\u001b[0;34m\u001b[0m\u001b[0m\n\u001b[0m\u001b[1;32m   5930\u001b[0m \u001b[0;34m\u001b[0m\u001b[0m\n\u001b[1;32m   5931\u001b[0m     \u001b[0;32mdef\u001b[0m \u001b[0munstack\u001b[0m\u001b[0;34m(\u001b[0m\u001b[0mself\u001b[0m\u001b[0;34m,\u001b[0m \u001b[0mlevel\u001b[0m\u001b[0;34m=\u001b[0m\u001b[0;34m-\u001b[0m\u001b[0;36m1\u001b[0m\u001b[0;34m,\u001b[0m \u001b[0mfill_value\u001b[0m\u001b[0;34m=\u001b[0m\u001b[0;32mNone\u001b[0m\u001b[0;34m)\u001b[0m\u001b[0;34m:\u001b[0m\u001b[0;34m\u001b[0m\u001b[0m\n",
      "\u001b[0;32m/var/home/ffunes/venv/lib/python3.5/site-packages/pandas/core/reshape/reshape.py\u001b[0m in \u001b[0;36mstack\u001b[0;34m(frame, level, dropna)\u001b[0m\n\u001b[1;32m    483\u001b[0m     \u001b[0;32melif\u001b[0m \u001b[0misinstance\u001b[0m\u001b[0;34m(\u001b[0m\u001b[0mframe\u001b[0m\u001b[0;34m.\u001b[0m\u001b[0mindex\u001b[0m\u001b[0;34m,\u001b[0m \u001b[0mMultiIndex\u001b[0m\u001b[0;34m)\u001b[0m\u001b[0;34m:\u001b[0m\u001b[0;34m\u001b[0m\u001b[0m\n\u001b[1;32m    484\u001b[0m         \u001b[0mnew_levels\u001b[0m \u001b[0;34m=\u001b[0m \u001b[0mlist\u001b[0m\u001b[0;34m(\u001b[0m\u001b[0mframe\u001b[0m\u001b[0;34m.\u001b[0m\u001b[0mindex\u001b[0m\u001b[0;34m.\u001b[0m\u001b[0mlevels\u001b[0m\u001b[0;34m)\u001b[0m\u001b[0;34m\u001b[0m\u001b[0m\n\u001b[0;32m--> 485\u001b[0;31m         \u001b[0mnew_codes\u001b[0m \u001b[0;34m=\u001b[0m \u001b[0;34m[\u001b[0m\u001b[0mlab\u001b[0m\u001b[0;34m.\u001b[0m\u001b[0mrepeat\u001b[0m\u001b[0;34m(\u001b[0m\u001b[0mK\u001b[0m\u001b[0;34m)\u001b[0m \u001b[0;32mfor\u001b[0m \u001b[0mlab\u001b[0m \u001b[0;32min\u001b[0m \u001b[0mframe\u001b[0m\u001b[0;34m.\u001b[0m\u001b[0mindex\u001b[0m\u001b[0;34m.\u001b[0m\u001b[0mcodes\u001b[0m\u001b[0;34m]\u001b[0m\u001b[0;34m\u001b[0m\u001b[0m\n\u001b[0m\u001b[1;32m    486\u001b[0m \u001b[0;34m\u001b[0m\u001b[0m\n\u001b[1;32m    487\u001b[0m         \u001b[0mclev\u001b[0m\u001b[0;34m,\u001b[0m \u001b[0mclab\u001b[0m \u001b[0;34m=\u001b[0m \u001b[0mfactorize\u001b[0m\u001b[0;34m(\u001b[0m\u001b[0mframe\u001b[0m\u001b[0;34m.\u001b[0m\u001b[0mcolumns\u001b[0m\u001b[0;34m)\u001b[0m\u001b[0;34m\u001b[0m\u001b[0m\n",
      "\u001b[0;32m/var/home/ffunes/venv/lib/python3.5/site-packages/pandas/core/reshape/reshape.py\u001b[0m in \u001b[0;36m<listcomp>\u001b[0;34m(.0)\u001b[0m\n\u001b[1;32m    483\u001b[0m     \u001b[0;32melif\u001b[0m \u001b[0misinstance\u001b[0m\u001b[0;34m(\u001b[0m\u001b[0mframe\u001b[0m\u001b[0;34m.\u001b[0m\u001b[0mindex\u001b[0m\u001b[0;34m,\u001b[0m \u001b[0mMultiIndex\u001b[0m\u001b[0;34m)\u001b[0m\u001b[0;34m:\u001b[0m\u001b[0;34m\u001b[0m\u001b[0m\n\u001b[1;32m    484\u001b[0m         \u001b[0mnew_levels\u001b[0m \u001b[0;34m=\u001b[0m \u001b[0mlist\u001b[0m\u001b[0;34m(\u001b[0m\u001b[0mframe\u001b[0m\u001b[0;34m.\u001b[0m\u001b[0mindex\u001b[0m\u001b[0;34m.\u001b[0m\u001b[0mlevels\u001b[0m\u001b[0;34m)\u001b[0m\u001b[0;34m\u001b[0m\u001b[0m\n\u001b[0;32m--> 485\u001b[0;31m         \u001b[0mnew_codes\u001b[0m \u001b[0;34m=\u001b[0m \u001b[0;34m[\u001b[0m\u001b[0mlab\u001b[0m\u001b[0;34m.\u001b[0m\u001b[0mrepeat\u001b[0m\u001b[0;34m(\u001b[0m\u001b[0mK\u001b[0m\u001b[0;34m)\u001b[0m \u001b[0;32mfor\u001b[0m \u001b[0mlab\u001b[0m \u001b[0;32min\u001b[0m \u001b[0mframe\u001b[0m\u001b[0;34m.\u001b[0m\u001b[0mindex\u001b[0m\u001b[0;34m.\u001b[0m\u001b[0mcodes\u001b[0m\u001b[0;34m]\u001b[0m\u001b[0;34m\u001b[0m\u001b[0m\n\u001b[0m\u001b[1;32m    486\u001b[0m \u001b[0;34m\u001b[0m\u001b[0m\n\u001b[1;32m    487\u001b[0m         \u001b[0mclev\u001b[0m\u001b[0;34m,\u001b[0m \u001b[0mclab\u001b[0m \u001b[0;34m=\u001b[0m \u001b[0mfactorize\u001b[0m\u001b[0;34m(\u001b[0m\u001b[0mframe\u001b[0m\u001b[0;34m.\u001b[0m\u001b[0mcolumns\u001b[0m\u001b[0;34m)\u001b[0m\u001b[0;34m\u001b[0m\u001b[0m\n",
      "\u001b[0;31mKeyboardInterrupt\u001b[0m: "
     ]
    }
   ],
   "source": [
    "geonames_splitted_names = (\n",
    "    geonames.set_index(geonames.columns.drop('alternatenames',1).tolist())\n",
    "    .alternatenames.str.split(',', expand=True)\n",
    "    .stack()\n",
    "    .reset_index()\n",
    "    .rename(columns={0:'alternatenames'})\n",
    "    .loc[:, [\"alternatenames\", \"latitude\", \"longitude\", \"country code\", \"population\", \"Name\"]]\n",
    ")"
   ]
  },
  {
   "cell_type": "code",
   "execution_count": null,
   "metadata": {},
   "outputs": [],
   "source": [
    "geonames_splitted_names = pd.merge(\n",
    "    left=geonames_splitted_names,\n",
    "    right=geonames.loc[:, [\"asciiname\", \"latitude\", \"longitude\", \"country code\", \"population\", \"Name\"]].rename(columns={\"asciiname\": \"alternatenames\"}),\n",
    "    how='outer'\n",
    ")\n",
    "geonames_splitted_names = pd.merge(\n",
    "    left=geonames_splitted_names,\n",
    "    right=geonames.loc[:, [\"name\", \"latitude\", \"longitude\", \"country code\", \"population\", \"Name\"]].rename(columns={\"name\": \"alternatenames\"}),\n",
    "    how='outer'\n",
    ")"
   ]
  },
  {
   "cell_type": "code",
   "execution_count": null,
   "metadata": {},
   "outputs": [],
   "source": [
    "geonames_splitted_names.drop_duplicates(inplace=True)\n",
    "geonames_splitted_names.shape"
   ]
  },
  {
   "cell_type": "code",
   "execution_count": null,
   "metadata": {},
   "outputs": [],
   "source": [
    "geonames_splitted_names[\"alternatenames\"] = geonames_splitted_names.apply(to_lower, axis=1, column=\"alternatenames\")"
   ]
  },
  {
   "cell_type": "code",
   "execution_count": null,
   "metadata": {},
   "outputs": [],
   "source": [
    "geonames_splitted_names.drop_duplicates(inplace=True)\n",
    "geonames_splitted_names.shape"
   ]
  },
  {
   "cell_type": "markdown",
   "metadata": {},
   "source": [
    "Veamos cuantos Tweets tienen el place_name contemplado en el geonames"
   ]
  },
  {
   "cell_type": "markdown",
   "metadata": {},
   "source": [
    "Hay muchos lugares que incluyen mas de una latitud longitud para una misma provincia y pais (Por remover acentos, los sacamos, es ambiguo), también puede ser que sacar acentos logre que el nombre de un lugar que si lleva acento sea igual a otro que no lo lleva, es posible?"
   ]
  },
  {
   "cell_type": "code",
   "execution_count": null,
   "metadata": {},
   "outputs": [],
   "source": [
    "geonames_splitted_names.drop_duplicates(\n",
    "    subset=[\"alternatenames\", \"country code\", \"Name\"],\n",
    "    inplace=True\n",
    ")\n",
    "geonames_splitted_names.dropna(subset=[\"country code\"], inplace=True)\n",
    "geonames_splitted_names.shape"
   ]
  },
  {
   "cell_type": "code",
   "execution_count": null,
   "metadata": {},
   "outputs": [],
   "source": [
    "geonames_splitted_names.head(2)"
   ]
  },
  {
   "cell_type": "code",
   "execution_count": 36,
   "metadata": {},
   "outputs": [],
   "source": [
    "geonames_splitted_countries = geonames_splitted_names.groupby(\n",
    "        [\"alternatenames\", \"latitude\", \"longitude\", \"country code\", \"population\"]\n",
    "    )['Name'].apply(list).reset_index(name='countries')"
   ]
  },
  {
   "cell_type": "code",
   "execution_count": 37,
   "metadata": {},
   "outputs": [
    {
     "data": {
      "text/plain": [
       "(784346, 6)"
      ]
     },
     "execution_count": 37,
     "metadata": {},
     "output_type": "execute_result"
    }
   ],
   "source": [
    "geonames_splitted_countries.shape"
   ]
  },
  {
   "cell_type": "code",
   "execution_count": 38,
   "metadata": {},
   "outputs": [],
   "source": [
    "geonames_splitted_countries.to_pickle('../../../../dosT/ffunes/geonames_splitted_countries_parsed.pkl')"
   ]
  },
  {
   "cell_type": "code",
   "execution_count": 115,
   "metadata": {},
   "outputs": [],
   "source": [
    "geonames_splitted_names.rename(columns={'Name': 'country'}, inplace=True)"
   ]
  },
  {
   "cell_type": "code",
   "execution_count": 116,
   "metadata": {},
   "outputs": [],
   "source": [
    "geonames_splitted_names.to_pickle('../../../../dosT/ffunes/geonames_parsed.pkl')"
   ]
  },
  {
   "cell_type": "code",
   "execution_count": 6,
   "metadata": {},
   "outputs": [
    {
     "data": {
      "text/plain": [
       "(14333531, 9)"
      ]
     },
     "execution_count": 6,
     "metadata": {},
     "output_type": "execute_result"
    }
   ],
   "source": [
    "tweets_with_geo.shape"
   ]
  },
  {
   "cell_type": "markdown",
   "metadata": {},
   "source": [
    "Para asignar una coordenada exacta, vamos a tener que utilizar los bounding box para descubrir cual de todas las ciudades con el mismo nombre es a la que se refiere el Tweet. Vamos a utilizar los centroides de los bounding box\n"
   ]
  },
  {
   "cell_type": "code",
   "execution_count": 46,
   "metadata": {},
   "outputs": [
    {
     "data": {
      "text/plain": [
       "(11913589, 15)"
      ]
     },
     "execution_count": 46,
     "metadata": {},
     "output_type": "execute_result"
    }
   ],
   "source": [
    "tweets_with_geo_and_city = pd.merge(\n",
    "    left=tweets_with_geo,\n",
    "    right=geonames_splitted_names,\n",
    "    how='inner',\n",
    "    left_on=[\"place_name\", \"place_country\"],\n",
    "    right_on=[\"alternatenames\", \"country\"],\n",
    "    validate=\"m:m\"\n",
    ")\n",
    "\n",
    "tweets_with_geo_and_city.shape"
   ]
  },
  {
   "cell_type": "markdown",
   "metadata": {},
   "source": [
    "Distancias queda deprecado"
   ]
  },
  {
   "cell_type": "code",
   "execution_count": 8,
   "metadata": {},
   "outputs": [],
   "source": [
    "def euclidean_dist(x1, x2, y1, y2):\n",
    "    return pow(pow(x1-y1, 2) + pow(x2-y2, 2), 0.5)"
   ]
  },
  {
   "cell_type": "code",
   "execution_count": 9,
   "metadata": {},
   "outputs": [],
   "source": [
    "tweets_with_geo_and_city[\"dif_distance\"] = euclidean_dist(\n",
    "    tweets_with_geo_and_city[\"latitude\"],\n",
    "    tweets_with_geo_and_city[\"longitude\"],\n",
    "    tweets_with_geo_and_city[\"latitude_centroid\"],\n",
    "    tweets_with_geo_and_city[\"longitude_centroid\"]\n",
    ")"
   ]
  },
  {
   "cell_type": "code",
   "execution_count": 31,
   "metadata": {},
   "outputs": [],
   "source": [
    "min_distance = (tweets_with_geo_and_city\n",
    "    .loc[:, [\"id\", \"place_name\", \"dif_distance\"]]\n",
    "    .groupby([\"id\", \"place_name\"])\n",
    "    .min()\n",
    "    .reset_index())\n",
    "\n",
    "tweets_with_geo_and_city = pd.merge(\n",
    "    left=tweets_with_geo_and_city,\n",
    "    right=min_distance,\n",
    "    how='inner',\n",
    "    left_on=[\"id\", \"place_name\", \"dif_distance\"],\n",
    "    right_on=[\"id\", \"place_name\", \"dif_distance\"]\n",
    ")"
   ]
  },
  {
   "cell_type": "markdown",
   "metadata": {},
   "source": [
    "De los 14.000.000 Tweets, 11.913.589 incluyen paises de geonames, vemos que hay una coincidencia casi del 100%. ¿Que pasa en el resto de los casos? Geonames contiene el nombre del lugar pero de otra ciudad y, al tener menor distancia, queda esa elegida, por lo que si no coincide en ciudad, se descartarian esos datos pero en la mayoria de casos, lo que ocurre es que \"country\" es null por el parseo y realmente en \"province\" se encuentra, solo aplica para casos fuera de Argentina"
   ]
  },
  {
   "cell_type": "code",
   "execution_count": 49,
   "metadata": {},
   "outputs": [],
   "source": [
    "tweets_with_geo_and_city.to_pickle('../../../../dosT/ffunes/tweets_with_geolocalization_geonames.pkl')"
   ]
  },
  {
   "cell_type": "markdown",
   "metadata": {},
   "source": [
    "Veamos si la ubicacion de los usuarios es un dato confiable"
   ]
  },
  {
   "cell_type": "markdown",
   "metadata": {},
   "source": [
    "¿Cuantos usuarios activos tenemos en total?"
   ]
  },
  {
   "cell_type": "code",
   "execution_count": 38,
   "metadata": {},
   "outputs": [
    {
     "data": {
      "text/html": [
       "<div>\n",
       "<style scoped>\n",
       "    .dataframe tbody tr th:only-of-type {\n",
       "        vertical-align: middle;\n",
       "    }\n",
       "\n",
       "    .dataframe tbody tr th {\n",
       "        vertical-align: top;\n",
       "    }\n",
       "\n",
       "    .dataframe thead th {\n",
       "        text-align: right;\n",
       "    }\n",
       "</style>\n",
       "<table border=\"1\" class=\"dataframe\">\n",
       "  <thead>\n",
       "    <tr style=\"text-align: right;\">\n",
       "      <th></th>\n",
       "      <th>count</th>\n",
       "    </tr>\n",
       "  </thead>\n",
       "  <tbody>\n",
       "    <tr>\n",
       "      <th>0</th>\n",
       "      <td>2020784</td>\n",
       "    </tr>\n",
       "  </tbody>\n",
       "</table>\n",
       "</div>"
      ],
      "text/plain": [
       "     count\n",
       "0  2020784"
      ]
     },
     "execution_count": 38,
     "metadata": {},
     "output_type": "execute_result"
    }
   ],
   "source": [
    "pd.read_sql_query('SELECT COUNT(*) FROM users',con=conn)"
   ]
  },
  {
   "cell_type": "code",
   "execution_count": 50,
   "metadata": {},
   "outputs": [],
   "source": [
    "users = pd.read_sql_query('SELECT * FROM users WHERE location IS NOT NULL',con=conn)"
   ]
  },
  {
   "cell_type": "markdown",
   "metadata": {},
   "source": [
    "De los cuales aproximadamente 1 millón proveen su ubicacion en el perfil, veamos si es un dato confiable"
   ]
  },
  {
   "cell_type": "code",
   "execution_count": 51,
   "metadata": {},
   "outputs": [
    {
     "data": {
      "text/plain": [
       "(1063795, 13)"
      ]
     },
     "execution_count": 51,
     "metadata": {},
     "output_type": "execute_result"
    }
   ],
   "source": [
    "users.shape"
   ]
  },
  {
   "cell_type": "code",
   "execution_count": 52,
   "metadata": {},
   "outputs": [
    {
     "data": {
      "text/html": [
       "<div>\n",
       "<style scoped>\n",
       "    .dataframe tbody tr th:only-of-type {\n",
       "        vertical-align: middle;\n",
       "    }\n",
       "\n",
       "    .dataframe tbody tr th {\n",
       "        vertical-align: top;\n",
       "    }\n",
       "\n",
       "    .dataframe thead th {\n",
       "        text-align: right;\n",
       "    }\n",
       "</style>\n",
       "<table border=\"1\" class=\"dataframe\">\n",
       "  <thead>\n",
       "    <tr style=\"text-align: right;\">\n",
       "      <th></th>\n",
       "      <th>id</th>\n",
       "      <th>is_private</th>\n",
       "      <th>favourites_count</th>\n",
       "      <th>followers_count</th>\n",
       "      <th>friends_count</th>\n",
       "      <th>listed_count</th>\n",
       "      <th>statuses_count</th>\n",
       "      <th>location</th>\n",
       "      <th>support</th>\n",
       "      <th>screen_name</th>\n",
       "      <th>name</th>\n",
       "      <th>loc_in_argentina</th>\n",
       "      <th>important</th>\n",
       "    </tr>\n",
       "  </thead>\n",
       "  <tbody>\n",
       "    <tr>\n",
       "      <th>0</th>\n",
       "      <td>769762046539956224</td>\n",
       "      <td>False</td>\n",
       "      <td>75</td>\n",
       "      <td>48</td>\n",
       "      <td>260</td>\n",
       "      <td>1</td>\n",
       "      <td>300</td>\n",
       "      <td>Bogotá, D.C., Colombia</td>\n",
       "      <td>juntosporelcambio</td>\n",
       "      <td>rurdanetaporti1</td>\n",
       "      <td>Rubén</td>\n",
       "      <td>no_arg</td>\n",
       "      <td>False</td>\n",
       "    </tr>\n",
       "    <tr>\n",
       "      <th>1</th>\n",
       "      <td>766253511482933249</td>\n",
       "      <td>False</td>\n",
       "      <td>46</td>\n",
       "      <td>1</td>\n",
       "      <td>63</td>\n",
       "      <td>0</td>\n",
       "      <td>40</td>\n",
       "      <td>Santiago del Estero, Argentina</td>\n",
       "      <td>None</td>\n",
       "      <td>meluhjackson25</td>\n",
       "      <td>Melina Pintos</td>\n",
       "      <td>arg</td>\n",
       "      <td>True</td>\n",
       "    </tr>\n",
       "    <tr>\n",
       "      <th>2</th>\n",
       "      <td>769748094</td>\n",
       "      <td>False</td>\n",
       "      <td>181</td>\n",
       "      <td>88</td>\n",
       "      <td>875</td>\n",
       "      <td>1</td>\n",
       "      <td>80</td>\n",
       "      <td>Sao Paulo, Brazil</td>\n",
       "      <td>frentedetodos</td>\n",
       "      <td>GBRInvest</td>\n",
       "      <td>GBRInvest</td>\n",
       "      <td>no_arg</td>\n",
       "      <td>False</td>\n",
       "    </tr>\n",
       "  </tbody>\n",
       "</table>\n",
       "</div>"
      ],
      "text/plain": [
       "                   id  is_private  favourites_count  followers_count  \\\n",
       "0  769762046539956224       False                75               48   \n",
       "1  766253511482933249       False                46                1   \n",
       "2           769748094       False               181               88   \n",
       "\n",
       "   friends_count  listed_count  statuses_count  \\\n",
       "0            260             1             300   \n",
       "1             63             0              40   \n",
       "2            875             1              80   \n",
       "\n",
       "                         location            support      screen_name  \\\n",
       "0          Bogotá, D.C., Colombia  juntosporelcambio  rurdanetaporti1   \n",
       "1  Santiago del Estero, Argentina               None   meluhjackson25   \n",
       "2               Sao Paulo, Brazil      frentedetodos        GBRInvest   \n",
       "\n",
       "            name loc_in_argentina  important  \n",
       "0          Rubén           no_arg      False  \n",
       "1  Melina Pintos              arg       True  \n",
       "2      GBRInvest           no_arg      False  "
      ]
     },
     "execution_count": 52,
     "metadata": {},
     "output_type": "execute_result"
    }
   ],
   "source": [
    "users.head(3)"
   ]
  },
  {
   "cell_type": "markdown",
   "metadata": {},
   "source": [
    "Unificamos la información para manejar strings"
   ]
  },
  {
   "cell_type": "code",
   "execution_count": 53,
   "metadata": {},
   "outputs": [],
   "source": [
    "users[\"location\"] = users.apply(to_lower, axis=1, column=\"location\")"
   ]
  },
  {
   "cell_type": "markdown",
   "metadata": {},
   "source": [
    "Vemos que tenemos que parsear el campo de location"
   ]
  },
  {
   "cell_type": "code",
   "execution_count": 54,
   "metadata": {},
   "outputs": [
    {
     "data": {
      "text/plain": [
       "0            bogotá, d.c., colombia\n",
       "1    santiago del estero, argentina\n",
       "2                 sao paulo, brazil\n",
       "3                 araure, venezuela\n",
       "4            san felix. edo bolivar\n",
       "5                         venezuela\n",
       "6                el carmen, ecuador\n",
       "7                  bogota, colombia\n",
       "8      santiago del estero(capital)\n",
       "9                             chile\n",
       "Name: location, dtype: object"
      ]
     },
     "execution_count": 54,
     "metadata": {},
     "output_type": "execute_result"
    }
   ],
   "source": [
    "users[\"location\"].head(10)"
   ]
  },
  {
   "cell_type": "markdown",
   "metadata": {},
   "source": [
    "Veamos si la ubicación que incluye coincide con la mayoria de sus tweets"
   ]
  },
  {
   "cell_type": "code",
   "execution_count": 3,
   "metadata": {},
   "outputs": [],
   "source": [
    "tweets_with_geo_and_city = pd.read_pickle(\"../../../../dosT/ffunes/tweets_with_geolocalization_geonames.pkl\")"
   ]
  },
  {
   "cell_type": "code",
   "execution_count": 4,
   "metadata": {},
   "outputs": [
    {
     "data": {
      "text/plain": [
       "Index(['id', 'user_id', 'place_type', 'place_name', 'place_country',\n",
       "       'place_bounding_box', 'coordinates', 'longitude_centroid',\n",
       "       'latitude_centroid', 'alternatenames', 'latitude', 'longitude',\n",
       "       'country code', 'population', 'Name'],\n",
       "      dtype='object')"
      ]
     },
     "execution_count": 4,
     "metadata": {},
     "output_type": "execute_result"
    }
   ],
   "source": [
    "tweets_with_geo_and_city.columns"
   ]
  },
  {
   "cell_type": "code",
   "execution_count": 91,
   "metadata": {},
   "outputs": [
    {
     "data": {
      "text/plain": [
       "(9291175, 19)"
      ]
     },
     "execution_count": 91,
     "metadata": {},
     "output_type": "execute_result"
    }
   ],
   "source": [
    "users_with_tweets = pd.merge(\n",
    "    left=users,\n",
    "    right=tweets_with_geo_and_city.loc[:, [\"user_id\", \"place_type\", \"place_name\", \"place_country\",\n",
    "                                          \"latitude\", \"longitude\"]],\n",
    "    how='inner',\n",
    "    left_on=[\"id\"],\n",
    "    right_on=[\"user_id\"],\n",
    "    validate=\"1:m\"\n",
    ")\n",
    "\n",
    "users_with_tweets.shape"
   ]
  },
  {
   "cell_type": "code",
   "execution_count": 92,
   "metadata": {},
   "outputs": [],
   "source": [
    "most_common_place_users = (users_with_tweets.groupby([\"user_id\", \"place_name\", \"place_country\"])\n",
    "    .count()\n",
    "    .sort_values(\"id\", ascending=False)\n",
    "    .reset_index()\n",
    "    .drop_duplicates(\"user_id\", keep='first'))"
   ]
  },
  {
   "cell_type": "code",
   "execution_count": 95,
   "metadata": {},
   "outputs": [],
   "source": [
    "users_with_tweets.drop_duplicates(inplace=True)"
   ]
  },
  {
   "cell_type": "code",
   "execution_count": 98,
   "metadata": {},
   "outputs": [
    {
     "data": {
      "text/plain": [
       "(324289, 19)"
      ]
     },
     "execution_count": 98,
     "metadata": {},
     "output_type": "execute_result"
    }
   ],
   "source": [
    "users_with_tweets.shape"
   ]
  },
  {
   "cell_type": "code",
   "execution_count": 99,
   "metadata": {},
   "outputs": [],
   "source": [
    "del users_with_tweets[\"user_id\"]"
   ]
  },
  {
   "cell_type": "code",
   "execution_count": 100,
   "metadata": {},
   "outputs": [
    {
     "data": {
      "text/html": [
       "<div>\n",
       "<style scoped>\n",
       "    .dataframe tbody tr th:only-of-type {\n",
       "        vertical-align: middle;\n",
       "    }\n",
       "\n",
       "    .dataframe tbody tr th {\n",
       "        vertical-align: top;\n",
       "    }\n",
       "\n",
       "    .dataframe thead th {\n",
       "        text-align: right;\n",
       "    }\n",
       "</style>\n",
       "<table border=\"1\" class=\"dataframe\">\n",
       "  <thead>\n",
       "    <tr style=\"text-align: right;\">\n",
       "      <th></th>\n",
       "      <th>id</th>\n",
       "      <th>is_private</th>\n",
       "      <th>favourites_count</th>\n",
       "      <th>followers_count</th>\n",
       "      <th>friends_count</th>\n",
       "      <th>listed_count</th>\n",
       "      <th>statuses_count</th>\n",
       "      <th>location</th>\n",
       "      <th>support</th>\n",
       "      <th>screen_name</th>\n",
       "      <th>name</th>\n",
       "      <th>loc_in_argentina</th>\n",
       "      <th>important</th>\n",
       "      <th>place_type</th>\n",
       "      <th>place_name</th>\n",
       "      <th>place_country</th>\n",
       "      <th>latitude</th>\n",
       "      <th>longitude</th>\n",
       "    </tr>\n",
       "  </thead>\n",
       "  <tbody>\n",
       "    <tr>\n",
       "      <th>0</th>\n",
       "      <td>773970163502870528</td>\n",
       "      <td>False</td>\n",
       "      <td>974</td>\n",
       "      <td>68</td>\n",
       "      <td>312</td>\n",
       "      <td>0</td>\n",
       "      <td>647</td>\n",
       "      <td>guadalajara de buga, colombia</td>\n",
       "      <td>frentedetodos</td>\n",
       "      <td>TaliaRada</td>\n",
       "      <td>Natalia Herrada López</td>\n",
       "      <td>no_arg</td>\n",
       "      <td>False</td>\n",
       "      <td>city</td>\n",
       "      <td>guadalajara de buga</td>\n",
       "      <td>colombia</td>\n",
       "      <td>3.900890</td>\n",
       "      <td>-76.297829</td>\n",
       "    </tr>\n",
       "    <tr>\n",
       "      <th>3</th>\n",
       "      <td>77573705</td>\n",
       "      <td>False</td>\n",
       "      <td>1812</td>\n",
       "      <td>314</td>\n",
       "      <td>429</td>\n",
       "      <td>6</td>\n",
       "      <td>7271</td>\n",
       "      <td>quito, ecuador</td>\n",
       "      <td>juntosporelcambio</td>\n",
       "      <td>jjaltamirano1</td>\n",
       "      <td>Jenny Altamirano</td>\n",
       "      <td>no_arg</td>\n",
       "      <td>False</td>\n",
       "      <td>city</td>\n",
       "      <td>quito</td>\n",
       "      <td>ecuador</td>\n",
       "      <td>-0.229850</td>\n",
       "      <td>-78.524948</td>\n",
       "    </tr>\n",
       "    <tr>\n",
       "      <th>13</th>\n",
       "      <td>782687718576840704</td>\n",
       "      <td>False</td>\n",
       "      <td>227</td>\n",
       "      <td>5</td>\n",
       "      <td>89</td>\n",
       "      <td>0</td>\n",
       "      <td>259</td>\n",
       "      <td>tolosa, españa</td>\n",
       "      <td>juntosporelcambio</td>\n",
       "      <td>MariaMissmu</td>\n",
       "      <td>María</td>\n",
       "      <td>no_arg</td>\n",
       "      <td>False</td>\n",
       "      <td>city</td>\n",
       "      <td>tolosa</td>\n",
       "      <td>españa</td>\n",
       "      <td>43.134838</td>\n",
       "      <td>-2.078010</td>\n",
       "    </tr>\n",
       "    <tr>\n",
       "      <th>30</th>\n",
       "      <td>781920345536225280</td>\n",
       "      <td>False</td>\n",
       "      <td>1294</td>\n",
       "      <td>10</td>\n",
       "      <td>202</td>\n",
       "      <td>0</td>\n",
       "      <td>142</td>\n",
       "      <td>san pedro, argentina</td>\n",
       "      <td>juntosporelcambio</td>\n",
       "      <td>brem_yexalen</td>\n",
       "      <td>Brem Rojas Rolón</td>\n",
       "      <td>arg</td>\n",
       "      <td>True</td>\n",
       "      <td>city</td>\n",
       "      <td>san pedro</td>\n",
       "      <td>argentina</td>\n",
       "      <td>-33.679180</td>\n",
       "      <td>-59.666328</td>\n",
       "    </tr>\n",
       "    <tr>\n",
       "      <th>35</th>\n",
       "      <td>78502559</td>\n",
       "      <td>False</td>\n",
       "      <td>3487</td>\n",
       "      <td>52</td>\n",
       "      <td>536</td>\n",
       "      <td>0</td>\n",
       "      <td>7491</td>\n",
       "      <td>ecuador</td>\n",
       "      <td>frentedetodos</td>\n",
       "      <td>sergiosmallvill</td>\n",
       "      <td>Sergio R&amp;R</td>\n",
       "      <td>no_arg</td>\n",
       "      <td>False</td>\n",
       "      <td>city</td>\n",
       "      <td>guayaquil</td>\n",
       "      <td>ecuador</td>\n",
       "      <td>-2.196160</td>\n",
       "      <td>-79.886208</td>\n",
       "    </tr>\n",
       "  </tbody>\n",
       "</table>\n",
       "</div>"
      ],
      "text/plain": [
       "                    id  is_private  favourites_count  followers_count  \\\n",
       "0   773970163502870528       False               974               68   \n",
       "3             77573705       False              1812              314   \n",
       "13  782687718576840704       False               227                5   \n",
       "30  781920345536225280       False              1294               10   \n",
       "35            78502559       False              3487               52   \n",
       "\n",
       "    friends_count  listed_count  statuses_count  \\\n",
       "0             312             0             647   \n",
       "3             429             6            7271   \n",
       "13             89             0             259   \n",
       "30            202             0             142   \n",
       "35            536             0            7491   \n",
       "\n",
       "                         location            support      screen_name  \\\n",
       "0   guadalajara de buga, colombia      frentedetodos        TaliaRada   \n",
       "3                  quito, ecuador  juntosporelcambio    jjaltamirano1   \n",
       "13                 tolosa, españa  juntosporelcambio      MariaMissmu   \n",
       "30           san pedro, argentina  juntosporelcambio     brem_yexalen   \n",
       "35                        ecuador      frentedetodos  sergiosmallvill   \n",
       "\n",
       "                     name loc_in_argentina  important place_type  \\\n",
       "0   Natalia Herrada López           no_arg      False       city   \n",
       "3        Jenny Altamirano           no_arg      False       city   \n",
       "13                  María           no_arg      False       city   \n",
       "30       Brem Rojas Rolón              arg       True       city   \n",
       "35             Sergio R&R           no_arg      False       city   \n",
       "\n",
       "             place_name place_country   latitude  longitude  \n",
       "0   guadalajara de buga      colombia   3.900890 -76.297829  \n",
       "3                 quito       ecuador  -0.229850 -78.524948  \n",
       "13               tolosa        españa  43.134838  -2.078010  \n",
       "30            san pedro     argentina -33.679180 -59.666328  \n",
       "35            guayaquil       ecuador  -2.196160 -79.886208  "
      ]
     },
     "execution_count": 100,
     "metadata": {},
     "output_type": "execute_result"
    }
   ],
   "source": [
    "users_with_tweets.head()"
   ]
  },
  {
   "cell_type": "code",
   "execution_count": 106,
   "metadata": {},
   "outputs": [
    {
     "data": {
      "text/plain": [
       "(131938, 19)"
      ]
     },
     "execution_count": 106,
     "metadata": {},
     "output_type": "execute_result"
    }
   ],
   "source": [
    "users_with_location = pd.merge(\n",
    "    left=users_with_tweets,\n",
    "    right=most_common_place_users.loc[:, [\"user_id\", \"place_name\", \"place_country\"]],\n",
    "    how='inner',\n",
    "    left_on=[\"id\", \"place_name\", \"place_country\"],\n",
    "    right_on=[\"user_id\", \"place_name\", \"place_country\"]\n",
    ")\n",
    "\n",
    "users_with_location.shape"
   ]
  },
  {
   "cell_type": "code",
   "execution_count": 110,
   "metadata": {},
   "outputs": [
    {
     "data": {
      "text/html": [
       "<div>\n",
       "<style scoped>\n",
       "    .dataframe tbody tr th:only-of-type {\n",
       "        vertical-align: middle;\n",
       "    }\n",
       "\n",
       "    .dataframe tbody tr th {\n",
       "        vertical-align: top;\n",
       "    }\n",
       "\n",
       "    .dataframe thead th {\n",
       "        text-align: right;\n",
       "    }\n",
       "</style>\n",
       "<table border=\"1\" class=\"dataframe\">\n",
       "  <thead>\n",
       "    <tr style=\"text-align: right;\">\n",
       "      <th></th>\n",
       "      <th>id</th>\n",
       "      <th>is_private</th>\n",
       "      <th>favourites_count</th>\n",
       "      <th>followers_count</th>\n",
       "      <th>friends_count</th>\n",
       "      <th>listed_count</th>\n",
       "      <th>statuses_count</th>\n",
       "      <th>location</th>\n",
       "      <th>support</th>\n",
       "      <th>screen_name</th>\n",
       "      <th>name</th>\n",
       "      <th>loc_in_argentina</th>\n",
       "      <th>important</th>\n",
       "      <th>place_type</th>\n",
       "      <th>place_name</th>\n",
       "      <th>place_country</th>\n",
       "      <th>latitude</th>\n",
       "      <th>longitude</th>\n",
       "    </tr>\n",
       "  </thead>\n",
       "  <tbody>\n",
       "    <tr>\n",
       "      <th>0</th>\n",
       "      <td>773970163502870528</td>\n",
       "      <td>False</td>\n",
       "      <td>974</td>\n",
       "      <td>68</td>\n",
       "      <td>312</td>\n",
       "      <td>0</td>\n",
       "      <td>647</td>\n",
       "      <td>guadalajara de buga, colombia</td>\n",
       "      <td>frentedetodos</td>\n",
       "      <td>TaliaRada</td>\n",
       "      <td>Natalia Herrada López</td>\n",
       "      <td>no_arg</td>\n",
       "      <td>False</td>\n",
       "      <td>city</td>\n",
       "      <td>guadalajara de buga</td>\n",
       "      <td>colombia</td>\n",
       "      <td>3.90089</td>\n",
       "      <td>-76.297829</td>\n",
       "    </tr>\n",
       "    <tr>\n",
       "      <th>1</th>\n",
       "      <td>77573705</td>\n",
       "      <td>False</td>\n",
       "      <td>1812</td>\n",
       "      <td>314</td>\n",
       "      <td>429</td>\n",
       "      <td>6</td>\n",
       "      <td>7271</td>\n",
       "      <td>quito, ecuador</td>\n",
       "      <td>juntosporelcambio</td>\n",
       "      <td>jjaltamirano1</td>\n",
       "      <td>Jenny Altamirano</td>\n",
       "      <td>no_arg</td>\n",
       "      <td>False</td>\n",
       "      <td>city</td>\n",
       "      <td>quito</td>\n",
       "      <td>ecuador</td>\n",
       "      <td>-0.22985</td>\n",
       "      <td>-78.524948</td>\n",
       "    </tr>\n",
       "  </tbody>\n",
       "</table>\n",
       "</div>"
      ],
      "text/plain": [
       "                   id  is_private  favourites_count  followers_count  \\\n",
       "0  773970163502870528       False               974               68   \n",
       "1            77573705       False              1812              314   \n",
       "\n",
       "   friends_count  listed_count  statuses_count                       location  \\\n",
       "0            312             0             647  guadalajara de buga, colombia   \n",
       "1            429             6            7271                 quito, ecuador   \n",
       "\n",
       "             support    screen_name                   name loc_in_argentina  \\\n",
       "0      frentedetodos      TaliaRada  Natalia Herrada López           no_arg   \n",
       "1  juntosporelcambio  jjaltamirano1       Jenny Altamirano           no_arg   \n",
       "\n",
       "   important place_type           place_name place_country  latitude  \\\n",
       "0      False       city  guadalajara de buga      colombia   3.90089   \n",
       "1      False       city                quito       ecuador  -0.22985   \n",
       "\n",
       "   longitude  \n",
       "0 -76.297829  \n",
       "1 -78.524948  "
      ]
     },
     "execution_count": 110,
     "metadata": {},
     "output_type": "execute_result"
    }
   ],
   "source": [
    "del users_with_location[\"user_id\"]\n",
    "users_with_location.head(2)"
   ]
  },
  {
   "cell_type": "markdown",
   "metadata": {},
   "source": [
    "Probemos asignar todos los lugares reconocidos de geonames del campo location del user"
   ]
  },
  {
   "cell_type": "code",
   "execution_count": 117,
   "metadata": {},
   "outputs": [],
   "source": [
    "geonames_splitted_names = geonames_splitted_names.reset_index(drop=True)"
   ]
  },
  {
   "cell_type": "code",
   "execution_count": 118,
   "metadata": {},
   "outputs": [],
   "source": [
    "from IPython.display import clear_output\n",
    "\n",
    "def update_progress(progress):\n",
    "    bar_length = 20\n",
    "    if isinstance(progress, int):\n",
    "        progress = float(progress)\n",
    "    if not isinstance(progress, float):\n",
    "        progress = 0\n",
    "    if progress < 0:\n",
    "        progress = 0\n",
    "    if progress >= 1:\n",
    "        progress = 1\n",
    "\n",
    "    block = int(round(bar_length * progress))\n",
    "\n",
    "    clear_output(wait = True)\n",
    "    text = \"Progress: [{0}] {1:.1f}%\".format( \"#\" * block + \"-\" * (bar_length - block), progress * 100)\n",
    "    print(text)"
   ]
  },
  {
   "cell_type": "code",
   "execution_count": 119,
   "metadata": {},
   "outputs": [
    {
     "data": {
      "text/html": [
       "<div>\n",
       "<style scoped>\n",
       "    .dataframe tbody tr th:only-of-type {\n",
       "        vertical-align: middle;\n",
       "    }\n",
       "\n",
       "    .dataframe tbody tr th {\n",
       "        vertical-align: top;\n",
       "    }\n",
       "\n",
       "    .dataframe thead th {\n",
       "        text-align: right;\n",
       "    }\n",
       "</style>\n",
       "<table border=\"1\" class=\"dataframe\">\n",
       "  <thead>\n",
       "    <tr style=\"text-align: right;\">\n",
       "      <th></th>\n",
       "      <th>alternatenames</th>\n",
       "      <th>latitude</th>\n",
       "      <th>longitude</th>\n",
       "      <th>country code</th>\n",
       "      <th>population</th>\n",
       "      <th>country</th>\n",
       "    </tr>\n",
       "  </thead>\n",
       "  <tbody>\n",
       "    <tr>\n",
       "      <th>0</th>\n",
       "      <td>ehl tarter</td>\n",
       "      <td>42.579521</td>\n",
       "      <td>1.65362</td>\n",
       "      <td>AD</td>\n",
       "      <td>1052</td>\n",
       "      <td>andorra</td>\n",
       "    </tr>\n",
       "  </tbody>\n",
       "</table>\n",
       "</div>"
      ],
      "text/plain": [
       "  alternatenames   latitude  longitude country code  population  country\n",
       "0     ehl tarter  42.579521    1.65362           AD        1052  andorra"
      ]
     },
     "execution_count": 119,
     "metadata": {},
     "output_type": "execute_result"
    }
   ],
   "source": [
    "geonames_splitted_names.head(1)"
   ]
  },
  {
   "cell_type": "code",
   "execution_count": 120,
   "metadata": {},
   "outputs": [],
   "source": [
    "position = 0\n",
    "total = users_with_location.shape[0]\n",
    "values = geonames_splitted_names[\"alternatenames\"].values\n",
    "\n",
    "def check_all_places(places, country):\n",
    "    total_not_detected = 0\n",
    "    total_exact = 0\n",
    "    \n",
    "    for place in places:\n",
    "        ocurrences = np.where(values == place)[0]\n",
    "        \n",
    "        if len(ocurrences) == 0:\n",
    "            total_not_detected += 1\n",
    "            continue\n",
    "        \n",
    "        for index in ocurrences:\n",
    "            #country_names = countries.loc[\n",
    "            #                    countries[\"Code\"] == geonames_splitted_names[\"country code\"][index], [\"Name\"]\n",
    "            #                ]\n",
    "            country_name = geonames_splitted_names[\"country\"][index]\n",
    "            \n",
    "            #if country_names.empty:\n",
    "            #    continue\n",
    "                \n",
    "            '''country_detected = False\n",
    "                \n",
    "            for country_iso in country_names[\"Name\"].values:\n",
    "                if country == country_iso:\n",
    "                    country_detected = True\n",
    "                    total_exact += 1\n",
    "                    break\n",
    "            \n",
    "            if country_detected:\n",
    "                break'''\n",
    "            if country_name == country:\n",
    "                total_exact += 1\n",
    "                break\n",
    "    \n",
    "    if total_exact == 1:\n",
    "        return 'Ubicacion exacta'\n",
    "    elif (total_not_detected == len(places)) | (total_exact == 0):\n",
    "        return 'Ubicacion es un pais'\n",
    "    return 'Ubicacion ambigua'\n",
    "\n",
    "def es_univoco(value):\n",
    "    global position;\n",
    "    global total;\n",
    "    global values;\n",
    "    \n",
    "    location = value.replace(\"-\", \",\")\n",
    "    location = location.replace(\"/\", \",\")\n",
    "    all_words = location.split(',')\n",
    "    all_words = [word.strip() for word in all_words]\n",
    "    \n",
    "    update_progress(position / total)\n",
    "    position += 1\n",
    "    \n",
    "    if len(all_words) == 1:\n",
    "        place = all_words[0]\n",
    "        if place in countries[\"Name\"].values:\n",
    "            return 'Ubicacion es un pais'  \n",
    "        \n",
    "        ocurrences = np.where(values == place)[0]\n",
    "        \n",
    "        if len(ocurrences) == 0:\n",
    "            return 'No existe ubicacion'\n",
    "        elif len(ocurrences) == 1:\n",
    "            return 'Ubicacion exacta'\n",
    "    \n",
    "        return 'Ubicacion ambigua'\n",
    "    \n",
    "    #Veamos si alguna palabra es un País    \n",
    "    for word in all_words:    \n",
    "        if word in countries[\"Name\"].values:\n",
    "            all_words.remove(word)\n",
    "            return check_all_places(all_words, word)\n",
    "    \n",
    "    counter = 0\n",
    "        \n",
    "    for word in all_words:    \n",
    "        ocurrences = np.where(values == word)[0]\n",
    "\n",
    "        if len(ocurrences) == 0:\n",
    "            counter += 1\n",
    "        \n",
    "    if counter == len(all_words):\n",
    "        return 'No existe ubicacion'\n",
    "        \n",
    "    return 'Ubicacion ambigua'"
   ]
  },
  {
   "cell_type": "code",
   "execution_count": 121,
   "metadata": {},
   "outputs": [
    {
     "name": "stdout",
     "output_type": "stream",
     "text": [
      "Progress: [####################] 100.0%\n"
     ]
    }
   ],
   "source": [
    "users_with_location[\"detected_location\"] = users_with_location['location'].apply(es_univoco)"
   ]
  },
  {
   "cell_type": "code",
   "execution_count": 123,
   "metadata": {},
   "outputs": [
    {
     "data": {
      "text/plain": [
       "(131938, 19)"
      ]
     },
     "execution_count": 123,
     "metadata": {},
     "output_type": "execute_result"
    }
   ],
   "source": [
    "users_with_location.shape"
   ]
  },
  {
   "cell_type": "code",
   "execution_count": 126,
   "metadata": {},
   "outputs": [
    {
     "data": {
      "text/plain": [
       "Ubicacion exacta        54351\n",
       "Ubicacion ambigua       30805\n",
       "No existe ubicacion     25638\n",
       "Ubicacion es un pais    21144\n",
       "Name: detected_location, dtype: int64"
      ]
     },
     "execution_count": 126,
     "metadata": {},
     "output_type": "execute_result"
    }
   ],
   "source": [
    "users_with_location[\"detected_location\"].value_counts()"
   ]
  },
  {
   "cell_type": "code",
   "execution_count": 127,
   "metadata": {},
   "outputs": [
    {
     "name": "stdout",
     "output_type": "stream",
     "text": [
      "0.4119434886082857\n",
      "0.23348087738180054\n",
      "0.194318543558338\n",
      "0.16025709045157574\n"
     ]
    }
   ],
   "source": [
    "print(users_with_location[\"detected_location\"].value_counts()[0]/users_with_location.shape[0])\n",
    "print(users_with_location[\"detected_location\"].value_counts()[1]/users_with_location.shape[0])\n",
    "print(users_with_location[\"detected_location\"].value_counts()[2]/users_with_location.shape[0])\n",
    "print(users_with_location[\"detected_location\"].value_counts()[3]/users_with_location.shape[0])"
   ]
  },
  {
   "cell_type": "code",
   "execution_count": 128,
   "metadata": {},
   "outputs": [],
   "source": [
    "position = 0\n",
    "total = users_with_location.shape[0]\n",
    "values = geonames_splitted_names[\"alternatenames\"].values\n",
    "\n",
    "def check_all_places_determine(places, country):\n",
    "    total_not_detected = 0\n",
    "    total_exact = 0\n",
    "    index_exact = 0\n",
    "    places_determined = []\n",
    "    \n",
    "    for place in places:\n",
    "        ocurrences = np.where(values == place)[0]\n",
    "        \n",
    "        if len(ocurrences) == 0:\n",
    "            total_not_detected += 1\n",
    "            continue\n",
    "        \n",
    "        for index in ocurrences:\n",
    "            '''country_names = countries.loc[\n",
    "                                countries[\"Code\"] == geonames_splitted_names[\"country code\"][index], [\"Name\"]\n",
    "                            ]\n",
    "            \n",
    "            if country_names.empty:\n",
    "                continue\n",
    "                \n",
    "            country_detected = False'''\n",
    "            country_name = geonames_splitted_names[\"country\"][index]\n",
    "            \n",
    "            if country == country_name:\n",
    "                total_exact += 1\n",
    "                places_determined.append({\n",
    "                    \"place\": place,\n",
    "                    \"population\":  geonames_splitted_names[\"population\"][index],\n",
    "                    \"latitude\":  geonames_splitted_names[\"latitude\"][index],\n",
    "                    \"longitude\":  geonames_splitted_names[\"longitude\"][index]                        \n",
    "                })\n",
    "                break               \n",
    "            '''for country_iso in country_names[\"Name\"].values:\n",
    "                if country == country_iso:\n",
    "                    total_exact += 1\n",
    "                    country_detected = True\n",
    "                    places_determined.append({\n",
    "                        \"place\": place,\n",
    "                        \"population\":  geonames_splitted_names[\"population\"][index],\n",
    "                        \"latitude\":  geonames_splitted_names[\"latitude\"][index],\n",
    "                        \"longitude\":  geonames_splitted_names[\"longitude\"][index]                        \n",
    "                    })\n",
    "                    break\n",
    "            \n",
    "            if country_detected:\n",
    "                break'''\n",
    "    \n",
    "    if total_exact == 1:\n",
    "        return [places_determined, country]\n",
    "    elif (total_not_detected == len(places)) | (total_exact == 0):\n",
    "        return [None, country]\n",
    "    \n",
    "    return [places_determined, country]\n",
    "\n",
    "def determine_place(value):\n",
    "    global position;\n",
    "    global total;\n",
    "    global values;\n",
    "    \n",
    "    location = value.replace(\"-\", \",\")\n",
    "    location = location.replace(\"/\", \",\")\n",
    "    all_words = location.split(',')\n",
    "    all_words = [word.strip() for word in all_words]\n",
    "        \n",
    "    update_progress(position / total)\n",
    "    position += 1\n",
    "    \n",
    "    if len(all_words) == 1:\n",
    "        place = all_words[0]        \n",
    "        if place in countries[\"Name\"].values:\n",
    "            return [None, place]\n",
    "        \n",
    "        ocurrences = np.where(values == place)[0]\n",
    "        \n",
    "        #print(place)\n",
    "        \n",
    "        if len(ocurrences) == 0:\n",
    "            return [None, None]\n",
    "        elif len(ocurrences) == 1:\n",
    "            return [[{\n",
    "                \"place\": place,\n",
    "                \"population\":  geonames_splitted_names[\"population\"][ocurrences[0]],\n",
    "                \"latitude\":  geonames_splitted_names[\"latitude\"][ocurrences[0]],\n",
    "                \"longitude\":  geonames_splitted_names[\"longitude\"][ocurrences[0]]\n",
    "            }], None]\n",
    "        \n",
    "        places_determined = []\n",
    "        \n",
    "        for index in ocurrences:\n",
    "            places_determined.append({\n",
    "                \"place\": place,\n",
    "                \"population\":  geonames_splitted_names[\"population\"][index],\n",
    "                \"latitude\":  geonames_splitted_names[\"latitude\"][index],\n",
    "                \"longitude\":  geonames_splitted_names[\"longitude\"][index]                        \n",
    "            })\n",
    "    \n",
    "        return [places_determined, None]#'Ubicacion ambigua'\n",
    "    \n",
    "    #Veamos si alguna palabra es un País    \n",
    "    for word in all_words:    \n",
    "        if word in countries[\"Name\"].values:\n",
    "            all_words.remove(word)\n",
    "            return check_all_places_determine(all_words, word)\n",
    "\n",
    "    counter = 0\n",
    "    places_determined = []\n",
    "        \n",
    "    for word in all_words:    \n",
    "        ocurrences = np.where(values == word)[0]\n",
    "\n",
    "        if len(ocurrences) == 0:\n",
    "            counter += 1\n",
    "        else:\n",
    "            for index in ocurrences:\n",
    "                places_determined.append({\n",
    "                    \"place\": word,\n",
    "                    \"population\":  geonames_splitted_names[\"population\"][index],\n",
    "                    \"latitude\":  geonames_splitted_names[\"latitude\"][index],\n",
    "                    \"longitude\":  geonames_splitted_names[\"longitude\"][index]                        \n",
    "                })\n",
    "        \n",
    "    if counter == len(all_words):\n",
    "        return [None, None]#'No existe ubicacion'\n",
    "        \n",
    "    return [places_determined, None]#'Ubicacion ambigua'"
   ]
  },
  {
   "cell_type": "code",
   "execution_count": 129,
   "metadata": {},
   "outputs": [
    {
     "name": "stdout",
     "output_type": "stream",
     "text": [
      "Progress: [####################] 100.0%\n"
     ]
    }
   ],
   "source": [
    "users_with_location[\"profile_city\"], users_with_location[\"profile_country\"] = zip(*users_with_location['location'].apply(determine_place))"
   ]
  },
  {
   "cell_type": "markdown",
   "metadata": {},
   "source": [
    "De los usuarios que se pudo obtener el pais, coincide un 88% con la mayoria de sus tweets!"
   ]
  },
  {
   "cell_type": "code",
   "execution_count": 9,
   "metadata": {},
   "outputs": [
    {
     "data": {
      "text/plain": [
       "0.882804146052838"
      ]
     },
     "execution_count": 9,
     "metadata": {},
     "output_type": "execute_result"
    }
   ],
   "source": [
    "total = users_with_location.dropna(subset=[\"profile_country\"]).shape[0]\n",
    "\n",
    "a = users_with_location.dropna(subset=[\"profile_country\"])\n",
    "subtotal = a.loc[a[\"profile_country\"] == a[\"place_country\"], :].shape[0]\n",
    "\n",
    "subtotal / total"
   ]
  },
  {
   "cell_type": "markdown",
   "metadata": {},
   "source": [
    "De los usuarios con ubicacion exacta, coincide un 90% con la mayoria de sus tweets!"
   ]
  },
  {
   "cell_type": "code",
   "execution_count": 13,
   "metadata": {},
   "outputs": [
    {
     "data": {
      "text/plain": [
       "0.9045699486194076"
      ]
     },
     "execution_count": 13,
     "metadata": {},
     "output_type": "execute_result"
    }
   ],
   "source": [
    "u = users_with_location.loc[users_with_location[\"detected_location\"] == \"Ubicacion exacta\", :]\n",
    "total = u.dropna(subset=[\"profile_country\"]).shape[0]\n",
    "\n",
    "a = u.dropna(subset=[\"profile_country\"])\n",
    "subtotal = a.loc[a[\"profile_country\"] == a[\"place_country\"], :].shape[0]\n",
    "\n",
    "subtotal / total"
   ]
  },
  {
   "cell_type": "markdown",
   "metadata": {},
   "source": [
    "Veamos coincidencia para las ubicaciones exactas con las ciudades"
   ]
  },
  {
   "cell_type": "code",
   "execution_count": 14,
   "metadata": {},
   "outputs": [
    {
     "name": "stderr",
     "output_type": "stream",
     "text": [
      "/var/home/ffunes/venv/lib/python3.5/site-packages/ipykernel_launcher.py:10: SettingWithCopyWarning: \n",
      "A value is trying to be set on a copy of a slice from a DataFrame.\n",
      "Try using .loc[row_indexer,col_indexer] = value instead\n",
      "\n",
      "See the caveats in the documentation: http://pandas.pydata.org/pandas-docs/stable/indexing.html#indexing-view-versus-copy\n",
      "  # Remove the CWD from sys.path while we load stuff.\n"
     ]
    },
    {
     "data": {
      "text/plain": [
       "0.5203768099942964"
      ]
     },
     "execution_count": 14,
     "metadata": {},
     "output_type": "execute_result"
    }
   ],
   "source": [
    "def veracity(row):\n",
    "    if row['profile_city'][0]['place'] == row['place_name']:\n",
    "        return True\n",
    "    \n",
    "    return False\n",
    "\n",
    "u = users_with_location.loc[users_with_location[\"detected_location\"] == \"Ubicacion exacta\", :]\n",
    "total = u.shape[0]\n",
    "\n",
    "u[\"veracity\"] = u.apply(veracity, axis=1)\n",
    "subtotal = u.loc[u[\"veracity\"] == True, :].shape[0]\n",
    "subtotal / total"
   ]
  },
  {
   "cell_type": "code",
   "execution_count": 133,
   "metadata": {},
   "outputs": [],
   "source": [
    "users_with_location.to_pickle('../../../../dosT/ffunes/users_location_parsed.pkl')"
   ]
  },
  {
   "cell_type": "markdown",
   "metadata": {},
   "source": [
    "Update: Agreguemos los usuarios sin ubicacion también"
   ]
  },
  {
   "cell_type": "code",
   "execution_count": 5,
   "metadata": {},
   "outputs": [],
   "source": [
    "users_no_location = pd.read_sql_query('SELECT * FROM users WHERE location IS NULL',con=conn)"
   ]
  },
  {
   "cell_type": "code",
   "execution_count": 6,
   "metadata": {},
   "outputs": [
    {
     "data": {
      "text/plain": [
       "(956989, 13)"
      ]
     },
     "execution_count": 6,
     "metadata": {},
     "output_type": "execute_result"
    }
   ],
   "source": [
    "users_no_location.shape"
   ]
  },
  {
   "cell_type": "code",
   "execution_count": 7,
   "metadata": {},
   "outputs": [
    {
     "data": {
      "text/plain": [
       "(2622414, 19)"
      ]
     },
     "execution_count": 7,
     "metadata": {},
     "output_type": "execute_result"
    }
   ],
   "source": [
    "users_with_tweets = pd.merge(\n",
    "    left=users_no_location,\n",
    "    right=tweets_with_geo_and_city.loc[:, [\"user_id\", \"place_type\", \"place_name\", \"place_country\",\n",
    "                                          \"latitude\", \"longitude\"]],\n",
    "    how='inner',\n",
    "    left_on=[\"id\"],\n",
    "    right_on=[\"user_id\"],\n",
    "    validate=\"1:m\"\n",
    ")\n",
    "\n",
    "users_with_tweets.shape"
   ]
  },
  {
   "cell_type": "code",
   "execution_count": 8,
   "metadata": {},
   "outputs": [],
   "source": [
    "most_common_place_users = (users_with_tweets.groupby([\"user_id\", \"place_name\", \"place_country\"])\n",
    "    .count()\n",
    "    .sort_values(\"id\", ascending=False)\n",
    "    .reset_index()\n",
    "    .drop_duplicates(\"user_id\", keep='first'))"
   ]
  },
  {
   "cell_type": "code",
   "execution_count": 9,
   "metadata": {},
   "outputs": [],
   "source": [
    "users_with_tweets.drop_duplicates(inplace=True)"
   ]
  },
  {
   "cell_type": "code",
   "execution_count": 10,
   "metadata": {},
   "outputs": [
    {
     "data": {
      "text/plain": [
       "(92706, 19)"
      ]
     },
     "execution_count": 10,
     "metadata": {},
     "output_type": "execute_result"
    }
   ],
   "source": [
    "users_with_tweets.shape"
   ]
  },
  {
   "cell_type": "code",
   "execution_count": 11,
   "metadata": {},
   "outputs": [],
   "source": [
    "del users_with_tweets[\"user_id\"]"
   ]
  },
  {
   "cell_type": "code",
   "execution_count": 12,
   "metadata": {},
   "outputs": [
    {
     "data": {
      "text/plain": [
       "(44091, 19)"
      ]
     },
     "execution_count": 12,
     "metadata": {},
     "output_type": "execute_result"
    }
   ],
   "source": [
    "users_with_no_location = pd.merge(\n",
    "    left=users_with_tweets,\n",
    "    right=most_common_place_users.loc[:, [\"user_id\", \"place_name\", \"place_country\"]],\n",
    "    how='inner',\n",
    "    left_on=[\"id\", \"place_name\", \"place_country\"],\n",
    "    right_on=[\"user_id\", \"place_name\", \"place_country\"]\n",
    ")\n",
    "\n",
    "users_with_no_location.shape"
   ]
  },
  {
   "cell_type": "code",
   "execution_count": 14,
   "metadata": {},
   "outputs": [],
   "source": [
    "del users_with_no_location[\"user_id\"]"
   ]
  },
  {
   "cell_type": "code",
   "execution_count": 15,
   "metadata": {},
   "outputs": [
    {
     "data": {
      "text/html": [
       "<div>\n",
       "<style scoped>\n",
       "    .dataframe tbody tr th:only-of-type {\n",
       "        vertical-align: middle;\n",
       "    }\n",
       "\n",
       "    .dataframe tbody tr th {\n",
       "        vertical-align: top;\n",
       "    }\n",
       "\n",
       "    .dataframe thead th {\n",
       "        text-align: right;\n",
       "    }\n",
       "</style>\n",
       "<table border=\"1\" class=\"dataframe\">\n",
       "  <thead>\n",
       "    <tr style=\"text-align: right;\">\n",
       "      <th></th>\n",
       "      <th>id</th>\n",
       "      <th>is_private</th>\n",
       "      <th>favourites_count</th>\n",
       "      <th>followers_count</th>\n",
       "      <th>friends_count</th>\n",
       "      <th>listed_count</th>\n",
       "      <th>statuses_count</th>\n",
       "      <th>location</th>\n",
       "      <th>support</th>\n",
       "      <th>screen_name</th>\n",
       "      <th>name</th>\n",
       "      <th>loc_in_argentina</th>\n",
       "      <th>important</th>\n",
       "      <th>place_type</th>\n",
       "      <th>place_name</th>\n",
       "      <th>place_country</th>\n",
       "      <th>latitude</th>\n",
       "      <th>longitude</th>\n",
       "    </tr>\n",
       "  </thead>\n",
       "  <tbody>\n",
       "    <tr>\n",
       "      <th>0</th>\n",
       "      <td>2556507118</td>\n",
       "      <td>False</td>\n",
       "      <td>1277.0</td>\n",
       "      <td>78.0</td>\n",
       "      <td>1180.0</td>\n",
       "      <td>0.0</td>\n",
       "      <td>94.0</td>\n",
       "      <td>None</td>\n",
       "      <td>frentedetodos</td>\n",
       "      <td>juanmanube_91</td>\n",
       "      <td>Juan Manuel Báez..</td>\n",
       "      <td>None</td>\n",
       "      <td>True</td>\n",
       "      <td>city</td>\n",
       "      <td>asuncion</td>\n",
       "      <td>paraguay</td>\n",
       "      <td>-25.286461</td>\n",
       "      <td>-57.646999</td>\n",
       "    </tr>\n",
       "    <tr>\n",
       "      <th>1</th>\n",
       "      <td>2422744196</td>\n",
       "      <td>False</td>\n",
       "      <td>337.0</td>\n",
       "      <td>29.0</td>\n",
       "      <td>211.0</td>\n",
       "      <td>0.0</td>\n",
       "      <td>372.0</td>\n",
       "      <td>None</td>\n",
       "      <td>None</td>\n",
       "      <td>maria_fassi</td>\n",
       "      <td>maria Fassi, Valen</td>\n",
       "      <td>None</td>\n",
       "      <td>True</td>\n",
       "      <td>city</td>\n",
       "      <td>chajarí</td>\n",
       "      <td>argentina</td>\n",
       "      <td>-30.750481</td>\n",
       "      <td>-57.979622</td>\n",
       "    </tr>\n",
       "  </tbody>\n",
       "</table>\n",
       "</div>"
      ],
      "text/plain": [
       "           id is_private  favourites_count  followers_count  friends_count  \\\n",
       "0  2556507118      False            1277.0             78.0         1180.0   \n",
       "1  2422744196      False             337.0             29.0          211.0   \n",
       "\n",
       "   listed_count  statuses_count location        support    screen_name  \\\n",
       "0           0.0            94.0     None  frentedetodos  juanmanube_91   \n",
       "1           0.0           372.0     None           None    maria_fassi   \n",
       "\n",
       "                 name loc_in_argentina important place_type place_name  \\\n",
       "0  Juan Manuel Báez..             None      True       city   asuncion   \n",
       "1  maria Fassi, Valen             None      True       city    chajarí   \n",
       "\n",
       "  place_country   latitude  longitude  \n",
       "0      paraguay -25.286461 -57.646999  \n",
       "1     argentina -30.750481 -57.979622  "
      ]
     },
     "execution_count": 15,
     "metadata": {},
     "output_type": "execute_result"
    }
   ],
   "source": [
    "users_with_no_location.head(2)"
   ]
  },
  {
   "cell_type": "code",
   "execution_count": 24,
   "metadata": {},
   "outputs": [],
   "source": [
    "users_with_no_location[\"detected_location\"] = \"No existe ubicacion\"\n",
    "users_with_no_location[\"profile_city\"] = None\n",
    "users_with_no_location[\"profile_country\"] = None"
   ]
  },
  {
   "cell_type": "code",
   "execution_count": 26,
   "metadata": {},
   "outputs": [],
   "source": [
    "total_users = pd.concat([users_with_location, users_with_no_location])"
   ]
  },
  {
   "cell_type": "code",
   "execution_count": 30,
   "metadata": {},
   "outputs": [],
   "source": [
    "total_users.to_pickle('../../../../dosT/ffunes/total_users_parsed.pkl')"
   ]
  },
  {
   "cell_type": "markdown",
   "metadata": {},
   "source": [
    "Analizemos distancias de Tweets con campo location"
   ]
  },
  {
   "cell_type": "code",
   "execution_count": 7,
   "metadata": {},
   "outputs": [],
   "source": [
    "users_with_location = pd.read_pickle('../../../../dosT/ffunes/users_location_parsed.pkl')"
   ]
  },
  {
   "cell_type": "code",
   "execution_count": 8,
   "metadata": {},
   "outputs": [
    {
     "data": {
      "text/plain": [
       "(54351, 21)"
      ]
     },
     "execution_count": 8,
     "metadata": {},
     "output_type": "execute_result"
    }
   ],
   "source": [
    "users_with_exact_location = users_with_location.loc[users_with_location[\"detected_location\"] == \"Ubicacion exacta\", :]\n",
    "users_with_exact_location.shape"
   ]
  },
  {
   "cell_type": "code",
   "execution_count": 9,
   "metadata": {},
   "outputs": [],
   "source": [
    "from math import radians, sin, cos, atan2, sqrt\n",
    "\n",
    "def haversine_distance(lat1, lon1, lat2, lon2):\n",
    "    radius = 6371 # km\n",
    "\n",
    "    dlat = radians(lat2-lat1)\n",
    "    dlon = radians(lon2-lon1)\n",
    "    a = sin(dlat/2) * sin(dlat/2) + cos(radians(lat1)) \\\n",
    "        * cos(radians(lat2)) * sin(dlon/2) * sin(dlon/2)\n",
    "    c = 2 * atan2(sqrt(a), sqrt(1-a))\n",
    "    d = radius * c\n",
    "\n",
    "    return d"
   ]
  },
  {
   "cell_type": "code",
   "execution_count": 10,
   "metadata": {},
   "outputs": [],
   "source": [
    "def determine_distance(row):\n",
    "    profile_lat = row['profile_city'][0]['latitude']\n",
    "    profile_lon = row['profile_city'][0]['longitude']\n",
    "    tweet_lat = row['latitude']\n",
    "    tweet_long = row['longitude']\n",
    "    \n",
    "    return haversine_distance(profile_lat, profile_lon, tweet_lat, tweet_long)"
   ]
  },
  {
   "cell_type": "code",
   "execution_count": 11,
   "metadata": {},
   "outputs": [
    {
     "name": "stderr",
     "output_type": "stream",
     "text": [
      "<ipython-input-11-1b4175f9dafe>:1: SettingWithCopyWarning: \n",
      "A value is trying to be set on a copy of a slice from a DataFrame.\n",
      "Try using .loc[row_indexer,col_indexer] = value instead\n",
      "\n",
      "See the caveats in the documentation: https://pandas.pydata.org/pandas-docs/stable/user_guide/indexing.html#returning-a-view-versus-a-copy\n",
      "  users_with_exact_location[\"distance_dif_in_km\"] = users_with_exact_location.apply(determine_distance, axis=1)\n"
     ]
    }
   ],
   "source": [
    "users_with_exact_location[\"distance_dif_in_km\"] = users_with_exact_location.apply(determine_distance, axis=1)"
   ]
  },
  {
   "cell_type": "code",
   "execution_count": 12,
   "metadata": {},
   "outputs": [
    {
     "data": {
      "text/plain": [
       "(54351, 22)"
      ]
     },
     "execution_count": 12,
     "metadata": {},
     "output_type": "execute_result"
    }
   ],
   "source": [
    "users_with_exact_location.shape"
   ]
  },
  {
   "cell_type": "code",
   "execution_count": 13,
   "metadata": {},
   "outputs": [
    {
     "data": {
      "text/plain": [
       "(35704, 22)"
      ]
     },
     "execution_count": 13,
     "metadata": {},
     "output_type": "execute_result"
    }
   ],
   "source": [
    "users_with_exact_location.loc[users_with_exact_location[\"distance_dif_in_km\"] == 0, :].shape"
   ]
  },
  {
   "cell_type": "code",
   "execution_count": 14,
   "metadata": {},
   "outputs": [
    {
     "data": {
      "text/plain": [
       "(18647, 22)"
      ]
     },
     "execution_count": 14,
     "metadata": {},
     "output_type": "execute_result"
    }
   ],
   "source": [
    "users_with_exact_location.loc[users_with_exact_location[\"distance_dif_in_km\"] > 0].shape"
   ]
  },
  {
   "cell_type": "code",
   "execution_count": 12,
   "metadata": {
    "scrolled": false
   },
   "outputs": [
    {
     "data": {
      "image/png": "[encoded data removed]",
      "text/plain": [
       "<Figure size 1440x720 with 1 Axes>"
      ]
     },
     "metadata": {
      "needs_background": "light"
     },
     "output_type": "display_data"
    },
    {
     "data": {
      "image/png": "[encoded data removed]",
      "text/plain": [
       "<Figure size 1440x720 with 1 Axes>"
      ]
     },
     "metadata": {
      "needs_background": "light"
     },
     "output_type": "display_data"
    }
   ],
   "source": [
    "plt.figure(figsize=(20,10)) \n",
    "plt.hist(users_with_exact_location.loc[users_with_exact_location[\"distance_dif_in_km\"] > 0]['distance_dif_in_km'], bins=np.logspace(-1, 5, 20))\n",
    "plt.xlabel(\"Kilometros\", fontsize=16)\n",
    "plt.ylabel(\"Cantidad de usuarios\", fontsize=16)\n",
    "plt.title(\"Histograma de distancias en Km de ubicación en mayoría de Tweets vs perfil del usuario\", fontsize=18)\n",
    "#plt.xlim(0, 4000)\n",
    "sum(users_with_exact_location['distance_dif_in_km']<=1)\n",
    "plt.xscale('log')\n",
    "plt.show()\n",
    "\n",
    "plt.figure(figsize=(20,10)) \n",
    "plt.hist(users_with_exact_location['distance_dif_in_km'], bins=200)\n",
    "plt.xlabel(\"Kilometros [log]\", fontsize=16)\n",
    "plt.ylabel(\"Cantidad de usuarios\", fontsize=16)\n",
    "plt.title(\"Histograma de distancias en Km de ubicación en mayoría de Tweets vs perfil del usuario\", fontsize=18)\n",
    "plt.xlim(0, 1200)\n",
    "plt.show()"
   ]
  },
  {
   "cell_type": "code",
   "execution_count": 101,
   "metadata": {},
   "outputs": [
    {
     "data": {
      "image/png": "[encoded data removed]",
      "text/plain": [
       "<Figure size 1152x648 with 1 Axes>"
      ]
     },
     "metadata": {},
     "output_type": "display_data"
    }
   ],
   "source": [
    "from matplotlib import ticker\n",
    "f, ax = plt.subplots(figsize=(16, 9))\n",
    "\n",
    "sns.set_theme()\n",
    "\n",
    "sns.ecdfplot(\n",
    "    data=users_with_exact_location[\"distance_dif_in_km\"],\n",
    "    stat=\"proportion\",\n",
    "    #log_scale=True,\n",
    "    ax=ax\n",
    ")\n",
    "\n",
    "ax.set_ylim(0, 1.1)\n",
    "ax.set_xlim(0, 15000)\n",
    "ax.set_xscale('symlog')\n",
    "ax.set_title(\"Distancia entre la ciudad de la mayoría de los Tweets y la del Perfil\", fontsize=20, fontweight='bold', pad=20)\n",
    "ax.set_xlabel(\"Diferencia en kilómetros\", fontsize=18, labelpad=20)\n",
    "ax.set_ylabel(\"Proporción de usuarios\", fontsize=18, labelpad=20)\n",
    "ax.set_yticks(np.arange(0,1.1,0.1))\n",
    "ax.xaxis.set_tick_params(labelsize=16)\n",
    "ax.yaxis.set_tick_params(labelsize=16)\n",
    "ax.xaxis.set_major_formatter(ticker.FormatStrFormatter(\"%d\"))\n",
    "\n",
    "f.savefig(\"../results/plots/creacion_set_validacion/dif_distance_city_majority_tweets_and_profile.pdf\", bbox_inches='tight')"
   ]
  },
  {
   "cell_type": "markdown",
   "metadata": {},
   "source": [
    "Ahora vamos con algo más logico, que coincida el pais del perfil con el de la mayoria de los tweets"
   ]
  },
  {
   "cell_type": "code",
   "execution_count": 120,
   "metadata": {},
   "outputs": [
    {
     "data": {
      "image/png": "[encoded data removed]",
      "text/plain": [
       "<Figure size 1152x648 with 1 Axes>"
      ]
     },
     "metadata": {},
     "output_type": "display_data"
    }
   ],
   "source": [
    "f, ax = plt.subplots(figsize=(16, 9))\n",
    "\n",
    "sns.set_theme()\n",
    "\n",
    "sns.ecdfplot(\n",
    "    data=users_with_exact_location.loc\n",
    "        [users_with_exact_location[\"place_country\"] == users_with_exact_location[\"profile_country\"]]['distance_dif_in_km'],\n",
    "    stat=\"proportion\",\n",
    "    #log_scale=True,\n",
    "    ax=ax\n",
    ")\n",
    "\n",
    "ax.set_ylim(0, 1.1)\n",
    "ax.set_xlim(0, 5000)\n",
    "ax.set_xscale('symlog')\n",
    "ax.set_title(\"Distancia entre la ciudad de la mayoría de los Tweets y la del Perfil con coincidencia a nivel País\", fontsize=20, fontweight='bold', pad=20)\n",
    "ax.set_xlabel(\"Diferencia en kilómetros\", fontsize=18, labelpad=20)\n",
    "ax.set_ylabel(\"Proporción de usuarios\", fontsize=18, labelpad=20)\n",
    "ax.set_yticks(np.arange(0,1.1,0.1))\n",
    "ax.xaxis.set_tick_params(labelsize=16)\n",
    "ax.yaxis.set_tick_params(labelsize=16)\n",
    "ax.xaxis.set_major_formatter(ticker.FormatStrFormatter(\"%d\"))\n",
    "\n",
    "f.savefig(\"../results/plots/creacion_set_validacion/dif_distance_country_majority_tweets_and_profile.pdf\", bbox_inches='tight')"
   ]
  },
  {
   "cell_type": "markdown",
   "metadata": {},
   "source": [
    "Veamos casos donde la ubicacion es ambigua"
   ]
  },
  {
   "cell_type": "code",
   "execution_count": 121,
   "metadata": {},
   "outputs": [],
   "source": [
    "def get_closest_place_to_tweet(row):\n",
    "    minor_dist = -1\n",
    "\n",
    "    for place in row[\"profile_city\"]:\n",
    "        profile_lat = place['latitude']\n",
    "        profile_lon = place['longitude']\n",
    "        tweet_lat = row['latitude']\n",
    "        tweet_long = row['longitude']\n",
    "\n",
    "        new_dist = haversine_distance(profile_lat, profile_lon, tweet_lat, tweet_long)\n",
    "\n",
    "        if (new_dist < minor_dist) | (minor_dist == -1):\n",
    "            minor_dist = new_dist\n",
    "    \n",
    "    return minor_dist"
   ]
  },
  {
   "cell_type": "code",
   "execution_count": 122,
   "metadata": {},
   "outputs": [
    {
     "data": {
      "text/plain": [
       "(30805, 21)"
      ]
     },
     "execution_count": 122,
     "metadata": {},
     "output_type": "execute_result"
    }
   ],
   "source": [
    "users_with_ambiguous_location = users_with_location.loc[users_with_location[\"detected_location\"] == \"Ubicacion ambigua\", :]\n",
    "users_with_ambiguous_location.shape"
   ]
  },
  {
   "cell_type": "code",
   "execution_count": 123,
   "metadata": {},
   "outputs": [
    {
     "name": "stderr",
     "output_type": "stream",
     "text": [
      "<ipython-input-123-945c613f4369>:1: SettingWithCopyWarning: \n",
      "A value is trying to be set on a copy of a slice from a DataFrame.\n",
      "Try using .loc[row_indexer,col_indexer] = value instead\n",
      "\n",
      "See the caveats in the documentation: https://pandas.pydata.org/pandas-docs/stable/user_guide/indexing.html#returning-a-view-versus-a-copy\n",
      "  users_with_ambiguous_location[\"distance_dif_in_km\"] = users_with_ambiguous_location.apply(determine_distance, axis=1)\n"
     ]
    }
   ],
   "source": [
    "users_with_ambiguous_location[\"distance_dif_in_km\"] = users_with_ambiguous_location.apply(determine_distance, axis=1)"
   ]
  },
  {
   "cell_type": "code",
   "execution_count": 142,
   "metadata": {},
   "outputs": [
    {
     "data": {
      "text/html": [
       "<div>\n",
       "<style scoped>\n",
       "    .dataframe tbody tr th:only-of-type {\n",
       "        vertical-align: middle;\n",
       "    }\n",
       "\n",
       "    .dataframe tbody tr th {\n",
       "        vertical-align: top;\n",
       "    }\n",
       "\n",
       "    .dataframe thead th {\n",
       "        text-align: right;\n",
       "    }\n",
       "</style>\n",
       "<table border=\"1\" class=\"dataframe\">\n",
       "  <thead>\n",
       "    <tr style=\"text-align: right;\">\n",
       "      <th></th>\n",
       "      <th>location</th>\n",
       "      <th>profile_city</th>\n",
       "      <th>profile_country</th>\n",
       "      <th>place_name</th>\n",
       "      <th>place_country</th>\n",
       "      <th>distance_dif_in_km</th>\n",
       "    </tr>\n",
       "  </thead>\n",
       "  <tbody>\n",
       "    <tr>\n",
       "      <th>46</th>\n",
       "      <td>san francisco</td>\n",
       "      <td>[{'longitude': -66.1253890991211, 'population'...</td>\n",
       "      <td>None</td>\n",
       "      <td>san justo</td>\n",
       "      <td>argentina</td>\n",
       "      <td>737.235325</td>\n",
       "    </tr>\n",
       "    <tr>\n",
       "      <th>62</th>\n",
       "      <td>minas brasil, belo horizonte</td>\n",
       "      <td>[{'longitude': -36.82889175415039, 'population...</td>\n",
       "      <td>None</td>\n",
       "      <td>bello horizonte</td>\n",
       "      <td>brasil</td>\n",
       "      <td>1351.729251</td>\n",
       "    </tr>\n",
       "    <tr>\n",
       "      <th>168</th>\n",
       "      <td>porto seguro-ba; brasil</td>\n",
       "      <td>[{'longitude': -39.064720153808594, 'populatio...</td>\n",
       "      <td>None</td>\n",
       "      <td>santa cruz cabrália</td>\n",
       "      <td>brasil</td>\n",
       "      <td>19.558944</td>\n",
       "    </tr>\n",
       "    <tr>\n",
       "      <th>175</th>\n",
       "      <td>caba</td>\n",
       "      <td>[{'longitude': 76.12647247314453, 'population'...</td>\n",
       "      <td>None</td>\n",
       "      <td>ciudad autónoma de buenos aires</td>\n",
       "      <td>argentina</td>\n",
       "      <td>15830.206560</td>\n",
       "    </tr>\n",
       "    <tr>\n",
       "      <th>193</th>\n",
       "      <td>barquisimeto-edo lara</td>\n",
       "      <td>[{'longitude': -69.3570327758789, 'population'...</td>\n",
       "      <td>None</td>\n",
       "      <td>cúcuta</td>\n",
       "      <td>colombia</td>\n",
       "      <td>421.906003</td>\n",
       "    </tr>\n",
       "    <tr>\n",
       "      <th>...</th>\n",
       "      <td>...</td>\n",
       "      <td>...</td>\n",
       "      <td>...</td>\n",
       "      <td>...</td>\n",
       "      <td>...</td>\n",
       "      <td>...</td>\n",
       "    </tr>\n",
       "    <tr>\n",
       "      <th>131788</th>\n",
       "      <td>buenos aires</td>\n",
       "      <td>[{'longitude': -58.37723159790039, 'population...</td>\n",
       "      <td>None</td>\n",
       "      <td>barranquilla</td>\n",
       "      <td>colombia</td>\n",
       "      <td>5355.579948</td>\n",
       "    </tr>\n",
       "    <tr>\n",
       "      <th>131824</th>\n",
       "      <td>mexico city</td>\n",
       "      <td>[{'longitude': -99.1276626586914, 'population'...</td>\n",
       "      <td>None</td>\n",
       "      <td>chandler</td>\n",
       "      <td>estados unidos</td>\n",
       "      <td>2361.165898</td>\n",
       "    </tr>\n",
       "    <tr>\n",
       "      <th>131827</th>\n",
       "      <td>ciudad de mexico</td>\n",
       "      <td>[{'longitude': -99.1276626586914, 'population'...</td>\n",
       "      <td>None</td>\n",
       "      <td>benito juárez</td>\n",
       "      <td>méxico</td>\n",
       "      <td>149.972525</td>\n",
       "    </tr>\n",
       "    <tr>\n",
       "      <th>131838</th>\n",
       "      <td>san francisco, córdoba</td>\n",
       "      <td>[{'longitude': -66.1253890991211, 'population'...</td>\n",
       "      <td>None</td>\n",
       "      <td>san justo</td>\n",
       "      <td>argentina</td>\n",
       "      <td>737.235325</td>\n",
       "    </tr>\n",
       "    <tr>\n",
       "      <th>131847</th>\n",
       "      <td>tres arroyos, (bs as) arg.</td>\n",
       "      <td>[{'longitude': -60.279781341552734, 'populatio...</td>\n",
       "      <td>None</td>\n",
       "      <td>necochea</td>\n",
       "      <td>argentina</td>\n",
       "      <td>135.588553</td>\n",
       "    </tr>\n",
       "  </tbody>\n",
       "</table>\n",
       "<p>17218 rows × 6 columns</p>\n",
       "</div>"
      ],
      "text/plain": [
       "                            location  \\\n",
       "46                     san francisco   \n",
       "62      minas brasil, belo horizonte   \n",
       "168         porto seguro-ba; brasil    \n",
       "175                             caba   \n",
       "193            barquisimeto-edo lara   \n",
       "...                              ...   \n",
       "131788                  buenos aires   \n",
       "131824                   mexico city   \n",
       "131827              ciudad de mexico   \n",
       "131838        san francisco, córdoba   \n",
       "131847    tres arroyos, (bs as) arg.   \n",
       "\n",
       "                                             profile_city profile_country  \\\n",
       "46      [{'longitude': -66.1253890991211, 'population'...            None   \n",
       "62      [{'longitude': -36.82889175415039, 'population...            None   \n",
       "168     [{'longitude': -39.064720153808594, 'populatio...            None   \n",
       "175     [{'longitude': 76.12647247314453, 'population'...            None   \n",
       "193     [{'longitude': -69.3570327758789, 'population'...            None   \n",
       "...                                                   ...             ...   \n",
       "131788  [{'longitude': -58.37723159790039, 'population...            None   \n",
       "131824  [{'longitude': -99.1276626586914, 'population'...            None   \n",
       "131827  [{'longitude': -99.1276626586914, 'population'...            None   \n",
       "131838  [{'longitude': -66.1253890991211, 'population'...            None   \n",
       "131847  [{'longitude': -60.279781341552734, 'populatio...            None   \n",
       "\n",
       "                             place_name   place_country  distance_dif_in_km  \n",
       "46                            san justo       argentina          737.235325  \n",
       "62                      bello horizonte          brasil         1351.729251  \n",
       "168                 santa cruz cabrália          brasil           19.558944  \n",
       "175     ciudad autónoma de buenos aires       argentina        15830.206560  \n",
       "193                              cúcuta        colombia          421.906003  \n",
       "...                                 ...             ...                 ...  \n",
       "131788                     barranquilla        colombia         5355.579948  \n",
       "131824                         chandler  estados unidos         2361.165898  \n",
       "131827                    benito juárez          méxico          149.972525  \n",
       "131838                        san justo       argentina          737.235325  \n",
       "131847                         necochea       argentina          135.588553  \n",
       "\n",
       "[17218 rows x 6 columns]"
      ]
     },
     "execution_count": 142,
     "metadata": {},
     "output_type": "execute_result"
    }
   ],
   "source": [
    "users_with_ambiguous_location.loc[users_with_ambiguous_location[\"distance_dif_in_km\"] > 0, [\"location\", \"profile_city\", \"profile_country\", \"place_name\", \"place_country\", \"distance_dif_in_km\"]]"
   ]
  },
  {
   "cell_type": "code",
   "execution_count": 155,
   "metadata": {},
   "outputs": [
    {
     "data": {
      "image/png": "[encoded data removed]",
      "text/plain": [
       "<Figure size 1152x648 with 1 Axes>"
      ]
     },
     "metadata": {},
     "output_type": "display_data"
    }
   ],
   "source": [
    "f, ax = plt.subplots(figsize=(16, 9))\n",
    "\n",
    "sns.set_theme()\n",
    "\n",
    "sns.ecdfplot(\n",
    "    data=users_with_ambiguous_location[\"distance_dif_in_km\"],\n",
    "    stat=\"proportion\",\n",
    "    #log_scale=True,\n",
    "    ax=ax\n",
    ")\n",
    "\n",
    "ax.set_ylim(0, 1.1)\n",
    "ax.set_xlim(0, 20000)\n",
    "ax.set_xscale('symlog')\n",
    "ax.set_title(\"Distancia entre la ciudad de la mayoría de los Tweets y la del Perfil con ubicación ambigua\", fontsize=20, fontweight='bold', pad=20)\n",
    "ax.set_xlabel(\"Diferencia en kilómetros\", fontsize=18, labelpad=20)\n",
    "ax.set_ylabel(\"Proporción de usuarios\", fontsize=18, labelpad=20)\n",
    "ax.set_yticks(np.arange(0,1.1,0.1))\n",
    "ax.xaxis.set_tick_params(labelsize=16)\n",
    "ax.yaxis.set_tick_params(labelsize=16)\n",
    "ax.xaxis.set_major_formatter(ticker.FormatStrFormatter(\"%d\"))"
   ]
  },
  {
   "cell_type": "code",
   "execution_count": 106,
   "metadata": {},
   "outputs": [
    {
     "data": {
      "image/png": "[encoded data removed]",
      "text/plain": [
       "<Figure size 1440x720 with 1 Axes>"
      ]
     },
     "metadata": {},
     "output_type": "display_data"
    },
    {
     "data": {
      "image/png": "[encoded data removed]",
      "text/plain": [
       "<Figure size 1440x720 with 1 Axes>"
      ]
     },
     "metadata": {},
     "output_type": "display_data"
    }
   ],
   "source": [
    "plt.figure(figsize=(20,10)) \n",
    "plt.hist(users_with_ambiguous_location['distance_dif_in_km'], bins=np.logspace(0, 5, 20))\n",
    "plt.xlabel(\"Kilometros [log]\", fontsize=16)\n",
    "plt.ylabel(\"Cantidad de usuarios\", fontsize=16)\n",
    "plt.title(\"Histograma de distancias en Km de ubicación en mayoría de Tweets vs perfil del usuario\", fontsize=18)\n",
    "#plt.xlim(0, 4000)\n",
    "plt.figsize=(10,8)\n",
    "plt.xscale('log')\n",
    "plt.show()\n",
    "\n",
    "plt.figure(figsize=(20,10)) \n",
    "plt.hist(users_with_ambiguous_location['distance_dif_in_km'], bins=200)\n",
    "plt.xlabel(\"Kilometros\", fontsize=16)\n",
    "plt.ylabel(\"Cantidad de usuarios\", fontsize=16)\n",
    "plt.title(\"Histograma de distancias en Km de ubicación en mayoría de Tweets vs perfil del usuario\", fontsize=18)\n",
    "plt.xlim(0, 2500)\n",
    "plt.figsize=(10,8)\n",
    "plt.show()"
   ]
  },
  {
   "cell_type": "code",
   "execution_count": 143,
   "metadata": {},
   "outputs": [
    {
     "name": "stdout",
     "output_type": "stream",
     "text": [
      "Sesion cerrada\n"
     ]
    }
   ],
   "source": [
    "conn.close()\n",
    "print(\"Sesion cerrada\")"
   ]
  }
 ],
 "metadata": {
  "kernelspec": {
   "display_name": "ffunes-3.8",
   "language": "python",
   "name": "ffunes-3.8"
  },
  "language_info": {
   "codemirror_mode": {
    "name": "ipython",
    "version": 3
   },
   "file_extension": ".py",
   "mimetype": "text/x-python",
   "name": "python",
   "nbconvert_exporter": "python",
   "pygments_lexer": "ipython3",
   "version": "3.8.7"
  }
 },
 "nbformat": 4,
 "nbformat_minor": 2
}
