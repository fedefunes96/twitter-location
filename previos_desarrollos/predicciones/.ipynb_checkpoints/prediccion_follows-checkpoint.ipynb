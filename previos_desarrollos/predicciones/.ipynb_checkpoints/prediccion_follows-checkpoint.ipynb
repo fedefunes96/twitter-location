{
 "cells": [
  {
   "cell_type": "code",
   "execution_count": 2,
   "id": "meaning-algebra",
   "metadata": {},
   "outputs": [],
   "source": [
    "import pandas as pd\n",
    "import psycopg2\n",
    "import pandas.io.sql as psql\n",
    "import geopandas as gpd\n",
    "import numpy as np\n",
    "import matplotlib.pyplot as plt\n",
    "from shapely.geometry import Point\n",
    "from sklearn.feature_extraction.text import CountVectorizer\n",
    "from sklearn.tree import DecisionTreeClassifier\n",
    "from sklearn.ensemble import RandomForestClassifier\n",
    "from sklearn.model_selection import GridSearchCV, cross_val_score, StratifiedKFold, cross_val_predict, cross_validate\n",
    "from sklearn.model_selection import train_test_split\n",
    "from statsmodels.distributions.empirical_distribution import ECDF\n",
    "from sklearn.metrics import classification_report, make_scorer\n",
    "from sklearn.metrics import accuracy_score\n",
    "from sklearn.multioutput import MultiOutputClassifier\n",
    "from sklearn.metrics import balanced_accuracy_score, accuracy_score, roc_auc_score\n",
    "from sklearn.metrics import plot_confusion_matrix, confusion_matrix\n",
    "from collections import OrderedDict\n",
    "from sklearn.manifold import TSNE\n",
    "from sklearn.svm import SVC\n",
    "from sklearn.preprocessing import scale\n",
    "from sklearn.decomposition import TruncatedSVD\n",
    "import matplotlib.cm as cm\n",
    "import time\n",
    "import scipy.sparse\n",
    "import seaborn as sns\n",
    "import lightgbm as lgb\n",
    "import category_encoders as ce\n",
    "import re\n",
    "from imblearn.ensemble import BalancedRandomForestClassifier\n",
    "\n",
    "dosTPath = \"../../../../../dosT/ffunes/\"\n",
    "\n",
    "%matplotlib inline\n",
    "\n",
    "sns.set_theme()"
   ]
  },
  {
   "cell_type": "markdown",
   "id": "fifty-breakdown",
   "metadata": {},
   "source": [
    "# Oslom parse"
   ]
  },
  {
   "cell_type": "code",
   "execution_count": 1,
   "id": "integral-shield",
   "metadata": {},
   "outputs": [],
   "source": [
    "def extract_oslom(filename):\n",
    "    \"\"\"Funcion que extrae las comunidades detectadas por OSLOM a las que pertence un vertice de la red.\"\"\"\n",
    "    clusters = {}\n",
    "    hashtag_clusters = {}\n",
    "    data = []\n",
    "    with open(filename) as f:\n",
    "        cluster = \"\"\n",
    "        for line in f:\n",
    "            m = re.search(\"^#module\\s([0-9]+).*\", line)\n",
    "            #print line\n",
    "            if (m is not None):\n",
    "                cluster = int(m.group(1))\n",
    "            else:\n",
    "                l = line.replace('\\n', ' ').strip().split(\" \")\n",
    "                l = list(map(int, l))\n",
    "                clusters[cluster] = l\n",
    "                for i in l:\n",
    "                    if not i in hashtag_clusters:\n",
    "                        hashtag_clusters[i] = set()\n",
    "                    hashtag_clusters[i].add(cluster)\n",
    "                    data.append([i, cluster])\n",
    "    return pd.DataFrame(data=data, columns=[\"id\", \"cluster\"]), hashtag_clusters"
   ]
  },
  {
   "cell_type": "markdown",
   "id": "postal-suspect",
   "metadata": {},
   "source": [
    "# Función para calcular distancias entre datos predecidos y reales"
   ]
  },
  {
   "cell_type": "code",
   "execution_count": 3,
   "id": "noted-bronze",
   "metadata": {},
   "outputs": [],
   "source": [
    "geonames = pd.read_pickle(dosTPath + \"geonames_parsed.pkl\")\n",
    "\n",
    "from math import radians, sin, cos, atan2, sqrt\n",
    "\n",
    "def haversine_distance(lat1, lon1, lat2, lon2):\n",
    "    radius = 6371 # km\n",
    "\n",
    "    dlat = radians(lat2-lat1)\n",
    "    dlon = radians(lon2-lon1)\n",
    "    a = sin(dlat/2) * sin(dlat/2) + cos(radians(lat1)) \\\n",
    "        * cos(radians(lat2)) * sin(dlon/2) * sin(dlon/2)\n",
    "    c = 2 * atan2(sqrt(a), sqrt(1-a))\n",
    "    d = radius * c\n",
    "\n",
    "    return d\n",
    "\n",
    "def determine_distance(row):\n",
    "    predicted_lat = row['predicted_lat']\n",
    "    predicted_lon = row['predicted_lon']\n",
    "    real_lat = row['real_lat']\n",
    "    real_long = row['real_lon']\n",
    "    \n",
    "    return haversine_distance(predicted_lat, predicted_lon, real_lat, real_long)\n",
    "\n",
    "def get_difference_distance(predicted_place, real_place):\n",
    "    df_prediction = pd.DataFrame({\n",
    "        'predicted_place': predicted_place,\n",
    "        'real_place': real_place\n",
    "    }, dtype=float)\n",
    "        \n",
    "    df_prediction[['predicted_cities','predicted_countries']] = df_prediction.predicted_place.str.split(',', expand=True) \n",
    "    df_prediction[['real_cities','real_countries']] = df_prediction.real_place.str.split(',', expand=True) \n",
    "    \n",
    "    del df_prediction['predicted_place']\n",
    "    del df_prediction['real_place']\n",
    "    \n",
    "    df_prediction = pd.merge(\n",
    "        left=df_prediction,\n",
    "        right=geonames.loc[:,['alternatenames', 'country', 'latitude', 'longitude']],\n",
    "        how='left',\n",
    "        left_on=['predicted_cities', 'predicted_countries'],\n",
    "        right_on=['alternatenames', 'country'],\n",
    "        validate='m:1'\n",
    "    )\n",
    "    \n",
    "    df_prediction.rename(columns={'latitude': 'predicted_lat', 'longitude': 'predicted_lon'}, inplace=True)\n",
    "    \n",
    "    del df_prediction['alternatenames']\n",
    "    del df_prediction['country']\n",
    "    \n",
    "    df_prediction = pd.merge(\n",
    "        left=df_prediction,\n",
    "        right=geonames.loc[:,['alternatenames', 'country', 'latitude', 'longitude']],\n",
    "        how='left',\n",
    "        left_on=['real_cities', 'real_countries'],\n",
    "        right_on=['alternatenames', 'country'],\n",
    "        validate='m:1'\n",
    "    )\n",
    "    \n",
    "    del df_prediction['alternatenames']\n",
    "    del df_prediction['country']\n",
    "    \n",
    "    df_prediction.rename(columns={'latitude': 'real_lat', 'longitude': 'real_lon'}, inplace=True)\n",
    "    \n",
    "    #print(df_prediction.head(5))\n",
    "    \n",
    "    print(\"Total NaN: \", df_prediction.shape[0]-df_prediction.dropna(subset=['real_lat', 'real_lon', 'predicted_lat', 'predicted_lon']).shape[0])\n",
    "\n",
    "    return df_prediction.apply(determine_distance, axis=1)\n",
    "\n",
    "def accuracy_161km(real_place, pred_place):\n",
    "    dif_distance = get_difference_distance(pred_place, real_place)\n",
    "    \n",
    "    total_positives = 0\n",
    "    \n",
    "    for val in dif_distance:\n",
    "        if val <= 161:\n",
    "            total_positives += 1\n",
    "    \n",
    "    return total_positives / len(dif_distance)"
   ]
  },
  {
   "cell_type": "markdown",
   "id": "classical-encyclopedia",
   "metadata": {},
   "source": [
    "# Lectura de datos"
   ]
  },
  {
   "cell_type": "code",
   "execution_count": 4,
   "id": "described-sperm",
   "metadata": {},
   "outputs": [
    {
     "data": {
      "text/html": [
       "<div>\n",
       "<style scoped>\n",
       "    .dataframe tbody tr th:only-of-type {\n",
       "        vertical-align: middle;\n",
       "    }\n",
       "\n",
       "    .dataframe tbody tr th {\n",
       "        vertical-align: top;\n",
       "    }\n",
       "\n",
       "    .dataframe thead th {\n",
       "        text-align: right;\n",
       "    }\n",
       "</style>\n",
       "<table border=\"1\" class=\"dataframe\">\n",
       "  <thead>\n",
       "    <tr style=\"text-align: right;\">\n",
       "      <th></th>\n",
       "      <th>id</th>\n",
       "      <th>place_name</th>\n",
       "      <th>place_country</th>\n",
       "      <th>latitude</th>\n",
       "      <th>longitude</th>\n",
       "      <th>followees</th>\n",
       "      <th>followers</th>\n",
       "    </tr>\n",
       "  </thead>\n",
       "  <tbody>\n",
       "    <tr>\n",
       "      <th>0</th>\n",
       "      <td>773970163502870528</td>\n",
       "      <td>guadalajara de buga</td>\n",
       "      <td>colombia</td>\n",
       "      <td>3.900890</td>\n",
       "      <td>-76.297829</td>\n",
       "      <td>NaN</td>\n",
       "      <td>[69487764, 510859609, 224414040, 213441704]</td>\n",
       "    </tr>\n",
       "    <tr>\n",
       "      <th>1</th>\n",
       "      <td>77573705</td>\n",
       "      <td>quito</td>\n",
       "      <td>ecuador</td>\n",
       "      <td>-0.229850</td>\n",
       "      <td>-78.524948</td>\n",
       "      <td>[215732194, 426018959, 321478599, 1374747618, ...</td>\n",
       "      <td>[831637104, 236539786, 189670706, 242137334, 4...</td>\n",
       "    </tr>\n",
       "    <tr>\n",
       "      <th>2</th>\n",
       "      <td>782687718576840704</td>\n",
       "      <td>tolosa</td>\n",
       "      <td>españa</td>\n",
       "      <td>43.134838</td>\n",
       "      <td>-2.078010</td>\n",
       "      <td>NaN</td>\n",
       "      <td>NaN</td>\n",
       "    </tr>\n",
       "  </tbody>\n",
       "</table>\n",
       "</div>"
      ],
      "text/plain": [
       "                   id           place_name place_country   latitude  \\\n",
       "0  773970163502870528  guadalajara de buga      colombia   3.900890   \n",
       "1            77573705                quito       ecuador  -0.229850   \n",
       "2  782687718576840704               tolosa        españa  43.134838   \n",
       "\n",
       "   longitude                                          followees  \\\n",
       "0 -76.297829                                                NaN   \n",
       "1 -78.524948  [215732194, 426018959, 321478599, 1374747618, ...   \n",
       "2  -2.078010                                                NaN   \n",
       "\n",
       "                                           followers  \n",
       "0        [69487764, 510859609, 224414040, 213441704]  \n",
       "1  [831637104, 236539786, 189670706, 242137334, 4...  \n",
       "2                                                NaN  "
      ]
     },
     "execution_count": 4,
     "metadata": {},
     "output_type": "execute_result"
    }
   ],
   "source": [
    "users_with_follows = pd.read_pickle(dosTPath + \"users_with_follows_pop.pkl\")\n",
    "users_with_follows.head(3)"
   ]
  },
  {
   "cell_type": "code",
   "execution_count": 5,
   "id": "exterior-basket",
   "metadata": {},
   "outputs": [],
   "source": [
    "users_with_follows[\"unified_place\"] = users_with_follows[\"place_name\"] + ',' + users_with_follows[\"place_country\"]"
   ]
  },
  {
   "cell_type": "code",
   "execution_count": 6,
   "id": "improving-artwork",
   "metadata": {},
   "outputs": [
    {
     "data": {
      "text/plain": [
       "(23, 2)"
      ]
     },
     "execution_count": 6,
     "metadata": {},
     "output_type": "execute_result"
    }
   ],
   "source": [
    "min_determined_place = users_with_follows.loc[:, [\"id\", \"unified_place\"]].groupby(\"unified_place\").\\\n",
    "                        count().reset_index()\n",
    "\n",
    "min_determined_place = min_determined_place.loc[min_determined_place[\"id\"] >= 1200, :]\n",
    "min_determined_place.shape"
   ]
  },
  {
   "cell_type": "code",
   "execution_count": 7,
   "id": "round-camcorder",
   "metadata": {},
   "outputs": [
    {
     "data": {
      "text/plain": [
       "(79642, 8)"
      ]
     },
     "execution_count": 7,
     "metadata": {},
     "output_type": "execute_result"
    }
   ],
   "source": [
    "users_train = pd.merge(\n",
    "    left=users_with_follows,\n",
    "    right=min_determined_place.loc[:, ['unified_place']],\n",
    "    how='inner',\n",
    "    left_on='unified_place',\n",
    "    right_on='unified_place',\n",
    "    validate='m:1'\n",
    ")\n",
    "\n",
    "users_train.shape"
   ]
  },
  {
   "cell_type": "code",
   "execution_count": 8,
   "id": "sonic-asian",
   "metadata": {},
   "outputs": [
    {
     "data": {
      "text/plain": [
       "(49106, 8)"
      ]
     },
     "execution_count": 8,
     "metadata": {},
     "output_type": "execute_result"
    }
   ],
   "source": [
    "users_train.dropna(subset=[\"followees\", \"followers\"], how='all', inplace=True)\n",
    "users_train.reset_index(drop=True, inplace=True)\n",
    "users_train.shape"
   ]
  },
  {
   "cell_type": "code",
   "execution_count": 9,
   "id": "offensive-feeling",
   "metadata": {},
   "outputs": [
    {
     "data": {
      "text/html": [
       "<div>\n",
       "<style scoped>\n",
       "    .dataframe tbody tr th:only-of-type {\n",
       "        vertical-align: middle;\n",
       "    }\n",
       "\n",
       "    .dataframe tbody tr th {\n",
       "        vertical-align: top;\n",
       "    }\n",
       "\n",
       "    .dataframe thead th {\n",
       "        text-align: right;\n",
       "    }\n",
       "</style>\n",
       "<table border=\"1\" class=\"dataframe\">\n",
       "  <thead>\n",
       "    <tr style=\"text-align: right;\">\n",
       "      <th></th>\n",
       "      <th>id</th>\n",
       "      <th>place_name</th>\n",
       "      <th>place_country</th>\n",
       "      <th>latitude</th>\n",
       "      <th>longitude</th>\n",
       "      <th>followees</th>\n",
       "      <th>followers</th>\n",
       "      <th>unified_place</th>\n",
       "    </tr>\n",
       "  </thead>\n",
       "  <tbody>\n",
       "    <tr>\n",
       "      <th>0</th>\n",
       "      <td>77573705</td>\n",
       "      <td>quito</td>\n",
       "      <td>ecuador</td>\n",
       "      <td>-0.22985</td>\n",
       "      <td>-78.524948</td>\n",
       "      <td>[215732194, 426018959, 321478599, 1374747618, ...</td>\n",
       "      <td>[831637104, 236539786, 189670706, 242137334, 4...</td>\n",
       "      <td>quito,ecuador</td>\n",
       "    </tr>\n",
       "    <tr>\n",
       "      <th>1</th>\n",
       "      <td>114590823</td>\n",
       "      <td>quito</td>\n",
       "      <td>ecuador</td>\n",
       "      <td>-0.22985</td>\n",
       "      <td>-78.524948</td>\n",
       "      <td>NaN</td>\n",
       "      <td>[145348732]</td>\n",
       "      <td>quito,ecuador</td>\n",
       "    </tr>\n",
       "    <tr>\n",
       "      <th>2</th>\n",
       "      <td>1599436826</td>\n",
       "      <td>quito</td>\n",
       "      <td>ecuador</td>\n",
       "      <td>-0.22985</td>\n",
       "      <td>-78.524948</td>\n",
       "      <td>NaN</td>\n",
       "      <td>[291714136]</td>\n",
       "      <td>quito,ecuador</td>\n",
       "    </tr>\n",
       "  </tbody>\n",
       "</table>\n",
       "</div>"
      ],
      "text/plain": [
       "           id place_name place_country  latitude  longitude  \\\n",
       "0    77573705      quito       ecuador  -0.22985 -78.524948   \n",
       "1   114590823      quito       ecuador  -0.22985 -78.524948   \n",
       "2  1599436826      quito       ecuador  -0.22985 -78.524948   \n",
       "\n",
       "                                           followees  \\\n",
       "0  [215732194, 426018959, 321478599, 1374747618, ...   \n",
       "1                                                NaN   \n",
       "2                                                NaN   \n",
       "\n",
       "                                           followers  unified_place  \n",
       "0  [831637104, 236539786, 189670706, 242137334, 4...  quito,ecuador  \n",
       "1                                        [145348732]  quito,ecuador  \n",
       "2                                        [291714136]  quito,ecuador  "
      ]
     },
     "execution_count": 9,
     "metadata": {},
     "output_type": "execute_result"
    }
   ],
   "source": [
    "users_train.head(3)"
   ]
  },
  {
   "cell_type": "code",
   "execution_count": 10,
   "id": "expressed-sleeve",
   "metadata": {},
   "outputs": [],
   "source": [
    "users_train['followees'] = users_train['followees'].fillna(\"\").apply(list)\n",
    "users_train['followers'] = users_train['followers'].fillna(\"\").apply(list)"
   ]
  },
  {
   "cell_type": "code",
   "execution_count": 11,
   "id": "handled-coral",
   "metadata": {},
   "outputs": [
    {
     "data": {
      "text/plain": [
       "643739"
      ]
     },
     "execution_count": 11,
     "metadata": {},
     "output_type": "execute_result"
    }
   ],
   "source": [
    "users_ids = users_train[\"id\"].unique()\n",
    "\n",
    "set_users = set(users_ids)\n",
    "\n",
    "for x in users_train[\"followees\"].values:\n",
    "    set_users |= set(x)\n",
    "    \n",
    "for x in users_train[\"followers\"].values:\n",
    "    set_users |= set(x)\n",
    "    \n",
    "follows_users = list(set_users.difference(set(users_ids)))\n",
    "\n",
    "total_users = list(users_ids) + follows_users\n",
    "len(total_users)"
   ]
  },
  {
   "cell_type": "code",
   "execution_count": 48,
   "id": "acting-decade",
   "metadata": {},
   "outputs": [
    {
     "name": "stdout",
     "output_type": "stream",
     "text": [
      "True\n"
     ]
    }
   ],
   "source": [
    "#Verify order\n",
    "\n",
    "value = True\n",
    "\n",
    "for i in range(0, len(users_train[\"id\"])):\n",
    "    if total_users[i] != users_train[\"id\"][i]:\n",
    "        value = False\n",
    "\n",
    "print(value)"
   ]
  },
  {
   "cell_type": "code",
   "execution_count": 12,
   "id": "chemical-apple",
   "metadata": {},
   "outputs": [
    {
     "data": {
      "text/plain": [
       "<49106x643739 sparse matrix of type '<class 'numpy.uint8'>'\n",
       "\twith 1747036 stored elements in Compressed Sparse Row format>"
      ]
     },
     "execution_count": 12,
     "metadata": {},
     "output_type": "execute_result"
    }
   ],
   "source": [
    "vectorizer = CountVectorizer(\n",
    "    strip_accents=None,\n",
    "    lowercase=False,\n",
    "    vocabulary=total_users,\n",
    "    analyzer=lambda x: x\n",
    ")\n",
    "\n",
    "vector_of_followees = vectorizer.fit_transform(users_train[\"followees\"]).astype(np.uint8)\n",
    "vector_of_followees"
   ]
  },
  {
   "cell_type": "code",
   "execution_count": 13,
   "id": "outside-contents",
   "metadata": {},
   "outputs": [
    {
     "data": {
      "text/plain": [
       "<49106x643739 sparse matrix of type '<class 'numpy.uint8'>'\n",
       "\twith 7352730 stored elements in Compressed Sparse Row format>"
      ]
     },
     "execution_count": 13,
     "metadata": {},
     "output_type": "execute_result"
    }
   ],
   "source": [
    "vectorizer = CountVectorizer(\n",
    "    strip_accents=None,\n",
    "    lowercase=False,\n",
    "    vocabulary=total_users,\n",
    "    analyzer=lambda x: x\n",
    ")\n",
    "\n",
    "vector_of_followers = vectorizer.fit_transform(users_train[\"followers\"]).astype(np.uint8)\n",
    "vector_of_followers"
   ]
  },
  {
   "cell_type": "code",
   "execution_count": 51,
   "id": "valid-participation",
   "metadata": {},
   "outputs": [],
   "source": [
    "cx1 = vector_of_followees.tocoo()\n",
    "cx2 = vector_of_followers.tocoo()\n",
    "\n",
    "edges = []\n",
    "\n",
    "already_passed = {}\n",
    "\n",
    "for i in range(vector_of_followees.shape[0]):\n",
    "    already_passed[i] = []\n",
    "    \n",
    "for i,j,v in zip(cx1.row, cx1.col, cx1.data):\n",
    "    if v <= 0:\n",
    "        continue\n",
    "    \n",
    "    format_str = str(i) + \" \" + str(j)\n",
    "    edges.append(format_str)\n",
    "    \n",
    "    already_passed[i].append(j)\n",
    "\n",
    "for i,j,v in zip(cx2.row, cx2.col, cx2.data):\n",
    "    if v <= 0:\n",
    "        continue\n",
    "        \n",
    "    if already_passed[i] and j in already_passed[i]:\n",
    "        continue\n",
    "    \n",
    "    format_str = str(i) + \" \" + str(j)\n",
    "    edges.append(format_str)"
   ]
  },
  {
   "cell_type": "code",
   "execution_count": 52,
   "id": "everyday-manor",
   "metadata": {},
   "outputs": [
    {
     "data": {
      "text/plain": [
       "10728790"
      ]
     },
     "execution_count": 52,
     "metadata": {},
     "output_type": "execute_result"
    }
   ],
   "source": [
    "len(edges)"
   ]
  },
  {
   "cell_type": "code",
   "execution_count": 53,
   "id": "removed-starter",
   "metadata": {},
   "outputs": [],
   "source": [
    "df = pd.DataFrame({\"edges\": edges})\n",
    "df.to_csv(\"../../results/matrix/follows/edges_follows.csv\", header=False, index=False)"
   ]
  },
  {
   "cell_type": "markdown",
   "id": "spare-objective",
   "metadata": {},
   "source": [
    "Co-follows"
   ]
  },
  {
   "cell_type": "code",
   "execution_count": 34,
   "id": "revolutionary-finish",
   "metadata": {},
   "outputs": [],
   "source": [
    "users_cofols = users_train[users_train['followees'].apply(lambda x: len(x)) > 0].reset_index()"
   ]
  },
  {
   "cell_type": "code",
   "execution_count": 35,
   "id": "rolled-intention",
   "metadata": {},
   "outputs": [
    {
     "data": {
      "text/plain": [
       "473706"
      ]
     },
     "execution_count": 35,
     "metadata": {},
     "output_type": "execute_result"
    }
   ],
   "source": [
    "users_ids = users_cofols[\"id\"].unique()\n",
    "\n",
    "set_users = set(users_ids)\n",
    "\n",
    "for x in users_cofols[\"followees\"].values:\n",
    "    set_users |= set(x)\n",
    "    \n",
    "follows_users = list(set_users.difference(set(users_ids)))\n",
    "\n",
    "total_users = list(users_ids) + follows_users\n",
    "len(total_users)"
   ]
  },
  {
   "cell_type": "code",
   "execution_count": 36,
   "id": "lesser-contract",
   "metadata": {},
   "outputs": [
    {
     "name": "stdout",
     "output_type": "stream",
     "text": [
      "True\n"
     ]
    }
   ],
   "source": [
    "#Verify order\n",
    "\n",
    "value = True\n",
    "\n",
    "for i in range(0, len(users_cofols[\"id\"])):\n",
    "    if total_users[i] != users_cofols[\"id\"][i]:\n",
    "        value = False\n",
    "\n",
    "print(value)"
   ]
  },
  {
   "cell_type": "code",
   "execution_count": 37,
   "id": "human-bridges",
   "metadata": {},
   "outputs": [
    {
     "data": {
      "text/plain": [
       "<28910x473706 sparse matrix of type '<class 'numpy.uint8'>'\n",
       "\twith 1747036 stored elements in Compressed Sparse Row format>"
      ]
     },
     "execution_count": 37,
     "metadata": {},
     "output_type": "execute_result"
    }
   ],
   "source": [
    "vectorizer = CountVectorizer(\n",
    "    strip_accents=None,\n",
    "    lowercase=False,\n",
    "    vocabulary=total_users,\n",
    "    analyzer=lambda x: x\n",
    ")\n",
    "\n",
    "vector_of_followees = vectorizer.fit_transform(users_cofols[\"followees\"]).astype(np.uint8)\n",
    "vector_of_followees"
   ]
  },
  {
   "cell_type": "code",
   "execution_count": 38,
   "id": "rational-experience",
   "metadata": {},
   "outputs": [
    {
     "name": "stderr",
     "output_type": "stream",
     "text": [
      "/var/home/ffunes/.local/share/virtualenvs/python_env--wEOliWe/lib/python3.8/site-packages/scipy/sparse/_index.py:126: SparseEfficiencyWarning: Changing the sparsity structure of a csr_matrix is expensive. lil_matrix is more efficient.\n",
      "  self._set_arrayXarray(i, j, x)\n"
     ]
    },
    {
     "data": {
      "text/plain": [
       "<28910x28910 sparse matrix of type '<class 'numpy.uint8'>'\n",
       "\twith 8066404 stored elements in Compressed Sparse Row format>"
      ]
     },
     "execution_count": 38,
     "metadata": {},
     "output_type": "execute_result"
    }
   ],
   "source": [
    "vector_of_co_followees = vector_of_followees.dot(vector_of_followees.T)\n",
    "vector_of_co_followees.setdiag(0, k=0)\n",
    "vector_of_co_followees"
   ]
  },
  {
   "cell_type": "code",
   "execution_count": 39,
   "id": "impaired-stage",
   "metadata": {},
   "outputs": [],
   "source": [
    "cx = vector_of_co_followees.tocoo()\n",
    "edges = []\n",
    "already_passed = {}\n",
    "\n",
    "for i in range(vector_of_co_followees.shape[0]):\n",
    "    already_passed[i] = []\n",
    "\n",
    "for i,j,v in zip(cx.row, cx.col, cx.data):\n",
    "    if v <= 0:\n",
    "        continue\n",
    "    \n",
    "    if i in already_passed[j]:\n",
    "        continue\n",
    "        \n",
    "    format_str = str(i) + \" \" + str(j) + \" \" + str(v)\n",
    "    edges.append(format_str)\n",
    "    \n",
    "    already_passed[i].append(j)"
   ]
  },
  {
   "cell_type": "code",
   "execution_count": 40,
   "id": "hollywood-original",
   "metadata": {},
   "outputs": [],
   "source": [
    "df = pd.DataFrame({\"edges\": edges})\n",
    "df.to_csv(\"../../results/matrix/follows/edges_cofollowees.csv\", header=False, index=False)"
   ]
  },
  {
   "cell_type": "markdown",
   "id": "detected-collar",
   "metadata": {},
   "source": [
    "Oslom"
   ]
  },
  {
   "cell_type": "code",
   "execution_count": 54,
   "id": "modular-sense",
   "metadata": {
    "scrolled": true
   },
   "outputs": [
    {
     "name": "stdout",
     "output_type": "stream",
     "text": [
      "setting -f\n",
      "setting -uw\n",
      "setting -r\n",
      "setting -hr\n",
      "setting -seed\n",
      "setting -cp\n",
      "**************************************\n",
      "Threshold:\t\t\t0.1\n",
      "Network file:\t\t\t../../results/matrix/follows/edges_follows.csv\n",
      "Weighted: no\n",
      "First Level Runs:\t\t\t1\n",
      "Higher Level Runs:\t\t\t0\n",
      "-cp:\t\t\t0.5\n",
      "Random number generator seed:\t\t\t42\n",
      "**************************************\n",
      "\n",
      "allocating 10728790 factorials...\n",
      "done\n",
      "mkdir: cannot create directory ‘../../results/matrix/follows/edges_follows.csv_oslo_files’: File exists\n",
      "output files will be written in directory: ../../results/matrix/follows/edges_follows.csv_oslo_files\n",
      "network:: 645479 nodes and 1.07288e+07 stubs;\t average degree = 16.6214\n",
      "STARTING! HIERARCHICAL LEVEL: 0\n",
      "***************************************************************** RUN: #1\n",
      "iteration: 0 number of modules: 42206\n",
      "iteration: 20 number of modules: 13075\n",
      "collection done \n",
      "\n",
      "\n",
      "checked 0 modules 0 were found significant.  Modules to check: 13079. Percentage nodes done: 0\n",
      "checked 100 modules 98 were found significant.  Modules to check: 12979. Percentage nodes done: 0.427036\n",
      "checked 200 modules 197 were found significant.  Modules to check: 12879. Percentage nodes done: 0.505704\n",
      "checked 300 modules 297 were found significant.  Modules to check: 12779. Percentage nodes done: 0.539818\n",
      "checked 400 modules 397 were found significant.  Modules to check: 12679. Percentage nodes done: 0.56019\n",
      "checked 500 modules 497 were found significant.  Modules to check: 12579. Percentage nodes done: 0.578614\n",
      "checked 600 modules 596 were found significant.  Modules to check: 12479. Percentage nodes done: 0.590055\n",
      "checked 700 modules 696 were found significant.  Modules to check: 12379. Percentage nodes done: 0.603879\n",
      "checked 800 modules 796 were found significant.  Modules to check: 12279. Percentage nodes done: 0.61395\n",
      "checked 900 modules 896 were found significant.  Modules to check: 12179. Percentage nodes done: 0.622937\n",
      "checked 1000 modules 994 were found significant.  Modules to check: 12079. Percentage nodes done: 0.631537\n",
      "checked 1100 modules 1094 were found significant.  Modules to check: 11979. Percentage nodes done: 0.636893\n",
      "checked 1200 modules 1194 were found significant.  Modules to check: 11879. Percentage nodes done: 0.644617\n",
      "checked 1300 modules 1294 were found significant.  Modules to check: 11779. Percentage nodes done: 0.650157\n",
      "checked 1400 modules 1394 were found significant.  Modules to check: 11679. Percentage nodes done: 0.656616\n",
      "checked 1500 modules 1493 were found significant.  Modules to check: 11579. Percentage nodes done: 0.663761\n",
      "checked 1600 modules 1593 were found significant.  Modules to check: 11479. Percentage nodes done: 0.672005\n",
      "checked 1700 modules 1693 were found significant.  Modules to check: 11379. Percentage nodes done: 0.678758\n",
      "checked 1800 modules 1793 were found significant.  Modules to check: 11279. Percentage nodes done: 0.684115\n",
      "checked 1900 modules 1893 were found significant.  Modules to check: 11179. Percentage nodes done: 0.689462\n",
      "checked 2000 modules 1993 were found significant.  Modules to check: 11079. Percentage nodes done: 0.695628\n",
      "checked 2100 modules 2093 were found significant.  Modules to check: 10979. Percentage nodes done: 0.702379\n",
      "checked 2200 modules 2193 were found significant.  Modules to check: 10879. Percentage nodes done: 0.708203\n",
      "checked 2300 modules 2293 were found significant.  Modules to check: 10779. Percentage nodes done: 0.714392\n",
      "checked 2400 modules 2393 were found significant.  Modules to check: 10679. Percentage nodes done: 0.719889\n",
      "checked 2500 modules 2493 were found significant.  Modules to check: 10579. Percentage nodes done: 0.729362\n",
      "checked 2600 modules 2593 were found significant.  Modules to check: 10479. Percentage nodes done: 0.738484\n",
      "checked 2700 modules 2693 were found significant.  Modules to check: 10379. Percentage nodes done: 0.744622\n",
      "checked 2800 modules 2793 were found significant.  Modules to check: 10279. Percentage nodes done: 0.750455\n",
      "checked 2900 modules 2893 were found significant.  Modules to check: 10179. Percentage nodes done: 0.756638\n",
      "checked 3000 modules 2993 were found significant.  Modules to check: 10079. Percentage nodes done: 0.760489\n",
      "checked 3100 modules 3093 were found significant.  Modules to check: 9979. Percentage nodes done: 0.765063\n",
      "checked 3200 modules 3193 were found significant.  Modules to check: 9879. Percentage nodes done: 0.771063\n",
      "checked 3300 modules 3293 were found significant.  Modules to check: 9779. Percentage nodes done: 0.77601\n",
      "checked 3400 modules 3392 were found significant.  Modules to check: 9679. Percentage nodes done: 0.780252\n",
      "checked 3500 modules 3492 were found significant.  Modules to check: 9579. Percentage nodes done: 0.785948\n",
      "checked 3600 modules 3592 were found significant.  Modules to check: 9479. Percentage nodes done: 0.792432\n",
      "checked 3700 modules 3692 were found significant.  Modules to check: 9379. Percentage nodes done: 0.796979\n",
      "checked 3800 modules 3792 were found significant.  Modules to check: 9279. Percentage nodes done: 0.801377\n",
      "checked 3900 modules 3892 were found significant.  Modules to check: 9179. Percentage nodes done: 0.806299\n",
      "checked 4000 modules 3992 were found significant.  Modules to check: 9079. Percentage nodes done: 0.810256\n",
      "checked 4100 modules 4092 were found significant.  Modules to check: 8979. Percentage nodes done: 0.814377\n",
      "checked 4200 modules 4192 were found significant.  Modules to check: 8879. Percentage nodes done: 0.819791\n",
      "checked 4300 modules 4292 were found significant.  Modules to check: 8779. Percentage nodes done: 0.824107\n",
      "checked 4400 modules 4392 were found significant.  Modules to check: 8679. Percentage nodes done: 0.82941\n",
      "checked 4500 modules 4492 were found significant.  Modules to check: 8579. Percentage nodes done: 0.833754\n",
      "checked 4600 modules 4591 were found significant.  Modules to check: 8479. Percentage nodes done: 0.837395\n",
      "checked 4700 modules 4691 were found significant.  Modules to check: 8379. Percentage nodes done: 0.841784\n",
      "checked 4800 modules 4791 were found significant.  Modules to check: 8279. Percentage nodes done: 0.844982\n",
      "checked 4900 modules 4891 were found significant.  Modules to check: 8179. Percentage nodes done: 0.84832\n",
      "checked 5000 modules 4991 were found significant.  Modules to check: 8079. Percentage nodes done: 0.85242\n",
      "checked 5100 modules 5091 were found significant.  Modules to check: 7979. Percentage nodes done: 0.855752\n",
      "checked 5200 modules 5191 were found significant.  Modules to check: 7879. Percentage nodes done: 0.859706\n",
      "checked 5300 modules 5291 were found significant.  Modules to check: 7779. Percentage nodes done: 0.862765\n",
      "checked 5400 modules 5391 were found significant.  Modules to check: 7679. Percentage nodes done: 0.865407\n",
      "checked 5500 modules 5491 were found significant.  Modules to check: 7579. Percentage nodes done: 0.868671\n",
      "checked 5600 modules 5591 were found significant.  Modules to check: 7479. Percentage nodes done: 0.871441\n",
      "checked 5700 modules 5691 were found significant.  Modules to check: 7379. Percentage nodes done: 0.875415\n",
      "checked 5800 modules 5791 were found significant.  Modules to check: 7279. Percentage nodes done: 0.879006\n",
      "checked 5900 modules 5891 were found significant.  Modules to check: 7179. Percentage nodes done: 0.88227\n",
      "checked 6000 modules 5991 were found significant.  Modules to check: 7079. Percentage nodes done: 0.885034\n",
      "checked 6100 modules 6091 were found significant.  Modules to check: 6979. Percentage nodes done: 0.888687\n",
      "checked 6200 modules 6191 were found significant.  Modules to check: 6879. Percentage nodes done: 0.891172\n",
      "checked 6300 modules 6291 were found significant.  Modules to check: 6779. Percentage nodes done: 0.894117\n",
      "checked 6400 modules 6391 were found significant.  Modules to check: 6679. Percentage nodes done: 0.896737\n",
      "checked 6500 modules 6491 were found significant.  Modules to check: 6579. Percentage nodes done: 0.899365\n",
      "checked 6600 modules 6590 were found significant.  Modules to check: 6479. Percentage nodes done: 0.901955\n",
      "checked 6700 modules 6690 were found significant.  Modules to check: 6379. Percentage nodes done: 0.904754\n",
      "checked 6800 modules 6790 were found significant.  Modules to check: 6279. Percentage nodes done: 0.907444\n"
     ]
    },
    {
     "name": "stdout",
     "output_type": "stream",
     "text": [
      "checked 6900 modules 6890 were found significant.  Modules to check: 6179. Percentage nodes done: 0.910277\n",
      "checked 7000 modules 6990 were found significant.  Modules to check: 6079. Percentage nodes done: 0.913125\n",
      "checked 7100 modules 7090 were found significant.  Modules to check: 5979. Percentage nodes done: 0.915147\n",
      "checked 7200 modules 7190 were found significant.  Modules to check: 5879. Percentage nodes done: 0.917458\n",
      "checked 7300 modules 7289 were found significant.  Modules to check: 5779. Percentage nodes done: 0.919932\n",
      "checked 7400 modules 7389 were found significant.  Modules to check: 5679. Percentage nodes done: 0.922143\n",
      "checked 7500 modules 7487 were found significant.  Modules to check: 5579. Percentage nodes done: 0.924411\n",
      "checked 7600 modules 7587 were found significant.  Modules to check: 5479. Percentage nodes done: 0.926606\n",
      "checked 7700 modules 7686 were found significant.  Modules to check: 5379. Percentage nodes done: 0.929449\n",
      "checked 7800 modules 7786 were found significant.  Modules to check: 5279. Percentage nodes done: 0.931562\n",
      "checked 7900 modules 7886 were found significant.  Modules to check: 5179. Percentage nodes done: 0.933716\n",
      "checked 8000 modules 7986 were found significant.  Modules to check: 5079. Percentage nodes done: 0.935564\n",
      "checked 8100 modules 8086 were found significant.  Modules to check: 4979. Percentage nodes done: 0.937683\n",
      "checked 8200 modules 8186 were found significant.  Modules to check: 4879. Percentage nodes done: 0.939891\n",
      "checked 8300 modules 8286 were found significant.  Modules to check: 4779. Percentage nodes done: 0.941998\n",
      "checked 8400 modules 8385 were found significant.  Modules to check: 4679. Percentage nodes done: 0.943797\n",
      "checked 8500 modules 8485 were found significant.  Modules to check: 4579. Percentage nodes done: 0.945709\n",
      "checked 8600 modules 8585 were found significant.  Modules to check: 4479. Percentage nodes done: 0.947275\n",
      "checked 8700 modules 8685 were found significant.  Modules to check: 4379. Percentage nodes done: 0.949199\n",
      "checked 8800 modules 8785 were found significant.  Modules to check: 4279. Percentage nodes done: 0.951444\n",
      "checked 8900 modules 8885 were found significant.  Modules to check: 4179. Percentage nodes done: 0.953232\n",
      "checked 9000 modules 8984 were found significant.  Modules to check: 4079. Percentage nodes done: 0.955246\n",
      "checked 9100 modules 9083 were found significant.  Modules to check: 3979. Percentage nodes done: 0.957097\n",
      "checked 9200 modules 9182 were found significant.  Modules to check: 3879. Percentage nodes done: 0.95899\n",
      "checked 9300 modules 9281 were found significant.  Modules to check: 3779. Percentage nodes done: 0.960688\n",
      "checked 9400 modules 9381 were found significant.  Modules to check: 3679. Percentage nodes done: 0.962433\n",
      "checked 9500 modules 9481 were found significant.  Modules to check: 3579. Percentage nodes done: 0.964016\n",
      "checked 9600 modules 9581 were found significant.  Modules to check: 3479. Percentage nodes done: 0.965853\n",
      "checked 9700 modules 9681 were found significant.  Modules to check: 3379. Percentage nodes done: 0.967443\n",
      "checked 9800 modules 9781 were found significant.  Modules to check: 3279. Percentage nodes done: 0.969166\n",
      "checked 9900 modules 9881 were found significant.  Modules to check: 3179. Percentage nodes done: 0.970814\n",
      "checked 10000 modules 9981 were found significant.  Modules to check: 3079. Percentage nodes done: 0.972606\n",
      "checked 10100 modules 10081 were found significant.  Modules to check: 2979. Percentage nodes done: 0.974241\n",
      "checked 10200 modules 10180 were found significant.  Modules to check: 2879. Percentage nodes done: 0.975519\n",
      "checked 10300 modules 10280 were found significant.  Modules to check: 2779. Percentage nodes done: 0.976865\n",
      "checked 10400 modules 10380 were found significant.  Modules to check: 2679. Percentage nodes done: 0.978156\n",
      "checked 10500 modules 10480 were found significant.  Modules to check: 2579. Percentage nodes done: 0.979511\n",
      "checked 10600 modules 10580 were found significant.  Modules to check: 2479. Percentage nodes done: 0.980617\n",
      "checked 10700 modules 10679 were found significant.  Modules to check: 2379. Percentage nodes done: 0.981911\n",
      "checked 10800 modules 10779 were found significant.  Modules to check: 2279. Percentage nodes done: 0.983102\n",
      "checked 10900 modules 10879 were found significant.  Modules to check: 2179. Percentage nodes done: 0.984376\n",
      "checked 11000 modules 10979 were found significant.  Modules to check: 2079. Percentage nodes done: 0.985544\n",
      "checked 11100 modules 11078 were found significant.  Modules to check: 1979. Percentage nodes done: 0.986697\n",
      "checked 11200 modules 11178 were found significant.  Modules to check: 1879. Percentage nodes done: 0.987676\n",
      "checked 11300 modules 11277 were found significant.  Modules to check: 1779. Percentage nodes done: 0.988779\n",
      "checked 11400 modules 11376 were found significant.  Modules to check: 1679. Percentage nodes done: 0.989969\n",
      "checked 11500 modules 11475 were found significant.  Modules to check: 1579. Percentage nodes done: 0.990898\n",
      "checked 11600 modules 11574 were found significant.  Modules to check: 1479. Percentage nodes done: 0.991783\n",
      "checked 11700 modules 11672 were found significant.  Modules to check: 1379. Percentage nodes done: 0.992584\n",
      "checked 11800 modules 11766 were found significant.  Modules to check: 1279. Percentage nodes done: 0.99341\n",
      "checked 11900 modules 11863 were found significant.  Modules to check: 1179. Percentage nodes done: 0.994015\n",
      "checked 12000 modules 11963 were found significant.  Modules to check: 1079. Percentage nodes done: 0.995098\n",
      "checked 12100 modules 12063 were found significant.  Modules to check: 979. Percentage nodes done: 0.995811\n",
      "checked 12200 modules 12163 were found significant.  Modules to check: 879. Percentage nodes done: 0.996445\n",
      "checked 12300 modules 12263 were found significant.  Modules to check: 779. Percentage nodes done: 0.997044\n",
      "checked 12400 modules 12361 were found significant.  Modules to check: 679. Percentage nodes done: 0.997527\n",
      "checked 12500 modules 12459 were found significant.  Modules to check: 579. Percentage nodes done: 0.997998\n",
      "checked 12600 modules 12551 were found significant.  Modules to check: 479. Percentage nodes done: 0.998378\n",
      "checked 12700 modules 12640 were found significant.  Modules to check: 379. Percentage nodes done: 0.998736\n",
      "checked 12800 modules 12727 were found significant.  Modules to check: 279. Percentage nodes done: 0.999081\n",
      "checked 12900 modules 12815 were found significant.  Modules to check: 179. Percentage nodes done: 0.999419\n",
      "checked 13000 modules 12891 were found significant.  Modules to check: 79. Percentage nodes done: 0.999749\n",
      "significance check done \n",
      "\n",
      "\n",
      "checking unions of not significant modules, modules to check: 140\n",
      "iteration: 0 number of modules: 100\n",
      "collection done \n",
      "\n",
      "\n",
      "checking unions of not significant modules done \n",
      "\n",
      "\n",
      "***************************************************************************\n",
      "COLLECTING SIGNIFICANT MODULES DONE\n",
      "\n",
      "minimality check: 3669 modules to check, run: 0\n",
      "minimality check: 941 modules to check, run: 1\n",
      "minimality check: 195 modules to check, run: 2\n",
      "minimality check: 15 modules to check, run: 3\n",
      "***************************************************************************\n",
      "MINIMALITY CHECK DONE\n",
      "checking similar modules\n",
      "\n",
      "check unions of modules using community network\n",
      "\n",
      "iteration: 0 number of modules: 61249\n",
      "iteration: 20 number of modules: 57546\n",
      "collection done \n",
      "\n",
      "\n",
      "possible fusions to check: 57574\n",
      "checked 0 unions. Fused: 0\n",
      "checked 100 unions. Fused: 2\n",
      "checked 200 unions. Fused: 6\n",
      "checked 300 unions. Fused: 10\n",
      "checked 400 unions. Fused: 13\n",
      "checked 500 unions. Fused: 14\n",
      "checked 600 unions. Fused: 20\n",
      "checked 700 unions. Fused: 25\n",
      "checked 800 unions. Fused: 27\n",
      "checked 900 unions. Fused: 29\n",
      "checked 1000 unions. Fused: 33\n",
      "checked 1100 unions. Fused: 34\n",
      "checked 1200 unions. Fused: 36\n",
      "checked 1300 unions. Fused: 37\n",
      "checked 1400 unions. Fused: 39\n",
      "checked 1500 unions. Fused: 41\n",
      "checked 1600 unions. Fused: 44\n",
      "checked 1700 unions. Fused: 44\n",
      "checked 1800 unions. Fused: 47\n",
      "checked 1900 unions. Fused: 47\n",
      "checked 2200 unions. Fused: 47\n",
      "checked 2800 unions. Fused: 47\n",
      "checked 3200 unions. Fused: 47\n",
      "checked 3400 unions. Fused: 47\n"
     ]
    },
    {
     "name": "stdout",
     "output_type": "stream",
     "text": [
      "checked 3800 unions. Fused: 48\n",
      "checked 3900 unions. Fused: 48\n",
      "checked 4200 unions. Fused: 48\n",
      "checked 4300 unions. Fused: 48\n",
      "checked 4600 unions. Fused: 48\n",
      "checked 5800 unions. Fused: 48\n",
      "checked 6100 unions. Fused: 48\n",
      "checked 6200 unions. Fused: 48\n",
      "checked 7500 unions. Fused: 48\n",
      "checked 8000 unions. Fused: 48\n",
      "checked 11500 unions. Fused: 48\n",
      "checked 12300 unions. Fused: 48\n",
      "checked 13500 unions. Fused: 48\n",
      "checked 27200 unions. Fused: 48\n",
      "checked 29400 unions. Fused: 48\n",
      "checked 30100 unions. Fused: 48\n",
      "checked 31100 unions. Fused: 48\n",
      "check unions of modules using community network\n",
      "\n",
      "iteration: 0 number of modules: 61148\n",
      "iteration: 20 number of modules: 57394\n",
      "collection done \n",
      "\n",
      "\n",
      "possible fusions to check: 57431\n",
      "checked 0 unions. Fused: 0\n",
      "checked 100 unions. Fused: 2\n",
      "checked 200 unions. Fused: 5\n",
      "checked 300 unions. Fused: 8\n",
      "checked 400 unions. Fused: 9\n",
      "checked 500 unions. Fused: 14\n",
      "checked 600 unions. Fused: 17\n",
      "checked 700 unions. Fused: 18\n",
      "checked 800 unions. Fused: 23\n",
      "checked 900 unions. Fused: 24\n",
      "checked 1000 unions. Fused: 25\n",
      "checked 1100 unions. Fused: 28\n",
      "checked 1200 unions. Fused: 29\n",
      "checked 1300 unions. Fused: 30\n",
      "checked 1400 unions. Fused: 32\n",
      "checked 1500 unions. Fused: 34\n",
      "checked 1600 unions. Fused: 35\n",
      "checked 1700 unions. Fused: 36\n",
      "checked 2000 unions. Fused: 51\n",
      "checked 2400 unions. Fused: 51\n",
      "checked 2500 unions. Fused: 51\n",
      "checked 2700 unions. Fused: 51\n",
      "checked 3600 unions. Fused: 51\n",
      "checked 3700 unions. Fused: 51\n",
      "checked 5100 unions. Fused: 51\n",
      "checked 7200 unions. Fused: 51\n",
      "checked 7500 unions. Fused: 51\n",
      "checked 7900 unions. Fused: 51\n",
      "checked 8500 unions. Fused: 51\n",
      "checked 10200 unions. Fused: 51\n",
      "checked 12400 unions. Fused: 51\n",
      "checked 14800 unions. Fused: 51\n",
      "checked 56200 unions. Fused: 51\n",
      "checking highly intersecting modules\n",
      "\n",
      "pairs to check: 14044\n",
      "minimality check: 10 modules to check, run: 1\n",
      "minimality check: 9 modules to check, run: 1\n",
      "minimality check: 13 modules to check, run: 1\n",
      "minimality check: 6 modules to check, run: 1\n",
      "pairs to check: 4947\n",
      "minimality check: 5 modules to check, run: 1\n",
      "pairs to check: 3131\n",
      "minimality check: 9 modules to check, run: 1\n",
      "pairs to check: 2619\n",
      "minimality check: 6 modules to check, run: 1\n",
      "pairs to check: 2098\n",
      "pairs to check: 1684\n",
      "minimality check: 6 modules to check, run: 1\n",
      "pairs to check: 1377\n",
      "minimality check: 7 modules to check, run: 1\n",
      "pairs to check: 1155\n",
      "minimality check: 12 modules to check, run: 1\n",
      "minimality check: 20 modules to check, run: 2\n",
      "pairs to check: 1040\n",
      "pairs to check: 717\n",
      "pairs to check: 592\n",
      "minimality check: 8 modules to check, run: 1\n",
      "minimality check: 11 modules to check, run: 1\n",
      "pairs to check: 403\n",
      "pairs to check: 390\n",
      "minimality check: 6 modules to check, run: 1\n",
      "pairs to check: 384\n",
      "pairs to check: 319\n",
      "pairs to check: 247\n",
      "pairs to check: 263\n",
      "pairs to check: 208\n",
      "pairs to check: 176\n",
      "pairs to check: 140\n",
      "pairs to check: 120\n",
      "pairs to check: 117\n",
      "pairs to check: 133\n",
      "pairs to check: 138\n",
      "pairs to check: 102\n",
      "pairs to check: 58\n",
      "pairs to check: 57\n",
      "pairs to check: 60\n",
      "pairs to check: 40\n",
      "pairs to check: 41\n",
      "pairs to check: 65\n",
      "pairs to check: 63\n",
      "pairs to check: 35\n",
      "pairs to check: 35\n",
      "pairs to check: 13\n",
      "pairs to check: 18\n",
      "pairs to check: 23\n",
      "pairs to check: 20\n",
      "pairs to check: 28\n",
      "pairs to check: 16\n",
      "pairs to check: 26\n",
      "pairs to check: 19\n",
      "pairs to check: 4\n",
      "pairs to check: 4\n",
      "***************************************************************************\n",
      "CHECK UNIONS AND SIMILAR MODULES DONE\n",
      "******** module_collection ******** 2140 modules. writing... \n",
      "DONE   ****************************\n",
      "pruning all the modules collected. Partitions found: 1\n",
      "getting partition from tp-file: ../../results/matrix/follows/edges_follows.csv_oslo_files/partitions_level_0\n",
      "2140 groups found\n",
      "2140 bss found\n",
      "checking homeless nodes\n",
      "assigning homeless nodes. Homeless at this point: 427296\n",
      "assigning homeless nodes. Homeless at this point: 30945\n",
      "assigning homeless nodes. Homeless at this point: 72\n",
      "assigning homeless nodes. Homeless at this point: 31\n",
      "assigning homeless nodes. Homeless at this point: 30\n",
      "writing final solution in file ../../results/matrix/follows/edges_follows.csv_oslo_files/tp\n",
      "******** module_collection ******** 2140 modules. writing... \n",
      "DONE   ****************************\n",
      "network:: 2170 nodes and 7.85058e+06 stubs;\t average degree = 3617.78\n",
      "STARTING! HIERARCHICAL LEVEL: 1\n",
      "pruning all the modules collected. Partitions found: 0\n",
      "getting partition from tp-file: ../../results/matrix/follows/edges_follows.csv_oslo_files/partitions_level_1\n",
      "0 groups found\n",
      "0 bss found\n",
      "checking homeless nodes\n",
      "writing final solution in file ../../results/matrix/follows/edges_follows.csv_oslo_files/short_tp1\n",
      "******** module_collection ******** 0 modules. writing... \n",
      "DONE   ****************************\n",
      "hierarchies done ********* \n",
      "29142.551278352737\n"
     ]
    }
   ],
   "source": [
    "start = time.time()\n",
    "\n",
    "!cd ../../oslom/OSLOM2 && \\\n",
    "./oslom_dir -f ../../results/matrix/follows/edges_follows.csv -uw -r 1 -hr 0 -seed 42 -cp 0.5\n",
    "\n",
    "end = time.time()\n",
    "print(end - start)"
   ]
  },
  {
   "cell_type": "code",
   "execution_count": 41,
   "id": "monthly-connectivity",
   "metadata": {
    "scrolled": true
   },
   "outputs": [
    {
     "name": "stdout",
     "output_type": "stream",
     "text": [
      "setting -f\n",
      "setting -uw\n",
      "setting -r\n",
      "setting -hr\n",
      "setting -seed\n",
      "setting -cp\n",
      "**************************************\n",
      "Threshold:\t\t\t0.1\n",
      "Network file:\t\t\t../../results/matrix/follows/edges_cofollowees.csv\n",
      "Weighted: no\n",
      "First Level Runs:\t\t\t1\n",
      "Higher Level Runs:\t\t\t0\n",
      "-cp:\t\t\t0.5\n",
      "Random number generator seed:\t\t\t42\n",
      "**************************************\n",
      "\n",
      "allocating 14405030 factorials...\n",
      "done\n",
      "mkdir: cannot create directory ‘../../results/matrix/follows/edges_cofollowees.csv_oslo_files’: File exists\n",
      "output files will be written in directory: ../../results/matrix/follows/edges_cofollowees.csv_oslo_files\n",
      "network:: 28835 nodes and 1.4405e+07 stubs;\t average degree = 499.568\n",
      "STARTING! HIERARCHICAL LEVEL: 0\n",
      "***************************************************************** RUN: #1\n",
      "iteration: 0 number of modules: 4562\n",
      "iteration: 20 number of modules: 673\n",
      "collection done \n",
      "\n",
      "\n",
      "checked 0 modules 0 were found significant.  Modules to check: 670. Percentage nodes done: 0\n",
      "checked 100 modules 100 were found significant.  Modules to check: 570. Percentage nodes done: 0.695648\n",
      "checked 200 modules 200 were found significant.  Modules to check: 470. Percentage nodes done: 0.823929\n",
      "checked 300 modules 300 were found significant.  Modules to check: 370. Percentage nodes done: 0.887949\n",
      "checked 400 modules 400 were found significant.  Modules to check: 270. Percentage nodes done: 0.931611\n",
      "checked 500 modules 500 were found significant.  Modules to check: 170. Percentage nodes done: 0.965736\n",
      "checked 600 modules 600 were found significant.  Modules to check: 70. Percentage nodes done: 0.990428\n",
      "significance check done \n",
      "\n",
      "\n",
      "checking unions of not significant modules done \n",
      "\n",
      "\n",
      "***************************************************************************\n",
      "COLLECTING SIGNIFICANT MODULES DONE\n",
      "\n",
      "minimality check: 209 modules to check, run: 0\n",
      "minimality check: 559 modules to check, run: 1\n",
      "minimality check: 835 modules to check, run: 2\n",
      "minimality check: 809 modules to check, run: 3\n",
      "minimality check: 570 modules to check, run: 4\n",
      "minimality check: 303 modules to check, run: 5\n",
      "minimality check: 129 modules to check, run: 6\n",
      "minimality check: 21 modules to check, run: 7\n",
      "***************************************************************************\n",
      "MINIMALITY CHECK DONE\n",
      "checking similar modules\n",
      "\n",
      "check unions of modules using community network\n",
      "\n",
      "iteration: 0 number of modules: 1490\n",
      "iteration: 20 number of modules: 178\n",
      "collection done \n",
      "\n",
      "\n",
      "possible fusions to check: 172\n",
      "checked 0 unions. Fused: 0\n",
      "checked 100 unions. Fused: 30\n",
      "check unions of modules using community network\n",
      "\n",
      "iteration: 0 number of modules: 955\n",
      "iteration: 20 number of modules: 94\n",
      "collection done \n",
      "\n",
      "\n",
      "possible fusions to check: 108\n",
      "checked 0 unions. Fused: 0\n",
      "checked 100 unions. Fused: 13\n",
      "checking highly intersecting modules\n",
      "\n",
      "pairs to check: 2109\n",
      "pairs to check: 1287\n",
      "pairs to check: 833\n",
      "pairs to check: 590\n",
      "pairs to check: 402\n",
      "pairs to check: 273\n",
      "pairs to check: 256\n",
      "pairs to check: 163\n",
      "pairs to check: 125\n",
      "pairs to check: 84\n",
      "pairs to check: 12\n",
      "pairs to check: 7\n",
      "***************************************************************************\n",
      "CHECK UNIONS AND SIMILAR MODULES DONE\n",
      "******** module_collection ******** 1212 modules. writing... \n",
      "DONE   ****************************\n",
      "pruning all the modules collected. Partitions found: 1\n",
      "getting partition from tp-file: ../../results/matrix/follows/edges_cofollowees.csv_oslo_files/partitions_level_0\n",
      "1212 groups found\n",
      "1212 bss found\n",
      "checking homeless nodes\n",
      "assigning homeless nodes. Homeless at this point: 10677\n",
      "assigning homeless nodes. Homeless at this point: 37\n",
      "writing final solution in file ../../results/matrix/follows/edges_cofollowees.csv_oslo_files/tp\n",
      "******** module_collection ******** 1212 modules. writing... \n",
      "DONE   ****************************\n",
      "network:: 1212 nodes and 1.04336e+07 stubs;\t average degree = 8608.62\n",
      "STARTING! HIERARCHICAL LEVEL: 1\n",
      "pruning all the modules collected. Partitions found: 0\n",
      "getting partition from tp-file: ../../results/matrix/follows/edges_cofollowees.csv_oslo_files/partitions_level_1\n",
      "0 groups found\n",
      "0 bss found\n",
      "checking homeless nodes\n",
      "writing final solution in file ../../results/matrix/follows/edges_cofollowees.csv_oslo_files/short_tp1\n",
      "******** module_collection ******** 0 modules. writing... \n",
      "DONE   ****************************\n",
      "hierarchies done ********* \n",
      "2459.405104160309\n"
     ]
    }
   ],
   "source": [
    "start = time.time()\n",
    "\n",
    "!cd ../../oslom/OSLOM2 && \\\n",
    "./oslom_undir -f ../../results/matrix/follows/edges_cofollowees.csv -uw -r 1 -hr 0 -seed 42 -cp 0.5\n",
    "\n",
    "end = time.time()\n",
    "print(end - start)"
   ]
  },
  {
   "cell_type": "code",
   "execution_count": 42,
   "id": "finnish-minimum",
   "metadata": {},
   "outputs": [],
   "source": [
    "train, clusters = extract_oslom('../../results/matrix/follows/edges_cofollowees.csv_oslo_files/tp')"
   ]
  },
  {
   "cell_type": "code",
   "execution_count": 43,
   "id": "saving-legend",
   "metadata": {},
   "outputs": [
    {
     "data": {
      "text/plain": [
       "28835"
      ]
     },
     "execution_count": 43,
     "metadata": {},
     "output_type": "execute_result"
    }
   ],
   "source": [
    "train[\"id\"].nunique()"
   ]
  },
  {
   "cell_type": "code",
   "execution_count": 44,
   "id": "furnished-closing",
   "metadata": {},
   "outputs": [],
   "source": [
    "def get_original_user_id(row):\n",
    "    return total_users[row[\"id\"]]\n",
    "\n",
    "train[\"id\"] = train.apply(get_original_user_id, axis=1)"
   ]
  },
  {
   "cell_type": "code",
   "execution_count": 45,
   "id": "equal-verification",
   "metadata": {},
   "outputs": [],
   "source": [
    "users_train_final = pd.merge(\n",
    "    left=train,\n",
    "    right=users_cofols,\n",
    "    how='inner',\n",
    "    left_on=\"id\",\n",
    "    right_on=\"id\",\n",
    "    validate=\"m:1\"\n",
    ")"
   ]
  },
  {
   "cell_type": "code",
   "execution_count": 46,
   "id": "outside-combining",
   "metadata": {},
   "outputs": [],
   "source": [
    "users_train_final = users_train_final.loc[:, [\"id\", \"cluster\", \"unified_place\", \"latitude\", \"longitude\"]]"
   ]
  },
  {
   "cell_type": "code",
   "execution_count": 47,
   "id": "focal-sussex",
   "metadata": {},
   "outputs": [],
   "source": [
    "users_train_final = users_train_final.groupby(\n",
    "        [\"id\", \"unified_place\", \"latitude\", \"longitude\"]\n",
    "    )['cluster'].apply(list).reset_index(name='clusters')"
   ]
  },
  {
   "cell_type": "code",
   "execution_count": 48,
   "id": "gross-drove",
   "metadata": {},
   "outputs": [
    {
     "data": {
      "text/html": [
       "<div>\n",
       "<style scoped>\n",
       "    .dataframe tbody tr th:only-of-type {\n",
       "        vertical-align: middle;\n",
       "    }\n",
       "\n",
       "    .dataframe tbody tr th {\n",
       "        vertical-align: top;\n",
       "    }\n",
       "\n",
       "    .dataframe thead th {\n",
       "        text-align: right;\n",
       "    }\n",
       "</style>\n",
       "<table border=\"1\" class=\"dataframe\">\n",
       "  <thead>\n",
       "    <tr style=\"text-align: right;\">\n",
       "      <th></th>\n",
       "      <th>id</th>\n",
       "      <th>unified_place</th>\n",
       "      <th>latitude</th>\n",
       "      <th>longitude</th>\n",
       "      <th>clusters</th>\n",
       "    </tr>\n",
       "  </thead>\n",
       "  <tbody>\n",
       "    <tr>\n",
       "      <th>0</th>\n",
       "      <td>772224</td>\n",
       "      <td>tigre,argentina</td>\n",
       "      <td>-34.426029</td>\n",
       "      <td>-58.579620</td>\n",
       "      <td>[1098]</td>\n",
       "    </tr>\n",
       "    <tr>\n",
       "      <th>1</th>\n",
       "      <td>821923</td>\n",
       "      <td>sao paulo,brasil</td>\n",
       "      <td>-23.547501</td>\n",
       "      <td>-46.636108</td>\n",
       "      <td>[498]</td>\n",
       "    </tr>\n",
       "    <tr>\n",
       "      <th>2</th>\n",
       "      <td>1190421</td>\n",
       "      <td>ciudad autónoma de buenos aires,argentina</td>\n",
       "      <td>-34.613152</td>\n",
       "      <td>-58.377232</td>\n",
       "      <td>[1087]</td>\n",
       "    </tr>\n",
       "    <tr>\n",
       "      <th>3</th>\n",
       "      <td>1297311</td>\n",
       "      <td>mar del plata,argentina</td>\n",
       "      <td>-38.000420</td>\n",
       "      <td>-57.556198</td>\n",
       "      <td>[1113]</td>\n",
       "    </tr>\n",
       "    <tr>\n",
       "      <th>4</th>\n",
       "      <td>2697621</td>\n",
       "      <td>quito,ecuador</td>\n",
       "      <td>-0.229850</td>\n",
       "      <td>-78.524948</td>\n",
       "      <td>[1210]</td>\n",
       "    </tr>\n",
       "  </tbody>\n",
       "</table>\n",
       "</div>"
      ],
      "text/plain": [
       "        id                              unified_place   latitude  longitude  \\\n",
       "0   772224                            tigre,argentina -34.426029 -58.579620   \n",
       "1   821923                           sao paulo,brasil -23.547501 -46.636108   \n",
       "2  1190421  ciudad autónoma de buenos aires,argentina -34.613152 -58.377232   \n",
       "3  1297311                    mar del plata,argentina -38.000420 -57.556198   \n",
       "4  2697621                              quito,ecuador  -0.229850 -78.524948   \n",
       "\n",
       "  clusters  \n",
       "0   [1098]  \n",
       "1    [498]  \n",
       "2   [1087]  \n",
       "3   [1113]  \n",
       "4   [1210]  "
      ]
     },
     "execution_count": 48,
     "metadata": {},
     "output_type": "execute_result"
    }
   ],
   "source": [
    "users_train_final.head()"
   ]
  },
  {
   "cell_type": "code",
   "execution_count": 49,
   "id": "therapeutic-example",
   "metadata": {},
   "outputs": [],
   "source": [
    "locations = users_train_final.loc[:, [\"unified_place\", \"latitude\", \"longitude\"]].values\n",
    "class_names = sorted(users_train_final['unified_place'].unique())"
   ]
  },
  {
   "cell_type": "code",
   "execution_count": 50,
   "id": "environmental-handbook",
   "metadata": {},
   "outputs": [
    {
     "data": {
      "text/plain": [
       "<28835x1212 sparse matrix of type '<class 'numpy.float32'>'\n",
       "\twith 30441 stored elements in Compressed Sparse Row format>"
      ]
     },
     "execution_count": 50,
     "metadata": {},
     "output_type": "execute_result"
    }
   ],
   "source": [
    "vectorizer = CountVectorizer(\n",
    "    strip_accents=None,\n",
    "    lowercase=False,\n",
    "    analyzer=lambda x: x\n",
    ")\n",
    "\n",
    "vector_of_clusters = vectorizer.fit_transform(users_train_final[\"clusters\"]).astype(np.float32)\n",
    "vector_of_clusters"
   ]
  },
  {
   "cell_type": "code",
   "execution_count": 51,
   "id": "selective-persian",
   "metadata": {},
   "outputs": [],
   "source": [
    "inner_cv = StratifiedKFold(n_splits=3, shuffle=True, random_state=42)\n",
    "outer_cv = StratifiedKFold(n_splits=5, shuffle=True, random_state=42)"
   ]
  },
  {
   "cell_type": "code",
   "execution_count": 52,
   "id": "subsequent-bowling",
   "metadata": {},
   "outputs": [],
   "source": [
    "estimators = [\n",
    "    {\n",
    "        \"name\": \"BalRandomForest\",\n",
    "        \"estimator\": BalancedRandomForestClassifier(n_jobs=-1, random_state=42),\n",
    "        \"params_grid\": {'max_depth': [8, 80, 200, 500, None], 'max_features': ['sqrt'], 'sampling_strategy': [\"all\"]}\n",
    "    }\n",
    "]"
   ]
  },
  {
   "cell_type": "code",
   "execution_count": 53,
   "id": "forty-ordinary",
   "metadata": {},
   "outputs": [],
   "source": [
    "scores = {}\n",
    "predictions = {}\n",
    "\n",
    "for estimator in estimators:\n",
    "    clf = GridSearchCV(\n",
    "        estimator=estimator[\"estimator\"],\n",
    "        param_grid=estimator[\"params_grid\"],\n",
    "        cv=inner_cv,\n",
    "        n_jobs=-1,\n",
    "        scoring=['accuracy', 'balanced_accuracy', 'roc_auc_ovo'],\n",
    "        refit='roc_auc_ovo'\n",
    "    )\n",
    "    \n",
    "    nested_score = cross_validate(\n",
    "        clf,\n",
    "        X=vector_of_clusters,\n",
    "        y=locations[:,0],\n",
    "        cv=outer_cv,\n",
    "        n_jobs=-1,\n",
    "        scoring={\n",
    "            'accuracy': 'accuracy',\n",
    "            'balanced_accuracy': 'balanced_accuracy',\n",
    "            'roc_auc_ovo': 'roc_auc_ovo',\n",
    "            'accuracy@161': make_scorer(accuracy_161km, greater_is_better=True)            \n",
    "        }\n",
    "    )\n",
    "            \n",
    "    nested_predict = cross_val_predict(\n",
    "        clf,\n",
    "        X=vector_of_clusters,\n",
    "        y=locations[:,0],\n",
    "        cv=outer_cv,\n",
    "        n_jobs=-1,\n",
    "        method='predict'\n",
    "    )\n",
    "        \n",
    "    scores[estimator[\"name\"]] = nested_score\n",
    "    predictions[estimator[\"name\"]] = nested_predict"
   ]
  },
  {
   "cell_type": "code",
   "execution_count": 54,
   "id": "consecutive-citation",
   "metadata": {},
   "outputs": [
    {
     "data": {
      "text/plain": [
       "{'BalRandomForest': {'fit_time': array([60.95537543, 61.8120451 , 62.1399343 , 61.09422445, 61.86216688]),\n",
       "  'score_time': array([8.7428987 , 6.34046245, 7.30803704, 6.03268695, 5.49301124]),\n",
       "  'test_accuracy': array([0.44390498, 0.4556962 , 0.44251777, 0.46766083, 0.45864401]),\n",
       "  'test_balanced_accuracy': array([0.5333601 , 0.53913781, 0.53384869, 0.5522848 , 0.53722221]),\n",
       "  'test_roc_auc_ovo': array([0.90118364, 0.90175837, 0.90039557, 0.90349249, 0.89805123]),\n",
       "  'test_accuracy@161': array([0.68787931, 0.69204092, 0.68943992, 0.69394833, 0.68770591])}}"
      ]
     },
     "execution_count": 54,
     "metadata": {},
     "output_type": "execute_result"
    }
   ],
   "source": [
    "scores"
   ]
  },
  {
   "cell_type": "code",
   "execution_count": 55,
   "id": "sunrise-matrix",
   "metadata": {},
   "outputs": [
    {
     "data": {
      "image/png": "[encoded data removed]",
      "text/plain": [
       "<Figure size 1800x1440 with 2 Axes>"
      ]
     },
     "metadata": {
      "needs_background": "light"
     },
     "output_type": "display_data"
    }
   ],
   "source": [
    "f, ax = plt.subplots(nrows=len(predictions), figsize=(25, 20*len(predictions)))\n",
    "i = 0\n",
    "f.tight_layout(pad=30.0)\n",
    "\n",
    "for key in predictions:\n",
    "    cm = confusion_matrix(locations[:,0], predictions[key], labels=class_names)\n",
    "\n",
    "    sns.heatmap(\n",
    "        cm,\n",
    "        annot=True,\n",
    "        #linewidths=.5,\n",
    "        fmt='d',\n",
    "        robust=True,\n",
    "        cmap='Blues',\n",
    "        xticklabels=class_names,\n",
    "        yticklabels=class_names,\n",
    "        ax=ax\n",
    "    )\n",
    "    \n",
    "    ax.set_title(\"Seguidores/seguidos: \" + key, fontsize=20, fontweight='bold', pad=20)\n",
    "    ax.xaxis.set_tick_params(labelsize=16)\n",
    "    ax.yaxis.set_tick_params(labelsize=16)\n",
    "\n",
    "    i += 1"
   ]
  },
  {
   "cell_type": "code",
   "execution_count": null,
   "id": "under-deputy",
   "metadata": {},
   "outputs": [],
   "source": []
  }
 ],
 "metadata": {
  "kernelspec": {
   "display_name": "ffunes-3.8",
   "language": "python",
   "name": "ffunes-3.8"
  },
  "language_info": {
   "codemirror_mode": {
    "name": "ipython",
    "version": 3
   },
   "file_extension": ".py",
   "mimetype": "text/x-python",
   "name": "python",
   "nbconvert_exporter": "python",
   "pygments_lexer": "ipython3",
   "version": "3.8.7"
  }
 },
 "nbformat": 4,
 "nbformat_minor": 5
}
