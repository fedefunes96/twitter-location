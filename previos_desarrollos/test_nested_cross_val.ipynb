{
 "cells": [
  {
   "cell_type": "code",
   "execution_count": 1,
   "metadata": {},
   "outputs": [],
   "source": [
    "import pandas as pd\n",
    "import numpy as np\n",
    "import matplotlib.pyplot as plt\n",
    "from shapely.geometry import Point\n",
    "from sklearn.feature_extraction.text import CountVectorizer\n",
    "from sklearn.model_selection import GridSearchCV, cross_val_score, StratifiedKFold, cross_val_predict, cross_validate\n",
    "from sklearn.metrics import balanced_accuracy_score, accuracy_score, roc_auc_score, plot_confusion_matrix\n",
    "from sklearn.svm import SVC\n",
    "from sklearn.preprocessing import scale\n",
    "import seaborn as sns\n",
    "import lightgbm as lgb\n",
    "from sklearn.datasets import make_classification\n",
    "from sklearn.tree import DecisionTreeClassifier\n",
    "from sklearn.ensemble import RandomForestClassifier\n",
    "\n",
    "%matplotlib inline\n",
    "\n",
    "sns.set_theme()"
   ]
  },
  {
   "cell_type": "code",
   "execution_count": 2,
   "metadata": {},
   "outputs": [],
   "source": [
    "X, y = make_classification(n_samples=500, n_features=20, n_classes=3, random_state=1500, n_informative=10, n_redundant=10)"
   ]
  },
  {
   "cell_type": "code",
   "execution_count": 7,
   "metadata": {},
   "outputs": [],
   "source": [
    "estimators = [\n",
    "    {\n",
    "        \"name\": \"SVC\",\n",
    "        \"estimator\": SVC(kernel=\"rbf\", probability=True, random_state=1500),\n",
    "        \"params_grid\": {\"C\": [1, 10, 100], \"gamma\": [.01, .1]}\n",
    "    },\n",
    "    {\n",
    "        \"name\": \"DecisionTree\",\n",
    "        \"estimator\": DecisionTreeClassifier(random_state=1500),\n",
    "        \"params_grid\": {'max_depth': [8, 80, 200, 500, None], 'min_samples_leaf': [1], 'class_weight': ['balanced']}\n",
    "    },\n",
    "    {\n",
    "        \"name\": \"RandomForest\",\n",
    "        \"estimator\": RandomForestClassifier(n_jobs=-1, random_state=1500),\n",
    "        \"params_grid\": {'max_depth': [8, 80, 200, 500, None], 'min_samples_leaf': [1], 'class_weight': ['balanced']}\n",
    "    },\n",
    "    {\n",
    "        \"name\": \"LightGBM\",\n",
    "        \"estimator\": lgb.LGBMClassifier(n_jobs=1, objective=\"multiclass\", random_state=1500),\n",
    "        \"params_grid\": {'max_depth': [8, 80, 200, -1], 'class_weight': ['balanced']}\n",
    "    }\n",
    "]"
   ]
  },
  {
   "cell_type": "code",
   "execution_count": 4,
   "metadata": {},
   "outputs": [],
   "source": [
    "inner_cv = StratifiedKFold(n_splits=3, shuffle=True, random_state=44540570)\n",
    "outer_cv = StratifiedKFold(n_splits=5, shuffle=True, random_state=45405450)"
   ]
  },
  {
   "cell_type": "markdown",
   "metadata": {},
   "source": [
    "Nested cross validation \"clásico\""
   ]
  },
  {
   "cell_type": "code",
   "execution_count": 8,
   "metadata": {},
   "outputs": [],
   "source": [
    "scores = {}\n",
    "predictions = {}\n",
    "\n",
    "for estimator in estimators:\n",
    "    clf = GridSearchCV(\n",
    "        estimator=estimator[\"estimator\"],\n",
    "        param_grid=estimator[\"params_grid\"],\n",
    "        cv=inner_cv,\n",
    "        n_jobs=-1,\n",
    "        scoring=['accuracy', 'roc_auc_ovo'],\n",
    "        refit='accuracy'\n",
    "    )\n",
    "    \n",
    "    nested_score = cross_validate(\n",
    "        clf,\n",
    "        X=X,\n",
    "        y=y,\n",
    "        cv=outer_cv,\n",
    "        n_jobs=-1,\n",
    "        scoring={\n",
    "            'accuracy': 'accuracy',\n",
    "            'balanced_accuracy': 'balanced_accuracy'\n",
    "        }\n",
    "    )\n",
    "    \n",
    "    nested_predict = cross_val_predict(\n",
    "        clf,\n",
    "        X=X,\n",
    "        y=y,\n",
    "        cv=outer_cv,\n",
    "        n_jobs=-1,\n",
    "        method='predict'\n",
    "    )\n",
    "        \n",
    "    scores[estimator[\"name\"]] = nested_score\n",
    "    predictions[estimator[\"name\"]] = nested_predict"
   ]
  },
  {
   "cell_type": "code",
   "execution_count": 9,
   "metadata": {},
   "outputs": [
    {
     "data": {
      "text/plain": [
       "{'SVC': {'fit_time': array([0.45896983, 0.57016921, 0.49191403, 0.61561823, 0.61794615]),\n",
       "  'score_time': array([0.00272274, 0.00263548, 0.00269818, 0.00197721, 0.00201488]),\n",
       "  'test_accuracy': array([0.89, 0.8 , 0.85, 0.87, 0.79]),\n",
       "  'test_balanced_accuracy': array([0.88948307, 0.79946524, 0.84937611, 0.87017231, 0.78995841])},\n",
       " 'DecisionTree': {'fit_time': array([0.10182309, 0.11965895, 0.11392498, 0.10895419, 0.13918161]),\n",
       "  'score_time': array([0.00087643, 0.00063491, 0.00067782, 0.00103617, 0.00065851]),\n",
       "  'test_accuracy': array([0.63, 0.67, 0.73, 0.76, 0.69]),\n",
       "  'test_balanced_accuracy': array([0.62923351, 0.66993464, 0.72935235, 0.76024955, 0.69043375])},\n",
       " 'RandomForest': {'fit_time': array([2.86810422, 2.82535076, 2.86330771, 2.98826051, 2.93360996]),\n",
       "  'score_time': array([0.02125502, 0.02839255, 0.03673148, 0.01135707, 0.01746297]),\n",
       "  'test_accuracy': array([0.9 , 0.74, 0.84, 0.8 , 0.78]),\n",
       "  'test_balanced_accuracy': array([0.89928699, 0.73915627, 0.8392751 , 0.80065359, 0.77956031])},\n",
       " 'LightGBM': {'fit_time': array([1.40734172, 1.29823589, 1.3049264 , 1.30592227, 1.36364675]),\n",
       "  'score_time': array([0.00278425, 0.00282955, 0.00377607, 0.00392962, 0.00281072]),\n",
       "  'test_accuracy': array([0.87, 0.69, 0.84, 0.82, 0.81]),\n",
       "  'test_balanced_accuracy': array([0.86928105, 0.68954248, 0.83957219, 0.82055853, 0.80986334])}}"
      ]
     },
     "execution_count": 9,
     "metadata": {},
     "output_type": "execute_result"
    }
   ],
   "source": [
    "scores"
   ]
  },
  {
   "cell_type": "code",
   "execution_count": 11,
   "metadata": {},
   "outputs": [
    {
     "ename": "NameError",
     "evalue": "name 'svm' is not defined",
     "output_type": "error",
     "traceback": [
      "\u001b[0;31m---------------------------------------------------------------------------\u001b[0m",
      "\u001b[0;31mNameError\u001b[0m                                 Traceback (most recent call last)",
      "\u001b[0;32m<ipython-input-11-e7275f65949a>\u001b[0m in \u001b[0;36m<module>\u001b[0;34m\u001b[0m\n\u001b[1;32m      7\u001b[0m \u001b[0;34m\u001b[0m\u001b[0m\n\u001b[1;32m      8\u001b[0m     clf_t = GridSearchCV(\n\u001b[0;32m----> 9\u001b[0;31m         \u001b[0mestimator\u001b[0m\u001b[0;34m=\u001b[0m\u001b[0msvm\u001b[0m\u001b[0;34m,\u001b[0m\u001b[0;34m\u001b[0m\u001b[0;34m\u001b[0m\u001b[0m\n\u001b[0m\u001b[1;32m     10\u001b[0m         \u001b[0mparam_grid\u001b[0m\u001b[0;34m=\u001b[0m\u001b[0;34m{\u001b[0m\u001b[0;34m\"C\"\u001b[0m\u001b[0;34m:\u001b[0m \u001b[0;34m[\u001b[0m\u001b[0;36m1\u001b[0m\u001b[0;34m,\u001b[0m \u001b[0;36m10\u001b[0m\u001b[0;34m,\u001b[0m \u001b[0;36m100\u001b[0m\u001b[0;34m]\u001b[0m\u001b[0;34m,\u001b[0m \u001b[0;34m\"gamma\"\u001b[0m\u001b[0;34m:\u001b[0m \u001b[0;34m[\u001b[0m\u001b[0;36m.01\u001b[0m\u001b[0;34m,\u001b[0m \u001b[0;36m.1\u001b[0m\u001b[0;34m]\u001b[0m\u001b[0;34m}\u001b[0m\u001b[0;34m,\u001b[0m\u001b[0;34m\u001b[0m\u001b[0;34m\u001b[0m\u001b[0m\n\u001b[1;32m     11\u001b[0m         \u001b[0mcv\u001b[0m\u001b[0;34m=\u001b[0m\u001b[0minner_cv\u001b[0m\u001b[0;34m,\u001b[0m\u001b[0;34m\u001b[0m\u001b[0;34m\u001b[0m\u001b[0m\n",
      "\u001b[0;31mNameError\u001b[0m: name 'svm' is not defined"
     ]
    }
   ],
   "source": [
    "outer_results = list()\n",
    "positions = list()\n",
    "\n",
    "for train_ix, test_ix in outer_cv.split(X, y):\n",
    "    X_train, X_test = X[train_ix, :], X[test_ix, :]\n",
    "    y_train, y_test = y[train_ix], y[test_ix]\n",
    "    \n",
    "    clf_t = GridSearchCV(\n",
    "        estimator=svm,\n",
    "        param_grid={\"C\": [1, 10, 100], \"gamma\": [.01, .1]},\n",
    "        cv=inner_cv,\n",
    "        n_jobs=-1,\n",
    "        scoring=['accuracy', 'roc_auc_ovo'],\n",
    "        refit='accuracy'\n",
    "    )    \n",
    "    \n",
    "    result = clf_t.fit(X_train, y_train)\n",
    "    \n",
    "    best_model = result.best_estimator_\n",
    "    yhat = best_model.predict(X_test)\n",
    "    #acc = accuracy_score(y_test, yhat)\n",
    "\n",
    "    positions.append(test_ix)\n",
    "    outer_results.append(yhat)"
   ]
  },
  {
   "cell_type": "code",
   "execution_count": 7,
   "metadata": {},
   "outputs": [],
   "source": [
    "b = np.array([])\n",
    "for result in positions:\n",
    "    b = np.concatenate((b, result), axis=0)\n",
    "    \n",
    "b = b.astype(int)"
   ]
  },
  {
   "cell_type": "code",
   "execution_count": 8,
   "metadata": {},
   "outputs": [],
   "source": [
    "a = np.array([])\n",
    "for result in outer_results:\n",
    "    a = np.concatenate((a, result), axis=0)\n",
    "    \n",
    "a = a.astype(int)"
   ]
  },
  {
   "cell_type": "code",
   "execution_count": 9,
   "metadata": {},
   "outputs": [
    {
     "data": {
      "text/plain": [
       "0.9691"
      ]
     },
     "execution_count": 9,
     "metadata": {},
     "output_type": "execute_result"
    }
   ],
   "source": [
    "accuracy_score(a[b.argsort()], y)"
   ]
  },
  {
   "cell_type": "code",
   "execution_count": 10,
   "metadata": {},
   "outputs": [
    {
     "data": {
      "text/plain": [
       "0.9691"
      ]
     },
     "execution_count": 10,
     "metadata": {},
     "output_type": "execute_result"
    }
   ],
   "source": [
    "accuracy_score(nested_predict, y)"
   ]
  },
  {
   "cell_type": "code",
   "execution_count": 11,
   "metadata": {},
   "outputs": [],
   "source": [
    "clf = GridSearchCV(\n",
    "    estimator=svm,\n",
    "    param_grid={\"C\": [1, 10, 100], \"gamma\": [.01, .1]},\n",
    "    cv=inner_cv,\n",
    "    n_jobs=-1,\n",
    "    scoring=['accuracy', 'roc_auc_ovo'],\n",
    "    refit='accuracy'\n",
    ")\n",
    "\n",
    "nested_score = cross_val_score(\n",
    "    clf,\n",
    "    X=X,\n",
    "    y=y,\n",
    "    cv=outer_cv,\n",
    "    n_jobs=-1,\n",
    "    scoring='accuracy'\n",
    ")"
   ]
  },
  {
   "cell_type": "code",
   "execution_count": 12,
   "metadata": {},
   "outputs": [
    {
     "data": {
      "text/plain": [
       "array([0.9755, 0.969 , 0.9665, 0.963 , 0.9715])"
      ]
     },
     "execution_count": 12,
     "metadata": {},
     "output_type": "execute_result"
    }
   ],
   "source": [
    "nested_score"
   ]
  },
  {
   "cell_type": "code",
   "execution_count": 13,
   "metadata": {},
   "outputs": [
    {
     "data": {
      "text/plain": [
       "0.9691000000000001"
      ]
     },
     "execution_count": 13,
     "metadata": {},
     "output_type": "execute_result"
    }
   ],
   "source": [
    "np.mean(nested_score)"
   ]
  },
  {
   "cell_type": "code",
   "execution_count": 14,
   "metadata": {},
   "outputs": [],
   "source": [
    "# Final model"
   ]
  },
  {
   "cell_type": "code",
   "execution_count": 15,
   "metadata": {},
   "outputs": [
    {
     "data": {
      "text/plain": [
       "0.9672004093030778"
      ]
     },
     "execution_count": 15,
     "metadata": {},
     "output_type": "execute_result"
    }
   ],
   "source": [
    "clf.fit(X, y).best_score_"
   ]
  },
  {
   "cell_type": "code",
   "execution_count": null,
   "metadata": {},
   "outputs": [],
   "source": []
  }
 ],
 "metadata": {
  "kernelspec": {
   "display_name": "ffunes-3.8",
   "language": "python",
   "name": "ffunes-3.8"
  },
  "language_info": {
   "codemirror_mode": {
    "name": "ipython",
    "version": 3
   },
   "file_extension": ".py",
   "mimetype": "text/x-python",
   "name": "python",
   "nbconvert_exporter": "python",
   "pygments_lexer": "ipython3",
   "version": "3.8.7"
  }
 },
 "nbformat": 4,
 "nbformat_minor": 2
}
