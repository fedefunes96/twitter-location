{
 "cells": [
  {
   "cell_type": "code",
   "execution_count": 1,
   "metadata": {},
   "outputs": [],
   "source": [
    "import pandas as pd\n",
    "import psycopg2\n",
    "import pandas.io.sql as psql\n",
    "import geopandas as gpd\n",
    "import numpy as np\n",
    "import matplotlib.pyplot as plt\n",
    "from shapely.geometry import Point\n",
    "from sklearn.feature_extraction.text import CountVectorizer\n",
    "from sklearn.tree import DecisionTreeClassifier\n",
    "from sklearn.ensemble import RandomForestClassifier\n",
    "from sklearn.model_selection import GridSearchCV\n",
    "from sklearn.model_selection import train_test_split\n",
    "from statsmodels.distributions.empirical_distribution import ECDF\n",
    "from sklearn.metrics import classification_report\n",
    "from sklearn.metrics import accuracy_score\n",
    "from sklearn.multioutput import MultiOutputClassifier\n",
    "import seaborn as sns\n",
    "from matplotlib import ticker\n",
    "import re\n",
    "\n",
    "dosTPath = \"../../../../../dosT/ffunes/\"\n",
    "\n",
    "%matplotlib inline"
   ]
  },
  {
   "cell_type": "code",
   "execution_count": 2,
   "metadata": {},
   "outputs": [],
   "source": [
    "sns.set_theme()"
   ]
  },
  {
   "cell_type": "code",
   "execution_count": 2,
   "metadata": {},
   "outputs": [],
   "source": [
    "try:\n",
    "    conn = psycopg2.connect(user = \"ffunes\",\n",
    "                            password = \"location8\",\n",
    "                            host = \"127.0.0.1\",\n",
    "                            port = \"5432\",\n",
    "                            database = \"elecciones_twitter\")\n",
    "except:\n",
    "    print(\"No se pudo conectar a la base de datos\")"
   ]
  },
  {
   "cell_type": "markdown",
   "metadata": {},
   "source": [
    "Tenemos 200 millones de tweets con hashtags"
   ]
  },
  {
   "cell_type": "code",
   "execution_count": 3,
   "metadata": {},
   "outputs": [
    {
     "data": {
      "text/html": [
       "<div>\n",
       "<style scoped>\n",
       "    .dataframe tbody tr th:only-of-type {\n",
       "        vertical-align: middle;\n",
       "    }\n",
       "\n",
       "    .dataframe tbody tr th {\n",
       "        vertical-align: top;\n",
       "    }\n",
       "\n",
       "    .dataframe thead th {\n",
       "        text-align: right;\n",
       "    }\n",
       "</style>\n",
       "<table border=\"1\" class=\"dataframe\">\n",
       "  <thead>\n",
       "    <tr style=\"text-align: right;\">\n",
       "      <th></th>\n",
       "      <th>count</th>\n",
       "    </tr>\n",
       "  </thead>\n",
       "  <tbody>\n",
       "    <tr>\n",
       "      <th>0</th>\n",
       "      <td>204288007</td>\n",
       "    </tr>\n",
       "  </tbody>\n",
       "</table>\n",
       "</div>"
      ],
      "text/plain": [
       "       count\n",
       "0  204288007"
      ]
     },
     "execution_count": 3,
     "metadata": {},
     "output_type": "execute_result"
    }
   ],
   "source": [
    "total_hashtags_tweets = pd.read_sql_query('SELECT COUNT(*) FROM tweetshashtags',con=conn)\n",
    "total_hashtags_tweets"
   ]
  },
  {
   "cell_type": "markdown",
   "metadata": {},
   "source": [
    "Y tenemos 7 millones de hashtags"
   ]
  },
  {
   "cell_type": "code",
   "execution_count": 312,
   "metadata": {},
   "outputs": [
    {
     "data": {
      "text/html": [
       "<div>\n",
       "<style scoped>\n",
       "    .dataframe tbody tr th:only-of-type {\n",
       "        vertical-align: middle;\n",
       "    }\n",
       "\n",
       "    .dataframe tbody tr th {\n",
       "        vertical-align: top;\n",
       "    }\n",
       "\n",
       "    .dataframe thead th {\n",
       "        text-align: right;\n",
       "    }\n",
       "</style>\n",
       "<table border=\"1\" class=\"dataframe\">\n",
       "  <thead>\n",
       "    <tr style=\"text-align: right;\">\n",
       "      <th></th>\n",
       "      <th>count</th>\n",
       "    </tr>\n",
       "  </thead>\n",
       "  <tbody>\n",
       "    <tr>\n",
       "      <th>0</th>\n",
       "      <td>6885636</td>\n",
       "    </tr>\n",
       "  </tbody>\n",
       "</table>\n",
       "</div>"
      ],
      "text/plain": [
       "     count\n",
       "0  6885636"
      ]
     },
     "execution_count": 312,
     "metadata": {},
     "output_type": "execute_result"
    }
   ],
   "source": [
    "pd.read_sql_query('SELECT count(*) FROM hashtags',con=conn)"
   ]
  },
  {
   "cell_type": "code",
   "execution_count": 4,
   "metadata": {},
   "outputs": [
    {
     "data": {
      "text/html": [
       "<div>\n",
       "<style scoped>\n",
       "    .dataframe tbody tr th:only-of-type {\n",
       "        vertical-align: middle;\n",
       "    }\n",
       "\n",
       "    .dataframe tbody tr th {\n",
       "        vertical-align: top;\n",
       "    }\n",
       "\n",
       "    .dataframe thead th {\n",
       "        text-align: right;\n",
       "    }\n",
       "</style>\n",
       "<table border=\"1\" class=\"dataframe\">\n",
       "  <thead>\n",
       "    <tr style=\"text-align: right;\">\n",
       "      <th></th>\n",
       "      <th>count</th>\n",
       "    </tr>\n",
       "  </thead>\n",
       "  <tbody>\n",
       "    <tr>\n",
       "      <th>0</th>\n",
       "      <td>1326330</td>\n",
       "    </tr>\n",
       "  </tbody>\n",
       "</table>\n",
       "</div>"
      ],
      "text/plain": [
       "     count\n",
       "0  1326330"
      ]
     },
     "execution_count": 4,
     "metadata": {},
     "output_type": "execute_result"
    }
   ],
   "source": [
    "pd.read_sql_query(\n",
    "    \"SELECT COUNT(*) \\\n",
    "    FROM (\\\n",
    "        SELECT name_hashtag \\\n",
    "        FROM tweetshashtags \\\n",
    "        GROUP BY name_hashtag \\\n",
    "        HAVING COUNT(id_tweet) > 4\\\n",
    "    ) AS hashtags_min_tweeted\"\n",
    "    ,con=conn)"
   ]
  },
  {
   "cell_type": "code",
   "execution_count": 21,
   "metadata": {},
   "outputs": [
    {
     "name": "stdout",
     "output_type": "stream",
     "text": [
      "countries_iso.csv\r\n",
      "geonames\r\n",
      "geonames_parsed.pkl\r\n",
      "geonames_splitted_countries_parsed.pkl\r\n",
      "hashtags_with_tweets_geonames.csv\r\n",
      "mentions_with_tweets_geonames.csv\r\n",
      "total_users_parsed.pkl\r\n",
      "tweets_with_geolocalization.csv\r\n",
      "tweets_with_geolocalization_geonames.pkl\r\n",
      "tweets_with_geolocalization.pkl\r\n",
      "tweets_with_geonames_location.csv\r\n",
      "users_location_parsed.csv\r\n",
      "users_location_parsed.pkl\r\n",
      "users_with_hashtags.pkl\r\n",
      "users_with_mentions.pkl\r\n",
      "users_with_place.csv\r\n"
     ]
    }
   ],
   "source": [
    "!ls ../../../../dosT/ffunes"
   ]
  },
  {
   "cell_type": "code",
   "execution_count": 2,
   "metadata": {},
   "outputs": [],
   "source": [
    "usecols = [\n",
    "    \"id\",\n",
    "    \"user_id\"\n",
    "]"
   ]
  },
  {
   "cell_type": "code",
   "execution_count": 3,
   "metadata": {},
   "outputs": [],
   "source": [
    "tweets_with_hashtags = pd.read_pickle(dosTPath + \"tweets_with_geolocalization_geonames.pkl\")"
   ]
  },
  {
   "cell_type": "code",
   "execution_count": 4,
   "metadata": {},
   "outputs": [
    {
     "data": {
      "text/plain": [
       "(11913589, 15)"
      ]
     },
     "execution_count": 4,
     "metadata": {},
     "output_type": "execute_result"
    }
   ],
   "source": [
    "tweets_with_hashtags.shape"
   ]
  },
  {
   "cell_type": "code",
   "execution_count": 6,
   "metadata": {},
   "outputs": [],
   "source": [
    "tweets_with_hashtags = tweets_with_hashtags.loc[:, usecols]"
   ]
  },
  {
   "cell_type": "code",
   "execution_count": null,
   "metadata": {},
   "outputs": [],
   "source": [
    "hashtags = pd.read_sql_query(\n",
    "    \"SELECT id_tweet, name_hashtag \\\n",
    "    FROM tweetshashtags\\\n",
    "    WHERE name_hashtag IN (\\\n",
    "        SELECT name_hashtag \\\n",
    "        FROM tweetshashtags \\\n",
    "        GROUP BY name_hashtag \\\n",
    "        HAVING COUNT(id_tweet) > 4\\\n",
    "    )\"\n",
    "    ,con=conn)"
   ]
  },
  {
   "cell_type": "code",
   "execution_count": 10,
   "metadata": {},
   "outputs": [
    {
     "data": {
      "text/plain": [
       "(196219477, 2)"
      ]
     },
     "execution_count": 10,
     "metadata": {},
     "output_type": "execute_result"
    }
   ],
   "source": [
    "hashtags.shape"
   ]
  },
  {
   "cell_type": "code",
   "execution_count": 8,
   "metadata": {},
   "outputs": [
    {
     "name": "stdout",
     "output_type": "stream",
     "text": [
      "Leido:  10000000 / 204288007\n",
      "Leido:  20000000 / 204288007\n",
      "Leido:  30000000 / 204288007\n",
      "Leido:  40000000 / 204288007\n",
      "Leido:  50000000 / 204288007\n",
      "Leido:  60000000 / 204288007\n",
      "Leido:  70000000 / 204288007\n",
      "Leido:  80000000 / 204288007\n",
      "Leido:  90000000 / 204288007\n",
      "Leido:  100000000 / 204288007\n",
      "Leido:  110000000 / 204288007\n",
      "Leido:  120000000 / 204288007\n",
      "Leido:  130000000 / 204288007\n",
      "Leido:  140000000 / 204288007\n",
      "Leido:  150000000 / 204288007\n",
      "Leido:  160000000 / 204288007\n",
      "Leido:  170000000 / 204288007\n",
      "Leido:  180000000 / 204288007\n",
      "Leido:  190000000 / 204288007\n",
      "Leido:  200000000 / 204288007\n",
      "Leido:  210000000 / 204288007\n"
     ]
    }
   ],
   "source": [
    "totally_read = 0\n",
    "chunk_size = 10000000\n",
    "total = total_hashtags_tweets.iloc[0,0]\n",
    "\n",
    "result = tweets_with_hashtags.copy()  \n",
    "\n",
    "for hashtag_chunk in pd.read_sql_query(\n",
    "        'SELECT id_tweet, name_hashtag\\\n",
    "        FROM tweetshashtags\\\n",
    "        ORDER BY id_tweet'\n",
    "        ,con=conn\n",
    "        ,chunksize=chunk_size):\n",
    "    \n",
    "    result = pd.concat(\n",
    "        [\n",
    "            result, \n",
    "            pd.merge(\n",
    "                left=tweets_with_hashtags,\n",
    "                right=hashtag_chunk,\n",
    "                how='inner',\n",
    "                left_on=[\"id\"],\n",
    "                right_on=[\"id_tweet\"],\n",
    "                validate=\"1:m\" \n",
    "            )\n",
    "        ],\n",
    "        sort=True\n",
    "    )\n",
    "    \n",
    "    totally_read += chunk_size\n",
    "    print(\"Leido: \", totally_read, \"/\", total)"
   ]
  },
  {
   "cell_type": "code",
   "execution_count": 9,
   "metadata": {},
   "outputs": [],
   "source": [
    "result.dropna(subset=[\"id_tweet\", \"name_hashtag\"], inplace = True)"
   ]
  },
  {
   "cell_type": "code",
   "execution_count": 10,
   "metadata": {},
   "outputs": [
    {
     "data": {
      "text/plain": [
       "(3633870, 4)"
      ]
     },
     "execution_count": 10,
     "metadata": {},
     "output_type": "execute_result"
    }
   ],
   "source": [
    "result.shape"
   ]
  },
  {
   "cell_type": "code",
   "execution_count": 11,
   "metadata": {},
   "outputs": [],
   "source": [
    "hashtags_with_tweets = result.loc[:, [\"id\", \"name_hashtag\", \"user_id\"]]"
   ]
  },
  {
   "cell_type": "code",
   "execution_count": 5,
   "metadata": {},
   "outputs": [
    {
     "data": {
      "text/plain": [
       "(3633870, 3)"
      ]
     },
     "execution_count": 5,
     "metadata": {},
     "output_type": "execute_result"
    }
   ],
   "source": [
    "hashtags_with_tweets.shape"
   ]
  },
  {
   "cell_type": "code",
   "execution_count": 13,
   "metadata": {},
   "outputs": [],
   "source": [
    "hashtags_with_tweets.to_csv(dosTPath + \"hashtags_with_tweets_geonames.csv\")"
   ]
  },
  {
   "cell_type": "markdown",
   "metadata": {},
   "source": [
    "# Predicciones y parseo de hashtags"
   ]
  },
  {
   "cell_type": "code",
   "execution_count": 3,
   "metadata": {},
   "outputs": [],
   "source": [
    "hashtags_with_tweets = pd.read_csv(dosTPath + \"hashtags_with_tweets_geonames.csv\")\n",
    "del hashtags_with_tweets[\"Unnamed: 0\"]"
   ]
  },
  {
   "cell_type": "code",
   "execution_count": 4,
   "metadata": {},
   "outputs": [
    {
     "data": {
      "text/html": [
       "<div>\n",
       "<style scoped>\n",
       "    .dataframe tbody tr th:only-of-type {\n",
       "        vertical-align: middle;\n",
       "    }\n",
       "\n",
       "    .dataframe tbody tr th {\n",
       "        vertical-align: top;\n",
       "    }\n",
       "\n",
       "    .dataframe thead th {\n",
       "        text-align: right;\n",
       "    }\n",
       "</style>\n",
       "<table border=\"1\" class=\"dataframe\">\n",
       "  <thead>\n",
       "    <tr style=\"text-align: right;\">\n",
       "      <th></th>\n",
       "      <th>id</th>\n",
       "      <th>name_hashtag</th>\n",
       "      <th>user_id</th>\n",
       "    </tr>\n",
       "  </thead>\n",
       "  <tbody>\n",
       "    <tr>\n",
       "      <th>0</th>\n",
       "      <td>1088903884007985152</td>\n",
       "      <td>MaduroDictador</td>\n",
       "      <td>127893079</td>\n",
       "    </tr>\n",
       "    <tr>\n",
       "      <th>1</th>\n",
       "      <td>1088903884007985152</td>\n",
       "      <td>VenezuelaSinMaduro</td>\n",
       "      <td>127893079</td>\n",
       "    </tr>\n",
       "    <tr>\n",
       "      <th>2</th>\n",
       "      <td>1088903884007985152</td>\n",
       "      <td>andateMaduro</td>\n",
       "      <td>127893079</td>\n",
       "    </tr>\n",
       "    <tr>\n",
       "      <th>3</th>\n",
       "      <td>1086203568292536320</td>\n",
       "      <td>AsesinaronAlFiscalNisman</td>\n",
       "      <td>127893079</td>\n",
       "    </tr>\n",
       "    <tr>\n",
       "      <th>4</th>\n",
       "      <td>1090999647194284032</td>\n",
       "      <td>UCRComplice</td>\n",
       "      <td>1381867422</td>\n",
       "    </tr>\n",
       "  </tbody>\n",
       "</table>\n",
       "</div>"
      ],
      "text/plain": [
       "                    id              name_hashtag     user_id\n",
       "0  1088903884007985152            MaduroDictador   127893079\n",
       "1  1088903884007985152        VenezuelaSinMaduro   127893079\n",
       "2  1088903884007985152              andateMaduro   127893079\n",
       "3  1086203568292536320  AsesinaronAlFiscalNisman   127893079\n",
       "4  1090999647194284032               UCRComplice  1381867422"
      ]
     },
     "execution_count": 4,
     "metadata": {},
     "output_type": "execute_result"
    }
   ],
   "source": [
    "hashtags_with_tweets.head()"
   ]
  },
  {
   "cell_type": "markdown",
   "metadata": {},
   "source": [
    "Tenemos 627988 hashtags distintos usados en 1.5 millones de tweets"
   ]
  },
  {
   "cell_type": "code",
   "execution_count": 5,
   "metadata": {},
   "outputs": [
    {
     "data": {
      "text/plain": [
       "627988"
      ]
     },
     "execution_count": 5,
     "metadata": {},
     "output_type": "execute_result"
    }
   ],
   "source": [
    "hashtags_with_tweets[\"name_hashtag\"].nunique()"
   ]
  },
  {
   "cell_type": "code",
   "execution_count": 6,
   "metadata": {},
   "outputs": [
    {
     "data": {
      "text/plain": [
       "1557053"
      ]
     },
     "execution_count": 6,
     "metadata": {},
     "output_type": "execute_result"
    }
   ],
   "source": [
    "hashtags_with_tweets[\"id\"].nunique()"
   ]
  },
  {
   "cell_type": "markdown",
   "metadata": {},
   "source": [
    "Veamos si un tweet menciona a un país o ciudad en un hashtag"
   ]
  },
  {
   "cell_type": "code",
   "execution_count": 7,
   "metadata": {},
   "outputs": [
    {
     "data": {
      "text/html": [
       "<div>\n",
       "<style scoped>\n",
       "    .dataframe tbody tr th:only-of-type {\n",
       "        vertical-align: middle;\n",
       "    }\n",
       "\n",
       "    .dataframe tbody tr th {\n",
       "        vertical-align: top;\n",
       "    }\n",
       "\n",
       "    .dataframe thead th {\n",
       "        text-align: right;\n",
       "    }\n",
       "</style>\n",
       "<table border=\"1\" class=\"dataframe\">\n",
       "  <thead>\n",
       "    <tr style=\"text-align: right;\">\n",
       "      <th></th>\n",
       "      <th>id</th>\n",
       "      <th>place_name</th>\n",
       "      <th>place_country</th>\n",
       "      <th>latitude</th>\n",
       "      <th>longitude</th>\n",
       "    </tr>\n",
       "  </thead>\n",
       "  <tbody>\n",
       "    <tr>\n",
       "      <th>0</th>\n",
       "      <td>773970163502870528</td>\n",
       "      <td>guadalajara de buga</td>\n",
       "      <td>colombia</td>\n",
       "      <td>3.90089</td>\n",
       "      <td>-76.297829</td>\n",
       "    </tr>\n",
       "    <tr>\n",
       "      <th>1</th>\n",
       "      <td>77573705</td>\n",
       "      <td>quito</td>\n",
       "      <td>ecuador</td>\n",
       "      <td>-0.22985</td>\n",
       "      <td>-78.524948</td>\n",
       "    </tr>\n",
       "  </tbody>\n",
       "</table>\n",
       "</div>"
      ],
      "text/plain": [
       "                   id           place_name place_country  latitude  longitude\n",
       "0  773970163502870528  guadalajara de buga      colombia   3.90089 -76.297829\n",
       "1            77573705                quito       ecuador  -0.22985 -78.524948"
      ]
     },
     "execution_count": 7,
     "metadata": {},
     "output_type": "execute_result"
    }
   ],
   "source": [
    "usecols = [\n",
    "    \"id\",\n",
    "    \"place_name\",\n",
    "    \"place_country\",\n",
    "    \"latitude\",\n",
    "    \"longitude\"\n",
    "]\n",
    "\n",
    "users = pd.read_pickle(dosTPath + \"total_users_parsed.pkl\")\n",
    "\n",
    "users = users.loc[:, usecols]\n",
    "\n",
    "users.head(2)"
   ]
  },
  {
   "cell_type": "code",
   "execution_count": 8,
   "metadata": {},
   "outputs": [],
   "source": [
    "countries = users[\"place_country\"].unique()"
   ]
  },
  {
   "cell_type": "code",
   "execution_count": 9,
   "metadata": {},
   "outputs": [
    {
     "data": {
      "text/html": [
       "<div>\n",
       "<style scoped>\n",
       "    .dataframe tbody tr th:only-of-type {\n",
       "        vertical-align: middle;\n",
       "    }\n",
       "\n",
       "    .dataframe tbody tr th {\n",
       "        vertical-align: top;\n",
       "    }\n",
       "\n",
       "    .dataframe thead th {\n",
       "        text-align: right;\n",
       "    }\n",
       "</style>\n",
       "<table border=\"1\" class=\"dataframe\">\n",
       "  <thead>\n",
       "    <tr style=\"text-align: right;\">\n",
       "      <th></th>\n",
       "      <th>alternatenames</th>\n",
       "      <th>country</th>\n",
       "    </tr>\n",
       "  </thead>\n",
       "  <tbody>\n",
       "    <tr>\n",
       "      <th>0</th>\n",
       "      <td>ehl tarter</td>\n",
       "      <td>andorra</td>\n",
       "    </tr>\n",
       "    <tr>\n",
       "      <th>1</th>\n",
       "      <td>эл тартер</td>\n",
       "      <td>andorra</td>\n",
       "    </tr>\n",
       "  </tbody>\n",
       "</table>\n",
       "</div>"
      ],
      "text/plain": [
       "  alternatenames  country\n",
       "0     ehl tarter  andorra\n",
       "1      эл тартер  andorra"
      ]
     },
     "execution_count": 9,
     "metadata": {},
     "output_type": "execute_result"
    }
   ],
   "source": [
    "usecols = [\n",
    "    \"alternatenames\",\n",
    "    \"country\"\n",
    "]\n",
    "geonames = pd.read_pickle(dosTPath + \"geonames_parsed.pkl\")\n",
    "geonames = geonames.loc[:, usecols]\n",
    "geonames.head(2)"
   ]
  },
  {
   "cell_type": "code",
   "execution_count": 10,
   "metadata": {},
   "outputs": [
    {
     "name": "stdout",
     "output_type": "stream",
     "text": [
      "Countries:  382  - Cities:  762048\n"
     ]
    }
   ],
   "source": [
    "countries = geonames.loc[:, [\"country\"]].drop_duplicates()\n",
    "places = geonames.loc[:, [\"alternatenames\"]].drop_duplicates()\n",
    "print(\"Countries: \", countries.shape[0], \" - Cities: \", places.shape[0])"
   ]
  },
  {
   "cell_type": "markdown",
   "metadata": {},
   "source": [
    "Los hashtags usan todas las palabras juntas, por lo que eliminamos los espacios"
   ]
  },
  {
   "cell_type": "code",
   "execution_count": 11,
   "metadata": {},
   "outputs": [
    {
     "name": "stdout",
     "output_type": "stream",
     "text": [
      "Countries:  382  - Cities:  738933\n"
     ]
    }
   ],
   "source": [
    "places[\"alternatenames\"] = places[\"alternatenames\"].apply(lambda x: x.replace(' ', ''))\n",
    "countries[\"country\"] = countries[\"country\"].apply(lambda x: x.replace(' ', ''))\n",
    "places.drop_duplicates(inplace=True)\n",
    "countries.drop_duplicates(inplace=True)\n",
    "print(\"Countries: \", countries.shape[0], \" - Cities: \", places.shape[0])"
   ]
  },
  {
   "cell_type": "code",
   "execution_count": 12,
   "metadata": {},
   "outputs": [],
   "source": [
    "countries = countries[\"country\"].values\n",
    "places = places[\"alternatenames\"].values"
   ]
  },
  {
   "cell_type": "code",
   "execution_count": 13,
   "metadata": {},
   "outputs": [],
   "source": [
    "from IPython.display import clear_output\n",
    "\n",
    "def update_progress(progress):\n",
    "    bar_length = 20\n",
    "    if isinstance(progress, int):\n",
    "        progress = float(progress)\n",
    "    if not isinstance(progress, float):\n",
    "        progress = 0\n",
    "    if progress < 0:\n",
    "        progress = 0\n",
    "    if progress >= 1:\n",
    "        progress = 1\n",
    "\n",
    "    block = int(round(bar_length * progress))\n",
    "\n",
    "    clear_output(wait = True)\n",
    "    text = \"Progress: [{0}] {1:.1f}%\".format( \"#\" * block + \"-\" * (bar_length - block), progress * 100)\n",
    "    print(text)"
   ]
  },
  {
   "cell_type": "code",
   "execution_count": 14,
   "metadata": {},
   "outputs": [],
   "source": [
    "countries.sort()\n",
    "places.sort()\n",
    "\n",
    "def binary_search(arr, x): \n",
    "    low = 0\n",
    "    high = len(arr) - 1\n",
    "    mid = 0\n",
    "  \n",
    "    while low <= high: \n",
    "        mid = (high + low) // 2\n",
    "  \n",
    "        if arr[mid] < x: \n",
    "            low = mid + 1\n",
    "        elif arr[mid] > x: \n",
    "            high = mid - 1\n",
    "        else: \n",
    "            return mid \n",
    "  \n",
    "    return -1"
   ]
  },
  {
   "cell_type": "code",
   "execution_count": 16,
   "metadata": {},
   "outputs": [],
   "source": [
    "def mentions_country(place):\n",
    "    if type(place) != str:\n",
    "        return None\n",
    "    \n",
    "    global position\n",
    "    global total\n",
    "      \n",
    "    #update_progress(position / total)\n",
    "    \n",
    "    position += 1\n",
    "    \n",
    "    names = []\n",
    "    \n",
    "    words_by_uppercase = re.sub( r\"([A-Z])\", r\" \\1\", place).split()\n",
    "    \n",
    "    for word in words_by_uppercase:\n",
    "        #Suponemos que los paises/ciudades que nos interesan tienen al menos 4 letras\n",
    "        if len(word) <= 3:\n",
    "            continue\n",
    "            \n",
    "        index = binary_search(countries, word.lower())\n",
    "    \n",
    "        if index == -1:\n",
    "            continue\n",
    "        \n",
    "        names.append(countries[index])\n",
    "        \n",
    "    # También probamos la palabra completa\n",
    "    index = binary_search(countries, place.lower())\n",
    "    \n",
    "    if index != -1 and countries[index] not in names:\n",
    "        names.append(countries[index])    \n",
    "    \n",
    "    #for country in countries:\n",
    "        #pos = binary_search()\n",
    "        #if country in str(place.lower()):\n",
    "        #    names.append(country)\n",
    "        \n",
    "    if len(names) == 0:\n",
    "        return None\n",
    "    \n",
    "    return names"
   ]
  },
  {
   "cell_type": "code",
   "execution_count": 17,
   "metadata": {},
   "outputs": [],
   "source": [
    "def mentions_city(place):\n",
    "    if type(place) != str:\n",
    "        return None\n",
    "    \n",
    "    global position\n",
    "    global total\n",
    "      \n",
    "    #update_progress(position / total)\n",
    "    \n",
    "    position += 1\n",
    "    \n",
    "    names = []\n",
    "    \n",
    "    words_by_uppercase = re.sub( r\"([A-Z])\", r\" \\1\", place).split()\n",
    "    \n",
    "    for word in words_by_uppercase:\n",
    "        #Suponemos que los paises/ciudades que nos interesan tienen al menos 4 letras\n",
    "        if len(word) <= 3:\n",
    "            continue\n",
    "            \n",
    "        index = binary_search(places, word.lower())\n",
    "    \n",
    "        if index == -1:\n",
    "            continue\n",
    "        \n",
    "        names.append(places[index])\n",
    "        \n",
    "    # También probamos la palabra completa\n",
    "    index = binary_search(places, place.lower())\n",
    "    \n",
    "    if index != -1 and places[index] not in names:\n",
    "        names.append(places[index])    \n",
    "    \n",
    "    #for country in countries:\n",
    "        #pos = binary_search()\n",
    "        #if country in str(place.lower()):\n",
    "        #    names.append(country)\n",
    "        \n",
    "    if len(names) == 0:\n",
    "        return None\n",
    "    \n",
    "    return names"
   ]
  },
  {
   "cell_type": "code",
   "execution_count": 18,
   "metadata": {},
   "outputs": [
    {
     "data": {
      "text/html": [
       "<div>\n",
       "<style scoped>\n",
       "    .dataframe tbody tr th:only-of-type {\n",
       "        vertical-align: middle;\n",
       "    }\n",
       "\n",
       "    .dataframe tbody tr th {\n",
       "        vertical-align: top;\n",
       "    }\n",
       "\n",
       "    .dataframe thead th {\n",
       "        text-align: right;\n",
       "    }\n",
       "</style>\n",
       "<table border=\"1\" class=\"dataframe\">\n",
       "  <thead>\n",
       "    <tr style=\"text-align: right;\">\n",
       "      <th></th>\n",
       "      <th>id</th>\n",
       "      <th>name_hashtag</th>\n",
       "      <th>user_id</th>\n",
       "    </tr>\n",
       "  </thead>\n",
       "  <tbody>\n",
       "    <tr>\n",
       "      <th>0</th>\n",
       "      <td>1088903884007985152</td>\n",
       "      <td>MaduroDictador</td>\n",
       "      <td>127893079</td>\n",
       "    </tr>\n",
       "    <tr>\n",
       "      <th>1</th>\n",
       "      <td>1088903884007985152</td>\n",
       "      <td>VenezuelaSinMaduro</td>\n",
       "      <td>127893079</td>\n",
       "    </tr>\n",
       "    <tr>\n",
       "      <th>2</th>\n",
       "      <td>1088903884007985152</td>\n",
       "      <td>andateMaduro</td>\n",
       "      <td>127893079</td>\n",
       "    </tr>\n",
       "    <tr>\n",
       "      <th>3</th>\n",
       "      <td>1086203568292536320</td>\n",
       "      <td>AsesinaronAlFiscalNisman</td>\n",
       "      <td>127893079</td>\n",
       "    </tr>\n",
       "    <tr>\n",
       "      <th>4</th>\n",
       "      <td>1090999647194284032</td>\n",
       "      <td>UCRComplice</td>\n",
       "      <td>1381867422</td>\n",
       "    </tr>\n",
       "    <tr>\n",
       "      <th>...</th>\n",
       "      <td>...</td>\n",
       "      <td>...</td>\n",
       "      <td>...</td>\n",
       "    </tr>\n",
       "    <tr>\n",
       "      <th>3633865</th>\n",
       "      <td>1199716574707499008</td>\n",
       "      <td>home</td>\n",
       "      <td>17419053</td>\n",
       "    </tr>\n",
       "    <tr>\n",
       "      <th>3633866</th>\n",
       "      <td>1199716574707499008</td>\n",
       "      <td>electronic</td>\n",
       "      <td>17419053</td>\n",
       "    </tr>\n",
       "    <tr>\n",
       "      <th>3633867</th>\n",
       "      <td>1199716574707499008</td>\n",
       "      <td>thermostat</td>\n",
       "      <td>17419053</td>\n",
       "    </tr>\n",
       "    <tr>\n",
       "      <th>3633868</th>\n",
       "      <td>1200429379161116674</td>\n",
       "      <td>COP25Madrid</td>\n",
       "      <td>15159660</td>\n",
       "    </tr>\n",
       "    <tr>\n",
       "      <th>3633869</th>\n",
       "      <td>1201638566348165121</td>\n",
       "      <td>BallonDor2019</td>\n",
       "      <td>239848500</td>\n",
       "    </tr>\n",
       "  </tbody>\n",
       "</table>\n",
       "<p>3633870 rows × 3 columns</p>\n",
       "</div>"
      ],
      "text/plain": [
       "                          id              name_hashtag     user_id\n",
       "0        1088903884007985152            MaduroDictador   127893079\n",
       "1        1088903884007985152        VenezuelaSinMaduro   127893079\n",
       "2        1088903884007985152              andateMaduro   127893079\n",
       "3        1086203568292536320  AsesinaronAlFiscalNisman   127893079\n",
       "4        1090999647194284032               UCRComplice  1381867422\n",
       "...                      ...                       ...         ...\n",
       "3633865  1199716574707499008                      home    17419053\n",
       "3633866  1199716574707499008                electronic    17419053\n",
       "3633867  1199716574707499008                thermostat    17419053\n",
       "3633868  1200429379161116674               COP25Madrid    15159660\n",
       "3633869  1201638566348165121             BallonDor2019   239848500\n",
       "\n",
       "[3633870 rows x 3 columns]"
      ]
     },
     "execution_count": 18,
     "metadata": {},
     "output_type": "execute_result"
    }
   ],
   "source": [
    "hashtags_with_tweets"
   ]
  },
  {
   "cell_type": "code",
   "execution_count": 19,
   "metadata": {},
   "outputs": [],
   "source": [
    "position = 0\n",
    "total = hashtags_with_tweets.shape[0]\n",
    "\n",
    "hashtags_with_tweets[\"mentions_country\"] = hashtags_with_tweets[\"name_hashtag\"].apply(mentions_country)"
   ]
  },
  {
   "cell_type": "markdown",
   "metadata": {},
   "source": [
    "160.000 tweets aproximadamente mencionan un país"
   ]
  },
  {
   "cell_type": "code",
   "execution_count": 20,
   "metadata": {},
   "outputs": [
    {
     "data": {
      "text/plain": [
       "162023"
      ]
     },
     "execution_count": 20,
     "metadata": {},
     "output_type": "execute_result"
    }
   ],
   "source": [
    "hashtags_with_tweets.dropna().shape[0]"
   ]
  },
  {
   "cell_type": "code",
   "execution_count": 21,
   "metadata": {
    "scrolled": true
   },
   "outputs": [
    {
     "data": {
      "text/html": [
       "<div>\n",
       "<style scoped>\n",
       "    .dataframe tbody tr th:only-of-type {\n",
       "        vertical-align: middle;\n",
       "    }\n",
       "\n",
       "    .dataframe tbody tr th {\n",
       "        vertical-align: top;\n",
       "    }\n",
       "\n",
       "    .dataframe thead th {\n",
       "        text-align: right;\n",
       "    }\n",
       "</style>\n",
       "<table border=\"1\" class=\"dataframe\">\n",
       "  <thead>\n",
       "    <tr style=\"text-align: right;\">\n",
       "      <th></th>\n",
       "      <th>id</th>\n",
       "      <th>name_hashtag</th>\n",
       "      <th>user_id</th>\n",
       "      <th>mentions_country</th>\n",
       "    </tr>\n",
       "  </thead>\n",
       "  <tbody>\n",
       "    <tr>\n",
       "      <th>1</th>\n",
       "      <td>1088903884007985152</td>\n",
       "      <td>VenezuelaSinMaduro</td>\n",
       "      <td>127893079</td>\n",
       "      <td>[venezuela]</td>\n",
       "    </tr>\n",
       "    <tr>\n",
       "      <th>50</th>\n",
       "      <td>1084482791067213824</td>\n",
       "      <td>argentina</td>\n",
       "      <td>243010111</td>\n",
       "      <td>[argentina]</td>\n",
       "    </tr>\n",
       "    <tr>\n",
       "      <th>130</th>\n",
       "      <td>1085379568930881536</td>\n",
       "      <td>ArgentinaSinNarcotrafico</td>\n",
       "      <td>872304726</td>\n",
       "      <td>[argentina]</td>\n",
       "    </tr>\n",
       "    <tr>\n",
       "      <th>131</th>\n",
       "      <td>1085379568930881536</td>\n",
       "      <td>Bolivia</td>\n",
       "      <td>872304726</td>\n",
       "      <td>[bolivia]</td>\n",
       "    </tr>\n",
       "    <tr>\n",
       "      <th>289</th>\n",
       "      <td>1090982868803903489</td>\n",
       "      <td>Argentina</td>\n",
       "      <td>148616805</td>\n",
       "      <td>[argentina]</td>\n",
       "    </tr>\n",
       "    <tr>\n",
       "      <th>...</th>\n",
       "      <td>...</td>\n",
       "      <td>...</td>\n",
       "      <td>...</td>\n",
       "      <td>...</td>\n",
       "    </tr>\n",
       "    <tr>\n",
       "      <th>3888</th>\n",
       "      <td>1080564110742433795</td>\n",
       "      <td>OBrasilVaiDarCerto</td>\n",
       "      <td>1569649788</td>\n",
       "      <td>[brasil]</td>\n",
       "    </tr>\n",
       "    <tr>\n",
       "      <th>3890</th>\n",
       "      <td>1080442277661687808</td>\n",
       "      <td>VemNovoBrasil</td>\n",
       "      <td>1569649788</td>\n",
       "      <td>[brasil]</td>\n",
       "    </tr>\n",
       "    <tr>\n",
       "      <th>3910</th>\n",
       "      <td>1091403170545393664</td>\n",
       "      <td>muda_Brasil</td>\n",
       "      <td>1729535894</td>\n",
       "      <td>[brasil]</td>\n",
       "    </tr>\n",
       "    <tr>\n",
       "      <th>3916</th>\n",
       "      <td>1088207921064919042</td>\n",
       "      <td>MaiorCampeãodoBrasil</td>\n",
       "      <td>18071834</td>\n",
       "      <td>[brasil]</td>\n",
       "    </tr>\n",
       "    <tr>\n",
       "      <th>3924</th>\n",
       "      <td>1083139352119660544</td>\n",
       "      <td>Israel</td>\n",
       "      <td>185025252</td>\n",
       "      <td>[israel]</td>\n",
       "    </tr>\n",
       "  </tbody>\n",
       "</table>\n",
       "<p>100 rows × 4 columns</p>\n",
       "</div>"
      ],
      "text/plain": [
       "                       id              name_hashtag     user_id  \\\n",
       "1     1088903884007985152        VenezuelaSinMaduro   127893079   \n",
       "50    1084482791067213824                 argentina   243010111   \n",
       "130   1085379568930881536  ArgentinaSinNarcotrafico   872304726   \n",
       "131   1085379568930881536                   Bolivia   872304726   \n",
       "289   1090982868803903489                 Argentina   148616805   \n",
       "...                   ...                       ...         ...   \n",
       "3888  1080564110742433795        OBrasilVaiDarCerto  1569649788   \n",
       "3890  1080442277661687808             VemNovoBrasil  1569649788   \n",
       "3910  1091403170545393664               muda_Brasil  1729535894   \n",
       "3916  1088207921064919042      MaiorCampeãodoBrasil    18071834   \n",
       "3924  1083139352119660544                    Israel   185025252   \n",
       "\n",
       "     mentions_country  \n",
       "1         [venezuela]  \n",
       "50        [argentina]  \n",
       "130       [argentina]  \n",
       "131         [bolivia]  \n",
       "289       [argentina]  \n",
       "...               ...  \n",
       "3888         [brasil]  \n",
       "3890         [brasil]  \n",
       "3910         [brasil]  \n",
       "3916         [brasil]  \n",
       "3924         [israel]  \n",
       "\n",
       "[100 rows x 4 columns]"
      ]
     },
     "execution_count": 21,
     "metadata": {},
     "output_type": "execute_result"
    }
   ],
   "source": [
    "hashtags_with_tweets.dropna().head(100)"
   ]
  },
  {
   "cell_type": "code",
   "execution_count": 76,
   "metadata": {},
   "outputs": [],
   "source": [
    "hashtags_with_tweets[\"mentions_city\"] = hashtags_with_tweets[\"name_hashtag\"].apply(mentions_city)"
   ]
  },
  {
   "cell_type": "code",
   "execution_count": 77,
   "metadata": {},
   "outputs": [
    {
     "data": {
      "text/plain": [
       "1081854"
      ]
     },
     "execution_count": 77,
     "metadata": {},
     "output_type": "execute_result"
    }
   ],
   "source": [
    "hashtags_with_tweets.dropna(subset=[\"mentions_city\"]).shape[0]"
   ]
  },
  {
   "cell_type": "markdown",
   "metadata": {},
   "source": [
    "Muchas ciudades tienen nombres de palabras comunes en castellano"
   ]
  },
  {
   "cell_type": "code",
   "execution_count": 81,
   "metadata": {},
   "outputs": [
    {
     "data": {
      "text/html": [
       "<div>\n",
       "<style scoped>\n",
       "    .dataframe tbody tr th:only-of-type {\n",
       "        vertical-align: middle;\n",
       "    }\n",
       "\n",
       "    .dataframe tbody tr th {\n",
       "        vertical-align: top;\n",
       "    }\n",
       "\n",
       "    .dataframe thead th {\n",
       "        text-align: right;\n",
       "    }\n",
       "</style>\n",
       "<table border=\"1\" class=\"dataframe\">\n",
       "  <thead>\n",
       "    <tr style=\"text-align: right;\">\n",
       "      <th></th>\n",
       "      <th>id</th>\n",
       "      <th>name_hashtag</th>\n",
       "      <th>user_id</th>\n",
       "      <th>mentions_country</th>\n",
       "      <th>mentions_city</th>\n",
       "    </tr>\n",
       "  </thead>\n",
       "  <tbody>\n",
       "    <tr>\n",
       "      <th>2094100</th>\n",
       "      <td>1154845198956007426</td>\n",
       "      <td>Argentina</td>\n",
       "      <td>298791820</td>\n",
       "      <td>[argentina]</td>\n",
       "      <td>[argentina]</td>\n",
       "    </tr>\n",
       "    <tr>\n",
       "      <th>1931011</th>\n",
       "      <td>1148662450213965824</td>\n",
       "      <td>DiaDeLaIndependencia</td>\n",
       "      <td>85523608</td>\n",
       "      <td>None</td>\n",
       "      <td>[independencia]</td>\n",
       "    </tr>\n",
       "    <tr>\n",
       "      <th>1640424</th>\n",
       "      <td>1144752867477262342</td>\n",
       "      <td>sing</td>\n",
       "      <td>136817895</td>\n",
       "      <td>None</td>\n",
       "      <td>[sing]</td>\n",
       "    </tr>\n",
       "    <tr>\n",
       "      <th>724996</th>\n",
       "      <td>1109132728988037120</td>\n",
       "      <td>caracas</td>\n",
       "      <td>421482018</td>\n",
       "      <td>None</td>\n",
       "      <td>[caracas]</td>\n",
       "    </tr>\n",
       "    <tr>\n",
       "      <th>3430822</th>\n",
       "      <td>1192915717403758595</td>\n",
       "      <td>LulaLivre</td>\n",
       "      <td>542023253</td>\n",
       "      <td>None</td>\n",
       "      <td>[lula, livre]</td>\n",
       "    </tr>\n",
       "    <tr>\n",
       "      <th>...</th>\n",
       "      <td>...</td>\n",
       "      <td>...</td>\n",
       "      <td>...</td>\n",
       "      <td>...</td>\n",
       "      <td>...</td>\n",
       "    </tr>\n",
       "    <tr>\n",
       "      <th>2869843</th>\n",
       "      <td>1173343826502651913</td>\n",
       "      <td>FelizDomingo</td>\n",
       "      <td>61086340</td>\n",
       "      <td>None</td>\n",
       "      <td>[feliz]</td>\n",
       "    </tr>\n",
       "    <tr>\n",
       "      <th>440121</th>\n",
       "      <td>1092584627741454336</td>\n",
       "      <td>atl</td>\n",
       "      <td>294889406</td>\n",
       "      <td>None</td>\n",
       "      <td>[atl]</td>\n",
       "    </tr>\n",
       "    <tr>\n",
       "      <th>1020970</th>\n",
       "      <td>1126246150967898112</td>\n",
       "      <td>ElPeorGobiernoDeLaHistoriaArgentina</td>\n",
       "      <td>3359447613</td>\n",
       "      <td>[argentina]</td>\n",
       "      <td>[argentina]</td>\n",
       "    </tr>\n",
       "    <tr>\n",
       "      <th>1545691</th>\n",
       "      <td>1142286758941511680</td>\n",
       "      <td>polo</td>\n",
       "      <td>819211139724746752</td>\n",
       "      <td>None</td>\n",
       "      <td>[polo]</td>\n",
       "    </tr>\n",
       "    <tr>\n",
       "      <th>2188780</th>\n",
       "      <td>1156510941032460288</td>\n",
       "      <td>KarolSevilla</td>\n",
       "      <td>338665394</td>\n",
       "      <td>None</td>\n",
       "      <td>[karol, sevilla]</td>\n",
       "    </tr>\n",
       "  </tbody>\n",
       "</table>\n",
       "<p>100 rows × 5 columns</p>\n",
       "</div>"
      ],
      "text/plain": [
       "                          id                         name_hashtag  \\\n",
       "2094100  1154845198956007426                            Argentina   \n",
       "1931011  1148662450213965824                 DiaDeLaIndependencia   \n",
       "1640424  1144752867477262342                                 sing   \n",
       "724996   1109132728988037120                              caracas   \n",
       "3430822  1192915717403758595                            LulaLivre   \n",
       "...                      ...                                  ...   \n",
       "2869843  1173343826502651913                         FelizDomingo   \n",
       "440121   1092584627741454336                                  atl   \n",
       "1020970  1126246150967898112  ElPeorGobiernoDeLaHistoriaArgentina   \n",
       "1545691  1142286758941511680                                 polo   \n",
       "2188780  1156510941032460288                         KarolSevilla   \n",
       "\n",
       "                    user_id mentions_country     mentions_city  \n",
       "2094100           298791820      [argentina]       [argentina]  \n",
       "1931011            85523608             None   [independencia]  \n",
       "1640424           136817895             None            [sing]  \n",
       "724996            421482018             None         [caracas]  \n",
       "3430822           542023253             None     [lula, livre]  \n",
       "...                     ...              ...               ...  \n",
       "2869843            61086340             None           [feliz]  \n",
       "440121            294889406             None             [atl]  \n",
       "1020970          3359447613      [argentina]       [argentina]  \n",
       "1545691  819211139724746752             None            [polo]  \n",
       "2188780           338665394             None  [karol, sevilla]  \n",
       "\n",
       "[100 rows x 5 columns]"
      ]
     },
     "execution_count": 81,
     "metadata": {},
     "output_type": "execute_result"
    }
   ],
   "source": [
    "hashtags_with_tweets.dropna(subset=[\"mentions_city\"]).sample(n=100)"
   ]
  },
  {
   "cell_type": "code",
   "execution_count": 42,
   "metadata": {},
   "outputs": [],
   "source": [
    "def hashtag_to_lower(row):\n",
    "    try:\n",
    "        return str(row[\"name_hashtag\"]).lower()\n",
    "    except:\n",
    "        return None\n",
    "    \n",
    "hashtags_with_tweets[\"name_hashtag\"] = hashtags_with_tweets.apply(hashtag_to_lower, axis=1)"
   ]
  },
  {
   "cell_type": "code",
   "execution_count": 43,
   "metadata": {},
   "outputs": [],
   "source": [
    "minimun_used_hashtags = hashtags_with_tweets.loc[:, [\"name_hashtag\", \"user_id\"]].drop_duplicates()\n",
    "minimun_used_hashtags = minimun_used_hashtags.groupby(\"name_hashtag\").count().reset_index()"
   ]
  },
  {
   "cell_type": "code",
   "execution_count": 44,
   "metadata": {
    "scrolled": false
   },
   "outputs": [
    {
     "data": {
      "image/png": "[encoded data removed]",
      "text/plain": [
       "<Figure size 1152x648 with 1 Axes>"
      ]
     },
     "metadata": {},
     "output_type": "display_data"
    }
   ],
   "source": [
    "f, ax = plt.subplots(figsize=(16, 9))\n",
    "\n",
    "sns.set_theme()\n",
    "\n",
    "sns.ecdfplot(\n",
    "    data=minimun_used_hashtags[\"user_id\"],\n",
    "    stat=\"proportion\",\n",
    "    #log_scale=True,\n",
    "    ax=ax\n",
    ")\n",
    "\n",
    "ax.set_ylim(0, 1.1)\n",
    "ax.set_xlim(0, 30)\n",
    "#ax.set_xscale('symlog')\n",
    "ax.set_title(\"Frecuencia de uso de Hashtags\", fontsize=20, fontweight='bold', pad=20)\n",
    "ax.set_xlabel(\"Cantidad de usos\", fontsize=18, labelpad=20)\n",
    "ax.set_ylabel(\"Proporción de usuarios\", fontsize=18, labelpad=20)\n",
    "ax.set_yticks(np.arange(0,1.1,0.1))\n",
    "ax.set_xticks(np.arange(0, 31, 1))\n",
    "ax.xaxis.set_tick_params(labelsize=16)\n",
    "ax.yaxis.set_tick_params(labelsize=16)\n",
    "#ax.xaxis.set_major_formatter(ticker.FormatStrFormatter(\"%d\"))"
   ]
  },
  {
   "cell_type": "code",
   "execution_count": 15,
   "metadata": {},
   "outputs": [
    {
     "data": {
      "image/png": "[encoded data removed]",
      "text/plain": [
       "<Figure size 1440x720 with 1 Axes>"
      ]
     },
     "metadata": {
      "needs_background": "light"
     },
     "output_type": "display_data"
    }
   ],
   "source": [
    "ecdf = ECDF(minimun_used_hashtags[\"user_id\"])\n",
    "\n",
    "plt.figure(figsize=(20,10)) \n",
    "plt.grid(b=True, which='major')\n",
    "plt.xlabel(\"Cantidad de usuarios\", fontsize=16)\n",
    "plt.ylabel(\"% de hashtags\", fontsize=16)\n",
    "plt.title(\"Frecuencia acumulada de usuarios que usan un hashtag\", fontsize=18)\n",
    "plt.plot(ecdf.x,ecdf.y)\n",
    "plt.yticks(np.arange(0,1.1,0.05))\n",
    "plt.xticks(np.arange(0,70,1))\n",
    "plt.xlim(0, 20)\n",
    "#plt.hlines(accuracy_score(y_test[:, 0], y_predicted_city), -200, 1000, colors='r', linestyles='dashed')\n",
    "#plt.legend([\"Frec. acumulada\", \"Ubicación exacta\"])\n",
    "plt.show()"
   ]
  },
  {
   "cell_type": "code",
   "execution_count": 49,
   "metadata": {},
   "outputs": [
    {
     "data": {
      "text/plain": [
       "3493"
      ]
     },
     "execution_count": 49,
     "metadata": {},
     "output_type": "execute_result"
    }
   ],
   "source": [
    "#minimun_used_hashtags = minimun_used_hashtags.groupby(\"name_hashtag\").count().reset_index()\n",
    "minimun_used_hashtags = minimun_used_hashtags.loc[minimun_used_hashtags[\"user_id\"] >= 50, [\"name_hashtag\"]]\n",
    "minimun_used_hashtags.shape[0]"
   ]
  },
  {
   "cell_type": "code",
   "execution_count": 50,
   "metadata": {},
   "outputs": [
    {
     "data": {
      "text/html": [
       "<div>\n",
       "<style scoped>\n",
       "    .dataframe tbody tr th:only-of-type {\n",
       "        vertical-align: middle;\n",
       "    }\n",
       "\n",
       "    .dataframe tbody tr th {\n",
       "        vertical-align: top;\n",
       "    }\n",
       "\n",
       "    .dataframe thead th {\n",
       "        text-align: right;\n",
       "    }\n",
       "</style>\n",
       "<table border=\"1\" class=\"dataframe\">\n",
       "  <thead>\n",
       "    <tr style=\"text-align: right;\">\n",
       "      <th></th>\n",
       "      <th>name_hashtag</th>\n",
       "    </tr>\n",
       "  </thead>\n",
       "  <tbody>\n",
       "    <tr>\n",
       "      <th>135124</th>\n",
       "      <td>discapacidad</td>\n",
       "    </tr>\n",
       "    <tr>\n",
       "      <th>455939</th>\n",
       "      <td>tarifazo</td>\n",
       "    </tr>\n",
       "    <tr>\n",
       "      <th>232021</th>\n",
       "      <td>incorrectas</td>\n",
       "    </tr>\n",
       "    <tr>\n",
       "      <th>447685</th>\n",
       "      <td>stonewall</td>\n",
       "    </tr>\n",
       "    <tr>\n",
       "      <th>300321</th>\n",
       "      <td>mañana</td>\n",
       "    </tr>\n",
       "    <tr>\n",
       "      <th>178900</th>\n",
       "      <td>felizdiadelamigo</td>\n",
       "    </tr>\n",
       "    <tr>\n",
       "      <th>132935</th>\n",
       "      <td>diego</td>\n",
       "    </tr>\n",
       "    <tr>\n",
       "      <th>334647</th>\n",
       "      <td>noalgolpekirchnerista</td>\n",
       "    </tr>\n",
       "    <tr>\n",
       "      <th>429338</th>\n",
       "      <td>sevangiradespedida</td>\n",
       "    </tr>\n",
       "    <tr>\n",
       "      <th>215384</th>\n",
       "      <td>hagansecargo</td>\n",
       "    </tr>\n",
       "  </tbody>\n",
       "</table>\n",
       "</div>"
      ],
      "text/plain": [
       "                 name_hashtag\n",
       "135124           discapacidad\n",
       "455939               tarifazo\n",
       "232021            incorrectas\n",
       "447685              stonewall\n",
       "300321                 mañana\n",
       "178900       felizdiadelamigo\n",
       "132935                  diego\n",
       "334647  noalgolpekirchnerista\n",
       "429338     sevangiradespedida\n",
       "215384           hagansecargo"
      ]
     },
     "execution_count": 50,
     "metadata": {},
     "output_type": "execute_result"
    }
   ],
   "source": [
    "minimun_used_hashtags.sample(n=10)"
   ]
  },
  {
   "cell_type": "markdown",
   "metadata": {},
   "source": [
    "Que porcentage de hashtags quedan del filtro de haber sido usado por al menos 50 usuarios? "
   ]
  },
  {
   "cell_type": "code",
   "execution_count": 51,
   "metadata": {},
   "outputs": [
    {
     "data": {
      "text/plain": [
       "0.6690032942618556"
      ]
     },
     "execution_count": 51,
     "metadata": {},
     "output_type": "execute_result"
    }
   ],
   "source": [
    "100*minimun_used_hashtags.shape[0]/hashtags_with_tweets[\"name_hashtag\"].nunique()"
   ]
  },
  {
   "cell_type": "markdown",
   "metadata": {},
   "source": [
    "Teniamos 1.5 millones de tweets con hashtags, nos quedan 1.1 millones usados al menos por 5 usuarios"
   ]
  },
  {
   "cell_type": "code",
   "execution_count": 115,
   "metadata": {},
   "outputs": [
    {
     "data": {
      "text/plain": [
       "(1380973, 4)"
      ]
     },
     "execution_count": 115,
     "metadata": {},
     "output_type": "execute_result"
    }
   ],
   "source": [
    "hashtags_with_tweets_min_used = pd.merge(\n",
    "    left=hashtags_with_tweets,\n",
    "    right=minimun_used_hashtags,\n",
    "    how='inner',\n",
    "    left_on=[\"name_hashtag\"],\n",
    "    right_on=[\"name_hashtag\"],\n",
    "    validate=\"m:1\" \n",
    ")\n",
    "hashtags_with_tweets_min_used.shape"
   ]
  },
  {
   "cell_type": "code",
   "execution_count": 116,
   "metadata": {},
   "outputs": [
    {
     "data": {
      "text/html": [
       "<div>\n",
       "<style scoped>\n",
       "    .dataframe tbody tr th:only-of-type {\n",
       "        vertical-align: middle;\n",
       "    }\n",
       "\n",
       "    .dataframe tbody tr th {\n",
       "        vertical-align: top;\n",
       "    }\n",
       "\n",
       "    .dataframe thead th {\n",
       "        text-align: right;\n",
       "    }\n",
       "</style>\n",
       "<table border=\"1\" class=\"dataframe\">\n",
       "  <thead>\n",
       "    <tr style=\"text-align: right;\">\n",
       "      <th></th>\n",
       "      <th>id</th>\n",
       "      <th>name_hashtag</th>\n",
       "      <th>user_id</th>\n",
       "      <th>mentions_country</th>\n",
       "    </tr>\n",
       "  </thead>\n",
       "  <tbody>\n",
       "    <tr>\n",
       "      <th>0</th>\n",
       "      <td>1088903884007985152</td>\n",
       "      <td>madurodictador</td>\n",
       "      <td>127893079</td>\n",
       "      <td>None</td>\n",
       "    </tr>\n",
       "    <tr>\n",
       "      <th>1</th>\n",
       "      <td>1083439250518016006</td>\n",
       "      <td>madurodictador</td>\n",
       "      <td>202860099</td>\n",
       "      <td>None</td>\n",
       "    </tr>\n",
       "    <tr>\n",
       "      <th>2</th>\n",
       "      <td>1083413108771770368</td>\n",
       "      <td>madurodictador</td>\n",
       "      <td>193532754</td>\n",
       "      <td>None</td>\n",
       "    </tr>\n",
       "    <tr>\n",
       "      <th>3</th>\n",
       "      <td>1083339471108624384</td>\n",
       "      <td>madurodictador</td>\n",
       "      <td>193532754</td>\n",
       "      <td>None</td>\n",
       "    </tr>\n",
       "    <tr>\n",
       "      <th>4</th>\n",
       "      <td>1090371375234203649</td>\n",
       "      <td>madurodictador</td>\n",
       "      <td>67822588</td>\n",
       "      <td>None</td>\n",
       "    </tr>\n",
       "    <tr>\n",
       "      <th>...</th>\n",
       "      <td>...</td>\n",
       "      <td>...</td>\n",
       "      <td>...</td>\n",
       "      <td>...</td>\n",
       "    </tr>\n",
       "    <tr>\n",
       "      <th>1380968</th>\n",
       "      <td>1202352668041236482</td>\n",
       "      <td>quedevuelvanlasbancas</td>\n",
       "      <td>1164487956</td>\n",
       "      <td>None</td>\n",
       "    </tr>\n",
       "    <tr>\n",
       "      <th>1380969</th>\n",
       "      <td>1202352306827792386</td>\n",
       "      <td>quedevuelvanlasbancas</td>\n",
       "      <td>1164487956</td>\n",
       "      <td>None</td>\n",
       "    </tr>\n",
       "    <tr>\n",
       "      <th>1380970</th>\n",
       "      <td>1202350293062692864</td>\n",
       "      <td>quedevuelvanlasbancas</td>\n",
       "      <td>1164487956</td>\n",
       "      <td>None</td>\n",
       "    </tr>\n",
       "    <tr>\n",
       "      <th>1380971</th>\n",
       "      <td>1202553968917983233</td>\n",
       "      <td>quedevuelvanlasbancas</td>\n",
       "      <td>139732125</td>\n",
       "      <td>None</td>\n",
       "    </tr>\n",
       "    <tr>\n",
       "      <th>1380972</th>\n",
       "      <td>1202568913034317824</td>\n",
       "      <td>quedevuelvanlasbancas</td>\n",
       "      <td>741701765301710848</td>\n",
       "      <td>None</td>\n",
       "    </tr>\n",
       "  </tbody>\n",
       "</table>\n",
       "<p>1380973 rows × 4 columns</p>\n",
       "</div>"
      ],
      "text/plain": [
       "                          id           name_hashtag             user_id  \\\n",
       "0        1088903884007985152         madurodictador           127893079   \n",
       "1        1083439250518016006         madurodictador           202860099   \n",
       "2        1083413108771770368         madurodictador           193532754   \n",
       "3        1083339471108624384         madurodictador           193532754   \n",
       "4        1090371375234203649         madurodictador            67822588   \n",
       "...                      ...                    ...                 ...   \n",
       "1380968  1202352668041236482  quedevuelvanlasbancas          1164487956   \n",
       "1380969  1202352306827792386  quedevuelvanlasbancas          1164487956   \n",
       "1380970  1202350293062692864  quedevuelvanlasbancas          1164487956   \n",
       "1380971  1202553968917983233  quedevuelvanlasbancas           139732125   \n",
       "1380972  1202568913034317824  quedevuelvanlasbancas  741701765301710848   \n",
       "\n",
       "        mentions_country  \n",
       "0                   None  \n",
       "1                   None  \n",
       "2                   None  \n",
       "3                   None  \n",
       "4                   None  \n",
       "...                  ...  \n",
       "1380968             None  \n",
       "1380969             None  \n",
       "1380970             None  \n",
       "1380971             None  \n",
       "1380972             None  \n",
       "\n",
       "[1380973 rows x 4 columns]"
      ]
     },
     "execution_count": 116,
     "metadata": {},
     "output_type": "execute_result"
    }
   ],
   "source": [
    "hashtags_with_tweets_min_used"
   ]
  },
  {
   "cell_type": "markdown",
   "metadata": {},
   "source": [
    "No eliminamos aquellos hashtags que aportan una mención a un país"
   ]
  },
  {
   "cell_type": "code",
   "execution_count": 53,
   "metadata": {},
   "outputs": [],
   "source": [
    "hashtags_with_tweets_min_used = pd.concat([\n",
    "    hashtags_with_tweets_min_used,\n",
    "    hashtags_with_tweets.dropna()\n",
    "]).drop_duplicates(subset=[\"id\", \"name_hashtag\", \"user_id\"])"
   ]
  },
  {
   "cell_type": "code",
   "execution_count": 54,
   "metadata": {},
   "outputs": [
    {
     "data": {
      "text/plain": [
       "11334"
      ]
     },
     "execution_count": 54,
     "metadata": {},
     "output_type": "execute_result"
    }
   ],
   "source": [
    "hashtags_with_tweets_min_used[\"name_hashtag\"].nunique()"
   ]
  },
  {
   "cell_type": "code",
   "execution_count": 55,
   "metadata": {},
   "outputs": [
    {
     "data": {
      "text/plain": [
       "(1430927, 4)"
      ]
     },
     "execution_count": 55,
     "metadata": {},
     "output_type": "execute_result"
    }
   ],
   "source": [
    "hashtags_with_tweets_min_used.shape"
   ]
  },
  {
   "cell_type": "code",
   "execution_count": 56,
   "metadata": {},
   "outputs": [
    {
     "data": {
      "text/plain": [
       "823231"
      ]
     },
     "execution_count": 56,
     "metadata": {},
     "output_type": "execute_result"
    }
   ],
   "source": [
    "hashtags_with_tweets_min_used[\"id\"].nunique()"
   ]
  },
  {
   "cell_type": "code",
   "execution_count": 57,
   "metadata": {},
   "outputs": [
    {
     "data": {
      "text/html": [
       "<div>\n",
       "<style scoped>\n",
       "    .dataframe tbody tr th:only-of-type {\n",
       "        vertical-align: middle;\n",
       "    }\n",
       "\n",
       "    .dataframe tbody tr th {\n",
       "        vertical-align: top;\n",
       "    }\n",
       "\n",
       "    .dataframe thead th {\n",
       "        text-align: right;\n",
       "    }\n",
       "</style>\n",
       "<table border=\"1\" class=\"dataframe\">\n",
       "  <thead>\n",
       "    <tr style=\"text-align: right;\">\n",
       "      <th></th>\n",
       "      <th>id</th>\n",
       "      <th>place_name</th>\n",
       "      <th>place_country</th>\n",
       "      <th>latitude</th>\n",
       "      <th>longitude</th>\n",
       "    </tr>\n",
       "  </thead>\n",
       "  <tbody>\n",
       "    <tr>\n",
       "      <th>0</th>\n",
       "      <td>773970163502870528</td>\n",
       "      <td>guadalajara de buga</td>\n",
       "      <td>colombia</td>\n",
       "      <td>3.900890</td>\n",
       "      <td>-76.297829</td>\n",
       "    </tr>\n",
       "    <tr>\n",
       "      <th>1</th>\n",
       "      <td>77573705</td>\n",
       "      <td>quito</td>\n",
       "      <td>ecuador</td>\n",
       "      <td>-0.229850</td>\n",
       "      <td>-78.524948</td>\n",
       "    </tr>\n",
       "    <tr>\n",
       "      <th>2</th>\n",
       "      <td>782687718576840704</td>\n",
       "      <td>tolosa</td>\n",
       "      <td>españa</td>\n",
       "      <td>43.134838</td>\n",
       "      <td>-2.078010</td>\n",
       "    </tr>\n",
       "    <tr>\n",
       "      <th>3</th>\n",
       "      <td>781920345536225280</td>\n",
       "      <td>san pedro</td>\n",
       "      <td>argentina</td>\n",
       "      <td>-33.679180</td>\n",
       "      <td>-59.666328</td>\n",
       "    </tr>\n",
       "    <tr>\n",
       "      <th>4</th>\n",
       "      <td>78502559</td>\n",
       "      <td>guayaquil</td>\n",
       "      <td>ecuador</td>\n",
       "      <td>-2.196160</td>\n",
       "      <td>-79.886208</td>\n",
       "    </tr>\n",
       "  </tbody>\n",
       "</table>\n",
       "</div>"
      ],
      "text/plain": [
       "                   id           place_name place_country   latitude  longitude\n",
       "0  773970163502870528  guadalajara de buga      colombia   3.900890 -76.297829\n",
       "1            77573705                quito       ecuador  -0.229850 -78.524948\n",
       "2  782687718576840704               tolosa        españa  43.134838  -2.078010\n",
       "3  781920345536225280            san pedro     argentina -33.679180 -59.666328\n",
       "4            78502559            guayaquil       ecuador  -2.196160 -79.886208"
      ]
     },
     "execution_count": 57,
     "metadata": {},
     "output_type": "execute_result"
    }
   ],
   "source": [
    "users.head()"
   ]
  },
  {
   "cell_type": "code",
   "execution_count": 58,
   "metadata": {},
   "outputs": [
    {
     "data": {
      "text/plain": [
       "(176029, 5)"
      ]
     },
     "execution_count": 58,
     "metadata": {},
     "output_type": "execute_result"
    }
   ],
   "source": [
    "users.shape"
   ]
  },
  {
   "cell_type": "code",
   "execution_count": 67,
   "metadata": {},
   "outputs": [],
   "source": [
    "users_with_hashtags = pd.merge(\n",
    "    left=users,\n",
    "    right=hashtags_with_tweets_min_used.loc[:, [\"name_hashtag\", \"user_id\", \"mentions_country\"]],\n",
    "    how='inner',\n",
    "    left_on=[\"id\"],\n",
    "    right_on=[\"user_id\"],\n",
    "    validate=\"1:m\" \n",
    ")\n",
    "del users_with_hashtags[\"id\"]"
   ]
  },
  {
   "cell_type": "code",
   "execution_count": 68,
   "metadata": {},
   "outputs": [
    {
     "data": {
      "text/html": [
       "<div>\n",
       "<style scoped>\n",
       "    .dataframe tbody tr th:only-of-type {\n",
       "        vertical-align: middle;\n",
       "    }\n",
       "\n",
       "    .dataframe tbody tr th {\n",
       "        vertical-align: top;\n",
       "    }\n",
       "\n",
       "    .dataframe thead th {\n",
       "        text-align: right;\n",
       "    }\n",
       "</style>\n",
       "<table border=\"1\" class=\"dataframe\">\n",
       "  <thead>\n",
       "    <tr style=\"text-align: right;\">\n",
       "      <th></th>\n",
       "      <th>place_name</th>\n",
       "      <th>place_country</th>\n",
       "      <th>latitude</th>\n",
       "      <th>longitude</th>\n",
       "      <th>name_hashtag</th>\n",
       "      <th>user_id</th>\n",
       "      <th>mentions_country</th>\n",
       "    </tr>\n",
       "  </thead>\n",
       "  <tbody>\n",
       "    <tr>\n",
       "      <th>0</th>\n",
       "      <td>kissimmee</td>\n",
       "      <td>estados unidos</td>\n",
       "      <td>28.30468</td>\n",
       "      <td>-81.416672</td>\n",
       "      <td>lucha</td>\n",
       "      <td>189288089</td>\n",
       "      <td>None</td>\n",
       "    </tr>\n",
       "    <tr>\n",
       "      <th>1</th>\n",
       "      <td>kissimmee</td>\n",
       "      <td>estados unidos</td>\n",
       "      <td>28.30468</td>\n",
       "      <td>-81.416672</td>\n",
       "      <td>sueños</td>\n",
       "      <td>189288089</td>\n",
       "      <td>None</td>\n",
       "    </tr>\n",
       "    <tr>\n",
       "      <th>2</th>\n",
       "      <td>kissimmee</td>\n",
       "      <td>estados unidos</td>\n",
       "      <td>28.30468</td>\n",
       "      <td>-81.416672</td>\n",
       "      <td>reflexion</td>\n",
       "      <td>189288089</td>\n",
       "      <td>None</td>\n",
       "    </tr>\n",
       "    <tr>\n",
       "      <th>3</th>\n",
       "      <td>caldas novas</td>\n",
       "      <td>brasil</td>\n",
       "      <td>-17.74431</td>\n",
       "      <td>-48.627892</td>\n",
       "      <td>brasilia</td>\n",
       "      <td>1309297526</td>\n",
       "      <td>None</td>\n",
       "    </tr>\n",
       "    <tr>\n",
       "      <th>4</th>\n",
       "      <td>caldas novas</td>\n",
       "      <td>brasil</td>\n",
       "      <td>-17.74431</td>\n",
       "      <td>-48.627892</td>\n",
       "      <td>masterchef</td>\n",
       "      <td>1309297526</td>\n",
       "      <td>None</td>\n",
       "    </tr>\n",
       "  </tbody>\n",
       "</table>\n",
       "</div>"
      ],
      "text/plain": [
       "     place_name   place_country  latitude  longitude name_hashtag     user_id  \\\n",
       "0     kissimmee  estados unidos  28.30468 -81.416672        lucha   189288089   \n",
       "1     kissimmee  estados unidos  28.30468 -81.416672       sueños   189288089   \n",
       "2     kissimmee  estados unidos  28.30468 -81.416672    reflexion   189288089   \n",
       "3  caldas novas          brasil -17.74431 -48.627892     brasilia  1309297526   \n",
       "4  caldas novas          brasil -17.74431 -48.627892   masterchef  1309297526   \n",
       "\n",
       "  mentions_country  \n",
       "0             None  \n",
       "1             None  \n",
       "2             None  \n",
       "3             None  \n",
       "4             None  "
      ]
     },
     "execution_count": 68,
     "metadata": {},
     "output_type": "execute_result"
    }
   ],
   "source": [
    "users_with_hashtags.head()"
   ]
  },
  {
   "cell_type": "code",
   "execution_count": 62,
   "metadata": {},
   "outputs": [
    {
     "data": {
      "text/plain": [
       "(1430927, 7)"
      ]
     },
     "execution_count": 62,
     "metadata": {},
     "output_type": "execute_result"
    }
   ],
   "source": [
    "users_with_hashtags.shape"
   ]
  },
  {
   "cell_type": "code",
   "execution_count": 61,
   "metadata": {},
   "outputs": [
    {
     "data": {
      "text/plain": [
       "161916"
      ]
     },
     "execution_count": 61,
     "metadata": {},
     "output_type": "execute_result"
    }
   ],
   "source": [
    "users_with_hashtags.dropna().shape[0]"
   ]
  },
  {
   "cell_type": "code",
   "execution_count": 75,
   "metadata": {},
   "outputs": [
    {
     "data": {
      "text/html": [
       "<div>\n",
       "<style scoped>\n",
       "    .dataframe tbody tr th:only-of-type {\n",
       "        vertical-align: middle;\n",
       "    }\n",
       "\n",
       "    .dataframe tbody tr th {\n",
       "        vertical-align: top;\n",
       "    }\n",
       "\n",
       "    .dataframe thead th {\n",
       "        text-align: right;\n",
       "    }\n",
       "</style>\n",
       "<table border=\"1\" class=\"dataframe\">\n",
       "  <thead>\n",
       "    <tr style=\"text-align: right;\">\n",
       "      <th></th>\n",
       "      <th>place_name</th>\n",
       "      <th>place_country</th>\n",
       "      <th>latitude</th>\n",
       "      <th>longitude</th>\n",
       "      <th>name_hashtag</th>\n",
       "      <th>user_id</th>\n",
       "      <th>mentions_country</th>\n",
       "    </tr>\n",
       "  </thead>\n",
       "  <tbody>\n",
       "    <tr>\n",
       "      <th>0</th>\n",
       "      <td>kissimmee</td>\n",
       "      <td>estados unidos</td>\n",
       "      <td>28.304680</td>\n",
       "      <td>-81.416672</td>\n",
       "      <td>lucha</td>\n",
       "      <td>189288089</td>\n",
       "      <td>None</td>\n",
       "    </tr>\n",
       "    <tr>\n",
       "      <th>1</th>\n",
       "      <td>kissimmee</td>\n",
       "      <td>estados unidos</td>\n",
       "      <td>28.304680</td>\n",
       "      <td>-81.416672</td>\n",
       "      <td>sueños</td>\n",
       "      <td>189288089</td>\n",
       "      <td>None</td>\n",
       "    </tr>\n",
       "    <tr>\n",
       "      <th>2</th>\n",
       "      <td>kissimmee</td>\n",
       "      <td>estados unidos</td>\n",
       "      <td>28.304680</td>\n",
       "      <td>-81.416672</td>\n",
       "      <td>reflexion</td>\n",
       "      <td>189288089</td>\n",
       "      <td>None</td>\n",
       "    </tr>\n",
       "    <tr>\n",
       "      <th>3</th>\n",
       "      <td>caldas novas</td>\n",
       "      <td>brasil</td>\n",
       "      <td>-17.744310</td>\n",
       "      <td>-48.627892</td>\n",
       "      <td>brasilia</td>\n",
       "      <td>1309297526</td>\n",
       "      <td>None</td>\n",
       "    </tr>\n",
       "    <tr>\n",
       "      <th>4</th>\n",
       "      <td>caldas novas</td>\n",
       "      <td>brasil</td>\n",
       "      <td>-17.744310</td>\n",
       "      <td>-48.627892</td>\n",
       "      <td>masterchef</td>\n",
       "      <td>1309297526</td>\n",
       "      <td>None</td>\n",
       "    </tr>\n",
       "    <tr>\n",
       "      <th>...</th>\n",
       "      <td>...</td>\n",
       "      <td>...</td>\n",
       "      <td>...</td>\n",
       "      <td>...</td>\n",
       "      <td>...</td>\n",
       "      <td>...</td>\n",
       "      <td>...</td>\n",
       "    </tr>\n",
       "    <tr>\n",
       "      <th>1430922</th>\n",
       "      <td>ciudad autónoma de buenos aires</td>\n",
       "      <td>argentina</td>\n",
       "      <td>-34.613152</td>\n",
       "      <td>-58.377232</td>\n",
       "      <td>argentinaabierta</td>\n",
       "      <td>705103595998412800</td>\n",
       "      <td>[argentina]</td>\n",
       "    </tr>\n",
       "    <tr>\n",
       "      <th>1430923</th>\n",
       "      <td>chillán</td>\n",
       "      <td>chile</td>\n",
       "      <td>-36.606640</td>\n",
       "      <td>-72.103439</td>\n",
       "      <td>chilesoberanosinonu</td>\n",
       "      <td>870080516191657985</td>\n",
       "      <td>[chile]</td>\n",
       "    </tr>\n",
       "    <tr>\n",
       "      <th>1430924</th>\n",
       "      <td>nairobi</td>\n",
       "      <td>kenia</td>\n",
       "      <td>-1.283330</td>\n",
       "      <td>36.816669</td>\n",
       "      <td>sunday</td>\n",
       "      <td>107451528</td>\n",
       "      <td>None</td>\n",
       "    </tr>\n",
       "    <tr>\n",
       "      <th>1430925</th>\n",
       "      <td>redlands</td>\n",
       "      <td>estados unidos</td>\n",
       "      <td>39.145390</td>\n",
       "      <td>-77.144150</td>\n",
       "      <td>repost</td>\n",
       "      <td>52642611</td>\n",
       "      <td>None</td>\n",
       "    </tr>\n",
       "    <tr>\n",
       "      <th>1430926</th>\n",
       "      <td>ciudad autónoma de buenos aires</td>\n",
       "      <td>argentina</td>\n",
       "      <td>-34.613152</td>\n",
       "      <td>-58.377232</td>\n",
       "      <td>lunesintratable</td>\n",
       "      <td>601175863</td>\n",
       "      <td>None</td>\n",
       "    </tr>\n",
       "  </tbody>\n",
       "</table>\n",
       "<p>1430927 rows × 7 columns</p>\n",
       "</div>"
      ],
      "text/plain": [
       "                              place_name   place_country   latitude  \\\n",
       "0                              kissimmee  estados unidos  28.304680   \n",
       "1                              kissimmee  estados unidos  28.304680   \n",
       "2                              kissimmee  estados unidos  28.304680   \n",
       "3                           caldas novas          brasil -17.744310   \n",
       "4                           caldas novas          brasil -17.744310   \n",
       "...                                  ...             ...        ...   \n",
       "1430922  ciudad autónoma de buenos aires       argentina -34.613152   \n",
       "1430923                          chillán           chile -36.606640   \n",
       "1430924                          nairobi           kenia  -1.283330   \n",
       "1430925                         redlands  estados unidos  39.145390   \n",
       "1430926  ciudad autónoma de buenos aires       argentina -34.613152   \n",
       "\n",
       "         longitude         name_hashtag             user_id mentions_country  \n",
       "0       -81.416672                lucha           189288089             None  \n",
       "1       -81.416672               sueños           189288089             None  \n",
       "2       -81.416672            reflexion           189288089             None  \n",
       "3       -48.627892             brasilia          1309297526             None  \n",
       "4       -48.627892           masterchef          1309297526             None  \n",
       "...            ...                  ...                 ...              ...  \n",
       "1430922 -58.377232     argentinaabierta  705103595998412800      [argentina]  \n",
       "1430923 -72.103439  chilesoberanosinonu  870080516191657985          [chile]  \n",
       "1430924  36.816669               sunday           107451528             None  \n",
       "1430925 -77.144150               repost            52642611             None  \n",
       "1430926 -58.377232      lunesintratable           601175863             None  \n",
       "\n",
       "[1430927 rows x 7 columns]"
      ]
     },
     "execution_count": 75,
     "metadata": {},
     "output_type": "execute_result"
    }
   ],
   "source": [
    "users_with_hashtags"
   ]
  },
  {
   "cell_type": "code",
   "execution_count": 105,
   "metadata": {},
   "outputs": [],
   "source": [
    "grouped_hashtags_per_user = users_with_hashtags.groupby(\"user_id\")['name_hashtag'].apply(list).reset_index(name='hashtags')\n",
    "grouped_countries_per_user = users_with_hashtags.dropna(subset=[\"mentions_country\"]).groupby('user_id').agg({'mentions_country': 'sum'})\n",
    "#grouped_countries_per_user = users_with_hashtags.groupby(\"user_id\")['mentions_country'].apply(list).reset_index(name='mentions_countries')"
   ]
  },
  {
   "cell_type": "code",
   "execution_count": 106,
   "metadata": {},
   "outputs": [],
   "source": [
    "users_with_hashtags = pd.merge(\n",
    "    left=users_with_hashtags.loc[:,[\"user_id\", \"place_name\", \"place_country\", \"latitude\", \"longitude\"]].drop_duplicates(subset=[\"user_id\", \"place_name\", \"place_country\", \"latitude\", \"longitude\"]),\n",
    "    right=grouped_hashtags_per_user,\n",
    "    how='inner',\n",
    "    left_on=\"user_id\",\n",
    "    right_on=\"user_id\",\n",
    "    validate=\"1:1\"\n",
    ")"
   ]
  },
  {
   "cell_type": "code",
   "execution_count": 107,
   "metadata": {},
   "outputs": [],
   "source": [
    "users_with_hashtags = pd.merge(\n",
    "    left=users_with_hashtags,\n",
    "    right=grouped_countries_per_user,\n",
    "    how='left',\n",
    "    left_on=\"user_id\",\n",
    "    right_on=\"user_id\",\n",
    "    validate=\"1:1\"\n",
    ")"
   ]
  },
  {
   "cell_type": "code",
   "execution_count": 108,
   "metadata": {},
   "outputs": [
    {
     "data": {
      "text/html": [
       "<div>\n",
       "<style scoped>\n",
       "    .dataframe tbody tr th:only-of-type {\n",
       "        vertical-align: middle;\n",
       "    }\n",
       "\n",
       "    .dataframe tbody tr th {\n",
       "        vertical-align: top;\n",
       "    }\n",
       "\n",
       "    .dataframe thead th {\n",
       "        text-align: right;\n",
       "    }\n",
       "</style>\n",
       "<table border=\"1\" class=\"dataframe\">\n",
       "  <thead>\n",
       "    <tr style=\"text-align: right;\">\n",
       "      <th></th>\n",
       "      <th>user_id</th>\n",
       "      <th>place_name</th>\n",
       "      <th>place_country</th>\n",
       "      <th>latitude</th>\n",
       "      <th>longitude</th>\n",
       "      <th>hashtags</th>\n",
       "      <th>mentions_country</th>\n",
       "    </tr>\n",
       "  </thead>\n",
       "  <tbody>\n",
       "    <tr>\n",
       "      <th>0</th>\n",
       "      <td>189288089</td>\n",
       "      <td>kissimmee</td>\n",
       "      <td>estados unidos</td>\n",
       "      <td>28.304680</td>\n",
       "      <td>-81.416672</td>\n",
       "      <td>[lucha, sueños, reflexion]</td>\n",
       "      <td>NaN</td>\n",
       "    </tr>\n",
       "    <tr>\n",
       "      <th>1</th>\n",
       "      <td>1309297526</td>\n",
       "      <td>caldas novas</td>\n",
       "      <td>brasil</td>\n",
       "      <td>-17.744310</td>\n",
       "      <td>-48.627892</td>\n",
       "      <td>[brasilia, masterchef, masterchefbr]</td>\n",
       "      <td>NaN</td>\n",
       "    </tr>\n",
       "    <tr>\n",
       "      <th>2</th>\n",
       "      <td>164544337</td>\n",
       "      <td>curitiba</td>\n",
       "      <td>brasil</td>\n",
       "      <td>-25.427780</td>\n",
       "      <td>-49.273060</td>\n",
       "      <td>[play]</td>\n",
       "      <td>NaN</td>\n",
       "    </tr>\n",
       "    <tr>\n",
       "      <th>3</th>\n",
       "      <td>147691812</td>\n",
       "      <td>asuncion</td>\n",
       "      <td>paraguay</td>\n",
       "      <td>-25.286461</td>\n",
       "      <td>-57.646999</td>\n",
       "      <td>[tbt]</td>\n",
       "      <td>NaN</td>\n",
       "    </tr>\n",
       "    <tr>\n",
       "      <th>4</th>\n",
       "      <td>1053287509</td>\n",
       "      <td>machalí</td>\n",
       "      <td>chile</td>\n",
       "      <td>-34.180820</td>\n",
       "      <td>-70.649330</td>\n",
       "      <td>[viña2019]</td>\n",
       "      <td>NaN</td>\n",
       "    </tr>\n",
       "  </tbody>\n",
       "</table>\n",
       "</div>"
      ],
      "text/plain": [
       "      user_id    place_name   place_country   latitude  longitude  \\\n",
       "0   189288089     kissimmee  estados unidos  28.304680 -81.416672   \n",
       "1  1309297526  caldas novas          brasil -17.744310 -48.627892   \n",
       "2   164544337      curitiba          brasil -25.427780 -49.273060   \n",
       "3   147691812      asuncion        paraguay -25.286461 -57.646999   \n",
       "4  1053287509       machalí           chile -34.180820 -70.649330   \n",
       "\n",
       "                               hashtags mentions_country  \n",
       "0            [lucha, sueños, reflexion]              NaN  \n",
       "1  [brasilia, masterchef, masterchefbr]              NaN  \n",
       "2                                [play]              NaN  \n",
       "3                                 [tbt]              NaN  \n",
       "4                            [viña2019]              NaN  "
      ]
     },
     "execution_count": 108,
     "metadata": {},
     "output_type": "execute_result"
    }
   ],
   "source": [
    "users_with_hashtags.head()"
   ]
  },
  {
   "cell_type": "code",
   "execution_count": 109,
   "metadata": {},
   "outputs": [
    {
     "data": {
      "text/plain": [
       "23147"
      ]
     },
     "execution_count": 109,
     "metadata": {},
     "output_type": "execute_result"
    }
   ],
   "source": [
    "users_with_hashtags.dropna().shape[0]"
   ]
  },
  {
   "cell_type": "code",
   "execution_count": 112,
   "metadata": {},
   "outputs": [
    {
     "data": {
      "text/plain": [
       "(70435, 7)"
      ]
     },
     "execution_count": 112,
     "metadata": {},
     "output_type": "execute_result"
    }
   ],
   "source": [
    "users_with_hashtags.shape"
   ]
  },
  {
   "cell_type": "code",
   "execution_count": 114,
   "metadata": {},
   "outputs": [],
   "source": [
    "users_with_hashtags.to_pickle(dosTPath + \"users_with_hashtags_limited.pkl\")"
   ]
  },
  {
   "cell_type": "markdown",
   "metadata": {},
   "source": [
    "Guardemos ahora todos los hashtags de todos los usuarios para uso de algoritmos en específico"
   ]
  },
  {
   "cell_type": "code",
   "execution_count": 127,
   "metadata": {},
   "outputs": [],
   "source": [
    "users_with_hashtags = pd.merge(\n",
    "    left=users,\n",
    "    right=hashtags_with_tweets.loc[:, [\"name_hashtag\", \"user_id\", \"mentions_country\"]],\n",
    "    how='inner',\n",
    "    left_on=[\"id\"],\n",
    "    right_on=[\"user_id\"],\n",
    "    validate=\"1:m\" \n",
    ")\n",
    "del users_with_hashtags[\"id\"]"
   ]
  },
  {
   "cell_type": "code",
   "execution_count": 128,
   "metadata": {},
   "outputs": [],
   "source": [
    "grouped_hashtags_per_user = users_with_hashtags.groupby(\"user_id\")['name_hashtag'].apply(list).reset_index(name='hashtags')\n",
    "grouped_countries_per_user = users_with_hashtags.dropna(subset=[\"mentions_country\"]).groupby('user_id').agg({'mentions_country': 'sum'})"
   ]
  },
  {
   "cell_type": "code",
   "execution_count": 129,
   "metadata": {},
   "outputs": [],
   "source": [
    "users_with_hashtags = pd.merge(\n",
    "    left=users_with_hashtags.loc[:,[\"user_id\", \"place_name\", \"place_country\", \"latitude\", \"longitude\"]].drop_duplicates(subset=[\"user_id\", \"place_name\", \"place_country\", \"latitude\", \"longitude\"]),\n",
    "    right=grouped_hashtags_per_user,\n",
    "    how='inner',\n",
    "    left_on=\"user_id\",\n",
    "    right_on=\"user_id\",\n",
    "    validate=\"1:1\"\n",
    ")"
   ]
  },
  {
   "cell_type": "code",
   "execution_count": 130,
   "metadata": {},
   "outputs": [],
   "source": [
    "users_with_hashtags = pd.merge(\n",
    "    left=users_with_hashtags,\n",
    "    right=grouped_countries_per_user,\n",
    "    how='left',\n",
    "    left_on=\"user_id\",\n",
    "    right_on=\"user_id\",\n",
    "    validate=\"1:1\"\n",
    ")"
   ]
  },
  {
   "cell_type": "code",
   "execution_count": 131,
   "metadata": {},
   "outputs": [
    {
     "data": {
      "text/html": [
       "<div>\n",
       "<style scoped>\n",
       "    .dataframe tbody tr th:only-of-type {\n",
       "        vertical-align: middle;\n",
       "    }\n",
       "\n",
       "    .dataframe tbody tr th {\n",
       "        vertical-align: top;\n",
       "    }\n",
       "\n",
       "    .dataframe thead th {\n",
       "        text-align: right;\n",
       "    }\n",
       "</style>\n",
       "<table border=\"1\" class=\"dataframe\">\n",
       "  <thead>\n",
       "    <tr style=\"text-align: right;\">\n",
       "      <th></th>\n",
       "      <th>user_id</th>\n",
       "      <th>place_name</th>\n",
       "      <th>place_country</th>\n",
       "      <th>latitude</th>\n",
       "      <th>longitude</th>\n",
       "      <th>hashtags</th>\n",
       "      <th>mentions_country</th>\n",
       "    </tr>\n",
       "  </thead>\n",
       "  <tbody>\n",
       "    <tr>\n",
       "      <th>0</th>\n",
       "      <td>78502559</td>\n",
       "      <td>guayaquil</td>\n",
       "      <td>ecuador</td>\n",
       "      <td>-2.196160</td>\n",
       "      <td>-79.886208</td>\n",
       "      <td>[yoescuchodeuna]</td>\n",
       "      <td>NaN</td>\n",
       "    </tr>\n",
       "    <tr>\n",
       "      <th>1</th>\n",
       "      <td>783545731</td>\n",
       "      <td>guayaquil</td>\n",
       "      <td>ecuador</td>\n",
       "      <td>-2.196160</td>\n",
       "      <td>-79.886208</td>\n",
       "      <td>[saboresdemitierra, parrilladademariscos]</td>\n",
       "      <td>NaN</td>\n",
       "    </tr>\n",
       "    <tr>\n",
       "      <th>2</th>\n",
       "      <td>125808113</td>\n",
       "      <td>sao paulo</td>\n",
       "      <td>brasil</td>\n",
       "      <td>-23.547501</td>\n",
       "      <td>-46.636108</td>\n",
       "      <td>[jornaldacultura, jornaldacultura]</td>\n",
       "      <td>NaN</td>\n",
       "    </tr>\n",
       "    <tr>\n",
       "      <th>3</th>\n",
       "      <td>159339845</td>\n",
       "      <td>santiago</td>\n",
       "      <td>chile</td>\n",
       "      <td>-33.456940</td>\n",
       "      <td>-70.648270</td>\n",
       "      <td>[musicachilena, chv, alvarolopez, yosoy, losbu...</td>\n",
       "      <td>NaN</td>\n",
       "    </tr>\n",
       "    <tr>\n",
       "      <th>4</th>\n",
       "      <td>189288089</td>\n",
       "      <td>kissimmee</td>\n",
       "      <td>estados unidos</td>\n",
       "      <td>28.304680</td>\n",
       "      <td>-81.416672</td>\n",
       "      <td>[gran, verso, realidaden, nochedepoemas, refle...</td>\n",
       "      <td>NaN</td>\n",
       "    </tr>\n",
       "  </tbody>\n",
       "</table>\n",
       "</div>"
      ],
      "text/plain": [
       "     user_id place_name   place_country   latitude  longitude  \\\n",
       "0   78502559  guayaquil         ecuador  -2.196160 -79.886208   \n",
       "1  783545731  guayaquil         ecuador  -2.196160 -79.886208   \n",
       "2  125808113  sao paulo          brasil -23.547501 -46.636108   \n",
       "3  159339845   santiago           chile -33.456940 -70.648270   \n",
       "4  189288089  kissimmee  estados unidos  28.304680 -81.416672   \n",
       "\n",
       "                                            hashtags mentions_country  \n",
       "0                                   [yoescuchodeuna]              NaN  \n",
       "1          [saboresdemitierra, parrilladademariscos]              NaN  \n",
       "2                 [jornaldacultura, jornaldacultura]              NaN  \n",
       "3  [musicachilena, chv, alvarolopez, yosoy, losbu...              NaN  \n",
       "4  [gran, verso, realidaden, nochedepoemas, refle...              NaN  "
      ]
     },
     "execution_count": 131,
     "metadata": {},
     "output_type": "execute_result"
    }
   ],
   "source": [
    "users_with_hashtags.head()"
   ]
  },
  {
   "cell_type": "code",
   "execution_count": 135,
   "metadata": {},
   "outputs": [
    {
     "data": {
      "text/plain": [
       "23147"
      ]
     },
     "execution_count": 135,
     "metadata": {},
     "output_type": "execute_result"
    }
   ],
   "source": [
    "users_with_hashtags.dropna().shape[0]"
   ]
  },
  {
   "cell_type": "code",
   "execution_count": 136,
   "metadata": {},
   "outputs": [
    {
     "data": {
      "text/plain": [
       "(94843, 7)"
      ]
     },
     "execution_count": 136,
     "metadata": {},
     "output_type": "execute_result"
    }
   ],
   "source": [
    "users_with_hashtags.shape"
   ]
  },
  {
   "cell_type": "code",
   "execution_count": 137,
   "metadata": {},
   "outputs": [],
   "source": [
    "users_with_hashtags.to_pickle(dosTPath + \"users_with_hashtags.pkl\")"
   ]
  },
  {
   "cell_type": "markdown",
   "metadata": {},
   "source": [
    "# Predicciones en predicciones_hashtags_y_menciones"
   ]
  },
  {
   "cell_type": "code",
   "execution_count": 31,
   "metadata": {},
   "outputs": [],
   "source": [
    "vectorizer = CountVectorizer(\n",
    "    strip_accents=\"ascii\",\n",
    "    lowercase=True,\n",
    ")\n",
    "\n",
    "vector_of_words = vectorizer.fit_transform(users_with_hashtags[\"hashtags\"].apply(lambda x: ' '.join(x)))"
   ]
  },
  {
   "cell_type": "markdown",
   "metadata": {},
   "source": [
    "30988 hashtags de 42861 hashtags ¿Qué pasó? Al sacar acentos y pasar a minúsculas, en realidad habia 30988 hashtags distintos"
   ]
  },
  {
   "cell_type": "code",
   "execution_count": 32,
   "metadata": {},
   "outputs": [
    {
     "data": {
      "text/plain": [
       "<94843x503619 sparse matrix of type '<class 'numpy.int64'>'\n",
       "\twith 1563345 stored elements in Compressed Sparse Row format>"
      ]
     },
     "execution_count": 32,
     "metadata": {},
     "output_type": "execute_result"
    }
   ],
   "source": [
    "vector_of_words"
   ]
  },
  {
   "cell_type": "markdown",
   "metadata": {},
   "source": [
    "Intentemos hacer una predicción básica"
   ]
  },
  {
   "cell_type": "code",
   "execution_count": 26,
   "metadata": {},
   "outputs": [],
   "source": [
    "users_with_hashtags[\"unified_place\"] = users_with_hashtags[\"place_name\"] + ',' + users_with_hashtags[\"place_country\"]"
   ]
  },
  {
   "cell_type": "code",
   "execution_count": 27,
   "metadata": {},
   "outputs": [],
   "source": [
    "users_complete_location = users_with_hashtags.loc[:, [\"unified_place\", \"latitude\", \"longitude\"]].values"
   ]
  },
  {
   "cell_type": "code",
   "execution_count": 28,
   "metadata": {},
   "outputs": [],
   "source": [
    "X_train, X_test, y_train, y_test = train_test_split(vector_of_words, users_complete_location, test_size=0.30)"
   ]
  },
  {
   "cell_type": "code",
   "execution_count": 29,
   "metadata": {},
   "outputs": [],
   "source": [
    "geonames = pd.read_pickle(dosTPath + \"geonames_parsed.pkl\")\n",
    "\n",
    "from math import radians, sin, cos, atan2, sqrt\n",
    "\n",
    "def haversine_distance(lat1, lon1, lat2, lon2):\n",
    "    radius = 6371 # km\n",
    "\n",
    "    dlat = radians(lat2-lat1)\n",
    "    dlon = radians(lon2-lon1)\n",
    "    a = sin(dlat/2) * sin(dlat/2) + cos(radians(lat1)) \\\n",
    "        * cos(radians(lat2)) * sin(dlon/2) * sin(dlon/2)\n",
    "    c = 2 * atan2(sqrt(a), sqrt(1-a))\n",
    "    d = radius * c\n",
    "\n",
    "    return d\n",
    "\n",
    "def determine_distance(row):\n",
    "    predicted_lat = row['latitude']\n",
    "    predicted_lon = row['longitude']\n",
    "    real_lat = row['real_latitudes']\n",
    "    real_long = row['real_longitudes']\n",
    "    \n",
    "    return haversine_distance(predicted_lat, predicted_lon, real_lat, real_long)\n",
    "\n",
    "def get_difference_distance(predicted_place, real_latitudes, real_longitudes):\n",
    "    df_prediction = pd.DataFrame({\n",
    "        'predicted_place': predicted_place,\n",
    "        'real_latitudes': real_latitudes,\n",
    "        'real_longitudes': real_longitudes\n",
    "    }, dtype=float)\n",
    "        \n",
    "    df_prediction[['predicted_cities','predicted_countries']] = df_prediction.predicted_place.str.split(',', expand=True) \n",
    "\n",
    "    df_prediction = pd.merge(\n",
    "        left=df_prediction,\n",
    "        right=geonames,\n",
    "        how='left',\n",
    "        left_on=['predicted_cities', 'predicted_countries'],\n",
    "        right_on=['alternatenames', 'country'],\n",
    "        validate='m:1'\n",
    "    )\n",
    "        \n",
    "    #Temporalmente borramos los NaN (Lugares predecidos que no son validos)\n",
    "    #df_prediction.dropna(subset=['latitude', 'longitude'], inplace=True)\n",
    "    print(\"Total NaN: \", df_prediction.shape[0]-df_prediction.dropna(subset=['latitude', 'longitude']).shape[0])\n",
    "\n",
    "    return df_prediction.apply(determine_distance, axis=1)"
   ]
  },
  {
   "cell_type": "markdown",
   "metadata": {},
   "source": [
    "# DecisionTree"
   ]
  },
  {
   "cell_type": "code",
   "execution_count": 30,
   "metadata": {},
   "outputs": [
    {
     "data": {
      "text/plain": [
       "{'ccp_alpha': 0.0,\n",
       " 'class_weight': None,\n",
       " 'criterion': 'gini',\n",
       " 'max_depth': None,\n",
       " 'max_features': None,\n",
       " 'max_leaf_nodes': None,\n",
       " 'min_impurity_decrease': 0.0,\n",
       " 'min_impurity_split': None,\n",
       " 'min_samples_leaf': 1,\n",
       " 'min_samples_split': 2,\n",
       " 'min_weight_fraction_leaf': 0.0,\n",
       " 'presort': 'deprecated',\n",
       " 'random_state': None,\n",
       " 'splitter': 'best'}"
      ]
     },
     "execution_count": 30,
     "metadata": {},
     "output_type": "execute_result"
    }
   ],
   "source": [
    "decisiontree = DecisionTreeClassifier()\n",
    "decisiontree.get_params()"
   ]
  },
  {
   "cell_type": "code",
   "execution_count": 36,
   "metadata": {},
   "outputs": [
    {
     "name": "stderr",
     "output_type": "stream",
     "text": [
      "/var/home/ffunes/venv/lib/python3.5/site-packages/sklearn/model_selection/_split.py:667: UserWarning: The least populated class in y has only 1 members, which is less than n_splits=3.\n",
      "  % (min_groups, self.n_splits)), UserWarning)\n"
     ]
    },
    {
     "name": "stdout",
     "output_type": "stream",
     "text": [
      "{'max_features': 'auto', 'max_depth': 5, 'class_weight': 'balanced'} 0.13303445850914206\n"
     ]
    }
   ],
   "source": [
    "param_grid= {'max_features': [\"auto\"], 'max_depth': [3, 5, 8, 12, 15, 20, 40], 'class_weight': ['balanced']}\n",
    "grid_drop = GridSearchCV(decisiontree, param_grid, cv=3, scoring='accuracy')\n",
    "grid_drop.fit(X_train, y_train[:, 0])\n",
    "print(grid_drop.best_params_, grid_drop.best_score_)"
   ]
  },
  {
   "cell_type": "code",
   "execution_count": 37,
   "metadata": {},
   "outputs": [],
   "source": [
    "y_predicted = grid_drop.predict(X_test)"
   ]
  },
  {
   "cell_type": "code",
   "execution_count": 38,
   "metadata": {
    "scrolled": false
   },
   "outputs": [
    {
     "data": {
      "text/plain": [
       "0.180285503322668"
      ]
     },
     "execution_count": 38,
     "metadata": {},
     "output_type": "execute_result"
    }
   ],
   "source": [
    "accuracy_score(y_test[:, 0], y_predicted)"
   ]
  },
  {
   "cell_type": "code",
   "execution_count": 39,
   "metadata": {},
   "outputs": [
    {
     "name": "stdout",
     "output_type": "stream",
     "text": [
      "Total NaN:  0\n"
     ]
    }
   ],
   "source": [
    "distances_predicted = get_difference_distance(\n",
    "    y_predicted,\n",
    "    y_test[:, 1],\n",
    "    y_test[:, 2]\n",
    ")"
   ]
  },
  {
   "cell_type": "code",
   "execution_count": 40,
   "metadata": {},
   "outputs": [
    {
     "data": {
      "image/png": "[encoded data removed]",
      "text/plain": [
       "<Figure size 1440x720 with 1 Axes>"
      ]
     },
     "metadata": {
      "needs_background": "light"
     },
     "output_type": "display_data"
    }
   ],
   "source": [
    "ecdf = ECDF(distances_predicted)\n",
    "\n",
    "plt.figure(figsize=(20,10)) \n",
    "plt.grid(b=True, which='major')\n",
    "plt.xlabel(\"Kilometros\", fontsize=16)\n",
    "plt.ylabel(\"Cantidad de usuarios\", fontsize=16)\n",
    "plt.title(\"Diferencia distancias real vs predecida\", fontsize=18)\n",
    "plt.plot(ecdf.x,ecdf.y)\n",
    "plt.yticks(np.arange(0,1.1,0.1))\n",
    "plt.xticks(np.arange(0,20000,1000))\n",
    "plt.hlines(accuracy_score(y_test[:, 0], y_predicted), -200, 1000, colors='r', linestyles='dashed')\n",
    "plt.legend([\"Frec. acumulada\", \"Ubicación exacta\"])\n",
    "plt.show()"
   ]
  },
  {
   "cell_type": "markdown",
   "metadata": {},
   "source": [
    "# RandomForest"
   ]
  },
  {
   "cell_type": "code",
   "execution_count": 41,
   "metadata": {},
   "outputs": [
    {
     "data": {
      "text/plain": [
       "{'bootstrap': True,\n",
       " 'ccp_alpha': 0.0,\n",
       " 'class_weight': None,\n",
       " 'criterion': 'gini',\n",
       " 'max_depth': None,\n",
       " 'max_features': 'auto',\n",
       " 'max_leaf_nodes': None,\n",
       " 'max_samples': None,\n",
       " 'min_impurity_decrease': 0.0,\n",
       " 'min_impurity_split': None,\n",
       " 'min_samples_leaf': 1,\n",
       " 'min_samples_split': 2,\n",
       " 'min_weight_fraction_leaf': 0.0,\n",
       " 'n_estimators': 100,\n",
       " 'n_jobs': None,\n",
       " 'oob_score': False,\n",
       " 'random_state': None,\n",
       " 'verbose': 0,\n",
       " 'warm_start': False}"
      ]
     },
     "execution_count": 41,
     "metadata": {},
     "output_type": "execute_result"
    }
   ],
   "source": [
    "randomforest = RandomForestClassifier()\n",
    "randomforest.get_params()"
   ]
  },
  {
   "cell_type": "code",
   "execution_count": 42,
   "metadata": {},
   "outputs": [
    {
     "name": "stderr",
     "output_type": "stream",
     "text": [
      "/var/home/ffunes/venv/lib/python3.5/site-packages/sklearn/model_selection/_split.py:667: UserWarning: The least populated class in y has only 1 members, which is less than n_splits=3.\n",
      "  % (min_groups, self.n_splits)), UserWarning)\n"
     ]
    },
    {
     "name": "stdout",
     "output_type": "stream",
     "text": [
      "{'max_features': 'auto', 'max_depth': 15, 'class_weight': 'balanced'} 0.006135724331926863\n"
     ]
    }
   ],
   "source": [
    "param_grid= {'max_features': [\"auto\"], 'max_depth': [3, 5, 8, 12, 15], 'class_weight': ['balanced']}\n",
    "grid_drop = GridSearchCV(randomforest, param_grid, cv=3, scoring='accuracy')\n",
    "grid_drop.fit(X_train, y_train[:, 0])\n",
    "print(grid_drop.best_params_, grid_drop.best_score_)"
   ]
  },
  {
   "cell_type": "code",
   "execution_count": 43,
   "metadata": {},
   "outputs": [],
   "source": [
    "y_predicted = grid_drop.predict(X_test)"
   ]
  },
  {
   "cell_type": "code",
   "execution_count": 44,
   "metadata": {},
   "outputs": [
    {
     "data": {
      "text/plain": [
       "0.004963491672819755"
      ]
     },
     "execution_count": 44,
     "metadata": {},
     "output_type": "execute_result"
    }
   ],
   "source": [
    "accuracy_score(y_test[:, 0], y_predicted)"
   ]
  },
  {
   "cell_type": "code",
   "execution_count": 45,
   "metadata": {},
   "outputs": [
    {
     "name": "stdout",
     "output_type": "stream",
     "text": [
      "Total NaN:  0\n"
     ]
    }
   ],
   "source": [
    "distances_predicted = get_difference_distance(\n",
    "    y_predicted,\n",
    "    y_test[:, 1],\n",
    "    y_test[:, 2]\n",
    ")"
   ]
  },
  {
   "cell_type": "code",
   "execution_count": 46,
   "metadata": {},
   "outputs": [
    {
     "data": {
      "image/png": "[encoded data removed]",
      "text/plain": [
       "<Figure size 1440x720 with 1 Axes>"
      ]
     },
     "metadata": {
      "needs_background": "light"
     },
     "output_type": "display_data"
    }
   ],
   "source": [
    "ecdf = ECDF(distances_predicted)\n",
    "\n",
    "plt.figure(figsize=(20,10)) \n",
    "plt.grid(b=True, which='major')\n",
    "plt.xlabel(\"Kilometros\", fontsize=16)\n",
    "plt.ylabel(\"Cantidad de usuarios\", fontsize=16)\n",
    "plt.title(\"Diferencia distancias real vs predecida\", fontsize=18)\n",
    "plt.plot(ecdf.x,ecdf.y)\n",
    "plt.yticks(np.arange(0,1.1,0.1))\n",
    "plt.xticks(np.arange(0,20000,1000))\n",
    "plt.hlines(accuracy_score(y_test[:, 0], y_predicted), -200, 1000, colors='r', linestyles='dashed')\n",
    "plt.legend([\"Frec. acumulada\", \"Ubicación exacta\"])\n",
    "plt.show()"
   ]
  },
  {
   "cell_type": "code",
   "execution_count": null,
   "metadata": {},
   "outputs": [],
   "source": []
  }
 ],
 "metadata": {
  "kernelspec": {
   "display_name": "ffunes-3.8",
   "language": "python",
   "name": "ffunes-3.8"
  },
  "language_info": {
   "codemirror_mode": {
    "name": "ipython",
    "version": 3
   },
   "file_extension": ".py",
   "mimetype": "text/x-python",
   "name": "python",
   "nbconvert_exporter": "python",
   "pygments_lexer": "ipython3",
   "version": "3.8.7"
  }
 },
 "nbformat": 4,
 "nbformat_minor": 2
}
