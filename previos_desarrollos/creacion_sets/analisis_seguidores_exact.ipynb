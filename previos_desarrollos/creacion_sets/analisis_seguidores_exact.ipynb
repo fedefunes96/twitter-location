{
 "cells": [
  {
   "cell_type": "code",
   "execution_count": 1,
   "id": "established-vacuum",
   "metadata": {},
   "outputs": [],
   "source": [
    "import pandas as pd\n",
    "import psycopg2\n",
    "import pandas.io.sql as psql\n",
    "import geopandas as gpd\n",
    "import numpy as np\n",
    "import matplotlib.pyplot as plt\n",
    "from shapely.geometry import Point\n",
    "from sklearn.feature_extraction.text import CountVectorizer\n",
    "from sklearn.tree import DecisionTreeClassifier\n",
    "from sklearn.ensemble import RandomForestClassifier\n",
    "from sklearn.model_selection import GridSearchCV, cross_val_score, StratifiedKFold, cross_val_predict, cross_validate\n",
    "from sklearn.model_selection import train_test_split\n",
    "from statsmodels.distributions.empirical_distribution import ECDF\n",
    "from sklearn.metrics import classification_report, make_scorer\n",
    "from sklearn.metrics import accuracy_score\n",
    "from sklearn.multioutput import MultiOutputClassifier\n",
    "from sklearn.metrics import balanced_accuracy_score, accuracy_score, roc_auc_score\n",
    "from sklearn.metrics import plot_confusion_matrix, confusion_matrix\n",
    "from collections import OrderedDict\n",
    "from sklearn.manifold import TSNE\n",
    "from sklearn.svm import SVC\n",
    "from sklearn.preprocessing import scale\n",
    "from sklearn.decomposition import TruncatedSVD\n",
    "import matplotlib.cm as cm\n",
    "import time\n",
    "import scipy.sparse\n",
    "import seaborn as sns\n",
    "import lightgbm as lgb\n",
    "import networkx as nx\n",
    "from collections import Counter\n",
    "from matplotlib import ticker\n",
    "from scipy.sparse import hstack \n",
    "\n",
    "unTPath = \"../../../../../unT/ffunes/\"\n",
    "figuresPath = unTPath + \"figures/\"\n",
    "\n",
    "%matplotlib inline\n",
    "\n",
    "sns.set_theme()"
   ]
  },
  {
   "cell_type": "code",
   "execution_count": 2,
   "id": "capital-variable",
   "metadata": {},
   "outputs": [],
   "source": [
    "def degree_histogram_directed(G, in_degree=False, out_degree=False):\n",
    "    \"\"\"Return a list of the frequency of each degree value.\n",
    "\n",
    "    Parameters\n",
    "    ----------\n",
    "    G : Networkx graph\n",
    "       A graph\n",
    "    in_degree : bool\n",
    "    out_degree : bool\n",
    "\n",
    "    Returns\n",
    "    -------\n",
    "    hist : list\n",
    "       A list of frequencies of degrees.\n",
    "       The degree values are the index in the list.\n",
    "\n",
    "    Notes\n",
    "    -----\n",
    "    Note: the bins are width one, hence len(list) can be large\n",
    "    (Order(number_of_edges))\n",
    "    \"\"\"\n",
    "    nodes = G.nodes()\n",
    "    if in_degree:\n",
    "        in_degree = dict(G.in_degree())\n",
    "        degseq=[in_degree.get(k,0) for k in nodes]\n",
    "    elif out_degree:\n",
    "        out_degree = dict(G.out_degree())\n",
    "        degseq=[out_degree.get(k,0) for k in nodes]\n",
    "    else:\n",
    "        degseq=[v for k, v in G.degree()]\n",
    "    dmax=max(degseq)+1\n",
    "    freq= [ 0 for d in range(dmax) ]\n",
    "    for d in degseq:\n",
    "        freq[d] += 1\n",
    "    return freq"
   ]
  },
  {
   "cell_type": "code",
   "execution_count": 2,
   "id": "dominican-driving",
   "metadata": {},
   "outputs": [],
   "source": [
    "try:\n",
    "    conn = psycopg2.connect(user = \"ffunes\",\n",
    "                            password = \"location8\",\n",
    "                            host = \"127.0.0.1\",\n",
    "                            port = \"5432\",\n",
    "                            database = \"elecciones_twitter\")\n",
    "except:\n",
    "    print(\"No se pudo conectar a la base de datos\")"
   ]
  },
  {
   "cell_type": "code",
   "execution_count": 4,
   "id": "piano-simon",
   "metadata": {},
   "outputs": [],
   "source": [
    "follows = pd.read_sql_query(\n",
    "    'SELECT *\\\n",
    "    FROM followers\\\n",
    "    WHERE follower_id IN (SELECT id FROM users_location_exact)\\\n",
    "    OR\\\n",
    "    followee_id in (SELECT id FROM users_location_exact)'\n",
    "    ,con=conn\n",
    ")"
   ]
  },
  {
   "cell_type": "code",
   "execution_count": 5,
   "id": "pregnant-distributor",
   "metadata": {},
   "outputs": [
    {
     "data": {
      "text/html": [
       "<div>\n",
       "<style scoped>\n",
       "    .dataframe tbody tr th:only-of-type {\n",
       "        vertical-align: middle;\n",
       "    }\n",
       "\n",
       "    .dataframe tbody tr th {\n",
       "        vertical-align: top;\n",
       "    }\n",
       "\n",
       "    .dataframe thead th {\n",
       "        text-align: right;\n",
       "    }\n",
       "</style>\n",
       "<table border=\"1\" class=\"dataframe\">\n",
       "  <thead>\n",
       "    <tr style=\"text-align: right;\">\n",
       "      <th></th>\n",
       "      <th>follower_id</th>\n",
       "      <th>followee_id</th>\n",
       "    </tr>\n",
       "  </thead>\n",
       "  <tbody>\n",
       "    <tr>\n",
       "      <th>0</th>\n",
       "      <td>442283723</td>\n",
       "      <td>267110606</td>\n",
       "    </tr>\n",
       "    <tr>\n",
       "      <th>1</th>\n",
       "      <td>442283723</td>\n",
       "      <td>2200550785</td>\n",
       "    </tr>\n",
       "    <tr>\n",
       "      <th>2</th>\n",
       "      <td>442283723</td>\n",
       "      <td>434471575</td>\n",
       "    </tr>\n",
       "    <tr>\n",
       "      <th>3</th>\n",
       "      <td>442283723</td>\n",
       "      <td>17716224</td>\n",
       "    </tr>\n",
       "    <tr>\n",
       "      <th>4</th>\n",
       "      <td>442283723</td>\n",
       "      <td>18036284</td>\n",
       "    </tr>\n",
       "    <tr>\n",
       "      <th>...</th>\n",
       "      <td>...</td>\n",
       "      <td>...</td>\n",
       "    </tr>\n",
       "    <tr>\n",
       "      <th>5903435</th>\n",
       "      <td>68868337</td>\n",
       "      <td>62176808</td>\n",
       "    </tr>\n",
       "    <tr>\n",
       "      <th>5903436</th>\n",
       "      <td>68868337</td>\n",
       "      <td>136773304</td>\n",
       "    </tr>\n",
       "    <tr>\n",
       "      <th>5903437</th>\n",
       "      <td>68868337</td>\n",
       "      <td>25119832</td>\n",
       "    </tr>\n",
       "    <tr>\n",
       "      <th>5903438</th>\n",
       "      <td>442283723</td>\n",
       "      <td>20723512</td>\n",
       "    </tr>\n",
       "    <tr>\n",
       "      <th>5903439</th>\n",
       "      <td>442283723</td>\n",
       "      <td>32549094</td>\n",
       "    </tr>\n",
       "  </tbody>\n",
       "</table>\n",
       "<p>5903440 rows × 2 columns</p>\n",
       "</div>"
      ],
      "text/plain": [
       "         follower_id  followee_id\n",
       "0          442283723    267110606\n",
       "1          442283723   2200550785\n",
       "2          442283723    434471575\n",
       "3          442283723     17716224\n",
       "4          442283723     18036284\n",
       "...              ...          ...\n",
       "5903435     68868337     62176808\n",
       "5903436     68868337    136773304\n",
       "5903437     68868337     25119832\n",
       "5903438    442283723     20723512\n",
       "5903439    442283723     32549094\n",
       "\n",
       "[5903440 rows x 2 columns]"
      ]
     },
     "execution_count": 5,
     "metadata": {},
     "output_type": "execute_result"
    }
   ],
   "source": [
    "follows"
   ]
  },
  {
   "cell_type": "code",
   "execution_count": 6,
   "id": "executed-bryan",
   "metadata": {},
   "outputs": [],
   "source": [
    "follows.to_csv(unTPath + 'exact/follows_exact.csv')"
   ]
  },
  {
   "cell_type": "markdown",
   "id": "exciting-insert",
   "metadata": {},
   "source": [
    "# Análisis básico"
   ]
  },
  {
   "cell_type": "code",
   "execution_count": 6,
   "id": "biblical-person",
   "metadata": {},
   "outputs": [],
   "source": [
    "usecols = [\n",
    "    \"follower_id\",\n",
    "    \"followee_id\"\n",
    "]\n",
    "\n",
    "follows = pd.read_csv(unTPath + 'exact/follows_exact.csv', usecols=usecols)"
   ]
  },
  {
   "cell_type": "code",
   "execution_count": 7,
   "id": "working-provision",
   "metadata": {},
   "outputs": [
    {
     "data": {
      "image/png": "[encoded data removed]",
      "text/plain": [
       "<Figure size 1440x720 with 1 Axes>"
      ]
     },
     "metadata": {
      "needs_background": "light"
     },
     "output_type": "display_data"
    }
   ],
   "source": [
    "unique_followers = follows.groupby('followee_id').count()\n",
    "\n",
    "ecdf = ECDF(unique_followers[\"follower_id\"])\n",
    "\n",
    "plt.figure(figsize=(20,10)) \n",
    "plt.grid(b=True, which='major')\n",
    "plt.xlabel(\"Cantidad de seguidores\", fontsize=16)\n",
    "plt.ylabel(\"% de usuarios\", fontsize=16)\n",
    "plt.title(\"Frecuencia acumulada de usuarios seguidores\", fontsize=18)\n",
    "plt.plot(ecdf.x,ecdf.y)\n",
    "plt.yticks(np.arange(0,1.1,0.05))\n",
    "plt.xticks(np.arange(0,70,1))\n",
    "plt.xlim(0, 70)\n",
    "#plt.hlines(accuracy_score(y_test[:, 0], y_predicted_city), -200, 1000, colors='r', linestyles='dashed')\n",
    "#plt.legend([\"Frec. acumulada\", \"Ubicación exacta\"])\n",
    "plt.show()"
   ]
  },
  {
   "cell_type": "code",
   "execution_count": 8,
   "id": "charitable-employee",
   "metadata": {},
   "outputs": [
    {
     "data": {
      "image/png": "[encoded data removed]",
      "text/plain": [
       "<Figure size 1440x720 with 1 Axes>"
      ]
     },
     "metadata": {
      "needs_background": "light"
     },
     "output_type": "display_data"
    }
   ],
   "source": [
    "unique_followers = follows.groupby('follower_id').count()\n",
    "\n",
    "ecdf = ECDF(unique_followers[\"followee_id\"])\n",
    "\n",
    "plt.figure(figsize=(20,10)) \n",
    "plt.grid(b=True, which='major')\n",
    "plt.xlabel(\"Cantidad de seguidos\", fontsize=16)\n",
    "plt.ylabel(\"% de usuarios\", fontsize=16)\n",
    "plt.title(\"Frecuencia acumulada de usuarios seguidos\", fontsize=18)\n",
    "plt.plot(ecdf.x,ecdf.y)\n",
    "plt.yticks(np.arange(0,1.1,0.05))\n",
    "plt.xticks(np.arange(0,70,1))\n",
    "plt.xlim(0, 70)\n",
    "#plt.hlines(accuracy_score(y_test[:, 0], y_predicted_city), -200, 1000, colors='r', linestyles='dashed')\n",
    "#plt.legend([\"Frec. acumulada\", \"Ubicación exacta\"])\n",
    "plt.show()"
   ]
  },
  {
   "cell_type": "code",
   "execution_count": 3,
   "id": "divine-killing",
   "metadata": {},
   "outputs": [],
   "source": [
    "def filter_users_with_follows(min_followers=None, max_followers=None):\n",
    "    # Cargamos usuarios con seguidos\n",
    "    usecols = [\n",
    "        \"follower_id\",\n",
    "        \"followee_id\"\n",
    "    ]\n",
    "    \n",
    "    follows = pd.read_csv(unTPath + 'exact/follows_exact.csv', usecols=usecols)\n",
    "    users = pd.read_pickle(unTPath + 'exact/users_exact_coords.pkl')\n",
    "    \n",
    "    followers_count = follows.groupby('followee_id').count().reset_index()\n",
    "    \n",
    "    min_followers = 1 if min_followers == None else min_followers\n",
    "        \n",
    "    if max_followers != None:\n",
    "        lim_followers = followers_count.loc[\n",
    "            ((followers_count[\"follower_id\"] >= min_followers) & (followers_count[\"follower_id\"] <= max_followers)),\n",
    "            [\"followee_id\"]\n",
    "        ]\n",
    "    else:\n",
    "        lim_followers = followers_count.loc[\n",
    "            (followers_count[\"follower_id\"] >= min_followers),\n",
    "            [\"followee_id\"]\n",
    "        ]\n",
    "    \n",
    "    follows_a = pd.merge(\n",
    "        left=follows,\n",
    "        right=lim_followers,\n",
    "        how='inner',\n",
    "        left_on='followee_id',\n",
    "        right_on='followee_id',\n",
    "        validate='m:1'\n",
    "    )\n",
    "    \n",
    "    follows_list = follows_a.groupby([\"follower_id\"])[\"followee_id\"].apply(list).reset_index(name=\"users_followed\")\n",
    "    \n",
    "    follows_b_list = follows.groupby([\"followee_id\"])[\"follower_id\"].apply(list).reset_index(name=\"users_followers\")\n",
    "\n",
    "    users_with_followees = pd.merge(\n",
    "        left=users,\n",
    "        right=follows_list,\n",
    "        how='left',\n",
    "        left_on=[\"id\"],\n",
    "        right_on=[\"follower_id\"],\n",
    "        validate=\"1:1\" \n",
    "    )\n",
    "    \n",
    "    del users_with_followees[\"follower_id\"]\n",
    "    \n",
    "    users_with_followees = pd.merge(\n",
    "        left=users_with_followees,\n",
    "        right=follows_b_list,\n",
    "        how='left',\n",
    "        left_on=[\"id\"],\n",
    "        right_on=[\"followee_id\"],\n",
    "        validate=\"1:1\" \n",
    "    )\n",
    "    \n",
    "    del users_with_followees[\"followee_id\"]\n",
    "        \n",
    "    print(\n",
    "        \"Totalidad de usuarios\", users.shape[0],\n",
    "        \"\\nUsuarios totales que siguen\", users_with_followees.dropna(subset=[\"users_followed\"]).shape[0],\n",
    "    )\n",
    "    \n",
    "    return users_with_followees"
   ]
  },
  {
   "cell_type": "code",
   "execution_count": 4,
   "id": "balanced-still",
   "metadata": {},
   "outputs": [
    {
     "name": "stdout",
     "output_type": "stream",
     "text": [
      "Totalidad de usuarios 37146 \n",
      "Usuarios totales que siguen 20262\n"
     ]
    },
    {
     "data": {
      "text/plain": [
       "(37146, 23)"
      ]
     },
     "execution_count": 4,
     "metadata": {},
     "output_type": "execute_result"
    }
   ],
   "source": [
    "users_with_follows = filter_users_with_follows(None, None)\n",
    "users_with_follows.shape"
   ]
  },
  {
   "cell_type": "code",
   "execution_count": 5,
   "id": "chinese-queens",
   "metadata": {},
   "outputs": [],
   "source": [
    "users_with_follows.loc[users_with_follows['users_followers'].isnull(), ['users_followers']] = users_with_follows.loc[users_with_follows['users_followers'].isnull(),'users_followers'].apply(lambda x: [])\n",
    "users_with_follows.loc[users_with_follows['users_followed'].isnull(), ['users_followed']] = users_with_follows.loc[users_with_follows['users_followed'].isnull(),'users_followed'].apply(lambda x: [])"
   ]
  },
  {
   "cell_type": "code",
   "execution_count": 6,
   "id": "removable-corporation",
   "metadata": {},
   "outputs": [],
   "source": [
    "graph_follows = nx.DiGraph()"
   ]
  },
  {
   "cell_type": "code",
   "execution_count": 7,
   "id": "introductory-bookmark",
   "metadata": {},
   "outputs": [],
   "source": [
    "graph_follows.add_nodes_from(users_with_follows[\"id\"].to_numpy())"
   ]
  },
  {
   "cell_type": "code",
   "execution_count": 8,
   "id": "prostate-cabinet",
   "metadata": {},
   "outputs": [],
   "source": [
    "for user_id, users_followed in zip(users_with_follows[\"id\"].to_numpy(), users_with_follows[\"users_followed\"].to_numpy()):\n",
    "    graph_follows.add_edges_from(list(map(lambda x: (user_id, x), users_followed)))\n",
    "    \n",
    "for user_id, users_follower in zip(users_with_follows[\"id\"].to_numpy(), users_with_follows[\"users_followers\"].to_numpy()):\n",
    "    graph_follows.add_edges_from(list(map(lambda x: (x, user_id), users_follower)))"
   ]
  },
  {
   "cell_type": "code",
   "execution_count": 9,
   "id": "material-compiler",
   "metadata": {},
   "outputs": [
    {
     "name": "stdout",
     "output_type": "stream",
     "text": [
      "Nodos:  686694 Aristas:  5903440\n"
     ]
    }
   ],
   "source": [
    "print(\"Nodos: \", len(graph_follows.nodes), \"Aristas: \", len(graph_follows.edges))"
   ]
  },
  {
   "cell_type": "code",
   "execution_count": 33,
   "id": "expected-plain",
   "metadata": {},
   "outputs": [
    {
     "data": {
      "image/png": "[encoded data removed]",
      "text/plain": [
       "<Figure size 1440x720 with 1 Axes>"
      ]
     },
     "metadata": {},
     "output_type": "display_data"
    }
   ],
   "source": [
    "in_degree_freq = degree_histogram_directed(graph_follows, in_degree=True)\n",
    "out_degree_freq = degree_histogram_directed(graph_follows, out_degree=True)\n",
    "\n",
    "degrees_in = range(len(in_degree_freq))\n",
    "degrees_out = range(len(out_degree_freq))\n",
    "\n",
    "f, ax = plt.subplots(figsize=(20, 10))\n",
    "\n",
    "plt.loglog(degrees_in, in_degree_freq, 'go-', label='in-degree') \n",
    "plt.loglog(degrees_out, out_degree_freq, '-', label='out-degree') \n",
    "\n",
    "ax.set_title(\"Distribución de grados\", fontweight='bold', fontsize=22, pad=20)\n",
    "ax.set_xlabel('Grados', fontsize=22, labelpad=20)\n",
    "ax.set_ylabel('Frecuencia', fontsize=22, labelpad=20)\n",
    "ax.xaxis.set_tick_params(labelsize=16)\n",
    "ax.yaxis.set_tick_params(labelsize=16)\n",
    "ax.xaxis.set_major_formatter(ticker.FormatStrFormatter(\"%d\"))\n",
    "ax.yaxis.set_major_formatter(ticker.FormatStrFormatter(\"%d\"))\n",
    "\n",
    "#f.savefig(figuresPath + 'follows/distribucion_grados_entrantes.pdf', bbox_inches = 'tight')\n",
    "\n",
    "plt.show()"
   ]
  },
  {
   "cell_type": "code",
   "execution_count": 10,
   "id": "controlling-origin",
   "metadata": {},
   "outputs": [
    {
     "data": {
      "text/plain": [
       "686694"
      ]
     },
     "execution_count": 10,
     "metadata": {},
     "output_type": "execute_result"
    }
   ],
   "source": [
    "users_ids = users_with_follows[\"id\"].to_numpy()\n",
    "\n",
    "set_users = set(users_ids)\n",
    "\n",
    "for x in users_with_follows[\"users_followed\"].to_numpy():\n",
    "    set_users |= set(x)\n",
    "    \n",
    "for x in users_with_follows[\"users_followers\"].to_numpy():\n",
    "    set_users |= set(x)\n",
    "    \n",
    "follows_users = list(set_users.difference(set(users_ids)))\n",
    "\n",
    "total_users_follows = list(users_ids) + follows_users\n",
    "len(total_users_follows)"
   ]
  },
  {
   "cell_type": "code",
   "execution_count": 11,
   "id": "handled-binary",
   "metadata": {},
   "outputs": [
    {
     "data": {
      "text/plain": [
       "<686694x686694 sparse matrix of type '<class 'numpy.uint8'>'\n",
       "\twith 5903440 stored elements in Compressed Sparse Row format>"
      ]
     },
     "execution_count": 11,
     "metadata": {},
     "output_type": "execute_result"
    }
   ],
   "source": [
    "vector_of_follows = nx.adjacency_matrix(graph_follows, nodelist=total_users_follows).astype(np.uint8)\n",
    "vector_of_follows"
   ]
  },
  {
   "cell_type": "code",
   "execution_count": 12,
   "id": "inclusive-agenda",
   "metadata": {},
   "outputs": [
    {
     "data": {
      "text/plain": [
       "<37146x37146 sparse matrix of type '<class 'numpy.uint8'>'\n",
       "\twith 164376 stored elements in Compressed Sparse Row format>"
      ]
     },
     "execution_count": 12,
     "metadata": {},
     "output_type": "execute_result"
    }
   ],
   "source": [
    "vector_of_follows_compl = vector_of_follows[0:len(users_ids), 0:len(users_ids)]\n",
    "vector_of_follows_compl"
   ]
  },
  {
   "cell_type": "code",
   "execution_count": null,
   "id": "welsh-culture",
   "metadata": {},
   "outputs": [],
   "source": []
  },
  {
   "cell_type": "code",
   "execution_count": 9,
   "id": "likely-kansas",
   "metadata": {},
   "outputs": [
    {
     "name": "stdout",
     "output_type": "stream",
     "text": [
      "Totalidad de usuarios 37146 \n",
      "Usuarios totales que siguen 20063\n"
     ]
    },
    {
     "data": {
      "text/plain": [
       "(37146, 20)"
      ]
     },
     "execution_count": 9,
     "metadata": {},
     "output_type": "execute_result"
    }
   ],
   "source": [
    "users_with_follows = filter_users_with_follows(None, 20)\n",
    "users_with_follows.shape"
   ]
  },
  {
   "cell_type": "code",
   "execution_count": 17,
   "id": "antique-compromise",
   "metadata": {},
   "outputs": [],
   "source": [
    "users_with_follows.loc[users_with_follows['users_followers'].isnull(), ['users_followers']] = users_with_follows.loc[users_with_follows['users_followers'].isnull(),'users_followers'].apply(lambda x: [])\n",
    "users_with_follows.loc[users_with_follows['users_followed'].isnull(), ['users_followed']] = users_with_follows.loc[users_with_follows['users_followed'].isnull(),'users_followed'].apply(lambda x: [])"
   ]
  },
  {
   "cell_type": "code",
   "execution_count": 18,
   "id": "fatty-minnesota",
   "metadata": {},
   "outputs": [
    {
     "data": {
      "text/plain": [
       "711200"
      ]
     },
     "execution_count": 18,
     "metadata": {},
     "output_type": "execute_result"
    }
   ],
   "source": [
    "users_ids = users_with_follows[\"id\"].to_numpy()\n",
    "\n",
    "set_users = set(users_ids)\n",
    "\n",
    "for x in users_with_follows[\"users_followed\"].to_numpy():\n",
    "    set_users |= set(x)\n",
    "    \n",
    "for x in users_with_follows[\"users_followers\"].to_numpy():\n",
    "    set_users |= set(x)\n",
    "    \n",
    "follows_users = list(set_users.difference(set(users_ids)))\n",
    "\n",
    "total_users_follows = list(users_ids) + follows_users\n",
    "len(total_users_follows)"
   ]
  },
  {
   "cell_type": "code",
   "execution_count": 10,
   "id": "portable-beginning",
   "metadata": {},
   "outputs": [],
   "source": [
    "#users_with_follows.to_pickle(unTPath + 'exact/users_exact_followers.pkl')"
   ]
  },
  {
   "cell_type": "code",
   "execution_count": 37,
   "id": "retained-advocate",
   "metadata": {},
   "outputs": [],
   "source": [
    "graph_follows_collapsed = nx.Graph()\n",
    "\n",
    "graph_follows_collapsed.add_nodes_from(users_ids)\n",
    "\n",
    "for user_id, users_followed in zip(users_with_follows[\"id\"].to_numpy(), users_with_follows[\"users_followed\"].to_numpy()):\n",
    "    graph_follows_collapsed.add_edges_from(list(map(lambda x: (user_id, x), users_followed)))\n",
    "    \n",
    "for user_id, users_follower in zip(users_with_follows[\"id\"].to_numpy(), users_with_follows[\"users_followers\"].to_numpy()):\n",
    "    graph_follows_collapsed.add_edges_from(list(map(lambda x: (x, user_id), users_follower)))"
   ]
  },
  {
   "cell_type": "code",
   "execution_count": 38,
   "id": "hollow-belfast",
   "metadata": {},
   "outputs": [
    {
     "data": {
      "text/plain": [
       "<43567x43567 sparse matrix of type '<class 'numpy.uint8'>'\n",
       "\twith 340696 stored elements in Compressed Sparse Row format>"
      ]
     },
     "execution_count": 38,
     "metadata": {},
     "output_type": "execute_result"
    }
   ],
   "source": [
    "vector_of_follows_local = nx.adjacency_matrix(graph_follows_collapsed, nodelist=total_users_follows).astype(np.uint8)\n",
    "vector_of_follows_local = vector_of_follows_local[0:len(users_ids), 0:len(users_ids)]\n",
    "vector_of_follows_local"
   ]
  },
  {
   "cell_type": "code",
   "execution_count": 39,
   "id": "expired-malta",
   "metadata": {},
   "outputs": [],
   "source": [
    "graph_follows_collapsed = nx.DiGraph()\n",
    "\n",
    "graph_follows_collapsed.add_nodes_from(users_ids)\n",
    "\n",
    "for user_id, users_followed in zip(users_with_follows[\"id\"].to_numpy(), users_with_follows[\"users_followed\"].to_numpy()):\n",
    "    graph_follows_collapsed.add_edges_from(list(map(lambda x: (user_id, x), users_followed)))\n",
    "    \n",
    "for user_id, users_follower in zip(users_with_follows[\"id\"].to_numpy(), users_with_follows[\"users_followers\"].to_numpy()):\n",
    "    graph_follows_collapsed.add_edges_from(list(map(lambda x: (x, user_id), users_follower)))"
   ]
  },
  {
   "cell_type": "code",
   "execution_count": 40,
   "id": "negative-employment",
   "metadata": {},
   "outputs": [
    {
     "data": {
      "text/plain": [
       "<711200x711200 sparse matrix of type '<class 'numpy.uint8'>'\n",
       "\twith 5095407 stored elements in Compressed Sparse Row format>"
      ]
     },
     "execution_count": 40,
     "metadata": {},
     "output_type": "execute_result"
    }
   ],
   "source": [
    "vector_of_follows = nx.adjacency_matrix(graph_follows_collapsed, nodelist=total_users_follows).astype(np.uint8)\n",
    "vector_of_follows = vector_of_follows.astype(np.bool).astype(np.uint8)\n",
    "vector_of_follows.eliminate_zeros()\n",
    "vector_of_follows"
   ]
  },
  {
   "cell_type": "code",
   "execution_count": 41,
   "id": "steady-match",
   "metadata": {},
   "outputs": [
    {
     "data": {
      "text/plain": [
       "<43567x711200 sparse matrix of type '<class 'numpy.uint8'>'\n",
       "\twith 1303004 stored elements in Compressed Sparse Row format>"
      ]
     },
     "execution_count": 41,
     "metadata": {},
     "output_type": "execute_result"
    }
   ],
   "source": [
    "vector_of_ac_follows = vector_of_follows[0:len(users_ids), :]\n",
    "vector_of_ac_follows"
   ]
  },
  {
   "cell_type": "code",
   "execution_count": 42,
   "id": "monthly-attachment",
   "metadata": {},
   "outputs": [
    {
     "data": {
      "text/plain": [
       "<43567x711200 sparse matrix of type '<class 'numpy.uint8'>'\n",
       "\twith 1105234 stored elements in Compressed Sparse Row format>"
      ]
     },
     "execution_count": 42,
     "metadata": {},
     "output_type": "execute_result"
    }
   ],
   "source": [
    "m_vector_of_follows = vector_of_follows_local.copy()\n",
    "m_vector_of_follows[m_vector_of_follows > 0] = 0\n",
    "m_vector_of_follows.eliminate_zeros()\n",
    "m_vector_of_follows = hstack([m_vector_of_follows, vector_of_ac_follows[:, len(users_ids):]])\n",
    "# Convertimos a bool para que los pesos de las aristas pasen a ser todos 1\n",
    "m_vector_of_follows = m_vector_of_follows.astype(bool).astype(np.uint8).tocsr()\n",
    "m_vector_of_follows"
   ]
  },
  {
   "cell_type": "code",
   "execution_count": 43,
   "id": "defensive-detection",
   "metadata": {},
   "outputs": [
    {
     "data": {
      "text/plain": [
       "<43567x43567 sparse matrix of type '<class 'numpy.uint8'>'\n",
       "\twith 3110890 stored elements in Compressed Sparse Row format>"
      ]
     },
     "execution_count": 43,
     "metadata": {},
     "output_type": "execute_result"
    }
   ],
   "source": [
    "m_vector_of_co_follows = m_vector_of_follows.dot(m_vector_of_follows.T)\n",
    "m_vector_of_co_follows.setdiag(0, k=0)\n",
    "m_vector_of_co_follows.eliminate_zeros()\n",
    "m_vector_of_co_follows"
   ]
  },
  {
   "cell_type": "code",
   "execution_count": 44,
   "id": "tutorial-christian",
   "metadata": {},
   "outputs": [
    {
     "data": {
      "text/plain": [
       "<43567x43567 sparse matrix of type '<class 'numpy.uint8'>'\n",
       "\twith 3333058 stored elements in Compressed Sparse Row format>"
      ]
     },
     "execution_count": 44,
     "metadata": {},
     "output_type": "execute_result"
    }
   ],
   "source": [
    "vector_of_col_follows = vector_of_follows_local + m_vector_of_co_follows\n",
    "#vector_of_col_mentions.setdiag(0, k=0)\n",
    "vector_of_col_follows.eliminate_zeros()\n",
    "vector_of_col_follows"
   ]
  },
  {
   "cell_type": "code",
   "execution_count": 228,
   "id": "naked-pitch",
   "metadata": {},
   "outputs": [
    {
     "name": "stdout",
     "output_type": "stream",
     "text": [
      "Totalidad de usuarios 43567 \n",
      "Usuarios totales que siguen 23100\n"
     ]
    },
    {
     "data": {
      "text/plain": [
       "(43567, 20)"
      ]
     },
     "execution_count": 228,
     "metadata": {},
     "output_type": "execute_result"
    }
   ],
   "source": [
    "users_with_follows = filter_users_with_follows(None, 5)\n",
    "users_with_follows.shape"
   ]
  },
  {
   "cell_type": "code",
   "execution_count": 229,
   "id": "wooden-shame",
   "metadata": {},
   "outputs": [],
   "source": [
    "users_with_follows.loc[users_with_follows['users_followers'].isnull(), ['users_followers']] = users_with_follows.loc[users_with_follows['users_followers'].isnull(),'users_followers'].apply(lambda x: [])\n",
    "users_with_follows.loc[users_with_follows['users_followed'].isnull(), ['users_followed']] = users_with_follows.loc[users_with_follows['users_followed'].isnull(),'users_followed'].apply(lambda x: [])"
   ]
  },
  {
   "cell_type": "code",
   "execution_count": 230,
   "id": "pursuant-nation",
   "metadata": {},
   "outputs": [
    {
     "data": {
      "text/plain": [
       "708294"
      ]
     },
     "execution_count": 230,
     "metadata": {},
     "output_type": "execute_result"
    }
   ],
   "source": [
    "users_ids = users_with_follows[\"id\"].to_numpy()\n",
    "\n",
    "set_users = set(users_ids)\n",
    "\n",
    "for x in users_with_follows[\"users_followed\"].to_numpy():\n",
    "    set_users |= set(x)\n",
    "    \n",
    "for x in users_with_follows[\"users_followers\"].to_numpy():\n",
    "    set_users |= set(x)\n",
    "    \n",
    "follows_users = list(set_users.difference(set(users_ids)))\n",
    "\n",
    "total_users_follows = list(users_ids) + follows_users\n",
    "len(total_users_follows)"
   ]
  },
  {
   "cell_type": "code",
   "execution_count": 231,
   "id": "hairy-dallas",
   "metadata": {},
   "outputs": [],
   "source": [
    "graph_cofollows = nx.DiGraph()\n",
    "\n",
    "graph_cofollows.add_nodes_from(users_ids)\n",
    "\n",
    "for user_id, users_followed in zip(users_with_follows[\"id\"].to_numpy(), users_with_follows[\"users_followed\"].to_numpy()):\n",
    "    graph_cofollows.add_edges_from(list(map(lambda x: (user_id, x), users_followed)))\n",
    "    \n",
    "for user_id, users_follower in zip(users_with_follows[\"id\"].to_numpy(), users_with_follows[\"users_followers\"].to_numpy()):\n",
    "    graph_cofollows.add_edges_from(list(map(lambda x: (x, user_id), users_follower)))"
   ]
  },
  {
   "cell_type": "code",
   "execution_count": 236,
   "id": "elementary-invasion",
   "metadata": {},
   "outputs": [
    {
     "data": {
      "text/plain": [
       "<43567x708294 sparse matrix of type '<class 'numpy.uint8'>'\n",
       "\twith 873635 stored elements in Compressed Sparse Row format>"
      ]
     },
     "execution_count": 236,
     "metadata": {},
     "output_type": "execute_result"
    }
   ],
   "source": [
    "vector_of_follows = nx.adjacency_matrix(graph_cofollows, nodelist=total_users_follows).astype(np.uint8)\n",
    "vector_of_follows = vector_of_follows.astype(np.bool).astype(np.uint8)[0:len(users_ids), :]\n",
    "#vector_of_follows.eliminate_zeros()\n",
    "vector_of_follows.setdiag(1, k=0)\n",
    "vector_of_follows"
   ]
  },
  {
   "cell_type": "code",
   "execution_count": 237,
   "id": "median-sunrise",
   "metadata": {},
   "outputs": [
    {
     "data": {
      "text/plain": [
       "<43567x43567 sparse matrix of type '<class 'numpy.uint8'>'\n",
       "\twith 241337 stored elements in Compressed Sparse Row format>"
      ]
     },
     "execution_count": 237,
     "metadata": {},
     "output_type": "execute_result"
    }
   ],
   "source": [
    "vector_of_follows[0:len(users_ids), 0:len(users_ids)]"
   ]
  },
  {
   "cell_type": "code",
   "execution_count": 238,
   "id": "innocent-cricket",
   "metadata": {},
   "outputs": [
    {
     "data": {
      "text/plain": [
       "<43567x708294 sparse matrix of type '<class 'numpy.uint8'>'\n",
       "\twith 873635 stored elements in Compressed Sparse Row format>"
      ]
     },
     "execution_count": 238,
     "metadata": {},
     "output_type": "execute_result"
    }
   ],
   "source": [
    "vector_of_follows.eliminate_zeros()\n",
    "vector_of_follows"
   ]
  },
  {
   "cell_type": "code",
   "execution_count": 239,
   "id": "finished-missile",
   "metadata": {},
   "outputs": [
    {
     "data": {
      "text/plain": [
       "<43567x43567 sparse matrix of type '<class 'numpy.uint8'>'\n",
       "\twith 49476706 stored elements in Compressed Sparse Row format>"
      ]
     },
     "execution_count": 239,
     "metadata": {},
     "output_type": "execute_result"
    }
   ],
   "source": [
    "vector_of_co_follows = vector_of_follows.dot(vector_of_follows.T)\n",
    "vector_of_co_follows.setdiag(0, k=0)\n",
    "vector_of_co_follows.eliminate_zeros()\n",
    "vector_of_co_follows"
   ]
  },
  {
   "cell_type": "code",
   "execution_count": null,
   "id": "removable-injury",
   "metadata": {},
   "outputs": [],
   "source": []
  }
 ],
 "metadata": {
  "kernelspec": {
   "display_name": "ffunes-3.8",
   "language": "python",
   "name": "ffunes-3.8"
  },
  "language_info": {
   "codemirror_mode": {
    "name": "ipython",
    "version": 3
   },
   "file_extension": ".py",
   "mimetype": "text/x-python",
   "name": "python",
   "nbconvert_exporter": "python",
   "pygments_lexer": "ipython3",
   "version": "3.8.9"
  }
 },
 "nbformat": 4,
 "nbformat_minor": 5
}
